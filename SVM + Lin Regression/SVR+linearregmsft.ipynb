{
  "nbformat": 4,
  "nbformat_minor": 0,
  "metadata": {
    "colab": {
      "name": "SVR+linearregmsft.ipynb",
      "provenance": [],
      "authorship_tag": "ABX9TyMGWbYKqNhUO7LK5+OHIigG",
      "include_colab_link": true
    },
    "kernelspec": {
      "name": "python3",
      "display_name": "Python 3"
    }
  },
  "cells": [
    {
      "cell_type": "markdown",
      "metadata": {
        "id": "view-in-github",
        "colab_type": "text"
      },
      "source": [
        "<a href=\"https://colab.research.google.com/github/zzeeddd95/capstone-project/blob/master/SVR%2Blinearregmsft.ipynb\" target=\"_parent\"><img src=\"https://colab.research.google.com/assets/colab-badge.svg\" alt=\"Open In Colab\"/></a>"
      ]
    },
    {
      "cell_type": "code",
      "metadata": {
        "id": "mWvvy_uIt1em",
        "colab_type": "code",
        "colab": {
          "base_uri": "https://localhost:8080/",
          "height": 71
        },
        "outputId": "fca1e8f7-98e4-406e-c3be-382f9b5f0e08"
      },
      "source": [
        "import numpy as np\n",
        "from sklearn.linear_model import LinearRegression\n",
        "from sklearn.svm import SVR\n",
        "from sklearn.model_selection import train_test_split\n",
        "import pandas_datareader as web\n"
      ],
      "execution_count": null,
      "outputs": [
        {
          "output_type": "stream",
          "text": [
            "/usr/local/lib/python3.6/dist-packages/pandas_datareader/compat/__init__.py:7: FutureWarning: pandas.util.testing is deprecated. Use the functions in the public API at pandas.testing instead.\n",
            "  from pandas.util.testing import assert_frame_equal\n"
          ],
          "name": "stderr"
        }
      ]
    },
    {
      "cell_type": "code",
      "metadata": {
        "id": "3ueTbfPluby4",
        "colab_type": "code",
        "colab": {
          "base_uri": "https://localhost:8080/",
          "height": 136
        },
        "outputId": "baeb39bd-98ff-4d20-fd05-9454d5763e77"
      },
      "source": [
        "#Retrieve stock data\n",
        "msft = web.DataReader('MSFT', data_source='yahoo', start='2010-05-27', end='2020-07-06')\n",
        "print(msft.head())"
      ],
      "execution_count": null,
      "outputs": [
        {
          "output_type": "stream",
          "text": [
            "                 High    Low       Open      Close       Volume  Adj Close\n",
            "Date                                                                      \n",
            "2010-05-27  26.360001  25.73  25.730000  26.000000  136433600.0  20.539593\n",
            "2010-05-28  26.120001  25.66  25.840000  25.799999   67496900.0  20.381601\n",
            "2010-06-01  26.309999  25.52  25.530001  25.889999   76152400.0  20.452698\n",
            "2010-06-02  26.480000  25.73  26.059999  26.459999   65718800.0  20.902985\n",
            "2010-06-03  26.930000  26.41  26.549999  26.860001   67837000.0  21.218981\n"
          ],
          "name": "stdout"
        }
      ]
    },
    {
      "cell_type": "code",
      "metadata": {
        "id": "zWULIKynvcAU",
        "colab_type": "code",
        "colab": {
          "base_uri": "https://localhost:8080/",
          "height": 450
        },
        "outputId": "dff65cf0-10df-4e01-92f8-ba83a10a2d02"
      },
      "source": [
        "#Filter out data to only obtain close price (independant variable)\n",
        "msft = msft[['Close']]\n",
        "msft"
      ],
      "execution_count": null,
      "outputs": [
        {
          "output_type": "execute_result",
          "data": {
            "text/html": [
              "<div>\n",
              "<style scoped>\n",
              "    .dataframe tbody tr th:only-of-type {\n",
              "        vertical-align: middle;\n",
              "    }\n",
              "\n",
              "    .dataframe tbody tr th {\n",
              "        vertical-align: top;\n",
              "    }\n",
              "\n",
              "    .dataframe thead th {\n",
              "        text-align: right;\n",
              "    }\n",
              "</style>\n",
              "<table border=\"1\" class=\"dataframe\">\n",
              "  <thead>\n",
              "    <tr style=\"text-align: right;\">\n",
              "      <th></th>\n",
              "      <th>Close</th>\n",
              "    </tr>\n",
              "    <tr>\n",
              "      <th>Date</th>\n",
              "      <th></th>\n",
              "    </tr>\n",
              "  </thead>\n",
              "  <tbody>\n",
              "    <tr>\n",
              "      <th>2010-05-27</th>\n",
              "      <td>26.000000</td>\n",
              "    </tr>\n",
              "    <tr>\n",
              "      <th>2010-05-28</th>\n",
              "      <td>25.799999</td>\n",
              "    </tr>\n",
              "    <tr>\n",
              "      <th>2010-06-01</th>\n",
              "      <td>25.889999</td>\n",
              "    </tr>\n",
              "    <tr>\n",
              "      <th>2010-06-02</th>\n",
              "      <td>26.459999</td>\n",
              "    </tr>\n",
              "    <tr>\n",
              "      <th>2010-06-03</th>\n",
              "      <td>26.860001</td>\n",
              "    </tr>\n",
              "    <tr>\n",
              "      <th>...</th>\n",
              "      <td>...</td>\n",
              "    </tr>\n",
              "    <tr>\n",
              "      <th>2020-06-29</th>\n",
              "      <td>198.440002</td>\n",
              "    </tr>\n",
              "    <tr>\n",
              "      <th>2020-06-30</th>\n",
              "      <td>203.509995</td>\n",
              "    </tr>\n",
              "    <tr>\n",
              "      <th>2020-07-01</th>\n",
              "      <td>204.699997</td>\n",
              "    </tr>\n",
              "    <tr>\n",
              "      <th>2020-07-02</th>\n",
              "      <td>206.259995</td>\n",
              "    </tr>\n",
              "    <tr>\n",
              "      <th>2020-07-06</th>\n",
              "      <td>210.699997</td>\n",
              "    </tr>\n",
              "  </tbody>\n",
              "</table>\n",
              "<p>2544 rows × 1 columns</p>\n",
              "</div>"
            ],
            "text/plain": [
              "                 Close\n",
              "Date                  \n",
              "2010-05-27   26.000000\n",
              "2010-05-28   25.799999\n",
              "2010-06-01   25.889999\n",
              "2010-06-02   26.459999\n",
              "2010-06-03   26.860001\n",
              "...                ...\n",
              "2020-06-29  198.440002\n",
              "2020-06-30  203.509995\n",
              "2020-07-01  204.699997\n",
              "2020-07-02  206.259995\n",
              "2020-07-06  210.699997\n",
              "\n",
              "[2544 rows x 1 columns]"
            ]
          },
          "metadata": {
            "tags": []
          },
          "execution_count": 5
        }
      ]
    },
    {
      "cell_type": "code",
      "metadata": {
        "id": "cGyJ0Zyevrvs",
        "colab_type": "code",
        "colab": {}
      },
      "source": [
        "#Create a variable to allow for predicting 'n days' into the future\n",
        "future_out =30"
      ],
      "execution_count": null,
      "outputs": []
    },
    {
      "cell_type": "code",
      "metadata": {
        "id": "bc-gVy_YwNXk",
        "colab_type": "code",
        "colab": {
          "base_uri": "https://localhost:8080/",
          "height": 235
        },
        "outputId": "26271c20-e678-4625-b7e7-1e6f7521ad9a"
      },
      "source": [
        "#Create the dependant variable which will be shifted 'n' units up\n",
        "msft['Prediction'] = msft[['Close']].shift(-future_out)\n",
        "msft.tail()"
      ],
      "execution_count": null,
      "outputs": [
        {
          "output_type": "execute_result",
          "data": {
            "text/html": [
              "<div>\n",
              "<style scoped>\n",
              "    .dataframe tbody tr th:only-of-type {\n",
              "        vertical-align: middle;\n",
              "    }\n",
              "\n",
              "    .dataframe tbody tr th {\n",
              "        vertical-align: top;\n",
              "    }\n",
              "\n",
              "    .dataframe thead th {\n",
              "        text-align: right;\n",
              "    }\n",
              "</style>\n",
              "<table border=\"1\" class=\"dataframe\">\n",
              "  <thead>\n",
              "    <tr style=\"text-align: right;\">\n",
              "      <th></th>\n",
              "      <th>Close</th>\n",
              "      <th>Prediction</th>\n",
              "    </tr>\n",
              "    <tr>\n",
              "      <th>Date</th>\n",
              "      <th></th>\n",
              "      <th></th>\n",
              "    </tr>\n",
              "  </thead>\n",
              "  <tbody>\n",
              "    <tr>\n",
              "      <th>2020-06-29</th>\n",
              "      <td>198.440002</td>\n",
              "      <td>NaN</td>\n",
              "    </tr>\n",
              "    <tr>\n",
              "      <th>2020-06-30</th>\n",
              "      <td>203.509995</td>\n",
              "      <td>NaN</td>\n",
              "    </tr>\n",
              "    <tr>\n",
              "      <th>2020-07-01</th>\n",
              "      <td>204.699997</td>\n",
              "      <td>NaN</td>\n",
              "    </tr>\n",
              "    <tr>\n",
              "      <th>2020-07-02</th>\n",
              "      <td>206.259995</td>\n",
              "      <td>NaN</td>\n",
              "    </tr>\n",
              "    <tr>\n",
              "      <th>2020-07-06</th>\n",
              "      <td>210.699997</td>\n",
              "      <td>NaN</td>\n",
              "    </tr>\n",
              "  </tbody>\n",
              "</table>\n",
              "</div>"
            ],
            "text/plain": [
              "                 Close  Prediction\n",
              "Date                              \n",
              "2020-06-29  198.440002         NaN\n",
              "2020-06-30  203.509995         NaN\n",
              "2020-07-01  204.699997         NaN\n",
              "2020-07-02  206.259995         NaN\n",
              "2020-07-06  210.699997         NaN"
            ]
          },
          "metadata": {
            "tags": []
          },
          "execution_count": 7
        }
      ]
    },
    {
      "cell_type": "code",
      "metadata": {
        "id": "1ez0kfQ1xdgK",
        "colab_type": "code",
        "colab": {
          "base_uri": "https://localhost:8080/",
          "height": 136
        },
        "outputId": "17b1b70a-5adc-4e9f-a9b8-7344dc7eb3e1"
      },
      "source": [
        "#create independant data set by converting the dataframe to a numpy array\n",
        "msftdf = np.array(msft.drop(['Prediction'],1))\n",
        "#Renove the last 'n' rows\n",
        "msftdfx = msftdf[:-future_out] #therefore for every column, all of the rows will displayed - future out\n",
        "msftdfx"
      ],
      "execution_count": null,
      "outputs": [
        {
          "output_type": "execute_result",
          "data": {
            "text/plain": [
              "array([[ 26.        ],\n",
              "       [ 25.79999924],\n",
              "       [ 25.88999939],\n",
              "       ...,\n",
              "       [183.63000488],\n",
              "       [185.66000366],\n",
              "       [183.42999268]])"
            ]
          },
          "metadata": {
            "tags": []
          },
          "execution_count": 8
        }
      ]
    },
    {
      "cell_type": "code",
      "metadata": {
        "id": "TDrtpLJhB1hr",
        "colab_type": "code",
        "colab": {
          "base_uri": "https://localhost:8080/",
          "height": 51
        },
        "outputId": "b1b27763-84b9-4cc4-fa31-62aed6037e9c"
      },
      "source": [
        "#creat dependant dataset (prediction), all values including any Nan's\n",
        "msftdfy = np.array(msft['Prediction'])\n",
        "#Filter this data by obtaining all values except the last 'n' rows\n",
        "msftdfy = msftdfy[:-future_out]\n",
        "msftdfy"
      ],
      "execution_count": null,
      "outputs": [
        {
          "output_type": "execute_result",
          "data": {
            "text/plain": [
              "array([ 24.82999992,  25.12999916,  25.44000053, ..., 204.69999695,\n",
              "       206.25999451, 210.69999695])"
            ]
          },
          "metadata": {
            "tags": []
          },
          "execution_count": 9
        }
      ]
    },
    {
      "cell_type": "code",
      "metadata": {
        "id": "2T0ecWdKC3I5",
        "colab_type": "code",
        "colab": {}
      },
      "source": [
        "#split data into 80% training and 20%testing\n",
        "msftdfx_train , msftdfx_test, msftdfy_train, msftdfy_test = train_test_split(msftdfx, msftdfy, test_size = 0.2)"
      ],
      "execution_count": null,
      "outputs": []
    },
    {
      "cell_type": "code",
      "metadata": {
        "id": "LYgN9uBiDiMX",
        "colab_type": "code",
        "colab": {
          "base_uri": "https://localhost:8080/",
          "height": 51
        },
        "outputId": "b747b538-2f07-44c2-b47c-045a72a9829e"
      },
      "source": [
        "#Create and train the SVR model\n",
        "SVRmsft = SVR(kernel='rbf', C=1e3,gamma=0.1)\n",
        "SVRmsft.fit(msftdfx_train, msftdfy_train)"
      ],
      "execution_count": null,
      "outputs": [
        {
          "output_type": "execute_result",
          "data": {
            "text/plain": [
              "SVR(C=1000.0, cache_size=200, coef0=0.0, degree=3, epsilon=0.1, gamma=0.1,\n",
              "    kernel='rbf', max_iter=-1, shrinking=True, tol=0.001, verbose=False)"
            ]
          },
          "metadata": {
            "tags": []
          },
          "execution_count": 11
        }
      ]
    },
    {
      "cell_type": "code",
      "metadata": {
        "id": "cW0aXDGHEqHn",
        "colab_type": "code",
        "colab": {
          "base_uri": "https://localhost:8080/",
          "height": 34
        },
        "outputId": "ca71200b-fb14-43dd-c510-b17158a03200"
      },
      "source": [
        "#test model accuracy via score which returns the coefficient of determination (R^2) of prediction\n",
        "SVMconfidence = SVRmsft.score(msftdfx_test, msftdfy_test)\n",
        "print(\"SVM confidence\", SVMconfidence)"
      ],
      "execution_count": null,
      "outputs": [
        {
          "output_type": "stream",
          "text": [
            "SVM confidence 0.9838390933915906\n"
          ],
          "name": "stdout"
        }
      ]
    },
    {
      "cell_type": "code",
      "metadata": {
        "id": "Qh9dvjIyFVAt",
        "colab_type": "code",
        "colab": {
          "base_uri": "https://localhost:8080/",
          "height": 34
        },
        "outputId": "496c87c7-938b-4897-ff96-5a9a56ad8ee0"
      },
      "source": [
        "#Create and train the linear regression model\n",
        "linear = LinearRegression()\n",
        "#train the model\n",
        "linear.fit(msftdfx_train, msftdfy_train)"
      ],
      "execution_count": null,
      "outputs": [
        {
          "output_type": "execute_result",
          "data": {
            "text/plain": [
              "LinearRegression(copy_X=True, fit_intercept=True, n_jobs=None, normalize=False)"
            ]
          },
          "metadata": {
            "tags": []
          },
          "execution_count": 13
        }
      ]
    },
    {
      "cell_type": "code",
      "metadata": {
        "id": "TeG-yqBUFjq7",
        "colab_type": "code",
        "colab": {
          "base_uri": "https://localhost:8080/",
          "height": 34
        },
        "outputId": "5fe3fb91-4658-4c6c-b29f-5860f5ef2478"
      },
      "source": [
        "#test model accuracy via score which returns the coefficient of determination (R^2) of prediction\n",
        "linearconfidence = linear.score(msftdfx_test, msftdfy_test)\n",
        "print(\"Linear regression confidence\", linearconfidence)"
      ],
      "execution_count": null,
      "outputs": [
        {
          "output_type": "stream",
          "text": [
            "Linear regression confidence 0.9856496544636397\n"
          ],
          "name": "stdout"
        }
      ]
    },
    {
      "cell_type": "code",
      "metadata": {
        "id": "Inwr1PMwFyEp",
        "colab_type": "code",
        "colab": {
          "base_uri": "https://localhost:8080/",
          "height": 527
        },
        "outputId": "1e4236ac-37ae-4a9c-a2ef-0e4a568d0fd6"
      },
      "source": [
        "#set msft_forecast = to the last 30 rows of original dataset from close price column\n",
        "msft_forecast = np.array(msft.drop(['Prediction'],1))[-future_out:]\n",
        "print(msft_forecast)\n"
      ],
      "execution_count": null,
      "outputs": [
        {
          "output_type": "stream",
          "text": [
            "[[183.50999451]\n",
            " [181.57000732]\n",
            " [181.80999756]\n",
            " [181.3999939 ]\n",
            " [183.25      ]\n",
            " [182.83000183]\n",
            " [184.91000366]\n",
            " [185.36000061]\n",
            " [182.91999817]\n",
            " [187.19999695]\n",
            " [188.36000061]\n",
            " [189.80000305]\n",
            " [196.83999634]\n",
            " [186.27000427]\n",
            " [187.74000549]\n",
            " [188.94000244]\n",
            " [193.57000732]\n",
            " [194.24000549]\n",
            " [196.32000732]\n",
            " [195.1499939 ]\n",
            " [200.57000732]\n",
            " [201.91000366]\n",
            " [197.83999634]\n",
            " [200.33999634]\n",
            " [196.33000183]\n",
            " [198.44000244]\n",
            " [203.50999451]\n",
            " [204.69999695]\n",
            " [206.25999451]\n",
            " [210.69999695]]\n"
          ],
          "name": "stdout"
        }
      ]
    },
    {
      "cell_type": "code",
      "metadata": {
        "id": "B9XnAi-oG0KH",
        "colab_type": "code",
        "colab": {
          "base_uri": "https://localhost:8080/",
          "height": 119
        },
        "outputId": "00cb0cd6-9db9-4fd1-ad56-e4f5250635fa"
      },
      "source": [
        "#Print the SVR predicted values for the upcoming 'n' days\n",
        "SVRprediction = SVRmsft.predict(msft_forecast)\n",
        "print(SVRprediction)"
      ],
      "execution_count": null,
      "outputs": [
        {
          "output_type": "stream",
          "text": [
            "[171.23981745 204.42421205 205.08873147 203.09978603 178.51977434\n",
            " 190.27679264 155.84817441 160.45483335 187.8724322  158.35802501\n",
            " 119.75189684  85.15546033 107.88624691 169.03118616 142.06516909\n",
            " 101.11676977 104.79712001 106.51216395 107.84953745 107.51151991\n",
            " 107.9100549  107.9100604  107.90668903 107.9100503  107.85058041\n",
            " 107.909117   107.91006054 107.91006054 107.91006054 107.91006054]\n"
          ],
          "name": "stdout"
        }
      ]
    },
    {
      "cell_type": "code",
      "metadata": {
        "id": "QB_EYsSoGjHW",
        "colab_type": "code",
        "colab": {
          "base_uri": "https://localhost:8080/",
          "height": 119
        },
        "outputId": "0a9355d3-4057-488f-f49a-94c8fafa7d5f"
      },
      "source": [
        "#Print the linear regression predicted values for the upcoming 'n' days\n",
        "linearprediction = linear.predict(msft_forecast)\n",
        "print(linearprediction)"
      ],
      "execution_count": null,
      "outputs": [
        {
          "output_type": "stream",
          "text": [
            "[191.25443671 189.22292973 189.47424162 189.04489584 190.98217684\n",
            " 190.54236506 192.72049194 193.19171771 190.63660702 195.11851672\n",
            " 196.3332441  197.84117932 205.21328755 194.14465121 195.68400042\n",
            " 196.94060778 201.78903529 202.49064093 204.66876781 203.44355846\n",
            " 209.11926353 210.52247481 206.26046301 208.87840167 204.67923381\n",
            " 206.88877468 212.19794596 213.44408732 215.07767849 219.7271401 ]\n"
          ],
          "name": "stdout"
        }
      ]
    },
    {
      "cell_type": "code",
      "metadata": {
        "id": "oX7VkRt_HLZ3",
        "colab_type": "code",
        "colab": {
          "base_uri": "https://localhost:8080/",
          "height": 235
        },
        "outputId": "49ce5812-6845-4118-843a-569b0e27decd"
      },
      "source": [
        "#Retrieve stock data\n",
        "msftstock = web.DataReader('MSFT', data_source='yahoo', start='2020-05-28', end='2020-07-05')\n",
        "msftstock = msftstock[['Close']]\n",
        "msftstock.head()"
      ],
      "execution_count": null,
      "outputs": [
        {
          "output_type": "execute_result",
          "data": {
            "text/html": [
              "<div>\n",
              "<style scoped>\n",
              "    .dataframe tbody tr th:only-of-type {\n",
              "        vertical-align: middle;\n",
              "    }\n",
              "\n",
              "    .dataframe tbody tr th {\n",
              "        vertical-align: top;\n",
              "    }\n",
              "\n",
              "    .dataframe thead th {\n",
              "        text-align: right;\n",
              "    }\n",
              "</style>\n",
              "<table border=\"1\" class=\"dataframe\">\n",
              "  <thead>\n",
              "    <tr style=\"text-align: right;\">\n",
              "      <th></th>\n",
              "      <th>Close</th>\n",
              "    </tr>\n",
              "    <tr>\n",
              "      <th>Date</th>\n",
              "      <th></th>\n",
              "    </tr>\n",
              "  </thead>\n",
              "  <tbody>\n",
              "    <tr>\n",
              "      <th>2020-05-28</th>\n",
              "      <td>181.399994</td>\n",
              "    </tr>\n",
              "    <tr>\n",
              "      <th>2020-05-29</th>\n",
              "      <td>183.250000</td>\n",
              "    </tr>\n",
              "    <tr>\n",
              "      <th>2020-06-01</th>\n",
              "      <td>182.830002</td>\n",
              "    </tr>\n",
              "    <tr>\n",
              "      <th>2020-06-02</th>\n",
              "      <td>184.910004</td>\n",
              "    </tr>\n",
              "    <tr>\n",
              "      <th>2020-06-03</th>\n",
              "      <td>185.360001</td>\n",
              "    </tr>\n",
              "  </tbody>\n",
              "</table>\n",
              "</div>"
            ],
            "text/plain": [
              "                 Close\n",
              "Date                  \n",
              "2020-05-28  181.399994\n",
              "2020-05-29  183.250000\n",
              "2020-06-01  182.830002\n",
              "2020-06-02  184.910004\n",
              "2020-06-03  185.360001"
            ]
          },
          "metadata": {
            "tags": []
          },
          "execution_count": 18
        }
      ]
    }
  ]
}
