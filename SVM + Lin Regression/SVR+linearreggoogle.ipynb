{
  "nbformat": 4,
  "nbformat_minor": 0,
  "metadata": {
    "colab": {
      "name": "SVR+linearreggoogle.ipynb",
      "provenance": [],
      "authorship_tag": "ABX9TyNP6DyuDE9kccmAT6OltEoq",
      "include_colab_link": true
    },
    "kernelspec": {
      "name": "python3",
      "display_name": "Python 3"
    }
  },
  "cells": [
    {
      "cell_type": "markdown",
      "metadata": {
        "id": "view-in-github",
        "colab_type": "text"
      },
      "source": [
        "<a href=\"https://colab.research.google.com/github/zzeeddd95/capstone-project/blob/master/SVR%2Blinearreggoogle.ipynb\" target=\"_parent\"><img src=\"https://colab.research.google.com/assets/colab-badge.svg\" alt=\"Open In Colab\"/></a>"
      ]
    },
    {
      "cell_type": "code",
      "metadata": {
        "id": "mWvvy_uIt1em",
        "colab_type": "code",
        "colab": {
          "base_uri": "https://localhost:8080/",
          "height": 71
        },
        "outputId": "96893bba-4733-4126-c92d-4f36451bb4ac"
      },
      "source": [
        "import numpy as np\n",
        "from sklearn.linear_model import LinearRegression\n",
        "from sklearn.svm import SVR\n",
        "from sklearn.model_selection import train_test_split\n",
        "import pandas_datareader as web\n"
      ],
      "execution_count": null,
      "outputs": [
        {
          "output_type": "stream",
          "text": [
            "/usr/local/lib/python3.6/dist-packages/pandas_datareader/compat/__init__.py:7: FutureWarning: pandas.util.testing is deprecated. Use the functions in the public API at pandas.testing instead.\n",
            "  from pandas.util.testing import assert_frame_equal\n"
          ],
          "name": "stderr"
        }
      ]
    },
    {
      "cell_type": "code",
      "metadata": {
        "id": "3ueTbfPluby4",
        "colab_type": "code",
        "colab": {
          "base_uri": "https://localhost:8080/",
          "height": 170
        },
        "outputId": "2ab07f28-5351-4800-b670-8320d81e3314"
      },
      "source": [
        "#Retrieve stock data\n",
        "goog = web.DataReader('GOOG', data_source='yahoo', start='2010-05-27', end='2020-07-06')\n",
        "print(goog.head())"
      ],
      "execution_count": null,
      "outputs": [
        {
          "output_type": "stream",
          "text": [
            "                  High         Low  ...     Volume   Adj Close\n",
            "Date                                ...                       \n",
            "2010-05-27  245.235794  239.626816  ...  5639200.0  244.314255\n",
            "2010-05-28  245.803665  240.598175  ...  5811200.0  241.908264\n",
            "2010-06-01  244.613129  239.163559  ...  5353500.0  240.284363\n",
            "2010-06-02  246.012878  239.831055  ...  5100500.0  245.763824\n",
            "2010-06-03  253.051498  246.426331  ...  7328700.0  251.855988\n",
            "\n",
            "[5 rows x 6 columns]\n"
          ],
          "name": "stdout"
        }
      ]
    },
    {
      "cell_type": "code",
      "metadata": {
        "id": "zWULIKynvcAU",
        "colab_type": "code",
        "colab": {
          "base_uri": "https://localhost:8080/",
          "height": 450
        },
        "outputId": "fd4575ce-4e57-45d8-9750-41c8edf0cb9e"
      },
      "source": [
        "#Filter out data to only obtain close price (independant variable)\n",
        "goog = goog[['Close']]\n",
        "goog"
      ],
      "execution_count": null,
      "outputs": [
        {
          "output_type": "execute_result",
          "data": {
            "text/html": [
              "<div>\n",
              "<style scoped>\n",
              "    .dataframe tbody tr th:only-of-type {\n",
              "        vertical-align: middle;\n",
              "    }\n",
              "\n",
              "    .dataframe tbody tr th {\n",
              "        vertical-align: top;\n",
              "    }\n",
              "\n",
              "    .dataframe thead th {\n",
              "        text-align: right;\n",
              "    }\n",
              "</style>\n",
              "<table border=\"1\" class=\"dataframe\">\n",
              "  <thead>\n",
              "    <tr style=\"text-align: right;\">\n",
              "      <th></th>\n",
              "      <th>Close</th>\n",
              "    </tr>\n",
              "    <tr>\n",
              "      <th>Date</th>\n",
              "      <th></th>\n",
              "    </tr>\n",
              "  </thead>\n",
              "  <tbody>\n",
              "    <tr>\n",
              "      <th>2010-05-27</th>\n",
              "      <td>244.314255</td>\n",
              "    </tr>\n",
              "    <tr>\n",
              "      <th>2010-05-28</th>\n",
              "      <td>241.908264</td>\n",
              "    </tr>\n",
              "    <tr>\n",
              "      <th>2010-06-01</th>\n",
              "      <td>240.284363</td>\n",
              "    </tr>\n",
              "    <tr>\n",
              "      <th>2010-06-02</th>\n",
              "      <td>245.763824</td>\n",
              "    </tr>\n",
              "    <tr>\n",
              "      <th>2010-06-03</th>\n",
              "      <td>251.855988</td>\n",
              "    </tr>\n",
              "    <tr>\n",
              "      <th>...</th>\n",
              "      <td>...</td>\n",
              "    </tr>\n",
              "    <tr>\n",
              "      <th>2020-06-29</th>\n",
              "      <td>1394.969971</td>\n",
              "    </tr>\n",
              "    <tr>\n",
              "      <th>2020-06-30</th>\n",
              "      <td>1413.609985</td>\n",
              "    </tr>\n",
              "    <tr>\n",
              "      <th>2020-07-01</th>\n",
              "      <td>1438.040039</td>\n",
              "    </tr>\n",
              "    <tr>\n",
              "      <th>2020-07-02</th>\n",
              "      <td>1464.699951</td>\n",
              "    </tr>\n",
              "    <tr>\n",
              "      <th>2020-07-06</th>\n",
              "      <td>1495.699951</td>\n",
              "    </tr>\n",
              "  </tbody>\n",
              "</table>\n",
              "<p>2544 rows × 1 columns</p>\n",
              "</div>"
            ],
            "text/plain": [
              "                  Close\n",
              "Date                   \n",
              "2010-05-27   244.314255\n",
              "2010-05-28   241.908264\n",
              "2010-06-01   240.284363\n",
              "2010-06-02   245.763824\n",
              "2010-06-03   251.855988\n",
              "...                 ...\n",
              "2020-06-29  1394.969971\n",
              "2020-06-30  1413.609985\n",
              "2020-07-01  1438.040039\n",
              "2020-07-02  1464.699951\n",
              "2020-07-06  1495.699951\n",
              "\n",
              "[2544 rows x 1 columns]"
            ]
          },
          "metadata": {
            "tags": []
          },
          "execution_count": 3
        }
      ]
    },
    {
      "cell_type": "code",
      "metadata": {
        "id": "cGyJ0Zyevrvs",
        "colab_type": "code",
        "colab": {}
      },
      "source": [
        "#Create a variable to allow for predicting 'n days' into the future\n",
        "future_out =30"
      ],
      "execution_count": null,
      "outputs": []
    },
    {
      "cell_type": "code",
      "metadata": {
        "id": "bc-gVy_YwNXk",
        "colab_type": "code",
        "colab": {
          "base_uri": "https://localhost:8080/",
          "height": 235
        },
        "outputId": "136c5216-4830-4e5d-c085-7e5abb83aef1"
      },
      "source": [
        "#Create the dependant variable which will be shifted 'n' units up\n",
        "goog['Prediction'] = goog[['Close']].shift(-future_out)\n",
        "goog.tail()"
      ],
      "execution_count": null,
      "outputs": [
        {
          "output_type": "execute_result",
          "data": {
            "text/html": [
              "<div>\n",
              "<style scoped>\n",
              "    .dataframe tbody tr th:only-of-type {\n",
              "        vertical-align: middle;\n",
              "    }\n",
              "\n",
              "    .dataframe tbody tr th {\n",
              "        vertical-align: top;\n",
              "    }\n",
              "\n",
              "    .dataframe thead th {\n",
              "        text-align: right;\n",
              "    }\n",
              "</style>\n",
              "<table border=\"1\" class=\"dataframe\">\n",
              "  <thead>\n",
              "    <tr style=\"text-align: right;\">\n",
              "      <th></th>\n",
              "      <th>Close</th>\n",
              "      <th>Prediction</th>\n",
              "    </tr>\n",
              "    <tr>\n",
              "      <th>Date</th>\n",
              "      <th></th>\n",
              "      <th></th>\n",
              "    </tr>\n",
              "  </thead>\n",
              "  <tbody>\n",
              "    <tr>\n",
              "      <th>2020-06-29</th>\n",
              "      <td>1394.969971</td>\n",
              "      <td>NaN</td>\n",
              "    </tr>\n",
              "    <tr>\n",
              "      <th>2020-06-30</th>\n",
              "      <td>1413.609985</td>\n",
              "      <td>NaN</td>\n",
              "    </tr>\n",
              "    <tr>\n",
              "      <th>2020-07-01</th>\n",
              "      <td>1438.040039</td>\n",
              "      <td>NaN</td>\n",
              "    </tr>\n",
              "    <tr>\n",
              "      <th>2020-07-02</th>\n",
              "      <td>1464.699951</td>\n",
              "      <td>NaN</td>\n",
              "    </tr>\n",
              "    <tr>\n",
              "      <th>2020-07-06</th>\n",
              "      <td>1495.699951</td>\n",
              "      <td>NaN</td>\n",
              "    </tr>\n",
              "  </tbody>\n",
              "</table>\n",
              "</div>"
            ],
            "text/plain": [
              "                  Close  Prediction\n",
              "Date                               \n",
              "2020-06-29  1394.969971         NaN\n",
              "2020-06-30  1413.609985         NaN\n",
              "2020-07-01  1438.040039         NaN\n",
              "2020-07-02  1464.699951         NaN\n",
              "2020-07-06  1495.699951         NaN"
            ]
          },
          "metadata": {
            "tags": []
          },
          "execution_count": 5
        }
      ]
    },
    {
      "cell_type": "code",
      "metadata": {
        "id": "1ez0kfQ1xdgK",
        "colab_type": "code",
        "colab": {
          "base_uri": "https://localhost:8080/",
          "height": 136
        },
        "outputId": "eaa54311-a165-456f-9039-6c7f1dc6524a"
      },
      "source": [
        "#create independant data set by converting the dataframe to a numpy array\n",
        "googdf = np.array(goog.drop(['Prediction'],1))\n",
        "#Renove the last 'n' rows\n",
        "googdfx = googdf[:-future_out] #therefore for every column, all of the rows will displayed - future out\n",
        "googdfx"
      ],
      "execution_count": null,
      "outputs": [
        {
          "output_type": "execute_result",
          "data": {
            "text/plain": [
              "array([[ 244.31425476],\n",
              "       [ 241.90826416],\n",
              "       [ 240.28436279],\n",
              "       ...,\n",
              "       [1373.48498535],\n",
              "       [1406.7199707 ],\n",
              "       [1402.80004883]])"
            ]
          },
          "metadata": {
            "tags": []
          },
          "execution_count": 6
        }
      ]
    },
    {
      "cell_type": "code",
      "metadata": {
        "id": "TDrtpLJhB1hr",
        "colab_type": "code",
        "colab": {
          "base_uri": "https://localhost:8080/",
          "height": 51
        },
        "outputId": "658a2f6a-88e0-4e2b-f28d-3a3e835c83b8"
      },
      "source": [
        "#creat dependant dataset (prediction), all values including any Nan's\n",
        "googdfy = np.array(goog['Prediction'])\n",
        "#Filter this data by obtaining all values except the last 'n' rows\n",
        "googdfy = googdfy[:-future_out]\n",
        "googdfy"
      ],
      "execution_count": null,
      "outputs": [
        {
          "output_type": "execute_result",
          "data": {
            "text/plain": [
              "array([ 237.02656555,  243.68659973,  244.75260925, ..., 1438.04003906,\n",
              "       1464.69995117, 1495.69995117])"
            ]
          },
          "metadata": {
            "tags": []
          },
          "execution_count": 7
        }
      ]
    },
    {
      "cell_type": "code",
      "metadata": {
        "id": "2T0ecWdKC3I5",
        "colab_type": "code",
        "colab": {}
      },
      "source": [
        "#split data into 80% training and 20%testing\n",
        "googdfx_train , googdfx_test, googdfy_train, googdfy_test = train_test_split(googdfx, googdfy, test_size = 0.2)"
      ],
      "execution_count": null,
      "outputs": []
    },
    {
      "cell_type": "code",
      "metadata": {
        "id": "LYgN9uBiDiMX",
        "colab_type": "code",
        "colab": {
          "base_uri": "https://localhost:8080/",
          "height": 51
        },
        "outputId": "0c317f9d-62ce-4de6-b9e2-63494712ff51"
      },
      "source": [
        "#Create and train the SVR model\n",
        "SVRgoog = SVR(kernel='rbf', C=1e3,gamma=0.1)\n",
        "SVRgoog.fit(googdfx_train, googdfy_train)"
      ],
      "execution_count": null,
      "outputs": [
        {
          "output_type": "execute_result",
          "data": {
            "text/plain": [
              "SVR(C=1000.0, cache_size=200, coef0=0.0, degree=3, epsilon=0.1, gamma=0.1,\n",
              "    kernel='rbf', max_iter=-1, shrinking=True, tol=0.001, verbose=False)"
            ]
          },
          "metadata": {
            "tags": []
          },
          "execution_count": 9
        }
      ]
    },
    {
      "cell_type": "code",
      "metadata": {
        "id": "cW0aXDGHEqHn",
        "colab_type": "code",
        "colab": {
          "base_uri": "https://localhost:8080/",
          "height": 34
        },
        "outputId": "395c67b3-4c24-45c0-ca34-396960c3aa5f"
      },
      "source": [
        "#test model accuracy via score which returns the coefficient of determination (R^2) of prediction\n",
        "SVMconfidence = SVRgoog.score(googdfx_test, googdfy_test)\n",
        "print(\"SVM confidence\", SVMconfidence)"
      ],
      "execution_count": null,
      "outputs": [
        {
          "output_type": "stream",
          "text": [
            "SVM confidence 0.9601338419246367\n"
          ],
          "name": "stdout"
        }
      ]
    },
    {
      "cell_type": "code",
      "metadata": {
        "id": "Qh9dvjIyFVAt",
        "colab_type": "code",
        "colab": {
          "base_uri": "https://localhost:8080/",
          "height": 34
        },
        "outputId": "9d35e732-8d7e-4c2e-ea2f-aa3580180362"
      },
      "source": [
        "#Create and train the linear regression model\n",
        "linear = LinearRegression()\n",
        "#train the model\n",
        "linear.fit(googdfx_train, googdfy_train)"
      ],
      "execution_count": null,
      "outputs": [
        {
          "output_type": "execute_result",
          "data": {
            "text/plain": [
              "LinearRegression(copy_X=True, fit_intercept=True, n_jobs=None, normalize=False)"
            ]
          },
          "metadata": {
            "tags": []
          },
          "execution_count": 11
        }
      ]
    },
    {
      "cell_type": "code",
      "metadata": {
        "id": "TeG-yqBUFjq7",
        "colab_type": "code",
        "colab": {
          "base_uri": "https://localhost:8080/",
          "height": 34
        },
        "outputId": "1c71b332-6c7e-4e37-df77-75d65379eb85"
      },
      "source": [
        "#test model accuracy via score which returns the coefficient of determination (R^2) of prediction\n",
        "linearconfidence = linear.score(googdfx_test, googdfy_test)\n",
        "print(\"Linear regression confidence\", linearconfidence)"
      ],
      "execution_count": null,
      "outputs": [
        {
          "output_type": "stream",
          "text": [
            "Linear regression confidence 0.9732784640588382\n"
          ],
          "name": "stdout"
        }
      ]
    },
    {
      "cell_type": "code",
      "metadata": {
        "id": "Inwr1PMwFyEp",
        "colab_type": "code",
        "colab": {
          "base_uri": "https://localhost:8080/",
          "height": 527
        },
        "outputId": "3ab99b35-636a-484f-f07f-a5a7e0c83137"
      },
      "source": [
        "#set goog_forecast = to the last 30 rows of original dataset from close price column\n",
        "goog_forecast = np.array(goog.drop(['Prediction'],1))[-future_out:]\n",
        "print(goog_forecast)\n"
      ],
      "execution_count": null,
      "outputs": [
        {
          "output_type": "stream",
          "text": [
            "[[1410.42004395]\n",
            " [1417.02001953]\n",
            " [1417.83996582]\n",
            " [1416.72998047]\n",
            " [1428.92004395]\n",
            " [1431.81994629]\n",
            " [1439.2199707 ]\n",
            " [1436.38000488]\n",
            " [1412.18005371]\n",
            " [1438.39001465]\n",
            " [1446.60998535]\n",
            " [1456.16003418]\n",
            " [1465.84997559]\n",
            " [1403.83996582]\n",
            " [1413.18005371]\n",
            " [1419.84997559]\n",
            " [1442.7199707 ]\n",
            " [1451.11999512]\n",
            " [1435.95996094]\n",
            " [1431.7199707 ]\n",
            " [1451.85998535]\n",
            " [1464.41003418]\n",
            " [1431.9699707 ]\n",
            " [1441.32995605]\n",
            " [1359.90002441]\n",
            " [1394.9699707 ]\n",
            " [1413.60998535]\n",
            " [1438.04003906]\n",
            " [1464.69995117]\n",
            " [1495.69995117]]\n"
          ],
          "name": "stdout"
        }
      ]
    },
    {
      "cell_type": "code",
      "metadata": {
        "id": "B9XnAi-oG0KH",
        "colab_type": "code",
        "colab": {
          "base_uri": "https://localhost:8080/",
          "height": 119
        },
        "outputId": "a562ac1f-b532-490e-8c37-ae2c326a61fa"
      },
      "source": [
        "#Print the SVR predicted values for the upcoming 'n' days\n",
        "SVRprediction = SVRgoog.predict(goog_forecast)\n",
        "print(SVRprediction)"
      ],
      "execution_count": null,
      "outputs": [
        {
          "output_type": "stream",
          "text": [
            "[ 994.28127854 1150.37190333 1281.59205258 1105.70485538 1346.44433221\n",
            " 1257.58359939 1393.16738926 1169.60803289  884.67191625 1368.24128893\n",
            " 1080.45620687 1213.03126656  855.90304896 1477.84532952  871.65963578\n",
            " 1420.52170591 1038.61494431 1160.98049975 1134.04596731 1268.05833595\n",
            " 1190.60214476  860.86682824 1241.84345208 1201.93512897 1512.05175325\n",
            " 1495.41677905  874.04688364 1341.38879282  859.14906935  855.21290938]\n"
          ],
          "name": "stdout"
        }
      ]
    },
    {
      "cell_type": "code",
      "metadata": {
        "id": "QB_EYsSoGjHW",
        "colab_type": "code",
        "colab": {
          "base_uri": "https://localhost:8080/",
          "height": 119
        },
        "outputId": "51e3ed20-09ef-409a-bd21-26f56b9a0826"
      },
      "source": [
        "#Print the linear regression predicted values for the upcoming 'n' days\n",
        "linearprediction = linear.predict(goog_forecast)\n",
        "print(linearprediction)"
      ],
      "execution_count": null,
      "outputs": [
        {
          "output_type": "stream",
          "text": [
            "[1423.05695783 1429.64166349 1430.45971272 1429.35229547 1441.51415561\n",
            " 1444.40734864 1451.79025212 1448.95685693 1424.81289558 1450.96221627\n",
            " 1459.16316898 1468.6911225  1478.35864493 1416.49210359 1425.81058194\n",
            " 1432.46507206 1455.2821544  1463.66274424 1448.53778482 1444.30760437\n",
            " 1464.4010224  1476.92203502 1444.55702596 1453.89535573 1372.6538231\n",
            " 1407.64263039 1426.23951888 1450.6130504  1477.21128125 1508.13955862]\n"
          ],
          "name": "stdout"
        }
      ]
    },
    {
      "cell_type": "code",
      "metadata": {
        "id": "oX7VkRt_HLZ3",
        "colab_type": "code",
        "colab": {
          "base_uri": "https://localhost:8080/",
          "height": 235
        },
        "outputId": "a4dedca2-2195-4f39-e0fc-e0201d2b6c0a"
      },
      "source": [
        "#Retrieve stock data\n",
        "googstock = web.DataReader('GOOG', data_source='yahoo', start='2020-05-28', end='2020-07-05')\n",
        "googstock = googstock[['Close']]\n",
        "googstock.head()"
      ],
      "execution_count": null,
      "outputs": [
        {
          "output_type": "execute_result",
          "data": {
            "text/html": [
              "<div>\n",
              "<style scoped>\n",
              "    .dataframe tbody tr th:only-of-type {\n",
              "        vertical-align: middle;\n",
              "    }\n",
              "\n",
              "    .dataframe tbody tr th {\n",
              "        vertical-align: top;\n",
              "    }\n",
              "\n",
              "    .dataframe thead th {\n",
              "        text-align: right;\n",
              "    }\n",
              "</style>\n",
              "<table border=\"1\" class=\"dataframe\">\n",
              "  <thead>\n",
              "    <tr style=\"text-align: right;\">\n",
              "      <th></th>\n",
              "      <th>Close</th>\n",
              "    </tr>\n",
              "    <tr>\n",
              "      <th>Date</th>\n",
              "      <th></th>\n",
              "    </tr>\n",
              "  </thead>\n",
              "  <tbody>\n",
              "    <tr>\n",
              "      <th>2020-05-28</th>\n",
              "      <td>1416.729980</td>\n",
              "    </tr>\n",
              "    <tr>\n",
              "      <th>2020-05-29</th>\n",
              "      <td>1428.920044</td>\n",
              "    </tr>\n",
              "    <tr>\n",
              "      <th>2020-06-01</th>\n",
              "      <td>1431.819946</td>\n",
              "    </tr>\n",
              "    <tr>\n",
              "      <th>2020-06-02</th>\n",
              "      <td>1439.219971</td>\n",
              "    </tr>\n",
              "    <tr>\n",
              "      <th>2020-06-03</th>\n",
              "      <td>1436.380005</td>\n",
              "    </tr>\n",
              "  </tbody>\n",
              "</table>\n",
              "</div>"
            ],
            "text/plain": [
              "                  Close\n",
              "Date                   \n",
              "2020-05-28  1416.729980\n",
              "2020-05-29  1428.920044\n",
              "2020-06-01  1431.819946\n",
              "2020-06-02  1439.219971\n",
              "2020-06-03  1436.380005"
            ]
          },
          "metadata": {
            "tags": []
          },
          "execution_count": 16
        }
      ]
    }
  ]
}
