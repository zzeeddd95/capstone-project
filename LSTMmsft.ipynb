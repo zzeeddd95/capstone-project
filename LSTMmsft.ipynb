{
  "nbformat": 4,
  "nbformat_minor": 0,
  "metadata": {
    "colab": {
      "name": "Copy of LSTMmsft.ipynb",
      "provenance": [],
      "collapsed_sections": [],
      "toc_visible": true,
      "authorship_tag": "ABX9TyNTJLAWp/XT9trGCR8La3YP",
      "include_colab_link": true
    },
    "kernelspec": {
      "name": "python3",
      "display_name": "Python 3"
    }
  },
  "cells": [
    {
      "cell_type": "markdown",
      "metadata": {
        "id": "view-in-github",
        "colab_type": "text"
      },
      "source": [
        "<a href=\"https://colab.research.google.com/github/zzeeddd95/capstone-project/blob/master/LSTMmsft.ipynb\" target=\"_parent\"><img src=\"https://colab.research.google.com/assets/colab-badge.svg\" alt=\"Open In Colab\"/></a>"
      ]
    },
    {
      "cell_type": "markdown",
      "metadata": {
        "id": "vGXUTjqHHR3Z",
        "colab_type": "text"
      },
      "source": [
        "**This is a recurrent neural network, specifically an LSTM network designed to predict Microsoft stock prices one day in advance. **\n"
      ]
    },
    {
      "cell_type": "code",
      "metadata": {
        "id": "Ubkachyk2XwL",
        "colab_type": "code",
        "colab": {
          "base_uri": "https://localhost:8080/",
          "height": 68
        },
        "outputId": "3ba18f08-46f2-4b15-e2a5-cd1046fbd6a6"
      },
      "source": [
        "#import libraries\n",
        "\n",
        "import math\n",
        "import pandas_datareader as web\n",
        "import numpy as np\n",
        "import pandas as pd\n",
        "from sklearn.preprocessing import MinMaxScaler\n",
        "from keras.models import Sequential\n",
        "from keras.preprocessing.sequence import TimeseriesGenerator\n",
        "from keras.layers import Dropout\n",
        "from keras.layers import Dense, LSTM\n",
        "import matplotlib.pyplot as plt\n",
        "plt.style.use('fivethirtyeight')"
      ],
      "execution_count": null,
      "outputs": [
        {
          "output_type": "stream",
          "text": [
            "/usr/local/lib/python3.6/dist-packages/pandas_datareader/compat/__init__.py:7: FutureWarning: pandas.util.testing is deprecated. Use the functions in the public API at pandas.testing instead.\n",
            "  from pandas.util.testing import assert_frame_equal\n",
            "Using TensorFlow backend.\n"
          ],
          "name": "stderr"
        }
      ]
    },
    {
      "cell_type": "code",
      "metadata": {
        "id": "5i8m-wPf5R3k",
        "colab_type": "code",
        "colab": {
          "base_uri": "https://localhost:8080/",
          "height": 450
        },
        "outputId": "ccdd4232-7faa-4f32-dde2-98be0d6197d5"
      },
      "source": [
        "#Get msft stock\n",
        "msftstock = web.DataReader('MSFT', data_source='yahoo', start='2010-05-27', end='2020-05-27')\n",
        "msftstock"
      ],
      "execution_count": null,
      "outputs": [
        {
          "output_type": "execute_result",
          "data": {
            "text/html": [
              "<div>\n",
              "<style scoped>\n",
              "    .dataframe tbody tr th:only-of-type {\n",
              "        vertical-align: middle;\n",
              "    }\n",
              "\n",
              "    .dataframe tbody tr th {\n",
              "        vertical-align: top;\n",
              "    }\n",
              "\n",
              "    .dataframe thead th {\n",
              "        text-align: right;\n",
              "    }\n",
              "</style>\n",
              "<table border=\"1\" class=\"dataframe\">\n",
              "  <thead>\n",
              "    <tr style=\"text-align: right;\">\n",
              "      <th></th>\n",
              "      <th>High</th>\n",
              "      <th>Low</th>\n",
              "      <th>Open</th>\n",
              "      <th>Close</th>\n",
              "      <th>Volume</th>\n",
              "      <th>Adj Close</th>\n",
              "    </tr>\n",
              "    <tr>\n",
              "      <th>Date</th>\n",
              "      <th></th>\n",
              "      <th></th>\n",
              "      <th></th>\n",
              "      <th></th>\n",
              "      <th></th>\n",
              "      <th></th>\n",
              "    </tr>\n",
              "  </thead>\n",
              "  <tbody>\n",
              "    <tr>\n",
              "      <th>2010-05-27</th>\n",
              "      <td>26.360001</td>\n",
              "      <td>25.730000</td>\n",
              "      <td>25.730000</td>\n",
              "      <td>26.000000</td>\n",
              "      <td>136433600.0</td>\n",
              "      <td>20.539593</td>\n",
              "    </tr>\n",
              "    <tr>\n",
              "      <th>2010-05-28</th>\n",
              "      <td>26.120001</td>\n",
              "      <td>25.660000</td>\n",
              "      <td>25.840000</td>\n",
              "      <td>25.799999</td>\n",
              "      <td>67496900.0</td>\n",
              "      <td>20.381601</td>\n",
              "    </tr>\n",
              "    <tr>\n",
              "      <th>2010-06-01</th>\n",
              "      <td>26.309999</td>\n",
              "      <td>25.520000</td>\n",
              "      <td>25.530001</td>\n",
              "      <td>25.889999</td>\n",
              "      <td>76152400.0</td>\n",
              "      <td>20.452698</td>\n",
              "    </tr>\n",
              "    <tr>\n",
              "      <th>2010-06-02</th>\n",
              "      <td>26.480000</td>\n",
              "      <td>25.730000</td>\n",
              "      <td>26.059999</td>\n",
              "      <td>26.459999</td>\n",
              "      <td>65718800.0</td>\n",
              "      <td>20.902985</td>\n",
              "    </tr>\n",
              "    <tr>\n",
              "      <th>2010-06-03</th>\n",
              "      <td>26.930000</td>\n",
              "      <td>26.410000</td>\n",
              "      <td>26.549999</td>\n",
              "      <td>26.860001</td>\n",
              "      <td>67837000.0</td>\n",
              "      <td>21.218981</td>\n",
              "    </tr>\n",
              "    <tr>\n",
              "      <th>...</th>\n",
              "      <td>...</td>\n",
              "      <td>...</td>\n",
              "      <td>...</td>\n",
              "      <td>...</td>\n",
              "      <td>...</td>\n",
              "      <td>...</td>\n",
              "    </tr>\n",
              "    <tr>\n",
              "      <th>2020-05-20</th>\n",
              "      <td>185.850006</td>\n",
              "      <td>183.940002</td>\n",
              "      <td>184.809998</td>\n",
              "      <td>185.660004</td>\n",
              "      <td>31261300.0</td>\n",
              "      <td>185.660004</td>\n",
              "    </tr>\n",
              "    <tr>\n",
              "      <th>2020-05-21</th>\n",
              "      <td>186.669998</td>\n",
              "      <td>183.289993</td>\n",
              "      <td>185.399994</td>\n",
              "      <td>183.429993</td>\n",
              "      <td>29119500.0</td>\n",
              "      <td>183.429993</td>\n",
              "    </tr>\n",
              "    <tr>\n",
              "      <th>2020-05-22</th>\n",
              "      <td>184.460007</td>\n",
              "      <td>182.539993</td>\n",
              "      <td>183.190002</td>\n",
              "      <td>183.509995</td>\n",
              "      <td>20826900.0</td>\n",
              "      <td>183.509995</td>\n",
              "    </tr>\n",
              "    <tr>\n",
              "      <th>2020-05-26</th>\n",
              "      <td>186.500000</td>\n",
              "      <td>181.100006</td>\n",
              "      <td>186.339996</td>\n",
              "      <td>181.570007</td>\n",
              "      <td>36073600.0</td>\n",
              "      <td>181.570007</td>\n",
              "    </tr>\n",
              "    <tr>\n",
              "      <th>2020-05-27</th>\n",
              "      <td>181.990005</td>\n",
              "      <td>176.600006</td>\n",
              "      <td>180.199997</td>\n",
              "      <td>181.809998</td>\n",
              "      <td>39517100.0</td>\n",
              "      <td>181.809998</td>\n",
              "    </tr>\n",
              "  </tbody>\n",
              "</table>\n",
              "<p>2517 rows × 6 columns</p>\n",
              "</div>"
            ],
            "text/plain": [
              "                  High         Low  ...       Volume   Adj Close\n",
              "Date                                ...                         \n",
              "2010-05-27   26.360001   25.730000  ...  136433600.0   20.539593\n",
              "2010-05-28   26.120001   25.660000  ...   67496900.0   20.381601\n",
              "2010-06-01   26.309999   25.520000  ...   76152400.0   20.452698\n",
              "2010-06-02   26.480000   25.730000  ...   65718800.0   20.902985\n",
              "2010-06-03   26.930000   26.410000  ...   67837000.0   21.218981\n",
              "...                ...         ...  ...          ...         ...\n",
              "2020-05-20  185.850006  183.940002  ...   31261300.0  185.660004\n",
              "2020-05-21  186.669998  183.289993  ...   29119500.0  183.429993\n",
              "2020-05-22  184.460007  182.539993  ...   20826900.0  183.509995\n",
              "2020-05-26  186.500000  181.100006  ...   36073600.0  181.570007\n",
              "2020-05-27  181.990005  176.600006  ...   39517100.0  181.809998\n",
              "\n",
              "[2517 rows x 6 columns]"
            ]
          },
          "metadata": {
            "tags": []
          },
          "execution_count": 2
        }
      ]
    },
    {
      "cell_type": "code",
      "metadata": {
        "id": "9-zyeLUT5lTS",
        "colab_type": "code",
        "colab": {
          "base_uri": "https://localhost:8080/",
          "height": 34
        },
        "outputId": "eaa6c4ec-90d3-4fd3-8141-2a6be130c99a"
      },
      "source": [
        "#Get dataset information\n",
        "msftstock.shape"
      ],
      "execution_count": null,
      "outputs": [
        {
          "output_type": "execute_result",
          "data": {
            "text/plain": [
              "(2517, 6)"
            ]
          },
          "metadata": {
            "tags": []
          },
          "execution_count": 3
        }
      ]
    },
    {
      "cell_type": "code",
      "metadata": {
        "id": "0aqQoPRz5xkB",
        "colab_type": "code",
        "colab": {
          "base_uri": "https://localhost:8080/",
          "height": 518
        },
        "outputId": "f82ad891-1a93-4753-dc6e-a1949426db90"
      },
      "source": [
        "#visualize closing msft price\n",
        "plt.figure(figsize=(16,8))\n",
        "plt.title('Microsoft Close Price History')\n",
        "plt.plot(msftstock['Close'])\n",
        "plt.xlabel('Date', fontsize=18)\n",
        "plt.ylabel('Close Price USD', fontsize=18)\n",
        "plt.show()"
      ],
      "execution_count": null,
      "outputs": [
        {
          "output_type": "display_data",
          "data": {
            "image/png": "[encoded data removed]",
            "text/plain": [
              "<Figure size 1152x576 with 1 Axes>"
            ]
          },
          "metadata": {
            "tags": [],
            "needs_background": "light"
          }
        }
      ]
    },
    {
      "cell_type": "markdown",
      "metadata": {
        "id": "N-3NDGfAHUmG",
        "colab_type": "text"
      },
      "source": [
        "**In this next line of code, we will extract the Microsoft closing price from the stock dataframe, convert it to a numpy array and create a training dataframe consisiting of 80% of closing stock prices.**"
      ]
    },
    {
      "cell_type": "code",
      "metadata": {
        "id": "Y3YHk0MZ6upG",
        "colab_type": "code",
        "colab": {
          "base_uri": "https://localhost:8080/",
          "height": 34
        },
        "outputId": "e67f13ae-2e18-4893-fd31-8c70f0de2042"
      },
      "source": [
        "#extract closing price and position into new datafram\n",
        "msftclose =msftstock.filter(['Close'])\n",
        "#convert dataframe to numpy array\n",
        "msftdata = msftclose.values\n",
        "#obtain row number to train model\n",
        "training_msft_data = math.ceil(len(msftdata)*.8)\n",
        "training_msft_data"
      ],
      "execution_count": null,
      "outputs": [
        {
          "output_type": "execute_result",
          "data": {
            "text/plain": [
              "2014"
            ]
          },
          "metadata": {
            "tags": []
          },
          "execution_count": 5
        }
      ]
    },
    {
      "cell_type": "markdown",
      "metadata": {
        "id": "WzuVWBYRHtLA",
        "colab_type": "text"
      },
      "source": [
        "**Normalizing the data is key to ensuring that the neural network works properly, and so a scale of 0,1 is set, and the following code will enable the normalization of the closing price data. this data will then be inserted into is own variable. **"
      ]
    },
    {
      "cell_type": "code",
      "metadata": {
        "id": "iHvL2jSO7jv2",
        "colab_type": "code",
        "colab": {
          "base_uri": "https://localhost:8080/",
          "height": 136
        },
        "outputId": "3f42622b-352a-4634-becd-959be7cb8f0d"
      },
      "source": [
        "#scaling data\n",
        "scaler = MinMaxScaler(feature_range=(0,1))\n",
        "scaled_msft_data = scaler.fit_transform(msftdata)\n",
        "scaled_msft_data"
      ],
      "execution_count": null,
      "outputs": [
        {
          "output_type": "execute_result",
          "data": {
            "text/plain": [
              "array([[0.01804575],\n",
              "       [0.01683867],\n",
              "       [0.01738185],\n",
              "       ...,\n",
              "       [0.96867643],\n",
              "       [0.95696789],\n",
              "       [0.95841632]])"
            ]
          },
          "metadata": {
            "tags": []
          },
          "execution_count": 6
        }
      ]
    },
    {
      "cell_type": "markdown",
      "metadata": {
        "id": "TSYRguNlHxh2",
        "colab_type": "text"
      },
      "source": [
        "**In the following lines of code, we will be creating the scaled training data to feed into the neural network from the previous 80% variable that was created. the training data will be from row 0 until the final row, and will include all columns. A loop is created in which the x train set will contain data from positions 0-359 on the first pass, and the y train set will contain data from position 360. the value in position 360 is the value that we require our model to predict. the if loop allows for positions to be filled into the x and y variables with respect to iterations. **"
      ]
    },
    {
      "cell_type": "code",
      "metadata": {
        "id": "Ie25ot3q8Bvc",
        "colab_type": "code",
        "colab": {
          "base_uri": "https://localhost:8080/",
          "height": 1000
        },
        "outputId": "2cf7a3ad-aad2-4796-b166-4cd65ce18f93"
      },
      "source": [
        "\n",
        "#create the scaled training dataset\n",
        "\n",
        "train_msft_data = scaled_msft_data[0:training_msft_data,:]\n",
        "#split the data omtp x_train and y_train datasets\n",
        "\n",
        "x_train_msft = []\n",
        "y_train_msft = []\n",
        "\n",
        "for i in range(360,len(train_msft_data)):\n",
        "  x_train_msft.append(train_msft_data[i-360:i,0])\n",
        "  y_train_msft.append(train_msft_data[i,0])\n",
        "  if i<= 360:\n",
        "    print(x_train_msft)\n",
        "    print(y_train_msft)\n",
        "    print()"
      ],
      "execution_count": null,
      "outputs": [
        {
          "output_type": "stream",
          "text": [
            "[array([0.01804575, 0.01683867, 0.01738185, 0.02082201, 0.02323617,\n",
            "       0.01677833, 0.01376064, 0.01267427, 0.01074296, 0.01201038,\n",
            "       0.01599372, 0.01502806, 0.02154626, 0.01997706, 0.02027884,\n",
            "       0.02070131, 0.01774398, 0.01665762, 0.01388134, 0.01201038,\n",
            "       0.00917376, 0.00784597, 0.00181061, 0.        , 0.0009053 ,\n",
            "       0.0015692 , 0.00488864, 0.00778562, 0.00844951, 0.00760456,\n",
            "       0.01098437, 0.01279497, 0.01466594, 0.01508842, 0.01134649,\n",
            "       0.01339851, 0.01490735, 0.01273463, 0.01708009, 0.01689902,\n",
            "       0.01864929, 0.0190114 , 0.01774398, 0.01822681, 0.01689902,\n",
            "       0.02003742, 0.0190114 , 0.0164162 , 0.01424347, 0.01532983,\n",
            "       0.01569196, 0.01243285, 0.01116543, 0.00893234, 0.00838916,\n",
            "       0.0089927 , 0.01026012, 0.01092401, 0.00863058, 0.00736314,\n",
            "       0.00766492, 0.00621643, 0.00657855, 0.00488864, 0.00555254,\n",
            "       0.00380228, 0.00277626, 0.00537147, 0.00561289, 0.00772527,\n",
            "       0.00573359, 0.00555254, 0.00603537, 0.00506971, 0.01267427,\n",
            "       0.01219144, 0.01273463, 0.01400205, 0.01333816, 0.01460559,\n",
            "       0.01291568, 0.00965659, 0.00857022, 0.0106826 , 0.01038083,\n",
            "       0.01007906, 0.0089927 , 0.00893234, 0.00826845, 0.00543183,\n",
            "       0.00808739, 0.00857022, 0.00917376, 0.00941517, 0.00953588,\n",
            "       0.01098437, 0.01406241, 0.01339851, 0.01526948, 0.01695938,\n",
            "       0.01261392, 0.01388134, 0.01454523, 0.01430381, 0.0131571 ,\n",
            "       0.01744221, 0.01834751, 0.01973565, 0.02208944, 0.02377935,\n",
            "       0.0264349 , 0.02426218, 0.02492606, 0.02317581, 0.02293439,\n",
            "       0.02377935, 0.023719  , 0.0221498 , 0.0196753 , 0.01925283,\n",
            "       0.01689902, 0.01545054, 0.01708009, 0.01617479, 0.0164162 ,\n",
            "       0.01273463, 0.01424347, 0.01351922, 0.01388134, 0.01357958,\n",
            "       0.01828717, 0.02341722, 0.02420182, 0.02311546, 0.02329652,\n",
            "       0.02546925, 0.02456394, 0.02613314, 0.02558996, 0.02782305,\n",
            "       0.02921118, 0.03005613, 0.02951294, 0.02896976, 0.03053896,\n",
            "       0.0312632 , 0.03192709, 0.03053896, 0.03017684, 0.02993542,\n",
            "       0.02921118, 0.0295733 , 0.02999577, 0.03065967, 0.03011648,\n",
            "       0.03506548, 0.0337377 , 0.03144426, 0.03078038, 0.03343593,\n",
            "       0.0312632 , 0.03192709, 0.03409982, 0.0329531 , 0.03222886,\n",
            "       0.03023719, 0.03240992, 0.0328324 , 0.03482407, 0.03536726,\n",
            "       0.02860764, 0.02848693, 0.03005613, 0.02975436, 0.0280041 ,\n",
            "       0.02872835, 0.03132356, 0.03180639, 0.02993542, 0.0270988 ,\n",
            "       0.02558996, 0.02546925, 0.02383969, 0.02420182, 0.02534854,\n",
            "       0.02444323, 0.02160661, 0.02160661, 0.02269298, 0.02136519,\n",
            "       0.02154626, 0.0190114 , 0.01852858, 0.01925283, 0.01774398,\n",
            "       0.01635584, 0.01750256, 0.01738185, 0.01448488, 0.01611443,\n",
            "       0.01617479, 0.01436417, 0.01074296, 0.0106826 , 0.0108033 ,\n",
            "       0.01400205, 0.01382099, 0.01526948, 0.01689902, 0.01575231,\n",
            "       0.01448488, 0.01496771, 0.01569196, 0.01436417, 0.01490735,\n",
            "       0.01532983, 0.01671797, 0.01895105, 0.01925283, 0.01846822,\n",
            "       0.01792504, 0.01587301, 0.01581266, 0.01454523, 0.01424347,\n",
            "       0.01249321, 0.01291568, 0.01659726, 0.01514877, 0.01569196,\n",
            "       0.01919247, 0.02033918, 0.02233085, 0.01756292, 0.01599372,\n",
            "       0.01689902, 0.01840787, 0.01677833, 0.01726115, 0.01701973,\n",
            "       0.01605408, 0.01418312, 0.0139417 , 0.01219144, 0.00941517,\n",
            "       0.00911341, 0.01013942, 0.01032047, 0.00893234, 0.00700103,\n",
            "       0.00688032, 0.00712174, 0.01001871, 0.01056189, 0.01207073,\n",
            "       0.00857022, 0.00730279, 0.00543183, 0.00603537, 0.00633713,\n",
            "       0.00561289, 0.00573359, 0.00422475, 0.00621643, 0.00730279,\n",
            "       0.00440582, 0.00597501, 0.00754421, 0.00881163, 0.01056189,\n",
            "       0.009898  , 0.00977729, 0.00778562, 0.01321746, 0.01683867,\n",
            "       0.01575231, 0.01804575, 0.01816646, 0.01822681, 0.02003742,\n",
            "       0.02269298, 0.02359829, 0.02184802, 0.02130485, 0.02184802,\n",
            "       0.02088237, 0.02275334, 0.02160661, 0.02734022, 0.02444323,\n",
            "       0.02468465, 0.02727986, 0.0295733 , 0.03059931, 0.02607279,\n",
            "       0.02842657, 0.02649526, 0.02571067, 0.02287404, 0.02359829,\n",
            "       0.01768363, 0.01611443, 0.00887199, 0.01551089, 0.00718209,\n",
            "       0.0131571 , 0.01261392, 0.01508842, 0.01412276, 0.01351922,\n",
            "       0.01001871, 0.00627678, 0.0058543 , 0.01032047, 0.01140684,\n",
            "       0.00941517, 0.01351922, 0.01708009, 0.01943388, 0.02166697,\n",
            "       0.01931317, 0.01683867, 0.01508842, 0.01804575, 0.01937352,\n",
            "       0.01647655, 0.01738185, 0.01828717, 0.02106343, 0.02402076,\n",
            "       0.02480536, 0.02534854, 0.0239604 , 0.01798539, 0.0123725 ,\n",
            "       0.0123725 , 0.01466594, 0.01605408, 0.01551089, 0.0147263 ,\n",
            "       0.01134649, 0.00917376, 0.01406241, 0.01738185, 0.02009777,\n",
            "       0.01955459, 0.023719  , 0.02408111, 0.02383969, 0.02516748,\n",
            "       0.02571067, 0.0239604 , 0.02595208, 0.02486571, 0.02432253,\n",
            "       0.02504677, 0.02522784, 0.02293439, 0.02160661, 0.02558996])]\n",
            "[0.02396040432108118]\n",
            "\n"
          ],
          "name": "stdout"
        }
      ]
    },
    {
      "cell_type": "markdown",
      "metadata": {
        "id": "gnUCBWeGH3Yl",
        "colab_type": "text"
      },
      "source": [
        "**The following two cells of code will allow for increased pre processing of the above created variables to allow for training of the model. it is important to reshape the x train data set becase the lstm networks expects the input to be three dimensional (# of samples, # of timesteps, #of features), however the train data set in its current form is two dimensional. **"
      ]
    },
    {
      "cell_type": "code",
      "metadata": {
        "id": "uS7DnvE9-ZJ9",
        "colab_type": "code",
        "colab": {}
      },
      "source": [
        "#convert the x_train_msft and y_train_msft to numpy array in order to allow the training of lstm model\n",
        "x_train_msft,y_train_msft=np.array(x_train_msft), np.array(y_train_msft)"
      ],
      "execution_count": null,
      "outputs": []
    },
    {
      "cell_type": "code",
      "metadata": {
        "id": "1S84Ci36-sMd",
        "colab_type": "code",
        "colab": {
          "base_uri": "https://localhost:8080/",
          "height": 34
        },
        "outputId": "d052b8e1-1139-4c1d-8481-9dac45bb5d3a"
      },
      "source": [
        "#Reshape the data in order to obtain three dimensional data to feed into LSTM\n",
        "x_train_msft=np.reshape(x_train_msft,(x_train_msft.shape[0],x_train_msft.shape[1],1))\n",
        "x_train_msft.shape"
      ],
      "execution_count": null,
      "outputs": [
        {
          "output_type": "execute_result",
          "data": {
            "text/plain": [
              "(1654, 360, 1)"
            ]
          },
          "metadata": {
            "tags": []
          },
          "execution_count": 9
        }
      ]
    },
    {
      "cell_type": "markdown",
      "metadata": {
        "id": "yfMPTxlXH6s1",
        "colab_type": "text"
      },
      "source": [
        "**The following cell includes the LSTM model build, and here is where the neural network hyperparamaters can be tuned to achieve the specific output required. The error for the model is tested using the RMSE. This particular model contains 2 LSTM layers with 200 neurons each, 2 dense layers (allowing for output of predictions from the neuron layers), a model compiler and a model fitter. **"
      ]
    },
    {
      "cell_type": "code",
      "metadata": {
        "id": "bU79mp45_sD0",
        "colab_type": "code",
        "colab": {
          "base_uri": "https://localhost:8080/",
          "height": 272
        },
        "outputId": "b8b5186d-318d-41e7-97f8-9e4570d7e43e"
      },
      "source": [
        "#Build the LSTM model for msft\n",
        "model = Sequential()\n",
        "model.add(LSTM(200,return_sequences=True, input_shape=(x_train_msft.shape[1],1)))\n",
        "model.add(LSTM(200, return_sequences=False))\n",
        "model.add(Dense(100))\n",
        "model.add(Dense(1))\n",
        "#compile the msft model\n",
        "model.compile(optimizer='adam',loss='mean_squared_error')\n",
        "#train the model\n",
        "model.fit(x_train_msft,y_train_msft, batch_size=2,epochs=7)"
      ],
      "execution_count": 10,
      "outputs": [
        {
          "output_type": "stream",
          "text": [
            "Epoch 1/7\n",
            "1654/1654 [==============================] - 760s 460ms/step - loss: 3.1122e-04\n",
            "Epoch 2/7\n",
            "1654/1654 [==============================] - 758s 458ms/step - loss: 2.2877e-04\n",
            "Epoch 3/7\n",
            "1654/1654 [==============================] - 794s 480ms/step - loss: 1.0865e-04\n",
            "Epoch 4/7\n",
            "1654/1654 [==============================] - 781s 472ms/step - loss: 1.5826e-04\n",
            "Epoch 5/7\n",
            "1654/1654 [==============================] - 772s 467ms/step - loss: 9.9688e-05\n",
            "Epoch 6/7\n",
            "1654/1654 [==============================] - 750s 454ms/step - loss: 1.0871e-04\n",
            "Epoch 7/7\n",
            "1654/1654 [==============================] - 772s 467ms/step - loss: 7.4435e-05\n"
          ],
          "name": "stdout"
        },
        {
          "output_type": "execute_result",
          "data": {
            "text/plain": [
              "<keras.callbacks.callbacks.History at 0x7fc02f1002e8>"
            ]
          },
          "metadata": {
            "tags": []
          },
          "execution_count": 10
        }
      ]
    },
    {
      "cell_type": "code",
      "metadata": {
        "id": "lMJ2CfzrBGV6",
        "colab_type": "code",
        "colab": {}
      },
      "source": [
        "#create the testing data set by creating a new array containg scaled values from index 1924 - 2517\n",
        "test_msft_data = scaled_msft_data[training_msft_data - 360: , :]\n",
        "#create the datasets x_msft_test and y_msft_test\n",
        "x_msft_test = []\n",
        "y_msft_test = msftdata[training_msft_data:, :]\n",
        "for i in range(360,len(test_msft_data)):\n",
        "  x_msft_test.append(test_msft_data[i-360:i, 0])"
      ],
      "execution_count": 11,
      "outputs": []
    },
    {
      "cell_type": "code",
      "metadata": {
        "id": "sxyiUWJeCX0q",
        "colab_type": "code",
        "colab": {}
      },
      "source": [
        "#convert data into numpy array\n",
        "x_msft_test=np.array(x_msft_test)"
      ],
      "execution_count": 12,
      "outputs": []
    },
    {
      "cell_type": "code",
      "metadata": {
        "id": "cy_asIi0CgDK",
        "colab_type": "code",
        "colab": {}
      },
      "source": [
        "#Reshape test data\n",
        "x_msft_test = np.reshape(x_msft_test,(x_msft_test.shape[0],x_msft_test.shape[1],1))"
      ],
      "execution_count": 13,
      "outputs": []
    },
    {
      "cell_type": "code",
      "metadata": {
        "id": "lr5rFDSaCzYH",
        "colab_type": "code",
        "colab": {}
      },
      "source": [
        "#obtain model predicted price values, we want prediction to obtain same values as y_msft_test dataset\n",
        "msftpredictions = model.predict(x_msft_test)\n",
        "msftpredictions=scaler.inverse_transform(msftpredictions)"
      ],
      "execution_count": 14,
      "outputs": []
    },
    {
      "cell_type": "code",
      "metadata": {
        "id": "2v7dgEtQDUXD",
        "colab_type": "code",
        "colab": {
          "base_uri": "https://localhost:8080/",
          "height": 34
        },
        "outputId": "2e685fbb-8a5c-4e35-fd08-be6bb569206a"
      },
      "source": [
        "#Evaluate the model by getting the RMSE\n",
        "rmse = np.sqrt( np.mean( msftpredictions-y_msft_test)**2)\n",
        "rmse"
      ],
      "execution_count": 15,
      "outputs": [
        {
          "output_type": "execute_result",
          "data": {
            "text/plain": [
              "4.1141600864782015"
            ]
          },
          "metadata": {
            "tags": []
          },
          "execution_count": 15
        }
      ]
    },
    {
      "cell_type": "code",
      "metadata": {
        "id": "wjR6i874FLrm",
        "colab_type": "code",
        "colab": {
          "base_uri": "https://localhost:8080/",
          "height": 441
        },
        "outputId": "3631f9ec-7640-428e-9e0a-8baa1da45b46"
      },
      "source": [
        "#Plot data\n",
        "train = msftclose[:training_msft_data]\n",
        "valid = msftclose[training_msft_data:]\n",
        "valid['Predictions'] = msftpredictions\n",
        "#visualize the data\n",
        "plt.figure(figsize=(16,8))\n",
        "plt.title('Model')\n",
        "plt.xlabel('Date', fontsize = 18)\n",
        "plt.ylabel('Close Price USD', fontsize = 18)\n",
        "plt.plot(train['Close'])\n",
        "plt.plot(valid[['Close', 'Predictions']])\n",
        "plt.legend(['Train data set', 'validation data set','Prediction data set'],loc ='lower right' )\n",
        "plt.show()"
      ],
      "execution_count": 16,
      "outputs": [
        {
          "output_type": "stream",
          "text": [
            "/usr/local/lib/python3.6/dist-packages/ipykernel_launcher.py:4: SettingWithCopyWarning: \n",
            "A value is trying to be set on a copy of a slice from a DataFrame.\n",
            "Try using .loc[row_indexer,col_indexer] = value instead\n",
            "\n",
            "See the caveats in the documentation: https://pandas.pydata.org/pandas-docs/stable/user_guide/indexing.html#returning-a-view-versus-a-copy\n",
            "  after removing the cwd from sys.path.\n"
          ],
          "name": "stderr"
        },
        {
          "output_type": "display_data",
          "data": {
            "image/png": "[encoded data removed]",
            "text/plain": [
              "<Figure size 1152x576 with 1 Axes>"
            ]
          },
          "metadata": {
            "tags": [],
            "needs_background": "light"
          }
        }
      ]
    },
    {
      "cell_type": "code",
      "metadata": {
        "id": "HPqM79RuKIvT",
        "colab_type": "code",
        "colab": {
          "base_uri": "https://localhost:8080/",
          "height": 450
        },
        "outputId": "7ef9fef0-e1eb-4cb3-f731-651515295ba4"
      },
      "source": [
        "#show the validation price and predicted price\n",
        "valid"
      ],
      "execution_count": 17,
      "outputs": [
        {
          "output_type": "execute_result",
          "data": {
            "text/html": [
              "<div>\n",
              "<style scoped>\n",
              "    .dataframe tbody tr th:only-of-type {\n",
              "        vertical-align: middle;\n",
              "    }\n",
              "\n",
              "    .dataframe tbody tr th {\n",
              "        vertical-align: top;\n",
              "    }\n",
              "\n",
              "    .dataframe thead th {\n",
              "        text-align: right;\n",
              "    }\n",
              "</style>\n",
              "<table border=\"1\" class=\"dataframe\">\n",
              "  <thead>\n",
              "    <tr style=\"text-align: right;\">\n",
              "      <th></th>\n",
              "      <th>Close</th>\n",
              "      <th>Predictions</th>\n",
              "    </tr>\n",
              "    <tr>\n",
              "      <th>Date</th>\n",
              "      <th></th>\n",
              "      <th></th>\n",
              "    </tr>\n",
              "  </thead>\n",
              "  <tbody>\n",
              "    <tr>\n",
              "      <th>2018-05-29</th>\n",
              "      <td>98.010002</td>\n",
              "      <td>100.804886</td>\n",
              "    </tr>\n",
              "    <tr>\n",
              "      <th>2018-05-30</th>\n",
              "      <td>98.949997</td>\n",
              "      <td>100.465866</td>\n",
              "    </tr>\n",
              "    <tr>\n",
              "      <th>2018-05-31</th>\n",
              "      <td>98.839996</td>\n",
              "      <td>101.405525</td>\n",
              "    </tr>\n",
              "    <tr>\n",
              "      <th>2018-06-01</th>\n",
              "      <td>100.790001</td>\n",
              "      <td>101.342133</td>\n",
              "    </tr>\n",
              "    <tr>\n",
              "      <th>2018-06-04</th>\n",
              "      <td>101.669998</td>\n",
              "      <td>103.251244</td>\n",
              "    </tr>\n",
              "    <tr>\n",
              "      <th>...</th>\n",
              "      <td>...</td>\n",
              "      <td>...</td>\n",
              "    </tr>\n",
              "    <tr>\n",
              "      <th>2020-05-20</th>\n",
              "      <td>185.660004</td>\n",
              "      <td>190.522232</td>\n",
              "    </tr>\n",
              "    <tr>\n",
              "      <th>2020-05-21</th>\n",
              "      <td>183.429993</td>\n",
              "      <td>192.471558</td>\n",
              "    </tr>\n",
              "    <tr>\n",
              "      <th>2020-05-22</th>\n",
              "      <td>183.509995</td>\n",
              "      <td>190.227371</td>\n",
              "    </tr>\n",
              "    <tr>\n",
              "      <th>2020-05-26</th>\n",
              "      <td>181.570007</td>\n",
              "      <td>190.390350</td>\n",
              "    </tr>\n",
              "    <tr>\n",
              "      <th>2020-05-27</th>\n",
              "      <td>181.809998</td>\n",
              "      <td>188.539719</td>\n",
              "    </tr>\n",
              "  </tbody>\n",
              "</table>\n",
              "<p>503 rows × 2 columns</p>\n",
              "</div>"
            ],
            "text/plain": [
              "                 Close  Predictions\n",
              "Date                               \n",
              "2018-05-29   98.010002   100.804886\n",
              "2018-05-30   98.949997   100.465866\n",
              "2018-05-31   98.839996   101.405525\n",
              "2018-06-01  100.790001   101.342133\n",
              "2018-06-04  101.669998   103.251244\n",
              "...                ...          ...\n",
              "2020-05-20  185.660004   190.522232\n",
              "2020-05-21  183.429993   192.471558\n",
              "2020-05-22  183.509995   190.227371\n",
              "2020-05-26  181.570007   190.390350\n",
              "2020-05-27  181.809998   188.539719\n",
              "\n",
              "[503 rows x 2 columns]"
            ]
          },
          "metadata": {
            "tags": []
          },
          "execution_count": 17
        }
      ]
    },
    {
      "cell_type": "code",
      "metadata": {
        "id": "mzApKUv1Kgvl",
        "colab_type": "code",
        "colab": {
          "base_uri": "https://localhost:8080/",
          "height": 34
        },
        "outputId": "e64d8ce1-d85a-4bbf-939a-b28ba65f5475"
      },
      "source": [
        "#Predict future price\n",
        "msft_quote = web.DataReader('MSFT', data_source='yahoo', start='2010-05-27', end='2020-06-30')\n",
        "#Create new dataframe\n",
        "new_df = msft_quote.filter(['Close'])\n",
        "#Extract last 360 days closing price and convert df to array\n",
        "last_360_days = new_df[-360:].values\n",
        "#scalre the data to be valued between 0 and 1\n",
        "last_360_days_scaled = scaler.transform(last_360_days)\n",
        "#create an empty list\n",
        "X_test = []\n",
        "#Append past 360 days to empty list\n",
        "X_test.append(last_360_days_scaled)\n",
        "#Convert the X_test dataset to a numpy array\n",
        "X_test = np.array(X_test)\n",
        "#Reshape data\n",
        "X_test = np.reshape(X_test,(X_test.shape[0],X_test.shape[1],1))\n",
        "#Get the predicted scaled price\n",
        "pred_price = model.predict(X_test)\n",
        "#Undo the scaling\n",
        "pred_price = scaler.inverse_transform(pred_price)\n",
        "print(pred_price)"
      ],
      "execution_count": 18,
      "outputs": [
        {
          "output_type": "stream",
          "text": [
            "[[210.68652]]\n"
          ],
          "name": "stdout"
        }
      ]
    },
    {
      "cell_type": "code",
      "metadata": {
        "id": "qRSg-_yqMttB",
        "colab_type": "code",
        "colab": {
          "base_uri": "https://localhost:8080/",
          "height": 238
        },
        "outputId": "fa3a1e70-c47f-42d8-e8a8-0086de9229f2"
      },
      "source": [
        "msft_quote2 = web.DataReader('MSFT', data_source='yahoo', start='2010-05-27', end='2020-07-01')\n",
        "print(msft_quote2['Close'])\n"
      ],
      "execution_count": 19,
      "outputs": [
        {
          "output_type": "stream",
          "text": [
            "Date\n",
            "2010-05-27     26.000000\n",
            "2010-05-28     25.799999\n",
            "2010-06-01     25.889999\n",
            "2010-06-02     26.459999\n",
            "2010-06-03     26.860001\n",
            "                 ...    \n",
            "2020-06-25    200.339996\n",
            "2020-06-26    196.330002\n",
            "2020-06-29    198.440002\n",
            "2020-06-30    203.509995\n",
            "2020-07-01    204.699997\n",
            "Name: Close, Length: 2542, dtype: float64\n"
          ],
          "name": "stdout"
        }
      ]
    }
  ]
}