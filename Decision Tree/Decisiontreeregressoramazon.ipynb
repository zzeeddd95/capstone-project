{
  "nbformat": 4,
  "nbformat_minor": 0,
  "metadata": {
    "colab": {
      "name": "Decisiontreeregressoramazon.ipynb",
      "provenance": [],
      "authorship_tag": "ABX9TyOr/HLkJDusw8iSq6zxKzcc",
      "include_colab_link": true
    },
    "kernelspec": {
      "name": "python3",
      "display_name": "Python 3"
    }
  },
  "cells": [
    {
      "cell_type": "markdown",
      "metadata": {
        "id": "view-in-github",
        "colab_type": "text"
      },
      "source": [
        "<a href=\"https://colab.research.google.com/github/zzeeddd95/capstone-project/blob/master/Decisiontreeregressoramazon.ipynb\" target=\"_parent\"><img src=\"https://colab.research.google.com/assets/colab-badge.svg\" alt=\"Open In Colab\"/></a>"
      ]
    },
    {
      "cell_type": "code",
      "metadata": {
        "id": "mWvvy_uIt1em",
        "colab_type": "code",
        "colab": {}
      },
      "source": [
        "import pandas as pd\n",
        "import numpy as np\n",
        "from sklearn.linear_model import LinearRegression\n",
        "from sklearn.svm import SVR\n",
        "from sklearn.model_selection import train_test_split\n",
        "from sklearn.tree import DecisionTreeRegressor\n",
        "import pandas_datareader as web\n",
        "import matplotlib.pyplot as plt\n",
        "plt.style.use('bmh')\n"
      ],
      "execution_count": 2,
      "outputs": []
    },
    {
      "cell_type": "code",
      "metadata": {
        "id": "uMb5PSKbfR-W",
        "colab_type": "code",
        "colab": {
          "resources": {
            "http://localhost:8080/nbextensions/google.colab/files.js": {
              "data": "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",
              "ok": true,
              "headers": [
                [
                  "content-type",
                  "application/javascript"
                ]
              ],
              "status": 200,
              "status_text": ""
            }
          },
          "base_uri": "https://localhost:8080/",
          "height": 72
        },
        "outputId": "56392ac5-f374-4645-f928-950557f46579"
      },
      "source": [
        "from google.colab import files\n",
        "apple = files.upload()"
      ],
      "execution_count": 3,
      "outputs": [
        {
          "output_type": "display_data",
          "data": {
            "text/html": [
              "\n",
              "     <input type=\"file\" id=\"files-eb33f3fd-aee5-44dd-940e-e05b724ffa98\" name=\"files[]\" multiple disabled\n",
              "        style=\"border:none\" />\n",
              "     <output id=\"result-eb33f3fd-aee5-44dd-940e-e05b724ffa98\">\n",
              "      Upload widget is only available when the cell has been executed in the\n",
              "      current browser session. Please rerun this cell to enable.\n",
              "      </output>\n",
              "      <script src=\"/nbextensions/google.colab/files.js\"></script> "
            ],
            "text/plain": [
              "<IPython.core.display.HTML object>"
            ]
          },
          "metadata": {
            "tags": []
          }
        },
        {
          "output_type": "stream",
          "text": [
            "Saving AMZN.csv to AMZN.csv\n"
          ],
          "name": "stdout"
        }
      ]
    },
    {
      "cell_type": "code",
      "metadata": {
        "id": "nlDlYaHXfiiM",
        "colab_type": "code",
        "colab": {
          "base_uri": "https://localhost:8080/",
          "height": 235
        },
        "outputId": "5e84d4cf-1950-4e0b-a0d4-db81656a8149"
      },
      "source": [
        "amzn = pd.read_csv('AMZN.csv')\n",
        "amzn.head(6)"
      ],
      "execution_count": 4,
      "outputs": [
        {
          "output_type": "execute_result",
          "data": {
            "text/html": [
              "<div>\n",
              "<style scoped>\n",
              "    .dataframe tbody tr th:only-of-type {\n",
              "        vertical-align: middle;\n",
              "    }\n",
              "\n",
              "    .dataframe tbody tr th {\n",
              "        vertical-align: top;\n",
              "    }\n",
              "\n",
              "    .dataframe thead th {\n",
              "        text-align: right;\n",
              "    }\n",
              "</style>\n",
              "<table border=\"1\" class=\"dataframe\">\n",
              "  <thead>\n",
              "    <tr style=\"text-align: right;\">\n",
              "      <th></th>\n",
              "      <th>Date</th>\n",
              "      <th>Open</th>\n",
              "      <th>High</th>\n",
              "      <th>Low</th>\n",
              "      <th>Close</th>\n",
              "      <th>Adj Close</th>\n",
              "      <th>Volume</th>\n",
              "    </tr>\n",
              "  </thead>\n",
              "  <tbody>\n",
              "    <tr>\n",
              "      <th>0</th>\n",
              "      <td>2010-05-26</td>\n",
              "      <td>125.050003</td>\n",
              "      <td>125.790001</td>\n",
              "      <td>122.300003</td>\n",
              "      <td>123.209999</td>\n",
              "      <td>123.209999</td>\n",
              "      <td>6964600</td>\n",
              "    </tr>\n",
              "    <tr>\n",
              "      <th>1</th>\n",
              "      <td>2010-05-27</td>\n",
              "      <td>124.980003</td>\n",
              "      <td>126.849998</td>\n",
              "      <td>120.599998</td>\n",
              "      <td>126.699997</td>\n",
              "      <td>126.699997</td>\n",
              "      <td>4747700</td>\n",
              "    </tr>\n",
              "    <tr>\n",
              "      <th>2</th>\n",
              "      <td>2010-05-28</td>\n",
              "      <td>126.070000</td>\n",
              "      <td>127.599998</td>\n",
              "      <td>124.010002</td>\n",
              "      <td>125.459999</td>\n",
              "      <td>125.459999</td>\n",
              "      <td>3954800</td>\n",
              "    </tr>\n",
              "    <tr>\n",
              "      <th>3</th>\n",
              "      <td>2010-06-01</td>\n",
              "      <td>124.970001</td>\n",
              "      <td>126.570000</td>\n",
              "      <td>123.019997</td>\n",
              "      <td>123.239998</td>\n",
              "      <td>123.239998</td>\n",
              "      <td>3659500</td>\n",
              "    </tr>\n",
              "    <tr>\n",
              "      <th>4</th>\n",
              "      <td>2010-06-02</td>\n",
              "      <td>124.019997</td>\n",
              "      <td>126.430000</td>\n",
              "      <td>121.650002</td>\n",
              "      <td>126.309998</td>\n",
              "      <td>126.309998</td>\n",
              "      <td>4764700</td>\n",
              "    </tr>\n",
              "    <tr>\n",
              "      <th>5</th>\n",
              "      <td>2010-06-03</td>\n",
              "      <td>126.250000</td>\n",
              "      <td>129.149994</td>\n",
              "      <td>124.849998</td>\n",
              "      <td>128.759995</td>\n",
              "      <td>128.759995</td>\n",
              "      <td>5276900</td>\n",
              "    </tr>\n",
              "  </tbody>\n",
              "</table>\n",
              "</div>"
            ],
            "text/plain": [
              "         Date        Open        High  ...       Close   Adj Close   Volume\n",
              "0  2010-05-26  125.050003  125.790001  ...  123.209999  123.209999  6964600\n",
              "1  2010-05-27  124.980003  126.849998  ...  126.699997  126.699997  4747700\n",
              "2  2010-05-28  126.070000  127.599998  ...  125.459999  125.459999  3954800\n",
              "3  2010-06-01  124.970001  126.570000  ...  123.239998  123.239998  3659500\n",
              "4  2010-06-02  124.019997  126.430000  ...  126.309998  126.309998  4764700\n",
              "5  2010-06-03  126.250000  129.149994  ...  128.759995  128.759995  5276900\n",
              "\n",
              "[6 rows x 7 columns]"
            ]
          },
          "metadata": {
            "tags": []
          },
          "execution_count": 4
        }
      ]
    },
    {
      "cell_type": "code",
      "metadata": {
        "id": "TWWZAuQTiFlv",
        "colab_type": "code",
        "colab": {
          "base_uri": "https://localhost:8080/",
          "height": 34
        },
        "outputId": "0aec6a52-770f-4a75-c4b4-52934f6c8442"
      },
      "source": [
        "amzn.shape"
      ],
      "execution_count": 5,
      "outputs": [
        {
          "output_type": "execute_result",
          "data": {
            "text/plain": [
              "(2516, 7)"
            ]
          },
          "metadata": {
            "tags": []
          },
          "execution_count": 5
        }
      ]
    },
    {
      "cell_type": "code",
      "metadata": {
        "id": "zWULIKynvcAU",
        "colab_type": "code",
        "colab": {
          "base_uri": "https://localhost:8080/",
          "height": 419
        },
        "outputId": "7121e191-6fb4-4ebf-c108-97efda37a0a4"
      },
      "source": [
        "#Filter out data to only obtain close price (independant variable)\n",
        "amzn = amzn[['Close']]\n",
        "amzn"
      ],
      "execution_count": 6,
      "outputs": [
        {
          "output_type": "execute_result",
          "data": {
            "text/html": [
              "<div>\n",
              "<style scoped>\n",
              "    .dataframe tbody tr th:only-of-type {\n",
              "        vertical-align: middle;\n",
              "    }\n",
              "\n",
              "    .dataframe tbody tr th {\n",
              "        vertical-align: top;\n",
              "    }\n",
              "\n",
              "    .dataframe thead th {\n",
              "        text-align: right;\n",
              "    }\n",
              "</style>\n",
              "<table border=\"1\" class=\"dataframe\">\n",
              "  <thead>\n",
              "    <tr style=\"text-align: right;\">\n",
              "      <th></th>\n",
              "      <th>Close</th>\n",
              "    </tr>\n",
              "  </thead>\n",
              "  <tbody>\n",
              "    <tr>\n",
              "      <th>0</th>\n",
              "      <td>123.209999</td>\n",
              "    </tr>\n",
              "    <tr>\n",
              "      <th>1</th>\n",
              "      <td>126.699997</td>\n",
              "    </tr>\n",
              "    <tr>\n",
              "      <th>2</th>\n",
              "      <td>125.459999</td>\n",
              "    </tr>\n",
              "    <tr>\n",
              "      <th>3</th>\n",
              "      <td>123.239998</td>\n",
              "    </tr>\n",
              "    <tr>\n",
              "      <th>4</th>\n",
              "      <td>126.309998</td>\n",
              "    </tr>\n",
              "    <tr>\n",
              "      <th>...</th>\n",
              "      <td>...</td>\n",
              "    </tr>\n",
              "    <tr>\n",
              "      <th>2511</th>\n",
              "      <td>2426.260010</td>\n",
              "    </tr>\n",
              "    <tr>\n",
              "      <th>2512</th>\n",
              "      <td>2449.330078</td>\n",
              "    </tr>\n",
              "    <tr>\n",
              "      <th>2513</th>\n",
              "      <td>2497.939941</td>\n",
              "    </tr>\n",
              "    <tr>\n",
              "      <th>2514</th>\n",
              "      <td>2446.739990</td>\n",
              "    </tr>\n",
              "    <tr>\n",
              "      <th>2515</th>\n",
              "      <td>2436.879883</td>\n",
              "    </tr>\n",
              "  </tbody>\n",
              "</table>\n",
              "<p>2516 rows × 1 columns</p>\n",
              "</div>"
            ],
            "text/plain": [
              "            Close\n",
              "0      123.209999\n",
              "1      126.699997\n",
              "2      125.459999\n",
              "3      123.239998\n",
              "4      126.309998\n",
              "...           ...\n",
              "2511  2426.260010\n",
              "2512  2449.330078\n",
              "2513  2497.939941\n",
              "2514  2446.739990\n",
              "2515  2436.879883\n",
              "\n",
              "[2516 rows x 1 columns]"
            ]
          },
          "metadata": {
            "tags": []
          },
          "execution_count": 6
        }
      ]
    },
    {
      "cell_type": "code",
      "metadata": {
        "id": "cGyJ0Zyevrvs",
        "colab_type": "code",
        "colab": {}
      },
      "source": [
        "#Create a variable to allow for predicting 'n days' into the future\n",
        "future_out =365"
      ],
      "execution_count": 7,
      "outputs": []
    },
    {
      "cell_type": "code",
      "metadata": {
        "id": "bc-gVy_YwNXk",
        "colab_type": "code",
        "colab": {
          "base_uri": "https://localhost:8080/",
          "height": 204
        },
        "outputId": "b216f575-6ea3-47ad-e41a-a302544847f8"
      },
      "source": [
        "#Create the dependant variable which will be shifted 'n' units up\n",
        "amzn['Prediction'] = amzn[['Close']].shift(-future_out)\n",
        "amzn.tail()"
      ],
      "execution_count": 8,
      "outputs": [
        {
          "output_type": "execute_result",
          "data": {
            "text/html": [
              "<div>\n",
              "<style scoped>\n",
              "    .dataframe tbody tr th:only-of-type {\n",
              "        vertical-align: middle;\n",
              "    }\n",
              "\n",
              "    .dataframe tbody tr th {\n",
              "        vertical-align: top;\n",
              "    }\n",
              "\n",
              "    .dataframe thead th {\n",
              "        text-align: right;\n",
              "    }\n",
              "</style>\n",
              "<table border=\"1\" class=\"dataframe\">\n",
              "  <thead>\n",
              "    <tr style=\"text-align: right;\">\n",
              "      <th></th>\n",
              "      <th>Close</th>\n",
              "      <th>Prediction</th>\n",
              "    </tr>\n",
              "  </thead>\n",
              "  <tbody>\n",
              "    <tr>\n",
              "      <th>2511</th>\n",
              "      <td>2426.260010</td>\n",
              "      <td>NaN</td>\n",
              "    </tr>\n",
              "    <tr>\n",
              "      <th>2512</th>\n",
              "      <td>2449.330078</td>\n",
              "      <td>NaN</td>\n",
              "    </tr>\n",
              "    <tr>\n",
              "      <th>2513</th>\n",
              "      <td>2497.939941</td>\n",
              "      <td>NaN</td>\n",
              "    </tr>\n",
              "    <tr>\n",
              "      <th>2514</th>\n",
              "      <td>2446.739990</td>\n",
              "      <td>NaN</td>\n",
              "    </tr>\n",
              "    <tr>\n",
              "      <th>2515</th>\n",
              "      <td>2436.879883</td>\n",
              "      <td>NaN</td>\n",
              "    </tr>\n",
              "  </tbody>\n",
              "</table>\n",
              "</div>"
            ],
            "text/plain": [
              "            Close  Prediction\n",
              "2511  2426.260010         NaN\n",
              "2512  2449.330078         NaN\n",
              "2513  2497.939941         NaN\n",
              "2514  2446.739990         NaN\n",
              "2515  2436.879883         NaN"
            ]
          },
          "metadata": {
            "tags": []
          },
          "execution_count": 8
        }
      ]
    },
    {
      "cell_type": "code",
      "metadata": {
        "id": "1ez0kfQ1xdgK",
        "colab_type": "code",
        "colab": {
          "base_uri": "https://localhost:8080/",
          "height": 136
        },
        "outputId": "38e3fccb-4020-48cd-9b98-54e5baf7b630"
      },
      "source": [
        "#create independant data set by converting the dataframe to a numpy array\n",
        "amzndfx = np.array(amzn.drop(['Prediction'],1))\n",
        "#Renove the last 'n' rows\n",
        "amzndfx = amzndfx[:-future_out] #therefore for every column, all of the rows will be displayed - future out\n",
        "amzndfx"
      ],
      "execution_count": 9,
      "outputs": [
        {
          "output_type": "execute_result",
          "data": {
            "text/plain": [
              "array([[ 123.209999],\n",
              "       [ 126.699997],\n",
              "       [ 125.459999],\n",
              "       ...,\n",
              "       [1699.189941],\n",
              "       [1629.130005],\n",
              "       [1641.030029]])"
            ]
          },
          "metadata": {
            "tags": []
          },
          "execution_count": 9
        }
      ]
    },
    {
      "cell_type": "code",
      "metadata": {
        "id": "TDrtpLJhB1hr",
        "colab_type": "code",
        "colab": {
          "base_uri": "https://localhost:8080/",
          "height": 51
        },
        "outputId": "e74b4638-60f8-4720-c000-be84713bacf1"
      },
      "source": [
        "#creat dependant dataset (prediction), all values including any Nan's\n",
        "amzndfy = np.array(amzn['Prediction'])\n",
        "#Filter this data by obtaining all values except the last 'n' rows\n",
        "amzndfy = amzndfy[:-future_out]\n",
        "print(amzndfy)"
      ],
      "execution_count": 10,
      "outputs": [
        {
          "output_type": "stream",
          "text": [
            "[ 218.289993  216.479996  217.       ... 2497.939941 2446.73999\n",
            " 2436.879883]\n"
          ],
          "name": "stdout"
        }
      ]
    },
    {
      "cell_type": "code",
      "metadata": {
        "id": "2T0ecWdKC3I5",
        "colab_type": "code",
        "colab": {}
      },
      "source": [
        "#split data into 80% training and 20%testing\n",
        "amzndfx_train , amzndfx_test, amzndfy_train, amzndfy_test = train_test_split(amzndfx, amzndfy, test_size = 0.20)"
      ],
      "execution_count": 12,
      "outputs": []
    },
    {
      "cell_type": "code",
      "metadata": {
        "id": "uIwF8U8fcmgA",
        "colab_type": "code",
        "colab": {}
      },
      "source": [
        "#Create and train the decision tree regressor model\n",
        "tree = DecisionTreeRegressor().fit(amzndfx_train,amzndfy_train)"
      ],
      "execution_count": 13,
      "outputs": []
    },
    {
      "cell_type": "code",
      "metadata": {
        "id": "QKBZftipdkA-",
        "colab_type": "code",
        "colab": {
          "base_uri": "https://localhost:8080/",
          "height": 34
        },
        "outputId": "7775cea5-cc96-49b7-cbde-9a5af2fe5438"
      },
      "source": [
        "#test model accuracy via score which returns the coefficient of determination (R^2) of prediction\n",
        "treeconfidence = tree.score(amzndfx_test, amzndfy_test)\n",
        "print(\"Decision tree regressor confidence\", treeconfidence)"
      ],
      "execution_count": 14,
      "outputs": [
        {
          "output_type": "stream",
          "text": [
            "Decision tree regressor confidence 0.942779312460494\n"
          ],
          "name": "stdout"
        }
      ]
    },
    {
      "cell_type": "code",
      "metadata": {
        "id": "Inwr1PMwFyEp",
        "colab_type": "code",
        "colab": {
          "base_uri": "https://localhost:8080/",
          "height": 1000
        },
        "outputId": "97da186d-aaa9-4529-a64d-d167f2f27a38"
      },
      "source": [
        "#set apple_forecast = to the last 365 rows of original dataset from close price column\n",
        "amzn_forecast = np.array(amzn.drop(['Prediction'],1))[-future_out:]\n",
        "print(amzn_forecast)\n"
      ],
      "execution_count": 15,
      "outputs": [
        {
          "output_type": "stream",
          "text": [
            "[[1643.23999 ]\n",
            " [1663.540039]\n",
            " [1658.380005]\n",
            " [1591.910034]\n",
            " [1520.910034]\n",
            " [1551.47998 ]\n",
            " [1495.079956]\n",
            " [1460.829956]\n",
            " [1377.449951]\n",
            " [1343.959961]\n",
            " [1470.900024]\n",
            " [1461.640015]\n",
            " [1478.02002 ]\n",
            " [1501.969971]\n",
            " [1539.130005]\n",
            " [1500.280029]\n",
            " [1575.390015]\n",
            " [1629.51001 ]\n",
            " [1656.579956]\n",
            " [1659.420044]\n",
            " [1656.219971]\n",
            " [1640.560059]\n",
            " [1617.209961]\n",
            " [1674.560059]\n",
            " [1683.780029]\n",
            " [1693.219971]\n",
            " [1696.199951]\n",
            " [1632.170044]\n",
            " [1640.02002 ]\n",
            " [1654.930054]\n",
            " [1670.569946]\n",
            " [1637.890015]\n",
            " [1593.880005]\n",
            " [1670.430054]\n",
            " [1718.72998 ]\n",
            " [1626.22998 ]\n",
            " [1633.310059]\n",
            " [1658.810059]\n",
            " [1640.26001 ]\n",
            " [1614.369995]\n",
            " [1588.219971]\n",
            " [1591.      ]\n",
            " [1638.01001 ]\n",
            " [1640.      ]\n",
            " [1622.650024]\n",
            " [1607.949951]\n",
            " [1627.579956]\n",
            " [1622.099976]\n",
            " [1619.439941]\n",
            " [1631.560059]\n",
            " [1633.      ]\n",
            " [1636.400024]\n",
            " [1641.089966]\n",
            " [1639.829956]\n",
            " [1671.72998 ]\n",
            " [1696.170044]\n",
            " [1692.430054]\n",
            " [1668.949951]\n",
            " [1625.949951]\n",
            " [1620.800049]\n",
            " [1670.619995]\n",
            " [1673.099976]\n",
            " [1690.810059]\n",
            " [1686.219971]\n",
            " [1712.359985]\n",
            " [1742.150024]\n",
            " [1761.849976]\n",
            " [1797.27002 ]\n",
            " [1819.26001 ]\n",
            " [1764.77002 ]\n",
            " [1774.26001 ]\n",
            " [1783.76001 ]\n",
            " [1765.699951]\n",
            " [1773.420044]\n",
            " [1780.75    ]\n",
            " [1814.189941]\n",
            " [1813.97998 ]\n",
            " [1820.699951]\n",
            " [1818.859985]\n",
            " [1837.280029]\n",
            " [1849.859985]\n",
            " [1835.839966]\n",
            " [1847.329956]\n",
            " [1844.069946]\n",
            " [1843.060059]\n",
            " [1844.869995]\n",
            " [1863.040039]\n",
            " [1864.819946]\n",
            " [1861.689941]\n",
            " [1887.310059]\n",
            " [1923.77002 ]\n",
            " [1901.75    ]\n",
            " [1902.25    ]\n",
            " [1950.630005]\n",
            " [1938.430054]\n",
            " [1926.52002 ]\n",
            " [1911.52002 ]\n",
            " [1900.819946]\n",
            " [1962.459961]\n",
            " [1950.550049]\n",
            " [1921.      ]\n",
            " [1917.77002 ]\n",
            " [1899.869995]\n",
            " [1889.97998 ]\n",
            " [1822.680054]\n",
            " [1840.119995]\n",
            " [1871.150024]\n",
            " [1907.569946]\n",
            " [1869.      ]\n",
            " [1858.969971]\n",
            " [1857.52002 ]\n",
            " [1859.680054]\n",
            " [1815.47998 ]\n",
            " [1823.280029]\n",
            " [1836.430054]\n",
            " [1819.189941]\n",
            " [1816.319946]\n",
            " [1775.069946]\n",
            " [1692.689941]\n",
            " [1729.560059]\n",
            " [1738.5     ]\n",
            " [1754.359985]\n",
            " [1804.030029]\n",
            " [1860.630005]\n",
            " [1863.699951]\n",
            " [1855.319946]\n",
            " [1870.300049]\n",
            " [1869.670044]\n",
            " [1886.030029]\n",
            " [1901.369995]\n",
            " [1908.790039]\n",
            " [1918.189941]\n",
            " [1911.300049]\n",
            " [1913.900024]\n",
            " [1878.27002 ]\n",
            " [1897.829956]\n",
            " [1904.280029]\n",
            " [1893.630005]\n",
            " [1922.189941]\n",
            " [1934.310059]\n",
            " [1939.      ]\n",
            " [1942.910034]\n",
            " [1952.319946]\n",
            " [1988.300049]\n",
            " [2017.410034]\n",
            " [2001.069946]\n",
            " [2011.      ]\n",
            " [2020.98999 ]\n",
            " [2009.900024]\n",
            " [1992.030029]\n",
            " [1977.900024]\n",
            " [1964.52002 ]\n",
            " [1985.630005]\n",
            " [1994.48999 ]\n",
            " [2000.810059]\n",
            " [1973.819946]\n",
            " [1943.050049]\n",
            " [1912.449951]\n",
            " [1898.530029]\n",
            " [1866.780029]\n",
            " [1855.319946]\n",
            " [1823.23999 ]\n",
            " [1765.130005]\n",
            " [1787.829956]\n",
            " [1793.400024]\n",
            " [1832.890015]\n",
            " [1807.579956]\n",
            " [1784.920044]\n",
            " [1824.339966]\n",
            " [1762.959961]\n",
            " [1776.119995]\n",
            " [1792.569946]\n",
            " [1816.119995]\n",
            " [1801.380005]\n",
            " [1823.540039]\n",
            " [1804.660034]\n",
            " [1749.619995]\n",
            " [1768.869995]\n",
            " [1761.829956]\n",
            " [1764.25    ]\n",
            " [1786.400024]\n",
            " [1776.290039]\n",
            " [1789.839966]\n",
            " [1800.619995]\n",
            " [1840.719971]\n",
            " [1833.51001 ]\n",
            " [1831.349976]\n",
            " [1820.550049]\n",
            " [1822.98999 ]\n",
            " [1843.550049]\n",
            " [1839.339966]\n",
            " [1807.839966]\n",
            " [1822.550049]\n",
            " [1817.459961]\n",
            " [1821.5     ]\n",
            " [1794.160034]\n",
            " [1785.300049]\n",
            " [1741.609985]\n",
            " [1768.329956]\n",
            " [1739.839966]\n",
            " [1725.449951]\n",
            " [1735.910034]\n",
            " [1735.650024]\n",
            " [1713.22998 ]\n",
            " [1724.420044]\n",
            " [1739.650024]\n",
            " [1732.660034]\n",
            " [1705.51001 ]\n",
            " [1721.98999 ]\n",
            " [1720.26001 ]\n",
            " [1731.920044]\n",
            " [1736.430054]\n",
            " [1767.380005]\n",
            " [1777.430054]\n",
            " [1787.47998 ]\n",
            " [1757.51001 ]\n",
            " [1785.660034]\n",
            " [1765.72998 ]\n",
            " [1762.170044]\n",
            " [1780.780029]\n",
            " [1761.329956]\n",
            " [1777.079956]\n",
            " [1762.709961]\n",
            " [1779.98999 ]\n",
            " [1776.660034]\n",
            " [1791.439941]\n",
            " [1804.660034]\n",
            " [1801.709961]\n",
            " [1795.77002 ]\n",
            " [1788.199951]\n",
            " [1785.880005]\n",
            " [1771.650024]\n",
            " [1778.      ]\n",
            " [1753.109985]\n",
            " [1754.599976]\n",
            " [1739.48999 ]\n",
            " [1752.530029]\n",
            " [1752.790039]\n",
            " [1745.530029]\n",
            " [1734.709961]\n",
            " [1745.719971]\n",
            " [1773.839966]\n",
            " [1796.939941]\n",
            " [1818.51001 ]\n",
            " [1800.800049]\n",
            " [1781.599976]\n",
            " [1769.959961]\n",
            " [1760.689941]\n",
            " [1740.47998 ]\n",
            " [1751.599976]\n",
            " [1749.51001 ]\n",
            " [1739.209961]\n",
            " [1748.719971]\n",
            " [1760.329956]\n",
            " [1760.939941]\n",
            " [1769.209961]\n",
            " [1790.660034]\n",
            " [1784.030029]\n",
            " [1792.280029]\n",
            " [1786.5     ]\n",
            " [1793.      ]\n",
            " [1789.209961]\n",
            " [1868.77002 ]\n",
            " [1869.800049]\n",
            " [1846.890015]\n",
            " [1847.839966]\n",
            " [1898.01001 ]\n",
            " [1874.969971]\n",
            " [1902.880005]\n",
            " [1906.859985]\n",
            " [1891.969971]\n",
            " [1901.050049]\n",
            " [1883.160034]\n",
            " [1891.300049]\n",
            " [1869.439941]\n",
            " [1862.02002 ]\n",
            " [1877.939941]\n",
            " [1864.719971]\n",
            " [1892.      ]\n",
            " [1887.459961]\n",
            " [1884.579956]\n",
            " [1861.640015]\n",
            " [1828.339966]\n",
            " [1853.25    ]\n",
            " [1858.      ]\n",
            " [1870.680054]\n",
            " [2008.719971]\n",
            " [2004.199951]\n",
            " [2049.669922]\n",
            " [2039.869995]\n",
            " [2050.22998 ]\n",
            " [2079.280029]\n",
            " [2133.909912]\n",
            " [2150.800049]\n",
            " [2160.      ]\n",
            " [2149.870117]\n",
            " [2134.870117]\n",
            " [2155.669922]\n",
            " [2170.219971]\n",
            " [2153.100098]\n",
            " [2095.969971]\n",
            " [2009.290039]\n",
            " [1972.73999 ]\n",
            " [1979.589966]\n",
            " [1884.300049]\n",
            " [1883.75    ]\n",
            " [1953.949951]\n",
            " [1908.98999 ]\n",
            " [1975.829956]\n",
            " [1924.030029]\n",
            " [1901.089966]\n",
            " [1800.609985]\n",
            " [1891.819946]\n",
            " [1820.859985]\n",
            " [1676.609985]\n",
            " [1785.      ]\n",
            " [1689.150024]\n",
            " [1807.839966]\n",
            " [1830.      ]\n",
            " [1880.930054]\n",
            " [1846.089966]\n",
            " [1902.829956]\n",
            " [1940.099976]\n",
            " [1885.839966]\n",
            " [1955.48999 ]\n",
            " [1900.099976]\n",
            " [1963.949951]\n",
            " [1949.719971]\n",
            " [1907.699951]\n",
            " [1918.829956]\n",
            " [1906.589966]\n",
            " [1997.589966]\n",
            " [2011.599976]\n",
            " [2043.      ]\n",
            " [2042.76001 ]\n",
            " [2168.870117]\n",
            " [2283.320068]\n",
            " [2307.679932]\n",
            " [2408.189941]\n",
            " [2375.      ]\n",
            " [2393.610107]\n",
            " [2328.120117]\n",
            " [2363.48999 ]\n",
            " [2399.449951]\n",
            " [2410.219971]\n",
            " [2376.      ]\n",
            " [2314.080078]\n",
            " [2372.709961]\n",
            " [2474.      ]\n",
            " [2286.040039]\n",
            " [2315.98999 ]\n",
            " [2317.800049]\n",
            " [2351.26001 ]\n",
            " [2367.610107]\n",
            " [2379.610107]\n",
            " [2409.      ]\n",
            " [2356.949951]\n",
            " [2367.919922]\n",
            " [2388.850098]\n",
            " [2409.780029]\n",
            " [2426.26001 ]\n",
            " [2449.330078]\n",
            " [2497.939941]\n",
            " [2446.73999 ]\n",
            " [2436.879883]]\n"
          ],
          "name": "stdout"
        }
      ]
    },
    {
      "cell_type": "code",
      "metadata": {
        "id": "Vs0_jkQddNIc",
        "colab_type": "code",
        "colab": {
          "base_uri": "https://localhost:8080/",
          "height": 1000
        },
        "outputId": "9c013403-5ab4-45c3-9104-defd3eb283d6"
      },
      "source": [
        "#Print decision tree predicted values for upcoming 'n' days\n",
        "treeprediction = tree.predict(amzn_forecast)\n",
        "print(treeprediction)"
      ],
      "execution_count": 16,
      "outputs": [
        {
          "output_type": "stream",
          "text": [
            "[2266.1800535 1740.47998   1749.51001   1757.51001   1832.890015\n",
            " 1801.380005  2351.26001   1732.660034  1843.550049  1973.819946\n",
            " 1823.23999   1866.780029  1765.130005  2379.610107  2283.320068\n",
            " 1793.400024  1761.329956  2446.73999   1749.51001   1749.51001\n",
            " 1749.51001   2436.879883  1788.199951  2388.850098  1752.790039\n",
            " 1760.939941  1754.599976  2372.709961  2436.879883  1749.51001\n",
            " 2449.330078  2314.080078  1757.51001   2449.330078  1955.48999\n",
            " 1785.880005  2372.709961  1749.51001   2436.879883  1788.199951\n",
            " 1776.290039  1768.869995  2314.080078  2436.879883  1785.880005\n",
            " 1785.660034  2328.120117  1785.880005  1785.880005  2372.709961\n",
            " 2372.709961  2314.080078  2436.879883  2436.879883  2388.850098\n",
            " 1754.599976  1760.939941  2449.330078  1785.880005  1785.880005\n",
            " 2449.330078  2388.850098  1752.530029  1752.790039  2376.\n",
            " 1792.280029  1963.949951  1793.        1901.050049  1906.589966\n",
            " 2426.26001   2042.76001   1906.589966  2426.26001   2042.76001\n",
            " 1789.209961  1789.209961  1868.77002   1901.050049  1907.699951\n",
            " 1864.719971  1907.699951  1864.719971  1869.800049  1846.890015\n",
            " 1869.800049  1906.859985  1902.829956  1906.859985  1879.0700075\n",
            " 1975.829956  2050.22998   2050.22998   2095.969971  2009.290039\n",
            " 1975.829956  1880.930054  2050.22998   2153.100098  2095.969971\n",
            " 1853.25      1853.25      2050.22998   1846.089966  1868.77002\n",
            " 1846.890015  1940.099976  1880.930054  1940.099976  1906.859985\n",
            " 1906.859985  1906.859985  1901.050049  1877.939941  1907.699951\n",
            " 1901.050049  1901.050049  1891.300049  1760.939941  1769.959961\n",
            " 1784.030029  2410.219971  1874.969971  1906.859985  1906.859985\n",
            " 1864.719971  1940.099976  1940.099976  1879.0700075 2050.22998\n",
            " 1880.930054  1853.25      1880.930054  1901.089966  2004.199951\n",
            " 2050.22998   2079.280029  1846.089966  1853.25      1800.609985\n",
            " 2009.290039  1924.030029  2095.969971  1972.73999   1676.609985\n",
            " 2149.870117  2134.870117  1676.609985  2134.870117  1979.589966\n",
            " 1891.819946  2153.100098  1972.73999   2170.219971  2149.870117\n",
            " 1891.819946  1924.030029  1901.089966  2050.22998   1902.829956\n",
            " 1864.719971  1877.939941  1906.589966  1900.099976  1793.\n",
            " 1907.699951  1891.969971  2042.76001   1877.939941  1906.589966\n",
            " 1891.300049  1997.589966  1901.050049  1874.969971  1877.939941\n",
            " 1874.969971  2410.219971  2011.599976  1963.949951  1906.589966\n",
            " 1900.099976  1891.300049  1997.589966  1874.969971  1846.890015\n",
            " 1907.699951  1907.699951  1868.77002   1877.939941  1869.800049\n",
            " 1846.890015  1891.969971  1868.77002   1901.050049  1868.77002\n",
            " 1793.        2042.76001   1792.280029  2011.599976  1784.030029\n",
            " 1773.839966  1800.800049  1800.800049  1760.329956  1773.839966\n",
            " 1784.030029  1800.800049  1739.209961  1818.51001   1955.48999\n",
            " 1769.959961  1800.800049  2011.599976  1891.300049  1900.099976\n",
            " 2399.449951  1900.099976  1906.589966  1963.949951  2042.76001\n",
            " 1963.949951  1891.300049  1906.589966  1883.160034  1891.300049\n",
            " 1997.589966  1874.969971  1874.969971  1793.        1900.099976\n",
            " 1900.099976  2426.26001   1891.300049  2410.219971  2410.219971\n",
            " 1784.030029  2410.219971  2410.219971  1792.280029  1800.800049\n",
            " 1792.280029  2426.26001   1793.        1901.050049  1874.969971\n",
            " 2042.76001   1918.829956  1963.949951  1784.030029  2410.219971\n",
            " 2410.219971  1784.030029  1792.280029  1963.949951  1963.949951\n",
            " 2011.599976  1997.589966  2042.76001   1997.589966  1900.099976\n",
            " 1793.        1997.589966  1940.099976  1940.099976  1864.719971\n",
            " 1864.719971  2050.22998   2004.199951  2050.22998   2079.280029\n",
            " 1846.089966  2050.22998   2049.669922  1846.089966  1940.099976\n",
            " 1906.859985  2004.199951  1902.829956  1846.089966  1879.0700075\n",
            " 2049.669922  1906.859985  1902.880005  1864.719971  1906.859985\n",
            " 1940.099976  2134.870117  1689.150024  2155.669922  2155.669922\n",
            " 2155.669922  2155.669922  2155.669922  2155.669922  2155.669922\n",
            " 2155.669922  2155.669922  2155.669922  2155.669922  2155.669922\n",
            " 2155.669922  2134.870117  1807.839966  1891.819946  2049.669922\n",
            " 2049.669922  1830.        1880.930054  1891.819946  1975.829956\n",
            " 2050.22998   1874.969971  1846.089966  1868.77002   2388.850098\n",
            " 2042.76001   1752.530029  1891.969971  1902.880005  1858.\n",
            " 1864.719971  2050.22998   1908.98999   1879.0700075 1830.\n",
            " 2050.22998   2153.100098  2095.969971  1880.930054  1853.25\n",
            " 2079.280029  2160.        2134.870117  2155.669922  2155.669922\n",
            " 2155.669922  2155.669922  2155.669922  2155.669922  2155.669922\n",
            " 2155.669922  2155.669922  2155.669922  2155.669922  2155.669922\n",
            " 2155.669922  2155.669922  2155.669922  2155.669922  2155.669922\n",
            " 2155.669922  2155.669922  2155.669922  2155.669922  2155.669922\n",
            " 2155.669922  2155.669922  2155.669922  2155.669922  2155.669922\n",
            " 2155.669922  2155.669922  2155.669922  2155.669922  2155.669922 ]\n"
          ],
          "name": "stdout"
        }
      ]
    },
    {
      "cell_type": "code",
      "metadata": {
        "id": "69npDY2GnJr1",
        "colab_type": "code",
        "colab": {
          "base_uri": "https://localhost:8080/",
          "height": 615
        },
        "outputId": "866bdca8-bfd3-4dcd-9435-5a4f7c27d66a"
      },
      "source": [
        "prediction = treeprediction\n",
        "valid = amzn[amzndfx.shape[0]:]\n",
        "valid['Prediction'] = prediction\n",
        "plt.figure(figsize = (16,8))\n",
        "plt.title ('Decision tree regressor Model')\n",
        "plt.xlabel('Date')\n",
        "plt.ylabel('Close Price in USD')\n",
        "plt.plot(amzn['Close'])\n",
        "plt.plot(valid[['Close','Prediction']])\n",
        "plt.legend(['Original','Validation','Prediction'])\n",
        "plt.show()"
      ],
      "execution_count": 17,
      "outputs": [
        {
          "output_type": "stream",
          "text": [
            "/usr/local/lib/python3.6/dist-packages/ipykernel_launcher.py:3: SettingWithCopyWarning: \n",
            "A value is trying to be set on a copy of a slice from a DataFrame.\n",
            "Try using .loc[row_indexer,col_indexer] = value instead\n",
            "\n",
            "See the caveats in the documentation: https://pandas.pydata.org/pandas-docs/stable/user_guide/indexing.html#returning-a-view-versus-a-copy\n",
            "  This is separate from the ipykernel package so we can avoid doing imports until\n"
          ],
          "name": "stderr"
        },
        {
          "output_type": "display_data",
          "data": {
            "image/png": "[encoded data removed]",
            "text/plain": [
              "<Figure size 1152x576 with 1 Axes>"
            ]
          },
          "metadata": {
            "tags": [],
            "needs_background": "light"
          }
        }
      ]
    }
  ]
}
