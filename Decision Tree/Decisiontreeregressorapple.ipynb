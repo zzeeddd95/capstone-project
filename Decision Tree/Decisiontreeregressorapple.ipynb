{
  "nbformat": 4,
  "nbformat_minor": 0,
  "metadata": {
    "colab": {
      "name": "Decisiontreeregressorapple.ipynb",
      "provenance": [],
      "authorship_tag": "ABX9TyMoFxNx+ZhNmOMI+IhCGBmv",
      "include_colab_link": true
    },
    "kernelspec": {
      "name": "python3",
      "display_name": "Python 3"
    }
  },
  "cells": [
    {
      "cell_type": "markdown",
      "metadata": {
        "id": "view-in-github",
        "colab_type": "text"
      },
      "source": [
        "<a href=\"https://colab.research.google.com/github/zzeeddd95/capstone-project/blob/master/Decisiontreeregressorapple.ipynb\" target=\"_parent\"><img src=\"https://colab.research.google.com/assets/colab-badge.svg\" alt=\"Open In Colab\"/></a>"
      ]
    },
    {
      "cell_type": "code",
      "metadata": {
        "id": "mWvvy_uIt1em",
        "colab_type": "code",
        "colab": {}
      },
      "source": [
        "import pandas as pd\n",
        "import numpy as np\n",
        "from sklearn.linear_model import LinearRegression\n",
        "from sklearn.svm import SVR\n",
        "from sklearn.model_selection import train_test_split\n",
        "from sklearn.tree import DecisionTreeRegressor\n",
        "import pandas_datareader as web\n",
        "import matplotlib.pyplot as plt\n",
        "plt.style.use('bmh')\n"
      ],
      "execution_count": 242,
      "outputs": []
    },
    {
      "cell_type": "code",
      "metadata": {
        "id": "uMb5PSKbfR-W",
        "colab_type": "code",
        "colab": {
          "resources": {
            "http://localhost:8080/nbextensions/google.colab/files.js": {
              "data": "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",
              "ok": true,
              "headers": [
                [
                  "content-type",
                  "application/javascript"
                ]
              ],
              "status": 200,
              "status_text": ""
            }
          },
          "base_uri": "https://localhost:8080/",
          "height": 72
        },
        "outputId": "26b270af-552d-4ab7-f697-f98a1cf541ed"
      },
      "source": [
        "from google.colab import files\n",
        "apple = files.upload()"
      ],
      "execution_count": 243,
      "outputs": [
        {
          "output_type": "display_data",
          "data": {
            "text/html": [
              "\n",
              "     <input type=\"file\" id=\"files-68384905-7e21-4d14-a695-bd62011e0ab1\" name=\"files[]\" multiple disabled\n",
              "        style=\"border:none\" />\n",
              "     <output id=\"result-68384905-7e21-4d14-a695-bd62011e0ab1\">\n",
              "      Upload widget is only available when the cell has been executed in the\n",
              "      current browser session. Please rerun this cell to enable.\n",
              "      </output>\n",
              "      <script src=\"/nbextensions/google.colab/files.js\"></script> "
            ],
            "text/plain": [
              "<IPython.core.display.HTML object>"
            ]
          },
          "metadata": {
            "tags": []
          }
        },
        {
          "output_type": "stream",
          "text": [
            "Saving AAPL.csv to AAPL (2).csv\n"
          ],
          "name": "stdout"
        }
      ]
    },
    {
      "cell_type": "code",
      "metadata": {
        "id": "nlDlYaHXfiiM",
        "colab_type": "code",
        "colab": {
          "base_uri": "https://localhost:8080/",
          "height": 235
        },
        "outputId": "ecf8ec7c-6c3f-4051-c194-b3f50608769f"
      },
      "source": [
        "apple = pd.read_csv('AAPL.csv')\n",
        "apple.head(6)"
      ],
      "execution_count": 280,
      "outputs": [
        {
          "output_type": "execute_result",
          "data": {
            "text/html": [
              "<div>\n",
              "<style scoped>\n",
              "    .dataframe tbody tr th:only-of-type {\n",
              "        vertical-align: middle;\n",
              "    }\n",
              "\n",
              "    .dataframe tbody tr th {\n",
              "        vertical-align: top;\n",
              "    }\n",
              "\n",
              "    .dataframe thead th {\n",
              "        text-align: right;\n",
              "    }\n",
              "</style>\n",
              "<table border=\"1\" class=\"dataframe\">\n",
              "  <thead>\n",
              "    <tr style=\"text-align: right;\">\n",
              "      <th></th>\n",
              "      <th>Date</th>\n",
              "      <th>Open</th>\n",
              "      <th>High</th>\n",
              "      <th>Low</th>\n",
              "      <th>Close</th>\n",
              "      <th>Adj Close</th>\n",
              "      <th>Volume</th>\n",
              "    </tr>\n",
              "  </thead>\n",
              "  <tbody>\n",
              "    <tr>\n",
              "      <th>0</th>\n",
              "      <td>2010-05-27</td>\n",
              "      <td>35.799999</td>\n",
              "      <td>36.270000</td>\n",
              "      <td>35.587143</td>\n",
              "      <td>36.192856</td>\n",
              "      <td>31.332062</td>\n",
              "      <td>166570600</td>\n",
              "    </tr>\n",
              "    <tr>\n",
              "      <th>1</th>\n",
              "      <td>2010-05-28</td>\n",
              "      <td>37.055714</td>\n",
              "      <td>37.057144</td>\n",
              "      <td>36.192856</td>\n",
              "      <td>36.697144</td>\n",
              "      <td>31.768623</td>\n",
              "      <td>203903700</td>\n",
              "    </tr>\n",
              "    <tr>\n",
              "      <th>2</th>\n",
              "      <td>2010-06-01</td>\n",
              "      <td>37.098572</td>\n",
              "      <td>37.991428</td>\n",
              "      <td>36.994286</td>\n",
              "      <td>37.261429</td>\n",
              "      <td>32.257130</td>\n",
              "      <td>219118200</td>\n",
              "    </tr>\n",
              "    <tr>\n",
              "      <th>3</th>\n",
              "      <td>2010-06-02</td>\n",
              "      <td>37.791428</td>\n",
              "      <td>37.828571</td>\n",
              "      <td>37.189999</td>\n",
              "      <td>37.707142</td>\n",
              "      <td>32.642975</td>\n",
              "      <td>172137000</td>\n",
              "    </tr>\n",
              "    <tr>\n",
              "      <th>4</th>\n",
              "      <td>2010-06-03</td>\n",
              "      <td>37.882858</td>\n",
              "      <td>37.935715</td>\n",
              "      <td>37.201427</td>\n",
              "      <td>37.588570</td>\n",
              "      <td>32.540325</td>\n",
              "      <td>162526700</td>\n",
              "    </tr>\n",
              "    <tr>\n",
              "      <th>5</th>\n",
              "      <td>2010-06-04</td>\n",
              "      <td>36.887142</td>\n",
              "      <td>37.414288</td>\n",
              "      <td>36.375713</td>\n",
              "      <td>36.565716</td>\n",
              "      <td>31.654835</td>\n",
              "      <td>189576100</td>\n",
              "    </tr>\n",
              "  </tbody>\n",
              "</table>\n",
              "</div>"
            ],
            "text/plain": [
              "         Date       Open       High        Low      Close  Adj Close     Volume\n",
              "0  2010-05-27  35.799999  36.270000  35.587143  36.192856  31.332062  166570600\n",
              "1  2010-05-28  37.055714  37.057144  36.192856  36.697144  31.768623  203903700\n",
              "2  2010-06-01  37.098572  37.991428  36.994286  37.261429  32.257130  219118200\n",
              "3  2010-06-02  37.791428  37.828571  37.189999  37.707142  32.642975  172137000\n",
              "4  2010-06-03  37.882858  37.935715  37.201427  37.588570  32.540325  162526700\n",
              "5  2010-06-04  36.887142  37.414288  36.375713  36.565716  31.654835  189576100"
            ]
          },
          "metadata": {
            "tags": []
          },
          "execution_count": 280
        }
      ]
    },
    {
      "cell_type": "code",
      "metadata": {
        "id": "TWWZAuQTiFlv",
        "colab_type": "code",
        "colab": {
          "base_uri": "https://localhost:8080/",
          "height": 34
        },
        "outputId": "6c115473-e267-4f73-dca4-63ea778456ff"
      },
      "source": [
        "apple.shape"
      ],
      "execution_count": 281,
      "outputs": [
        {
          "output_type": "execute_result",
          "data": {
            "text/plain": [
              "(2516, 7)"
            ]
          },
          "metadata": {
            "tags": []
          },
          "execution_count": 281
        }
      ]
    },
    {
      "cell_type": "code",
      "metadata": {
        "id": "zWULIKynvcAU",
        "colab_type": "code",
        "colab": {
          "base_uri": "https://localhost:8080/",
          "height": 419
        },
        "outputId": "13f1125a-8a50-41d4-b264-7eeb26f0150a"
      },
      "source": [
        "#Filter out data to only obtain close price (independant variable)\n",
        "apple = apple[['Close']]\n",
        "apple"
      ],
      "execution_count": 282,
      "outputs": [
        {
          "output_type": "execute_result",
          "data": {
            "text/html": [
              "<div>\n",
              "<style scoped>\n",
              "    .dataframe tbody tr th:only-of-type {\n",
              "        vertical-align: middle;\n",
              "    }\n",
              "\n",
              "    .dataframe tbody tr th {\n",
              "        vertical-align: top;\n",
              "    }\n",
              "\n",
              "    .dataframe thead th {\n",
              "        text-align: right;\n",
              "    }\n",
              "</style>\n",
              "<table border=\"1\" class=\"dataframe\">\n",
              "  <thead>\n",
              "    <tr style=\"text-align: right;\">\n",
              "      <th></th>\n",
              "      <th>Close</th>\n",
              "    </tr>\n",
              "  </thead>\n",
              "  <tbody>\n",
              "    <tr>\n",
              "      <th>0</th>\n",
              "      <td>36.192856</td>\n",
              "    </tr>\n",
              "    <tr>\n",
              "      <th>1</th>\n",
              "      <td>36.697144</td>\n",
              "    </tr>\n",
              "    <tr>\n",
              "      <th>2</th>\n",
              "      <td>37.261429</td>\n",
              "    </tr>\n",
              "    <tr>\n",
              "      <th>3</th>\n",
              "      <td>37.707142</td>\n",
              "    </tr>\n",
              "    <tr>\n",
              "      <th>4</th>\n",
              "      <td>37.588570</td>\n",
              "    </tr>\n",
              "    <tr>\n",
              "      <th>...</th>\n",
              "      <td>...</td>\n",
              "    </tr>\n",
              "    <tr>\n",
              "      <th>2511</th>\n",
              "      <td>313.140015</td>\n",
              "    </tr>\n",
              "    <tr>\n",
              "      <th>2512</th>\n",
              "      <td>319.230011</td>\n",
              "    </tr>\n",
              "    <tr>\n",
              "      <th>2513</th>\n",
              "      <td>316.850006</td>\n",
              "    </tr>\n",
              "    <tr>\n",
              "      <th>2514</th>\n",
              "      <td>318.890015</td>\n",
              "    </tr>\n",
              "    <tr>\n",
              "      <th>2515</th>\n",
              "      <td>316.730011</td>\n",
              "    </tr>\n",
              "  </tbody>\n",
              "</table>\n",
              "<p>2516 rows × 1 columns</p>\n",
              "</div>"
            ],
            "text/plain": [
              "           Close\n",
              "0      36.192856\n",
              "1      36.697144\n",
              "2      37.261429\n",
              "3      37.707142\n",
              "4      37.588570\n",
              "...          ...\n",
              "2511  313.140015\n",
              "2512  319.230011\n",
              "2513  316.850006\n",
              "2514  318.890015\n",
              "2515  316.730011\n",
              "\n",
              "[2516 rows x 1 columns]"
            ]
          },
          "metadata": {
            "tags": []
          },
          "execution_count": 282
        }
      ]
    },
    {
      "cell_type": "code",
      "metadata": {
        "id": "cGyJ0Zyevrvs",
        "colab_type": "code",
        "colab": {}
      },
      "source": [
        "#Create a variable to allow for predicting 'n days' into the future\n",
        "future_out =365"
      ],
      "execution_count": 284,
      "outputs": []
    },
    {
      "cell_type": "code",
      "metadata": {
        "id": "bc-gVy_YwNXk",
        "colab_type": "code",
        "colab": {
          "base_uri": "https://localhost:8080/",
          "height": 204
        },
        "outputId": "f74fbae6-0728-418f-959c-766fbfa36313"
      },
      "source": [
        "#Create the dependant variable which will be shifted 'n' units up\n",
        "apple['Prediction'] = apple[['Close']].shift(-future_out)\n",
        "apple.tail()"
      ],
      "execution_count": 285,
      "outputs": [
        {
          "output_type": "execute_result",
          "data": {
            "text/html": [
              "<div>\n",
              "<style scoped>\n",
              "    .dataframe tbody tr th:only-of-type {\n",
              "        vertical-align: middle;\n",
              "    }\n",
              "\n",
              "    .dataframe tbody tr th {\n",
              "        vertical-align: top;\n",
              "    }\n",
              "\n",
              "    .dataframe thead th {\n",
              "        text-align: right;\n",
              "    }\n",
              "</style>\n",
              "<table border=\"1\" class=\"dataframe\">\n",
              "  <thead>\n",
              "    <tr style=\"text-align: right;\">\n",
              "      <th></th>\n",
              "      <th>Close</th>\n",
              "      <th>Prediction</th>\n",
              "    </tr>\n",
              "  </thead>\n",
              "  <tbody>\n",
              "    <tr>\n",
              "      <th>2511</th>\n",
              "      <td>313.140015</td>\n",
              "      <td>NaN</td>\n",
              "    </tr>\n",
              "    <tr>\n",
              "      <th>2512</th>\n",
              "      <td>319.230011</td>\n",
              "      <td>NaN</td>\n",
              "    </tr>\n",
              "    <tr>\n",
              "      <th>2513</th>\n",
              "      <td>316.850006</td>\n",
              "      <td>NaN</td>\n",
              "    </tr>\n",
              "    <tr>\n",
              "      <th>2514</th>\n",
              "      <td>318.890015</td>\n",
              "      <td>NaN</td>\n",
              "    </tr>\n",
              "    <tr>\n",
              "      <th>2515</th>\n",
              "      <td>316.730011</td>\n",
              "      <td>NaN</td>\n",
              "    </tr>\n",
              "  </tbody>\n",
              "</table>\n",
              "</div>"
            ],
            "text/plain": [
              "           Close  Prediction\n",
              "2511  313.140015         NaN\n",
              "2512  319.230011         NaN\n",
              "2513  316.850006         NaN\n",
              "2514  318.890015         NaN\n",
              "2515  316.730011         NaN"
            ]
          },
          "metadata": {
            "tags": []
          },
          "execution_count": 285
        }
      ]
    },
    {
      "cell_type": "code",
      "metadata": {
        "id": "1ez0kfQ1xdgK",
        "colab_type": "code",
        "colab": {
          "base_uri": "https://localhost:8080/",
          "height": 136
        },
        "outputId": "b26a8afe-4424-4f16-ca48-9d27048629c3"
      },
      "source": [
        "#create independant data set by converting the dataframe to a numpy array\n",
        "appledfx = np.array(apple.drop(['Prediction'],1))\n",
        "#Renove the last 'n' rows\n",
        "appledfx = appledfx[:-future_out] #therefore for every column, all of the rows will be displayed - future out\n",
        "appledfx"
      ],
      "execution_count": 286,
      "outputs": [
        {
          "output_type": "execute_result",
          "data": {
            "text/plain": [
              "array([[ 36.192856],\n",
              "       [ 36.697144],\n",
              "       [ 37.261429],\n",
              "       ...,\n",
              "       [168.490005],\n",
              "       [169.600006],\n",
              "       [168.630005]])"
            ]
          },
          "metadata": {
            "tags": []
          },
          "execution_count": 286
        }
      ]
    },
    {
      "cell_type": "code",
      "metadata": {
        "id": "TDrtpLJhB1hr",
        "colab_type": "code",
        "colab": {
          "base_uri": "https://localhost:8080/",
          "height": 34
        },
        "outputId": "94f4faef-43d5-4a33-acd8-c5fcac0ff86f"
      },
      "source": [
        "#creat dependant dataset (prediction), all values including any Nan's\n",
        "appledfy = np.array(apple['Prediction'])\n",
        "#Filter this data by obtaining all values except the last 'n' rows\n",
        "appledfy = appledfy[:-future_out]\n",
        "print(appledfy)"
      ],
      "execution_count": 287,
      "outputs": [
        {
          "output_type": "stream",
          "text": [
            "[ 57.177143  57.104286  58.032856 ... 316.850006 318.890015 316.730011]\n"
          ],
          "name": "stdout"
        }
      ]
    },
    {
      "cell_type": "code",
      "metadata": {
        "id": "2T0ecWdKC3I5",
        "colab_type": "code",
        "colab": {}
      },
      "source": [
        "#split data into 90% training and 10%testing\n",
        "appledfx_train , appledfx_test, appledfy_train, appledfy_test = train_test_split(appledfx, appledfy, test_size = 0.10)"
      ],
      "execution_count": 303,
      "outputs": []
    },
    {
      "cell_type": "code",
      "metadata": {
        "id": "uIwF8U8fcmgA",
        "colab_type": "code",
        "colab": {}
      },
      "source": [
        "#Create and train the decision tree regressor model\n",
        "tree = DecisionTreeRegressor().fit(appledfx_train,appledfy_train)"
      ],
      "execution_count": 304,
      "outputs": []
    },
    {
      "cell_type": "code",
      "metadata": {
        "id": "QKBZftipdkA-",
        "colab_type": "code",
        "colab": {
          "base_uri": "https://localhost:8080/",
          "height": 34
        },
        "outputId": "736480eb-bc0e-45e2-e7da-ca36eea673bb"
      },
      "source": [
        "#test model accuracy via score which returns the coefficient of determination (R^2) of prediction\n",
        "treeconfidence = tree.score(appledfx_test, appledfy_test)\n",
        "print(\"Decision tree regressor confidence\", treeconfidence)"
      ],
      "execution_count": 305,
      "outputs": [
        {
          "output_type": "stream",
          "text": [
            "Decision tree regressor confidence 0.7259276515756122\n"
          ],
          "name": "stdout"
        }
      ]
    },
    {
      "cell_type": "code",
      "metadata": {
        "id": "Inwr1PMwFyEp",
        "colab_type": "code",
        "colab": {
          "base_uri": "https://localhost:8080/",
          "height": 1000
        },
        "outputId": "39c03a68-d69f-44b7-b826-3faa400e9f56"
      },
      "source": [
        "#set apple_forecast = to the last 365 rows of original dataset from close price column\n",
        "apple_forecast = np.array(apple.drop(['Prediction'],1))[-future_out:]\n",
        "print(apple_forecast)\n"
      ],
      "execution_count": 306,
      "outputs": [
        {
          "output_type": "stream",
          "text": [
            "[[169.100006]\n",
            " [170.949997]\n",
            " [165.479996]\n",
            " [163.940002]\n",
            " [166.070007]\n",
            " [160.889999]\n",
            " [156.830002]\n",
            " [150.729996]\n",
            " [146.830002]\n",
            " [157.169998]\n",
            " [156.149994]\n",
            " [156.229996]\n",
            " [157.740005]\n",
            " [157.919998]\n",
            " [142.190002]\n",
            " [148.259995]\n",
            " [147.929993]\n",
            " [150.75    ]\n",
            " [153.309998]\n",
            " [153.800003]\n",
            " [152.289993]\n",
            " [150.      ]\n",
            " [153.070007]\n",
            " [154.940002]\n",
            " [155.860001]\n",
            " [156.820007]\n",
            " [153.300003]\n",
            " [153.919998]\n",
            " [152.699997]\n",
            " [157.759995]\n",
            " [156.300003]\n",
            " [154.679993]\n",
            " [165.25    ]\n",
            " [166.440002]\n",
            " [166.520004]\n",
            " [171.25    ]\n",
            " [174.179993]\n",
            " [174.240005]\n",
            " [170.940002]\n",
            " [170.410004]\n",
            " [169.429993]\n",
            " [170.889999]\n",
            " [170.179993]\n",
            " [170.800003]\n",
            " [170.419998]\n",
            " [170.929993]\n",
            " [172.029999]\n",
            " [171.059998]\n",
            " [172.970001]\n",
            " [174.229996]\n",
            " [174.330002]\n",
            " [174.869995]\n",
            " [173.149994]\n",
            " [174.970001]\n",
            " [175.850006]\n",
            " [175.529999]\n",
            " [174.520004]\n",
            " [172.5     ]\n",
            " [172.910004]\n",
            " [178.899994]\n",
            " [180.910004]\n",
            " [181.710007]\n",
            " [183.729996]\n",
            " [186.119995]\n",
            " [188.020004]\n",
            " [186.529999]\n",
            " [188.160004]\n",
            " [195.089996]\n",
            " [191.050003]\n",
            " [188.740005]\n",
            " [186.789993]\n",
            " [188.470001]\n",
            " [188.720001]\n",
            " [189.949997]\n",
            " [191.240005]\n",
            " [194.020004]\n",
            " [195.350006]\n",
            " [195.690002]\n",
            " [197.      ]\n",
            " [200.100006]\n",
            " [199.5     ]\n",
            " [200.619995]\n",
            " [198.949997]\n",
            " [198.869995]\n",
            " [199.229996]\n",
            " [199.25    ]\n",
            " [203.130005]\n",
            " [203.860001]\n",
            " [204.529999]\n",
            " [207.479996]\n",
            " [207.160004]\n",
            " [205.279999]\n",
            " [204.300003]\n",
            " [204.610001]\n",
            " [200.669998]\n",
            " [210.520004]\n",
            " [209.149994]\n",
            " [211.75    ]\n",
            " [208.479996]\n",
            " [202.860001]\n",
            " [202.899994]\n",
            " [200.720001]\n",
            " [197.179993]\n",
            " [185.720001]\n",
            " [188.660004]\n",
            " [190.919998]\n",
            " [190.080002]\n",
            " [189.      ]\n",
            " [183.089996]\n",
            " [186.600006]\n",
            " [182.779999]\n",
            " [179.660004]\n",
            " [178.970001]\n",
            " [178.229996]\n",
            " [177.380005]\n",
            " [178.300003]\n",
            " [175.070007]\n",
            " [173.300003]\n",
            " [179.639999]\n",
            " [182.539993]\n",
            " [185.220001]\n",
            " [190.149994]\n",
            " [192.580002]\n",
            " [194.809998]\n",
            " [194.190002]\n",
            " [194.149994]\n",
            " [192.740005]\n",
            " [193.889999]\n",
            " [198.449997]\n",
            " [197.869995]\n",
            " [199.460007]\n",
            " [198.779999]\n",
            " [198.580002]\n",
            " [195.570007]\n",
            " [199.800003]\n",
            " [199.740005]\n",
            " [197.919998]\n",
            " [201.550003]\n",
            " [202.729996]\n",
            " [204.410004]\n",
            " [204.229996]\n",
            " [200.020004]\n",
            " [201.240005]\n",
            " [203.229996]\n",
            " [201.75    ]\n",
            " [203.300003]\n",
            " [205.210007]\n",
            " [204.5     ]\n",
            " [203.350006]\n",
            " [205.660004]\n",
            " [202.589996]\n",
            " [207.220001]\n",
            " [208.839996]\n",
            " [208.669998]\n",
            " [207.020004]\n",
            " [207.740005]\n",
            " [209.679993]\n",
            " [208.779999]\n",
            " [213.039993]\n",
            " [208.429993]\n",
            " [204.020004]\n",
            " [193.339996]\n",
            " [197.      ]\n",
            " [199.039993]\n",
            " [203.429993]\n",
            " [200.990005]\n",
            " [200.479996]\n",
            " [208.970001]\n",
            " [202.75    ]\n",
            " [201.740005]\n",
            " [206.5     ]\n",
            " [210.350006]\n",
            " [210.360001]\n",
            " [212.639999]\n",
            " [212.460007]\n",
            " [202.639999]\n",
            " [206.490005]\n",
            " [204.160004]\n",
            " [205.529999]\n",
            " [209.009995]\n",
            " [208.740005]\n",
            " [205.699997]\n",
            " [209.190002]\n",
            " [213.279999]\n",
            " [213.259995]\n",
            " [214.169998]\n",
            " [216.699997]\n",
            " [223.589996]\n",
            " [223.089996]\n",
            " [218.75    ]\n",
            " [219.899994]\n",
            " [220.699997]\n",
            " [222.770004]\n",
            " [220.960007]\n",
            " [217.729996]\n",
            " [218.720001]\n",
            " [217.679993]\n",
            " [221.029999]\n",
            " [219.889999]\n",
            " [218.820007]\n",
            " [223.970001]\n",
            " [224.589996]\n",
            " [218.960007]\n",
            " [220.820007]\n",
            " [227.009995]\n",
            " [227.059998]\n",
            " [224.399994]\n",
            " [227.029999]\n",
            " [230.089996]\n",
            " [236.210007]\n",
            " [235.869995]\n",
            " [235.320007]\n",
            " [234.369995]\n",
            " [235.279999]\n",
            " [236.410004]\n",
            " [240.509995]\n",
            " [239.960007]\n",
            " [243.179993]\n",
            " [243.580002]\n",
            " [246.580002]\n",
            " [249.050003]\n",
            " [243.289993]\n",
            " [243.259995]\n",
            " [248.759995]\n",
            " [255.820007]\n",
            " [257.5     ]\n",
            " [257.130005]\n",
            " [257.23999 ]\n",
            " [259.429993]\n",
            " [260.140015]\n",
            " [262.200012]\n",
            " [261.959991]\n",
            " [264.470001]\n",
            " [262.640015]\n",
            " [265.76001 ]\n",
            " [267.100006]\n",
            " [266.290009]\n",
            " [263.190002]\n",
            " [262.01001 ]\n",
            " [261.779999]\n",
            " [266.369995]\n",
            " [264.290009]\n",
            " [267.839996]\n",
            " [267.25    ]\n",
            " [264.160004]\n",
            " [259.450012]\n",
            " [261.73999 ]\n",
            " [265.579987]\n",
            " [270.709991]\n",
            " [266.920013]\n",
            " [268.480011]\n",
            " [270.769989]\n",
            " [271.459991]\n",
            " [275.149994]\n",
            " [279.859985]\n",
            " [280.410004]\n",
            " [279.73999 ]\n",
            " [280.019989]\n",
            " [279.440002]\n",
            " [284.      ]\n",
            " [284.269989]\n",
            " [289.910004]\n",
            " [289.799988]\n",
            " [291.519989]\n",
            " [293.649994]\n",
            " [300.350006]\n",
            " [297.429993]\n",
            " [299.799988]\n",
            " [298.390015]\n",
            " [303.190002]\n",
            " [309.630005]\n",
            " [310.329987]\n",
            " [316.959991]\n",
            " [312.679993]\n",
            " [311.339996]\n",
            " [315.23999 ]\n",
            " [318.730011]\n",
            " [316.570007]\n",
            " [317.700012]\n",
            " [319.230011]\n",
            " [318.309998]\n",
            " [308.950012]\n",
            " [317.690002]\n",
            " [324.339996]\n",
            " [323.869995]\n",
            " [309.51001 ]\n",
            " [308.660004]\n",
            " [318.850006]\n",
            " [321.450012]\n",
            " [325.209991]\n",
            " [320.029999]\n",
            " [321.549988]\n",
            " [319.609985]\n",
            " [327.200012]\n",
            " [324.869995]\n",
            " [324.950012]\n",
            " [319.      ]\n",
            " [323.619995]\n",
            " [320.299988]\n",
            " [313.049988]\n",
            " [298.179993]\n",
            " [288.079987]\n",
            " [292.649994]\n",
            " [273.519989]\n",
            " [273.359985]\n",
            " [298.809998]\n",
            " [289.320007]\n",
            " [302.73999 ]\n",
            " [292.920013]\n",
            " [289.029999]\n",
            " [266.170013]\n",
            " [285.339996]\n",
            " [275.429993]\n",
            " [248.229996]\n",
            " [277.970001]\n",
            " [242.210007]\n",
            " [252.860001]\n",
            " [246.669998]\n",
            " [244.779999]\n",
            " [229.240005]\n",
            " [224.369995]\n",
            " [246.880005]\n",
            " [245.520004]\n",
            " [258.440002]\n",
            " [247.740005]\n",
            " [254.809998]\n",
            " [254.289993]\n",
            " [240.910004]\n",
            " [244.929993]\n",
            " [241.410004]\n",
            " [262.470001]\n",
            " [259.429993]\n",
            " [266.070007]\n",
            " [267.98999 ]\n",
            " [273.25    ]\n",
            " [287.049988]\n",
            " [284.429993]\n",
            " [286.690002]\n",
            " [282.799988]\n",
            " [276.929993]\n",
            " [268.369995]\n",
            " [276.100006]\n",
            " [275.029999]\n",
            " [282.970001]\n",
            " [283.170013]\n",
            " [278.579987]\n",
            " [287.730011]\n",
            " [293.799988]\n",
            " [289.070007]\n",
            " [293.160004]\n",
            " [297.559998]\n",
            " [300.630005]\n",
            " [303.73999 ]\n",
            " [310.130005]\n",
            " [315.01001 ]\n",
            " [311.410004]\n",
            " [307.649994]\n",
            " [309.540009]\n",
            " [307.709991]\n",
            " [314.959991]\n",
            " [313.140015]\n",
            " [319.230011]\n",
            " [316.850006]\n",
            " [318.890015]\n",
            " [316.730011]]\n"
          ],
          "name": "stdout"
        }
      ]
    },
    {
      "cell_type": "code",
      "metadata": {
        "id": "Vs0_jkQddNIc",
        "colab_type": "code",
        "colab": {
          "base_uri": "https://localhost:8080/",
          "height": 1000
        },
        "outputId": "b96ab33e-7937-479a-e5f3-4860da5e91f0"
      },
      "source": [
        "#Print decision tree predicted values for upcoming 'n' days\n",
        "treeprediction = tree.predict(apple_forecast)\n",
        "print(treeprediction)"
      ],
      "execution_count": 307,
      "outputs": [
        {
          "output_type": "stream",
          "text": [
            "[209.149994  189.        230.089996  170.800003  218.960007  174.330002\n",
            " 189.949997  153.309998  222.110001  153.070007  200.100006  197.\n",
            " 166.440002  166.440002  201.760002  146.830002  146.830002  153.309998\n",
            " 183.729996  222.220001  148.259995  150.        213.300003  193.529999\n",
            " 188.740005  189.949997  183.729996  192.229996  147.929993  166.440002\n",
            " 197.        186.529999  220.820007  216.699997  216.699997  205.699997\n",
            " 217.679993  311.410004  189.        208.479996  190.919998  189.\n",
            " 208.479996  189.        208.479996  189.        204.020004  189.\n",
            " 213.039993  201.240005  198.580002  207.160004  202.899994  197.179993\n",
            " 219.889999  199.039993  182.539993  200.7649995 213.039993  203.429993\n",
            " 307.649994  212.460007  234.369995  236.410004  280.410004  264.160004\n",
            " 250.3550035 298.390015  309.630005  267.839996  293.799988  257.5\n",
            " 267.839996  310.329987  284.269989  278.579987  298.390015  298.390015\n",
            " 298.390015  312.679993  312.679993  312.679993  312.679993  312.679993\n",
            " 312.679993  312.679993  283.170013  283.170013  283.170013  276.929993\n",
            " 316.570007  283.170013  283.170013  283.170013  312.679993  324.339996\n",
            " 318.730011  287.049988  282.970001  268.369995  268.369995  312.679993\n",
            " 298.390015  297.559998  243.179993  289.910004  239.960007  264.290009\n",
            " 234.369995  264.160004  265.579987  202.639999  203.429993  218.820007\n",
            " 200.020004  218.820007  210.350006  217.729996  202.639999  265.579987\n",
            " 235.279999  261.959991  262.01001   298.390015  278.579987  278.579987\n",
            " 299.799988  278.579987  312.679993  298.390015  312.679993  312.679993\n",
            " 312.679993  298.390015  312.679993  312.679993  298.390015  268.369995\n",
            " 268.369995  283.170013  283.170013  312.679993  312.679993  283.170013\n",
            " 268.369995  283.170013  283.170013  283.170013  283.170013  283.170013\n",
            " 268.369995  317.700012  308.950012  282.970001  316.570007  318.309998\n",
            " 317.690002  308.950012  284.429993  282.970001  283.170013  262.640015\n",
            " 298.390015  312.679993  283.170013  312.679993  312.679993  319.230011\n",
            " 268.369995  268.369995  316.570007  324.339996  324.339996  287.049988\n",
            " 287.049988  268.369995  316.570007  283.170013  283.170013  318.730011\n",
            " 308.950012  283.170013  318.730011  284.429993  284.429993  258.440002\n",
            " 245.520004  224.369995  320.299988  286.690002  267.98999   262.470001\n",
            " 259.429993  266.170013  289.029999  286.690002  289.029999  240.910004\n",
            " 267.98999   286.690002  288.079987  229.240005  286.690002  266.170013\n",
            " 285.25      285.25      229.240005  285.25      252.860001  246.669998\n",
            " 246.669998  246.669998  246.669998  246.669998  246.669998  246.669998\n",
            " 246.669998  246.669998  246.669998  246.669998  246.669998  246.669998\n",
            " 246.669998  246.669998  246.669998  246.669998  246.669998  246.669998\n",
            " 246.669998  246.669998  246.669998  246.669998  246.669998  246.669998\n",
            " 246.669998  246.669998  246.669998  246.669998  246.669998  246.669998\n",
            " 246.669998  246.669998  246.669998  246.669998  246.669998  246.669998\n",
            " 246.669998  246.669998  246.669998  246.669998  246.669998  246.669998\n",
            " 246.669998  246.669998  246.669998  246.669998  246.669998  246.669998\n",
            " 246.669998  246.669998  246.669998  246.669998  246.669998  246.669998\n",
            " 246.669998  246.669998  246.669998  246.669998  246.669998  246.669998\n",
            " 246.669998  246.669998  246.669998  246.669998  246.669998  246.669998\n",
            " 246.669998  246.669998  246.669998  246.669998  246.669998  246.669998\n",
            " 246.669998  246.669998  246.669998  246.669998  246.669998  246.669998\n",
            " 246.669998  246.669998  246.669998  246.669998  246.669998  246.669998\n",
            " 246.669998  246.669998  246.669998  246.669998  246.669998  246.669998\n",
            " 246.669998  246.669998  246.669998  246.669998  246.669998  246.669998\n",
            " 246.669998  246.669998  246.669998  246.669998  246.669998  246.669998\n",
            " 246.669998  246.669998  246.669998  246.669998  246.669998  246.669998\n",
            " 246.669998  252.860001  229.240005  246.669998  246.669998  246.669998\n",
            " 246.669998  246.669998  246.669998  246.669998  246.669998  246.669998\n",
            " 246.669998  246.669998  246.669998  246.669998  246.669998  246.669998\n",
            " 246.669998  246.669998  246.669998  246.669998  246.669998  246.669998\n",
            " 246.669998  246.669998  246.669998  246.669998  246.669998  246.669998\n",
            " 246.669998  246.669998  246.669998  246.669998  246.669998  246.669998\n",
            " 246.669998  246.669998  246.669998  246.669998  246.669998  246.669998\n",
            " 246.669998  246.669998  246.669998  246.669998  246.669998 ]\n"
          ],
          "name": "stdout"
        }
      ]
    },
    {
      "cell_type": "code",
      "metadata": {
        "id": "69npDY2GnJr1",
        "colab_type": "code",
        "colab": {
          "base_uri": "https://localhost:8080/",
          "height": 615
        },
        "outputId": "e12fa20c-966c-4ca5-8d1b-1aff430def56"
      },
      "source": [
        "prediction = treeprediction\n",
        "valid = apple[appledfx.shape[0]:]\n",
        "valid['Prediction'] = prediction\n",
        "plt.figure(figsize = (16,8))\n",
        "plt.title ('Decision tree regressor Model')\n",
        "plt.xlabel('Date')\n",
        "plt.ylabel('Close Price in USD')\n",
        "plt.plot(apple['Close'])\n",
        "plt.plot(valid[['Close','Prediction']])\n",
        "plt.legend(['Original','Validation','Prediction'])\n",
        "plt.show()"
      ],
      "execution_count": 308,
      "outputs": [
        {
          "output_type": "stream",
          "text": [
            "/usr/local/lib/python3.6/dist-packages/ipykernel_launcher.py:3: SettingWithCopyWarning: \n",
            "A value is trying to be set on a copy of a slice from a DataFrame.\n",
            "Try using .loc[row_indexer,col_indexer] = value instead\n",
            "\n",
            "See the caveats in the documentation: https://pandas.pydata.org/pandas-docs/stable/user_guide/indexing.html#returning-a-view-versus-a-copy\n",
            "  This is separate from the ipykernel package so we can avoid doing imports until\n"
          ],
          "name": "stderr"
        },
        {
          "output_type": "display_data",
          "data": {
            "image/png": "[encoded data removed]",
            "text/plain": [
              "<Figure size 1152x576 with 1 Axes>"
            ]
          },
          "metadata": {
            "tags": [],
            "needs_background": "light"
          }
        }
      ]
    }
  ]
}
