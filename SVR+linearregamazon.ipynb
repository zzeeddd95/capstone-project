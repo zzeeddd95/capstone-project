{
  "nbformat": 4,
  "nbformat_minor": 0,
  "metadata": {
    "colab": {
      "name": "SVR+linearregamazon.ipynb",
      "provenance": [],
      "authorship_tag": "ABX9TyPF5rGlBoVawiauehRyviPB",
      "include_colab_link": true
    },
    "kernelspec": {
      "name": "python3",
      "display_name": "Python 3"
    }
  },
  "cells": [
    {
      "cell_type": "markdown",
      "metadata": {
        "id": "view-in-github",
        "colab_type": "text"
      },
      "source": [
        "<a href=\"https://colab.research.google.com/github/zzeeddd95/capstone-project/blob/master/SVR%2Blinearregamazon.ipynb\" target=\"_parent\"><img src=\"https://colab.research.google.com/assets/colab-badge.svg\" alt=\"Open In Colab\"/></a>"
      ]
    },
    {
      "cell_type": "code",
      "metadata": {
        "id": "mWvvy_uIt1em",
        "colab_type": "code",
        "colab": {
          "base_uri": "https://localhost:8080/",
          "height": 51
        },
        "outputId": "e78f91af-213d-42ce-f4db-81828f2460db"
      },
      "source": [
        "import numpy as np\n",
        "from sklearn.linear_model import LinearRegression\n",
        "from sklearn.svm import SVR\n",
        "from sklearn.model_selection import train_test_split\n",
        "import pandas_datareader as web\n"
      ],
      "execution_count": 1,
      "outputs": [
        {
          "output_type": "stream",
          "text": [
            "/usr/local/lib/python3.6/dist-packages/pandas_datareader/compat/__init__.py:7: FutureWarning: pandas.util.testing is deprecated. Use the functions in the public API at pandas.testing instead.\n",
            "  from pandas.util.testing import assert_frame_equal\n"
          ],
          "name": "stderr"
        }
      ]
    },
    {
      "cell_type": "code",
      "metadata": {
        "id": "3ueTbfPluby4",
        "colab_type": "code",
        "colab": {
          "base_uri": "https://localhost:8080/",
          "height": 136
        },
        "outputId": "fbfcce81-40e5-4f7b-ffa1-f9806c1247b0"
      },
      "source": [
        "#Retrieve stock data\n",
        "amzn = web.DataReader('AMZN', data_source='yahoo', start='2010-05-27', end='2020-07-06')\n",
        "print(amzn.head())"
      ],
      "execution_count": 2,
      "outputs": [
        {
          "output_type": "stream",
          "text": [
            "                  High         Low        Open       Close   Volume   Adj Close\n",
            "Date                                                                           \n",
            "2010-05-27  126.849998  120.599998  124.980003  126.699997  4747700  126.699997\n",
            "2010-05-28  127.599998  124.010002  126.070000  125.459999  3954800  125.459999\n",
            "2010-06-01  126.570000  123.019997  124.970001  123.239998  3659500  123.239998\n",
            "2010-06-02  126.430000  121.650002  124.019997  126.309998  4764700  126.309998\n",
            "2010-06-03  129.149994  124.849998  126.250000  128.759995  5276900  128.759995\n"
          ],
          "name": "stdout"
        }
      ]
    },
    {
      "cell_type": "code",
      "metadata": {
        "id": "zWULIKynvcAU",
        "colab_type": "code",
        "colab": {
          "base_uri": "https://localhost:8080/",
          "height": 450
        },
        "outputId": "05b39fe2-a25a-4e66-d7e4-b6bc06b87e30"
      },
      "source": [
        "#Filter out data to only obtain close price (independant variable)\n",
        "amzn = amzn[['Close']]\n",
        "amzn"
      ],
      "execution_count": 3,
      "outputs": [
        {
          "output_type": "execute_result",
          "data": {
            "text/html": [
              "<div>\n",
              "<style scoped>\n",
              "    .dataframe tbody tr th:only-of-type {\n",
              "        vertical-align: middle;\n",
              "    }\n",
              "\n",
              "    .dataframe tbody tr th {\n",
              "        vertical-align: top;\n",
              "    }\n",
              "\n",
              "    .dataframe thead th {\n",
              "        text-align: right;\n",
              "    }\n",
              "</style>\n",
              "<table border=\"1\" class=\"dataframe\">\n",
              "  <thead>\n",
              "    <tr style=\"text-align: right;\">\n",
              "      <th></th>\n",
              "      <th>Close</th>\n",
              "    </tr>\n",
              "    <tr>\n",
              "      <th>Date</th>\n",
              "      <th></th>\n",
              "    </tr>\n",
              "  </thead>\n",
              "  <tbody>\n",
              "    <tr>\n",
              "      <th>2010-05-27</th>\n",
              "      <td>126.699997</td>\n",
              "    </tr>\n",
              "    <tr>\n",
              "      <th>2010-05-28</th>\n",
              "      <td>125.459999</td>\n",
              "    </tr>\n",
              "    <tr>\n",
              "      <th>2010-06-01</th>\n",
              "      <td>123.239998</td>\n",
              "    </tr>\n",
              "    <tr>\n",
              "      <th>2010-06-02</th>\n",
              "      <td>126.309998</td>\n",
              "    </tr>\n",
              "    <tr>\n",
              "      <th>2010-06-03</th>\n",
              "      <td>128.759995</td>\n",
              "    </tr>\n",
              "    <tr>\n",
              "      <th>...</th>\n",
              "      <td>...</td>\n",
              "    </tr>\n",
              "    <tr>\n",
              "      <th>2020-06-29</th>\n",
              "      <td>2680.379883</td>\n",
              "    </tr>\n",
              "    <tr>\n",
              "      <th>2020-06-30</th>\n",
              "      <td>2758.820068</td>\n",
              "    </tr>\n",
              "    <tr>\n",
              "      <th>2020-07-01</th>\n",
              "      <td>2878.699951</td>\n",
              "    </tr>\n",
              "    <tr>\n",
              "      <th>2020-07-02</th>\n",
              "      <td>2890.300049</td>\n",
              "    </tr>\n",
              "    <tr>\n",
              "      <th>2020-07-06</th>\n",
              "      <td>3057.040039</td>\n",
              "    </tr>\n",
              "  </tbody>\n",
              "</table>\n",
              "<p>2544 rows × 1 columns</p>\n",
              "</div>"
            ],
            "text/plain": [
              "                  Close\n",
              "Date                   \n",
              "2010-05-27   126.699997\n",
              "2010-05-28   125.459999\n",
              "2010-06-01   123.239998\n",
              "2010-06-02   126.309998\n",
              "2010-06-03   128.759995\n",
              "...                 ...\n",
              "2020-06-29  2680.379883\n",
              "2020-06-30  2758.820068\n",
              "2020-07-01  2878.699951\n",
              "2020-07-02  2890.300049\n",
              "2020-07-06  3057.040039\n",
              "\n",
              "[2544 rows x 1 columns]"
            ]
          },
          "metadata": {
            "tags": []
          },
          "execution_count": 3
        }
      ]
    },
    {
      "cell_type": "code",
      "metadata": {
        "id": "cGyJ0Zyevrvs",
        "colab_type": "code",
        "colab": {}
      },
      "source": [
        "#Create a variable to allow for predicting 'n days' into the future\n",
        "future_out =30"
      ],
      "execution_count": 4,
      "outputs": []
    },
    {
      "cell_type": "code",
      "metadata": {
        "id": "bc-gVy_YwNXk",
        "colab_type": "code",
        "colab": {
          "base_uri": "https://localhost:8080/",
          "height": 235
        },
        "outputId": "7fef3bc8-c9c5-4084-9040-33ac5e64ee15"
      },
      "source": [
        "#Create the dependant variable which will be shifted 'n' units up\n",
        "amzn['Prediction'] = amzn[['Close']].shift(-future_out)\n",
        "amzn.tail()"
      ],
      "execution_count": 5,
      "outputs": [
        {
          "output_type": "execute_result",
          "data": {
            "text/html": [
              "<div>\n",
              "<style scoped>\n",
              "    .dataframe tbody tr th:only-of-type {\n",
              "        vertical-align: middle;\n",
              "    }\n",
              "\n",
              "    .dataframe tbody tr th {\n",
              "        vertical-align: top;\n",
              "    }\n",
              "\n",
              "    .dataframe thead th {\n",
              "        text-align: right;\n",
              "    }\n",
              "</style>\n",
              "<table border=\"1\" class=\"dataframe\">\n",
              "  <thead>\n",
              "    <tr style=\"text-align: right;\">\n",
              "      <th></th>\n",
              "      <th>Close</th>\n",
              "      <th>Prediction</th>\n",
              "    </tr>\n",
              "    <tr>\n",
              "      <th>Date</th>\n",
              "      <th></th>\n",
              "      <th></th>\n",
              "    </tr>\n",
              "  </thead>\n",
              "  <tbody>\n",
              "    <tr>\n",
              "      <th>2020-06-29</th>\n",
              "      <td>2680.379883</td>\n",
              "      <td>NaN</td>\n",
              "    </tr>\n",
              "    <tr>\n",
              "      <th>2020-06-30</th>\n",
              "      <td>2758.820068</td>\n",
              "      <td>NaN</td>\n",
              "    </tr>\n",
              "    <tr>\n",
              "      <th>2020-07-01</th>\n",
              "      <td>2878.699951</td>\n",
              "      <td>NaN</td>\n",
              "    </tr>\n",
              "    <tr>\n",
              "      <th>2020-07-02</th>\n",
              "      <td>2890.300049</td>\n",
              "      <td>NaN</td>\n",
              "    </tr>\n",
              "    <tr>\n",
              "      <th>2020-07-06</th>\n",
              "      <td>3057.040039</td>\n",
              "      <td>NaN</td>\n",
              "    </tr>\n",
              "  </tbody>\n",
              "</table>\n",
              "</div>"
            ],
            "text/plain": [
              "                  Close  Prediction\n",
              "Date                               \n",
              "2020-06-29  2680.379883         NaN\n",
              "2020-06-30  2758.820068         NaN\n",
              "2020-07-01  2878.699951         NaN\n",
              "2020-07-02  2890.300049         NaN\n",
              "2020-07-06  3057.040039         NaN"
            ]
          },
          "metadata": {
            "tags": []
          },
          "execution_count": 5
        }
      ]
    },
    {
      "cell_type": "code",
      "metadata": {
        "id": "1ez0kfQ1xdgK",
        "colab_type": "code",
        "colab": {
          "base_uri": "https://localhost:8080/",
          "height": 136
        },
        "outputId": "f26138a9-1c0f-49ac-e73d-261357aff168"
      },
      "source": [
        "#create independant data set by converting the dataframe to a numpy array\n",
        "amzndf = np.array(amzn.drop(['Prediction'],1))\n",
        "#Renove the last 'n' rows\n",
        "amzndfx = amzndf[:-future_out] #therefore for every column, all of the rows will displayed - future out\n",
        "amzndfx"
      ],
      "execution_count": 6,
      "outputs": [
        {
          "output_type": "execute_result",
          "data": {
            "text/plain": [
              "array([[ 126.69999695],\n",
              "       [ 125.45999908],\n",
              "       [ 123.23999786],\n",
              "       ...,\n",
              "       [2449.33007812],\n",
              "       [2497.93994141],\n",
              "       [2446.73999023]])"
            ]
          },
          "metadata": {
            "tags": []
          },
          "execution_count": 6
        }
      ]
    },
    {
      "cell_type": "code",
      "metadata": {
        "id": "TDrtpLJhB1hr",
        "colab_type": "code",
        "colab": {
          "base_uri": "https://localhost:8080/",
          "height": 51
        },
        "outputId": "c011b36f-a78b-473a-99cb-56941c7f516c"
      },
      "source": [
        "#creat dependant dataset (prediction), all values including any Nan's\n",
        "amzndfy = np.array(amzn['Prediction'])\n",
        "#Filter this data by obtaining all values except the last 'n' rows\n",
        "amzndfy = amzndfy[:-future_out]\n",
        "amzndfy"
      ],
      "execution_count": 7,
      "outputs": [
        {
          "output_type": "execute_result",
          "data": {
            "text/plain": [
              "array([ 119.51000214,  123.65000153,  123.30000305, ..., 2878.69995117,\n",
              "       2890.30004883, 3057.04003906])"
            ]
          },
          "metadata": {
            "tags": []
          },
          "execution_count": 7
        }
      ]
    },
    {
      "cell_type": "code",
      "metadata": {
        "id": "2T0ecWdKC3I5",
        "colab_type": "code",
        "colab": {}
      },
      "source": [
        "#split data into 80% training and 20%testing\n",
        "amzndfx_train , amzndfx_test, amzndfy_train, amzndfy_test = train_test_split(amzndfx, amzndfy, test_size = 0.2)"
      ],
      "execution_count": 8,
      "outputs": []
    },
    {
      "cell_type": "code",
      "metadata": {
        "id": "LYgN9uBiDiMX",
        "colab_type": "code",
        "colab": {
          "base_uri": "https://localhost:8080/",
          "height": 51
        },
        "outputId": "424713d3-0cca-4b5a-9be7-c124eeb653e0"
      },
      "source": [
        "#Create and train the SVR model\n",
        "SVRamzn = SVR(kernel='rbf', C=1e3,gamma=0.1)\n",
        "SVRamzn.fit(amzndfx_train, amzndfy_train)"
      ],
      "execution_count": 9,
      "outputs": [
        {
          "output_type": "execute_result",
          "data": {
            "text/plain": [
              "SVR(C=1000.0, cache_size=200, coef0=0.0, degree=3, epsilon=0.1, gamma=0.1,\n",
              "    kernel='rbf', max_iter=-1, shrinking=True, tol=0.001, verbose=False)"
            ]
          },
          "metadata": {
            "tags": []
          },
          "execution_count": 9
        }
      ]
    },
    {
      "cell_type": "code",
      "metadata": {
        "id": "cW0aXDGHEqHn",
        "colab_type": "code",
        "colab": {
          "base_uri": "https://localhost:8080/",
          "height": 34
        },
        "outputId": "fac6c0f8-814f-4536-ae54-b22f73941f0a"
      },
      "source": [
        "#test model accuracy via score which returns the coefficient of determination (R^2) of prediction\n",
        "SVMconfidence = SVRamzn.score(amzndfx_test, amzndfy_test)\n",
        "print(\"SVM confidence\", SVMconfidence)"
      ],
      "execution_count": 10,
      "outputs": [
        {
          "output_type": "stream",
          "text": [
            "SVM confidence 0.9511531997465685\n"
          ],
          "name": "stdout"
        }
      ]
    },
    {
      "cell_type": "code",
      "metadata": {
        "id": "Qh9dvjIyFVAt",
        "colab_type": "code",
        "colab": {
          "base_uri": "https://localhost:8080/",
          "height": 34
        },
        "outputId": "0823837b-2899-4c59-c7dc-51cbb8b91594"
      },
      "source": [
        "#Create and train the linear regression model\n",
        "linear = LinearRegression()\n",
        "#train the model\n",
        "linear.fit(amzndfx_train, amzndfy_train)"
      ],
      "execution_count": 11,
      "outputs": [
        {
          "output_type": "execute_result",
          "data": {
            "text/plain": [
              "LinearRegression(copy_X=True, fit_intercept=True, n_jobs=None, normalize=False)"
            ]
          },
          "metadata": {
            "tags": []
          },
          "execution_count": 11
        }
      ]
    },
    {
      "cell_type": "code",
      "metadata": {
        "id": "TeG-yqBUFjq7",
        "colab_type": "code",
        "colab": {
          "base_uri": "https://localhost:8080/",
          "height": 34
        },
        "outputId": "ddf71d93-84e1-4400-9da4-e91bcb8d6045"
      },
      "source": [
        "#test model accuracy via score which returns the coefficient of determination (R^2) of prediction\n",
        "linearconfidence = linear.score(amzndfx_test, amzndfy_test)\n",
        "print(\"Linear regression confidence\", linearconfidence)"
      ],
      "execution_count": 12,
      "outputs": [
        {
          "output_type": "stream",
          "text": [
            "Linear regression confidence 0.9787192199191079\n"
          ],
          "name": "stdout"
        }
      ]
    },
    {
      "cell_type": "code",
      "metadata": {
        "id": "Inwr1PMwFyEp",
        "colab_type": "code",
        "colab": {
          "base_uri": "https://localhost:8080/",
          "height": 527
        },
        "outputId": "e3ec6277-bcd0-4c31-af63-d12660f6ca05"
      },
      "source": [
        "#set apple_forecast = to the last 30 rows of original dataset from close price column\n",
        "amzn_forecast = np.array(amzn.drop(['Prediction'],1))[-future_out:]\n",
        "print(amzn_forecast)\n"
      ],
      "execution_count": 13,
      "outputs": [
        {
          "output_type": "stream",
          "text": [
            "[[2436.87988281]\n",
            " [2421.86010742]\n",
            " [2410.38989258]\n",
            " [2401.10009766]\n",
            " [2442.37011719]\n",
            " [2471.04003906]\n",
            " [2472.40991211]\n",
            " [2478.39990234]\n",
            " [2460.60009766]\n",
            " [2483.        ]\n",
            " [2524.06005859]\n",
            " [2600.86010742]\n",
            " [2647.44995117]\n",
            " [2557.95996094]\n",
            " [2545.02001953]\n",
            " [2572.67993164]\n",
            " [2615.27001953]\n",
            " [2640.97998047]\n",
            " [2653.97998047]\n",
            " [2675.01000977]\n",
            " [2713.82006836]\n",
            " [2764.40991211]\n",
            " [2734.39990234]\n",
            " [2754.58007812]\n",
            " [2692.87011719]\n",
            " [2680.37988281]\n",
            " [2758.82006836]\n",
            " [2878.69995117]\n",
            " [2890.30004883]\n",
            " [3057.04003906]]\n"
          ],
          "name": "stdout"
        }
      ]
    },
    {
      "cell_type": "code",
      "metadata": {
        "id": "B9XnAi-oG0KH",
        "colab_type": "code",
        "colab": {
          "base_uri": "https://localhost:8080/",
          "height": 119
        },
        "outputId": "beeb1bc6-9811-4d2e-dff7-e94dde63a5b0"
      },
      "source": [
        "#Print the SVR predicted values for the upcoming 'n' days\n",
        "SVRprediction = SVRamzn.predict(amzn_forecast)\n",
        "print(SVRprediction)"
      ],
      "execution_count": 14,
      "outputs": [
        {
          "output_type": "stream",
          "text": [
            "[1171.74670084 1316.02660636 2578.46476244 1937.61709426 1179.60852665\n",
            " 1588.12223834 1948.32758809 1316.02618564 1171.73693242 1172.03740879\n",
            " 1171.73386945 1171.73386945 1171.73386945 1171.73386945 1171.73386945\n",
            " 1171.73386945 1171.73386945 1171.73386945 1171.73386945 1171.73386945\n",
            " 1171.73386945 1171.73386945 1171.73386945 1171.73386945 1171.73386945\n",
            " 1171.73386945 1171.73386945 1171.73386945 1171.73386945 1171.73386945]\n"
          ],
          "name": "stdout"
        }
      ]
    },
    {
      "cell_type": "code",
      "metadata": {
        "id": "QB_EYsSoGjHW",
        "colab_type": "code",
        "colab": {
          "base_uri": "https://localhost:8080/",
          "height": 119
        },
        "outputId": "6c59da4d-632a-43e7-b1c1-930a06ff4e9d"
      },
      "source": [
        "#Print the linear regression predicted values for the upcoming 'n' days\n",
        "linearprediction = linear.predict(amzn_forecast)\n",
        "print(linearprediction)"
      ],
      "execution_count": 15,
      "outputs": [
        {
          "output_type": "stream",
          "text": [
            "[2519.09696387 2503.60328516 2491.77116258 2482.18825644 2524.76042588\n",
            " 2554.33493992 2555.74803515 2561.9270213  2543.56559793 2566.67226104\n",
            " 2609.02784487 2688.25108559 2736.31093012 2643.9973555  2630.64913361\n",
            " 2659.18177009 2703.11565864 2729.63681917 2743.04699463 2764.74056252\n",
            " 2804.77515444 2856.9612068  2826.00432248 2846.82122231 2783.16419129\n",
            " 2770.27986557 2851.19499254 2974.85732034 2986.82342379 3158.82438715]\n"
          ],
          "name": "stdout"
        }
      ]
    },
    {
      "cell_type": "code",
      "metadata": {
        "id": "oX7VkRt_HLZ3",
        "colab_type": "code",
        "colab": {
          "base_uri": "https://localhost:8080/",
          "height": 235
        },
        "outputId": "f93600d1-1e45-4041-acb8-6f8bb9a52404"
      },
      "source": [
        "#Retrieve stock data\n",
        "amznstock = web.DataReader('AMZN', data_source='yahoo', start='2020-05-28', end='2020-07-05')\n",
        "amznstock = amznstock[['Close']]\n",
        "amznstock.head()"
      ],
      "execution_count": 17,
      "outputs": [
        {
          "output_type": "execute_result",
          "data": {
            "text/html": [
              "<div>\n",
              "<style scoped>\n",
              "    .dataframe tbody tr th:only-of-type {\n",
              "        vertical-align: middle;\n",
              "    }\n",
              "\n",
              "    .dataframe tbody tr th {\n",
              "        vertical-align: top;\n",
              "    }\n",
              "\n",
              "    .dataframe thead th {\n",
              "        text-align: right;\n",
              "    }\n",
              "</style>\n",
              "<table border=\"1\" class=\"dataframe\">\n",
              "  <thead>\n",
              "    <tr style=\"text-align: right;\">\n",
              "      <th></th>\n",
              "      <th>Close</th>\n",
              "    </tr>\n",
              "    <tr>\n",
              "      <th>Date</th>\n",
              "      <th></th>\n",
              "    </tr>\n",
              "  </thead>\n",
              "  <tbody>\n",
              "    <tr>\n",
              "      <th>2020-05-28</th>\n",
              "      <td>2401.100098</td>\n",
              "    </tr>\n",
              "    <tr>\n",
              "      <th>2020-05-29</th>\n",
              "      <td>2442.370117</td>\n",
              "    </tr>\n",
              "    <tr>\n",
              "      <th>2020-06-01</th>\n",
              "      <td>2471.040039</td>\n",
              "    </tr>\n",
              "    <tr>\n",
              "      <th>2020-06-02</th>\n",
              "      <td>2472.409912</td>\n",
              "    </tr>\n",
              "    <tr>\n",
              "      <th>2020-06-03</th>\n",
              "      <td>2478.399902</td>\n",
              "    </tr>\n",
              "  </tbody>\n",
              "</table>\n",
              "</div>"
            ],
            "text/plain": [
              "                  Close\n",
              "Date                   \n",
              "2020-05-28  2401.100098\n",
              "2020-05-29  2442.370117\n",
              "2020-06-01  2471.040039\n",
              "2020-06-02  2472.409912\n",
              "2020-06-03  2478.399902"
            ]
          },
          "metadata": {
            "tags": []
          },
          "execution_count": 17
        }
      ]
    }
  ]
}