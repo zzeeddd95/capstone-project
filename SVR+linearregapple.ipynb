{
  "nbformat": 4,
  "nbformat_minor": 0,
  "metadata": {
    "colab": {
      "name": "SVR+linearregapple.ipynb",
      "provenance": [],
      "authorship_tag": "ABX9TyPSYprixoj5h0ShLQ6UMik9",
      "include_colab_link": true
    },
    "kernelspec": {
      "name": "python3",
      "display_name": "Python 3"
    }
  },
  "cells": [
    {
      "cell_type": "markdown",
      "metadata": {
        "id": "view-in-github",
        "colab_type": "text"
      },
      "source": [
        "<a href=\"https://colab.research.google.com/github/zzeeddd95/capstone-project/blob/master/SVR%2Blinearregapple.ipynb\" target=\"_parent\"><img src=\"https://colab.research.google.com/assets/colab-badge.svg\" alt=\"Open In Colab\"/></a>"
      ]
    },
    {
      "cell_type": "code",
      "metadata": {
        "id": "mWvvy_uIt1em",
        "colab_type": "code",
        "colab": {
          "base_uri": "https://localhost:8080/",
          "height": 71
        },
        "outputId": "d43a63c5-d6c1-4532-cc06-e421083405ff"
      },
      "source": [
        "import numpy as np\n",
        "from sklearn.linear_model import LinearRegression\n",
        "from sklearn.svm import SVR\n",
        "from sklearn.model_selection import train_test_split\n",
        "import pandas_datareader as web\n"
      ],
      "execution_count": 2,
      "outputs": [
        {
          "output_type": "stream",
          "text": [
            "/usr/local/lib/python3.6/dist-packages/pandas_datareader/compat/__init__.py:7: FutureWarning: pandas.util.testing is deprecated. Use the functions in the public API at pandas.testing instead.\n",
            "  from pandas.util.testing import assert_frame_equal\n"
          ],
          "name": "stderr"
        }
      ]
    },
    {
      "cell_type": "code",
      "metadata": {
        "id": "3ueTbfPluby4",
        "colab_type": "code",
        "colab": {
          "base_uri": "https://localhost:8080/",
          "height": 136
        },
        "outputId": "639a5f16-a392-4fe5-9e5d-06c29148f986"
      },
      "source": [
        "#Retrieve stock data\n",
        "apple = web.DataReader('AAPL', data_source='yahoo', start='2010-05-27', end='2020-07-06')\n",
        "print(apple.head())"
      ],
      "execution_count": 31,
      "outputs": [
        {
          "output_type": "stream",
          "text": [
            "                 High        Low       Open      Close       Volume  Adj Close\n",
            "Date                                                                          \n",
            "2010-05-27  36.270000  35.587143  35.799999  36.192856  166570600.0  31.332062\n",
            "2010-05-28  37.057144  36.192856  37.055714  36.697144  203903700.0  31.768623\n",
            "2010-06-01  37.991428  36.994286  37.098572  37.261429  219118200.0  32.257130\n",
            "2010-06-02  37.828571  37.189999  37.791428  37.707142  172137000.0  32.642975\n",
            "2010-06-03  37.935715  37.201427  37.882858  37.588570  162526700.0  32.540325\n"
          ],
          "name": "stdout"
        }
      ]
    },
    {
      "cell_type": "code",
      "metadata": {
        "id": "zWULIKynvcAU",
        "colab_type": "code",
        "colab": {
          "base_uri": "https://localhost:8080/",
          "height": 450
        },
        "outputId": "093d6b4f-8867-4564-f39a-8ee13617d45f"
      },
      "source": [
        "#Filter out data to only obtain close price (independant variable)\n",
        "apple = apple[['Close']]\n",
        "apple"
      ],
      "execution_count": 32,
      "outputs": [
        {
          "output_type": "execute_result",
          "data": {
            "text/html": [
              "<div>\n",
              "<style scoped>\n",
              "    .dataframe tbody tr th:only-of-type {\n",
              "        vertical-align: middle;\n",
              "    }\n",
              "\n",
              "    .dataframe tbody tr th {\n",
              "        vertical-align: top;\n",
              "    }\n",
              "\n",
              "    .dataframe thead th {\n",
              "        text-align: right;\n",
              "    }\n",
              "</style>\n",
              "<table border=\"1\" class=\"dataframe\">\n",
              "  <thead>\n",
              "    <tr style=\"text-align: right;\">\n",
              "      <th></th>\n",
              "      <th>Close</th>\n",
              "    </tr>\n",
              "    <tr>\n",
              "      <th>Date</th>\n",
              "      <th></th>\n",
              "    </tr>\n",
              "  </thead>\n",
              "  <tbody>\n",
              "    <tr>\n",
              "      <th>2010-05-27</th>\n",
              "      <td>36.192856</td>\n",
              "    </tr>\n",
              "    <tr>\n",
              "      <th>2010-05-28</th>\n",
              "      <td>36.697144</td>\n",
              "    </tr>\n",
              "    <tr>\n",
              "      <th>2010-06-01</th>\n",
              "      <td>37.261429</td>\n",
              "    </tr>\n",
              "    <tr>\n",
              "      <th>2010-06-02</th>\n",
              "      <td>37.707142</td>\n",
              "    </tr>\n",
              "    <tr>\n",
              "      <th>2010-06-03</th>\n",
              "      <td>37.588570</td>\n",
              "    </tr>\n",
              "    <tr>\n",
              "      <th>...</th>\n",
              "      <td>...</td>\n",
              "    </tr>\n",
              "    <tr>\n",
              "      <th>2020-06-29</th>\n",
              "      <td>361.779999</td>\n",
              "    </tr>\n",
              "    <tr>\n",
              "      <th>2020-06-30</th>\n",
              "      <td>364.799988</td>\n",
              "    </tr>\n",
              "    <tr>\n",
              "      <th>2020-07-01</th>\n",
              "      <td>364.109985</td>\n",
              "    </tr>\n",
              "    <tr>\n",
              "      <th>2020-07-02</th>\n",
              "      <td>364.109985</td>\n",
              "    </tr>\n",
              "    <tr>\n",
              "      <th>2020-07-06</th>\n",
              "      <td>373.850006</td>\n",
              "    </tr>\n",
              "  </tbody>\n",
              "</table>\n",
              "<p>2544 rows × 1 columns</p>\n",
              "</div>"
            ],
            "text/plain": [
              "                 Close\n",
              "Date                  \n",
              "2010-05-27   36.192856\n",
              "2010-05-28   36.697144\n",
              "2010-06-01   37.261429\n",
              "2010-06-02   37.707142\n",
              "2010-06-03   37.588570\n",
              "...                ...\n",
              "2020-06-29  361.779999\n",
              "2020-06-30  364.799988\n",
              "2020-07-01  364.109985\n",
              "2020-07-02  364.109985\n",
              "2020-07-06  373.850006\n",
              "\n",
              "[2544 rows x 1 columns]"
            ]
          },
          "metadata": {
            "tags": []
          },
          "execution_count": 32
        }
      ]
    },
    {
      "cell_type": "code",
      "metadata": {
        "id": "cGyJ0Zyevrvs",
        "colab_type": "code",
        "colab": {}
      },
      "source": [
        "#Create a variable to allow for predicting 'n days' into the future\n",
        "future_out =30"
      ],
      "execution_count": 33,
      "outputs": []
    },
    {
      "cell_type": "code",
      "metadata": {
        "id": "bc-gVy_YwNXk",
        "colab_type": "code",
        "colab": {
          "base_uri": "https://localhost:8080/",
          "height": 235
        },
        "outputId": "af144fa1-6728-453e-fe69-e7e6db18f369"
      },
      "source": [
        "#Create the dependant variable which will be shifted 'n' units up\n",
        "apple['Prediction'] = apple[['Close']].shift(-future_out)\n",
        "apple.tail()"
      ],
      "execution_count": 34,
      "outputs": [
        {
          "output_type": "execute_result",
          "data": {
            "text/html": [
              "<div>\n",
              "<style scoped>\n",
              "    .dataframe tbody tr th:only-of-type {\n",
              "        vertical-align: middle;\n",
              "    }\n",
              "\n",
              "    .dataframe tbody tr th {\n",
              "        vertical-align: top;\n",
              "    }\n",
              "\n",
              "    .dataframe thead th {\n",
              "        text-align: right;\n",
              "    }\n",
              "</style>\n",
              "<table border=\"1\" class=\"dataframe\">\n",
              "  <thead>\n",
              "    <tr style=\"text-align: right;\">\n",
              "      <th></th>\n",
              "      <th>Close</th>\n",
              "      <th>Prediction</th>\n",
              "    </tr>\n",
              "    <tr>\n",
              "      <th>Date</th>\n",
              "      <th></th>\n",
              "      <th></th>\n",
              "    </tr>\n",
              "  </thead>\n",
              "  <tbody>\n",
              "    <tr>\n",
              "      <th>2020-06-29</th>\n",
              "      <td>361.779999</td>\n",
              "      <td>NaN</td>\n",
              "    </tr>\n",
              "    <tr>\n",
              "      <th>2020-06-30</th>\n",
              "      <td>364.799988</td>\n",
              "      <td>NaN</td>\n",
              "    </tr>\n",
              "    <tr>\n",
              "      <th>2020-07-01</th>\n",
              "      <td>364.109985</td>\n",
              "      <td>NaN</td>\n",
              "    </tr>\n",
              "    <tr>\n",
              "      <th>2020-07-02</th>\n",
              "      <td>364.109985</td>\n",
              "      <td>NaN</td>\n",
              "    </tr>\n",
              "    <tr>\n",
              "      <th>2020-07-06</th>\n",
              "      <td>373.850006</td>\n",
              "      <td>NaN</td>\n",
              "    </tr>\n",
              "  </tbody>\n",
              "</table>\n",
              "</div>"
            ],
            "text/plain": [
              "                 Close  Prediction\n",
              "Date                              \n",
              "2020-06-29  361.779999         NaN\n",
              "2020-06-30  364.799988         NaN\n",
              "2020-07-01  364.109985         NaN\n",
              "2020-07-02  364.109985         NaN\n",
              "2020-07-06  373.850006         NaN"
            ]
          },
          "metadata": {
            "tags": []
          },
          "execution_count": 34
        }
      ]
    },
    {
      "cell_type": "code",
      "metadata": {
        "id": "1ez0kfQ1xdgK",
        "colab_type": "code",
        "colab": {
          "base_uri": "https://localhost:8080/",
          "height": 136
        },
        "outputId": "b804410b-a5da-4b54-a44d-736600c49b16"
      },
      "source": [
        "#create independant data set by converting the dataframe to a numpy array\n",
        "appledf = np.array(apple.drop(['Prediction'],1))\n",
        "#Renove the last 'n' rows\n",
        "appledfx = appledf[:-future_out] #therefore for every column, all of the rows will displayed - future out\n",
        "appledfx"
      ],
      "execution_count": 35,
      "outputs": [
        {
          "output_type": "execute_result",
          "data": {
            "text/plain": [
              "array([[ 36.19285583],\n",
              "       [ 36.69714355],\n",
              "       [ 37.26142883],\n",
              "       ...,\n",
              "       [313.14001465],\n",
              "       [319.23001099],\n",
              "       [316.8500061 ]])"
            ]
          },
          "metadata": {
            "tags": []
          },
          "execution_count": 35
        }
      ]
    },
    {
      "cell_type": "code",
      "metadata": {
        "id": "TDrtpLJhB1hr",
        "colab_type": "code",
        "colab": {
          "base_uri": "https://localhost:8080/",
          "height": 51
        },
        "outputId": "becef356-b699-43e0-8871-2aeebec25d76"
      },
      "source": [
        "#creat dependant dataset (prediction), all values including any Nan's\n",
        "appledfy = np.array(apple['Prediction'])\n",
        "#Filter this data by obtaining all values except the last 'n' rows\n",
        "appledfy = appledfy[:-future_out]\n",
        "appledfy"
      ],
      "execution_count": 36,
      "outputs": [
        {
          "output_type": "execute_result",
          "data": {
            "text/plain": [
              "array([ 36.75571442,  35.97142792,  36.10428619, ..., 364.10998535,\n",
              "       364.10998535, 373.8500061 ])"
            ]
          },
          "metadata": {
            "tags": []
          },
          "execution_count": 36
        }
      ]
    },
    {
      "cell_type": "code",
      "metadata": {
        "id": "2T0ecWdKC3I5",
        "colab_type": "code",
        "colab": {}
      },
      "source": [
        "#split data into 80% training and 20%testing\n",
        "appledfx_train , appledfx_test, appledfy_train, appledfy_test = train_test_split(appledfx, appledfy, test_size = 0.2)"
      ],
      "execution_count": 37,
      "outputs": []
    },
    {
      "cell_type": "code",
      "metadata": {
        "id": "LYgN9uBiDiMX",
        "colab_type": "code",
        "colab": {
          "base_uri": "https://localhost:8080/",
          "height": 51
        },
        "outputId": "a9824d44-829a-48b5-d93f-de60e0f759ad"
      },
      "source": [
        "#Create and train the SVR model\n",
        "SVRapple = SVR(kernel='rbf', C=1e3,gamma=0.1)\n",
        "SVRapple.fit(appledfx_train, appledfy_train)"
      ],
      "execution_count": 38,
      "outputs": [
        {
          "output_type": "execute_result",
          "data": {
            "text/plain": [
              "SVR(C=1000.0, cache_size=200, coef0=0.0, degree=3, epsilon=0.1, gamma=0.1,\n",
              "    kernel='rbf', max_iter=-1, shrinking=True, tol=0.001, verbose=False)"
            ]
          },
          "metadata": {
            "tags": []
          },
          "execution_count": 38
        }
      ]
    },
    {
      "cell_type": "code",
      "metadata": {
        "id": "cW0aXDGHEqHn",
        "colab_type": "code",
        "colab": {
          "base_uri": "https://localhost:8080/",
          "height": 34
        },
        "outputId": "5b151e5a-0b38-4e75-e3db-e1049112da19"
      },
      "source": [
        "#test model accuracy via score which returns the coefficient of determination (R^2) of prediction\n",
        "SVMconfidence = SVRapple.score(appledfx_test, appledfy_test)\n",
        "print(\"SVM confidence\", SVMconfidence)"
      ],
      "execution_count": 39,
      "outputs": [
        {
          "output_type": "stream",
          "text": [
            "SVM confidence 0.9460487658466542\n"
          ],
          "name": "stdout"
        }
      ]
    },
    {
      "cell_type": "code",
      "metadata": {
        "id": "Qh9dvjIyFVAt",
        "colab_type": "code",
        "colab": {
          "base_uri": "https://localhost:8080/",
          "height": 34
        },
        "outputId": "4e969449-5a21-4c37-d996-07a762b0bf1c"
      },
      "source": [
        "#Create and train the linear regression model\n",
        "linear = LinearRegression()\n",
        "#train the model\n",
        "linear.fit(appledfx_train, appledfy_train)"
      ],
      "execution_count": 40,
      "outputs": [
        {
          "output_type": "execute_result",
          "data": {
            "text/plain": [
              "LinearRegression(copy_X=True, fit_intercept=True, n_jobs=None, normalize=False)"
            ]
          },
          "metadata": {
            "tags": []
          },
          "execution_count": 40
        }
      ]
    },
    {
      "cell_type": "code",
      "metadata": {
        "id": "TeG-yqBUFjq7",
        "colab_type": "code",
        "colab": {
          "base_uri": "https://localhost:8080/",
          "height": 34
        },
        "outputId": "adb8a1d0-0243-4c21-af95-43050f347d01"
      },
      "source": [
        "#test model accuracy via score which returns the coefficient of determination (R^2) of prediction\n",
        "linearconfidence = linear.score(appledfx_test, appledfy_test)\n",
        "print(\"Linear regression confidence\", linearconfidence)"
      ],
      "execution_count": 41,
      "outputs": [
        {
          "output_type": "stream",
          "text": [
            "Linear regression confidence 0.9461680839501049\n"
          ],
          "name": "stdout"
        }
      ]
    },
    {
      "cell_type": "code",
      "metadata": {
        "id": "Inwr1PMwFyEp",
        "colab_type": "code",
        "colab": {
          "base_uri": "https://localhost:8080/",
          "height": 527
        },
        "outputId": "c5cf8c68-0398-406c-b18d-864cbdfe1ae1"
      },
      "source": [
        "#set apple_forecast = to the last 30 rows of original dataset from close price column\n",
        "apple_forecast = np.array(apple.drop(['Prediction'],1))[-future_out:]\n",
        "print(apple_forecast)\n"
      ],
      "execution_count": 42,
      "outputs": [
        {
          "output_type": "stream",
          "text": [
            "[[318.89001465]\n",
            " [316.73001099]\n",
            " [318.10998535]\n",
            " [318.25      ]\n",
            " [317.94000244]\n",
            " [321.8500061 ]\n",
            " [323.33999634]\n",
            " [325.11999512]\n",
            " [322.32000732]\n",
            " [331.5       ]\n",
            " [333.45999146]\n",
            " [343.98999023]\n",
            " [352.83999634]\n",
            " [335.8999939 ]\n",
            " [338.79998779]\n",
            " [342.98999023]\n",
            " [352.07998657]\n",
            " [351.58999634]\n",
            " [351.73001099]\n",
            " [349.72000122]\n",
            " [358.86999512]\n",
            " [366.52999878]\n",
            " [360.05999756]\n",
            " [364.83999634]\n",
            " [353.63000488]\n",
            " [361.77999878]\n",
            " [364.79998779]\n",
            " [364.10998535]\n",
            " [364.10998535]\n",
            " [373.8500061 ]]\n"
          ],
          "name": "stdout"
        }
      ]
    },
    {
      "cell_type": "code",
      "metadata": {
        "id": "B9XnAi-oG0KH",
        "colab_type": "code",
        "colab": {
          "base_uri": "https://localhost:8080/",
          "height": 119
        },
        "outputId": "a0685eb5-7104-4b03-e95c-bcaf3191a2ef"
      },
      "source": [
        "#Print the SVR predicted values for the upcoming 'n' days\n",
        "SVRprediction = SVRapple.predict(apple_forecast)\n",
        "print(SVRprediction)"
      ],
      "execution_count": 43,
      "outputs": [
        {
          "output_type": "stream",
          "text": [
            "[256.00399978 299.50208824 270.32192706 267.46513295 273.8905849\n",
            " 244.10980849 240.20376177 257.15270671 242.46852623 194.96039736\n",
            " 189.97419865 189.31037569 189.31037569 189.32749684 189.31042375\n",
            " 189.31037569 189.31037569 189.31037569 189.31037569 189.31037569\n",
            " 189.31037569 189.31037569 189.31037569 189.31037569 189.31037569\n",
            " 189.31037569 189.31037569 189.31037569 189.31037569 189.31037569]\n"
          ],
          "name": "stdout"
        }
      ]
    },
    {
      "cell_type": "code",
      "metadata": {
        "id": "QB_EYsSoGjHW",
        "colab_type": "code",
        "colab": {
          "base_uri": "https://localhost:8080/",
          "height": 119
        },
        "outputId": "038ef9f8-845b-4d59-818a-f0b070738a90"
      },
      "source": [
        "#Print the linear regression predicted values for the upcoming 'n' days\n",
        "linearprediction = linear.predict(apple_forecast)\n",
        "print(linearprediction)"
      ],
      "execution_count": 44,
      "outputs": [
        {
          "output_type": "stream",
          "text": [
            "[328.11134197 325.89066535 327.30940221 327.45334977 327.1346446\n",
            " 331.15447746 332.68632045 334.51631812 331.63768068 341.07553276\n",
            " 343.09057897 353.91635787 363.01495429 345.59911933 348.58057198\n",
            " 352.88826858 362.2335964  361.72984269 361.87379025 359.80732075\n",
            " 369.21433141 377.08949909 370.43776017 375.35202569 363.82715361\n",
            " 372.20607499 375.31089333 374.60150922 374.60150922 384.61512017]\n"
          ],
          "name": "stdout"
        }
      ]
    },
    {
      "cell_type": "code",
      "metadata": {
        "id": "oX7VkRt_HLZ3",
        "colab_type": "code",
        "colab": {
          "base_uri": "https://localhost:8080/",
          "height": 235
        },
        "outputId": "0e8ca5a3-8559-4e7d-d6fc-57691bfe583d"
      },
      "source": [
        "#Retrieve stock data\n",
        "applestock = web.DataReader('AAPL', data_source='yahoo', start='2020-05-28', end='2020-07-05')\n",
        "applestock = applestock[['Close']]\n",
        "applestock.head()"
      ],
      "execution_count": 47,
      "outputs": [
        {
          "output_type": "execute_result",
          "data": {
            "text/html": [
              "<div>\n",
              "<style scoped>\n",
              "    .dataframe tbody tr th:only-of-type {\n",
              "        vertical-align: middle;\n",
              "    }\n",
              "\n",
              "    .dataframe tbody tr th {\n",
              "        vertical-align: top;\n",
              "    }\n",
              "\n",
              "    .dataframe thead th {\n",
              "        text-align: right;\n",
              "    }\n",
              "</style>\n",
              "<table border=\"1\" class=\"dataframe\">\n",
              "  <thead>\n",
              "    <tr style=\"text-align: right;\">\n",
              "      <th></th>\n",
              "      <th>Close</th>\n",
              "    </tr>\n",
              "    <tr>\n",
              "      <th>Date</th>\n",
              "      <th></th>\n",
              "    </tr>\n",
              "  </thead>\n",
              "  <tbody>\n",
              "    <tr>\n",
              "      <th>2020-05-28</th>\n",
              "      <td>318.250000</td>\n",
              "    </tr>\n",
              "    <tr>\n",
              "      <th>2020-05-29</th>\n",
              "      <td>317.940002</td>\n",
              "    </tr>\n",
              "    <tr>\n",
              "      <th>2020-06-01</th>\n",
              "      <td>321.850006</td>\n",
              "    </tr>\n",
              "    <tr>\n",
              "      <th>2020-06-02</th>\n",
              "      <td>323.339996</td>\n",
              "    </tr>\n",
              "    <tr>\n",
              "      <th>2020-06-03</th>\n",
              "      <td>325.119995</td>\n",
              "    </tr>\n",
              "  </tbody>\n",
              "</table>\n",
              "</div>"
            ],
            "text/plain": [
              "                 Close\n",
              "Date                  \n",
              "2020-05-28  318.250000\n",
              "2020-05-29  317.940002\n",
              "2020-06-01  321.850006\n",
              "2020-06-02  323.339996\n",
              "2020-06-03  325.119995"
            ]
          },
          "metadata": {
            "tags": []
          },
          "execution_count": 47
        }
      ]
    }
  ]
}