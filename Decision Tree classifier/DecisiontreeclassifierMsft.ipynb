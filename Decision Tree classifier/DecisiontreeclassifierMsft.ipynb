{
  "nbformat": 4,
  "nbformat_minor": 0,
  "metadata": {
    "colab": {
      "name": "DecisiontreeclassifierMsft.ipynb",
      "provenance": [],
      "authorship_tag": "ABX9TyMMMbzUmrAx31tNZCMvCUSN",
      "include_colab_link": true
    },
    "kernelspec": {
      "name": "python3",
      "display_name": "Python 3"
    }
  },
  "cells": [
    {
      "cell_type": "markdown",
      "metadata": {
        "id": "view-in-github",
        "colab_type": "text"
      },
      "source": [
        "<a href=\"https://colab.research.google.com/github/zzeeddd95/capstone-project/blob/master/DecisiontreeclassifierMsft.ipynb\" target=\"_parent\"><img src=\"https://colab.research.google.com/assets/colab-badge.svg\" alt=\"Open In Colab\"/></a>"
      ]
    },
    {
      "cell_type": "code",
      "metadata": {
        "id": "3Gs1RYdNRuzl",
        "colab_type": "code",
        "colab": {
          "base_uri": "https://localhost:8080/",
          "height": 425
        },
        "outputId": "4bb056e2-34db-4c45-9976-3bef9935303c"
      },
      "source": [
        "!wget https://launchpad.net/~mario-mariomedina/+archive/ubuntu/talib/+files/libta-lib0_0.4.0-oneiric1_amd64.deb -qO libta.deb\n",
        "!wget https://launchpad.net/~mario-mariomedina/+archive/ubuntu/talib/+files/ta-lib0-dev_0.4.0-oneiric1_amd64.deb -qO ta.deb\n",
        "!dpkg -i libta.deb ta.deb\n",
        "!pip install ta-lib\n",
        "import talib"
      ],
      "execution_count": 2,
      "outputs": [
        {
          "output_type": "stream",
          "text": [
            "Selecting previously unselected package libta-lib0.\n",
            "(Reading database ... 144465 files and directories currently installed.)\n",
            "Preparing to unpack libta.deb ...\n",
            "Unpacking libta-lib0 (0.4.0-oneiric1) ...\n",
            "Selecting previously unselected package ta-lib0-dev.\n",
            "Preparing to unpack ta.deb ...\n",
            "Unpacking ta-lib0-dev (0.4.0-oneiric1) ...\n",
            "Setting up libta-lib0 (0.4.0-oneiric1) ...\n",
            "Setting up ta-lib0-dev (0.4.0-oneiric1) ...\n",
            "Processing triggers for man-db (2.8.3-2ubuntu0.1) ...\n",
            "Processing triggers for libc-bin (2.27-3ubuntu1) ...\n",
            "/sbin/ldconfig.real: /usr/local/lib/python3.6/dist-packages/ideep4py/lib/libmkldnn.so.0 is not a symbolic link\n",
            "\n",
            "Collecting ta-lib\n",
            "\u001b[?25l  Downloading https://files.pythonhosted.org/packages/d7/15/ebf1a6ebcf7580dc53e342979c7425affc38ef272bc10a7f4565ee87b394/TA-Lib-0.4.18.tar.gz (265kB)\n",
            "\u001b[K     |████████████████████████████████| 266kB 2.7MB/s \n",
            "\u001b[?25hRequirement already satisfied: numpy in /usr/local/lib/python3.6/dist-packages (from ta-lib) (1.18.5)\n",
            "Building wheels for collected packages: ta-lib\n",
            "  Building wheel for ta-lib (setup.py) ... \u001b[?25l\u001b[?25hdone\n",
            "  Created wheel for ta-lib: filename=TA_Lib-0.4.18-cp36-cp36m-linux_x86_64.whl size=1531855 sha256=d6c9824afbda8b149939c3a535ddde5a7e4c6db666d5d34badaeb08c7be38a97\n",
            "  Stored in directory: /root/.cache/pip/wheels/11/cc/88/20dc42c28a07efb297dad4303948ef6dd4a3c7257553db8f09\n",
            "Successfully built ta-lib\n",
            "Installing collected packages: ta-lib\n",
            "Successfully installed ta-lib-0.4.18\n"
          ],
          "name": "stdout"
        }
      ]
    },
    {
      "cell_type": "code",
      "metadata": {
        "id": "KH3UJc0nNfsE",
        "colab_type": "code",
        "colab": {
          "base_uri": "https://localhost:8080/",
          "height": 51
        },
        "outputId": "6fb692aa-8ba0-4a49-8a94-fa257be3a62d"
      },
      "source": [
        "import pandas as pd\n",
        "import numpy as np\n",
        "import pydotplus\n",
        "from pylab import rcParams\n",
        "import matplotlib.pyplot as plt\n",
        "import talib as ta\n",
        "import pandas_datareader as web\n",
        "from sklearn.model_selection import train_test_split\n",
        "from sklearn.tree import DecisionTreeClassifier\n",
        "from sklearn.metrics import classification_report\n",
        "from sklearn import tree,metrics,preprocessing\n",
        "from io import StringIO\n",
        "from sklearn.model_selection import cross_val_score,GridSearchCV\n",
        "from sklearn.metrics import f1_score,make_scorer\n",
        "import graphviz\n",
        "import warnings\n",
        "\n"
      ],
      "execution_count": 3,
      "outputs": [
        {
          "output_type": "stream",
          "text": [
            "/usr/local/lib/python3.6/dist-packages/pandas_datareader/compat/__init__.py:7: FutureWarning: pandas.util.testing is deprecated. Use the functions in the public API at pandas.testing instead.\n",
            "  from pandas.util.testing import assert_frame_equal\n"
          ],
          "name": "stderr"
        }
      ]
    },
    {
      "cell_type": "code",
      "metadata": {
        "id": "0MYAm3pomTuS",
        "colab_type": "code",
        "colab": {
          "base_uri": "https://localhost:8080/",
          "height": 450
        },
        "outputId": "6d7741ab-b2ec-4dbd-a53f-1ea543a7e456"
      },
      "source": [
        "#Get Microsoft stock\n",
        "msft = web.DataReader('MSFT', data_source='yahoo', start='2010-05-27', end='2020-05-27')\n",
        "msft"
      ],
      "execution_count": 16,
      "outputs": [
        {
          "output_type": "execute_result",
          "data": {
            "text/html": [
              "<div>\n",
              "<style scoped>\n",
              "    .dataframe tbody tr th:only-of-type {\n",
              "        vertical-align: middle;\n",
              "    }\n",
              "\n",
              "    .dataframe tbody tr th {\n",
              "        vertical-align: top;\n",
              "    }\n",
              "\n",
              "    .dataframe thead th {\n",
              "        text-align: right;\n",
              "    }\n",
              "</style>\n",
              "<table border=\"1\" class=\"dataframe\">\n",
              "  <thead>\n",
              "    <tr style=\"text-align: right;\">\n",
              "      <th></th>\n",
              "      <th>High</th>\n",
              "      <th>Low</th>\n",
              "      <th>Open</th>\n",
              "      <th>Close</th>\n",
              "      <th>Volume</th>\n",
              "      <th>Adj Close</th>\n",
              "    </tr>\n",
              "    <tr>\n",
              "      <th>Date</th>\n",
              "      <th></th>\n",
              "      <th></th>\n",
              "      <th></th>\n",
              "      <th></th>\n",
              "      <th></th>\n",
              "      <th></th>\n",
              "    </tr>\n",
              "  </thead>\n",
              "  <tbody>\n",
              "    <tr>\n",
              "      <th>2010-05-27</th>\n",
              "      <td>26.360001</td>\n",
              "      <td>25.730000</td>\n",
              "      <td>25.730000</td>\n",
              "      <td>26.000000</td>\n",
              "      <td>136433600.0</td>\n",
              "      <td>20.539593</td>\n",
              "    </tr>\n",
              "    <tr>\n",
              "      <th>2010-05-28</th>\n",
              "      <td>26.120001</td>\n",
              "      <td>25.660000</td>\n",
              "      <td>25.840000</td>\n",
              "      <td>25.799999</td>\n",
              "      <td>67496900.0</td>\n",
              "      <td>20.381601</td>\n",
              "    </tr>\n",
              "    <tr>\n",
              "      <th>2010-06-01</th>\n",
              "      <td>26.309999</td>\n",
              "      <td>25.520000</td>\n",
              "      <td>25.530001</td>\n",
              "      <td>25.889999</td>\n",
              "      <td>76152400.0</td>\n",
              "      <td>20.452698</td>\n",
              "    </tr>\n",
              "    <tr>\n",
              "      <th>2010-06-02</th>\n",
              "      <td>26.480000</td>\n",
              "      <td>25.730000</td>\n",
              "      <td>26.059999</td>\n",
              "      <td>26.459999</td>\n",
              "      <td>65718800.0</td>\n",
              "      <td>20.902985</td>\n",
              "    </tr>\n",
              "    <tr>\n",
              "      <th>2010-06-03</th>\n",
              "      <td>26.930000</td>\n",
              "      <td>26.410000</td>\n",
              "      <td>26.549999</td>\n",
              "      <td>26.860001</td>\n",
              "      <td>67837000.0</td>\n",
              "      <td>21.218981</td>\n",
              "    </tr>\n",
              "    <tr>\n",
              "      <th>...</th>\n",
              "      <td>...</td>\n",
              "      <td>...</td>\n",
              "      <td>...</td>\n",
              "      <td>...</td>\n",
              "      <td>...</td>\n",
              "      <td>...</td>\n",
              "    </tr>\n",
              "    <tr>\n",
              "      <th>2020-05-20</th>\n",
              "      <td>185.850006</td>\n",
              "      <td>183.940002</td>\n",
              "      <td>184.809998</td>\n",
              "      <td>185.660004</td>\n",
              "      <td>31261300.0</td>\n",
              "      <td>185.660004</td>\n",
              "    </tr>\n",
              "    <tr>\n",
              "      <th>2020-05-21</th>\n",
              "      <td>186.669998</td>\n",
              "      <td>183.289993</td>\n",
              "      <td>185.399994</td>\n",
              "      <td>183.429993</td>\n",
              "      <td>29119500.0</td>\n",
              "      <td>183.429993</td>\n",
              "    </tr>\n",
              "    <tr>\n",
              "      <th>2020-05-22</th>\n",
              "      <td>184.460007</td>\n",
              "      <td>182.539993</td>\n",
              "      <td>183.190002</td>\n",
              "      <td>183.509995</td>\n",
              "      <td>20826900.0</td>\n",
              "      <td>183.509995</td>\n",
              "    </tr>\n",
              "    <tr>\n",
              "      <th>2020-05-26</th>\n",
              "      <td>186.500000</td>\n",
              "      <td>181.100006</td>\n",
              "      <td>186.339996</td>\n",
              "      <td>181.570007</td>\n",
              "      <td>36073600.0</td>\n",
              "      <td>181.570007</td>\n",
              "    </tr>\n",
              "    <tr>\n",
              "      <th>2020-05-27</th>\n",
              "      <td>181.990005</td>\n",
              "      <td>176.600006</td>\n",
              "      <td>180.199997</td>\n",
              "      <td>181.809998</td>\n",
              "      <td>39517100.0</td>\n",
              "      <td>181.809998</td>\n",
              "    </tr>\n",
              "  </tbody>\n",
              "</table>\n",
              "<p>2517 rows × 6 columns</p>\n",
              "</div>"
            ],
            "text/plain": [
              "                  High         Low  ...       Volume   Adj Close\n",
              "Date                                ...                         \n",
              "2010-05-27   26.360001   25.730000  ...  136433600.0   20.539593\n",
              "2010-05-28   26.120001   25.660000  ...   67496900.0   20.381601\n",
              "2010-06-01   26.309999   25.520000  ...   76152400.0   20.452698\n",
              "2010-06-02   26.480000   25.730000  ...   65718800.0   20.902985\n",
              "2010-06-03   26.930000   26.410000  ...   67837000.0   21.218981\n",
              "...                ...         ...  ...          ...         ...\n",
              "2020-05-20  185.850006  183.940002  ...   31261300.0  185.660004\n",
              "2020-05-21  186.669998  183.289993  ...   29119500.0  183.429993\n",
              "2020-05-22  184.460007  182.539993  ...   20826900.0  183.509995\n",
              "2020-05-26  186.500000  181.100006  ...   36073600.0  181.570007\n",
              "2020-05-27  181.990005  176.600006  ...   39517100.0  181.809998\n",
              "\n",
              "[2517 rows x 6 columns]"
            ]
          },
          "metadata": {
            "tags": []
          },
          "execution_count": 16
        }
      ]
    },
    {
      "cell_type": "code",
      "metadata": {
        "id": "iz6rD4FWOHrg",
        "colab_type": "code",
        "colab": {
          "base_uri": "https://localhost:8080/",
          "height": 432
        },
        "outputId": "2991fed5-f6af-4b90-a6e3-d6363671bd5b"
      },
      "source": [
        "msft.Close.plot(figsize=(15,7))\n",
        "plt.xlabel('Date')\n",
        "plt.ylabel('Stock Price in USD')\n",
        "plt.title(\"Microsoft closing Price\")\n",
        "plt.grid()\n",
        "plt.show()"
      ],
      "execution_count": 5,
      "outputs": [
        {
          "output_type": "display_data",
          "data": {
            "image/png": "[encoded data removed]",
            "text/plain": [
              "<Figure size 1080x504 with 1 Axes>"
            ]
          },
          "metadata": {
            "tags": [],
            "needs_background": "light"
          }
        }
      ]
    },
    {
      "cell_type": "markdown",
      "metadata": {
        "id": "B69dmy8APoH1",
        "colab_type": "text"
      },
      "source": [
        "The underlying assumption in which a decision tree model operates on is that the input and output are correlated in some way, and so the model learns from the given input, and tries to understand what effect that input has on the output. Therefore, the predictors used here are the relative strength index, which is an oscillator that defines the momentum of the stock, and the differences between the close values over a 4 day period. The RSI reduces the close value of the stock of the past 14 days into a scale from 0-100. Typically, when RSI values are over 70, this indicates a bullish market, meaning that the market is extremely overbought and overvaluated and thus a sell off is more than likely. Alternatively, if the RSI value is under 30, this indicates an oversold market, meaning the market is due for a bullish session, and a bounce back is to be expected. "
      ]
    },
    {
      "cell_type": "code",
      "metadata": {
        "id": "tXAXGVKJO1hp",
        "colab_type": "code",
        "colab": {
          "base_uri": "https://localhost:8080/",
          "height": 235
        },
        "outputId": "2eefc038-0a4e-450d-aecd-ec79285e612e"
      },
      "source": [
        "# Creating the predictor and target variable\n",
        "\n",
        "import talib as ta\n",
        "msft['RSI'] = ta.RSI(msft['Close'].values, timeperiod = 14)\n",
        "msft['Dif1'] = msft['Close'].diff().values\n",
        "msft['Dif2'] = msft['Close'].diff(2).values\n",
        "msft['Dif3'] = msft['Close'].diff(3).values\n",
        "msft['Dif4'] = msft['Close'].diff(4).values\n",
        "\n",
        "#Since the trend of the stock movement is what we are trying to predict (dependant variable), a trend column will be created as well. \n",
        "#Shift -1 is done to shift close values forward, i.e. take the close of the next day.\n",
        "#A trend of 0 indicates negative return meaning close price is decreasing, whereas a trend of 1 indicates positive return meaning close price is increasing.\n",
        "\n",
        "msft['Trend'] = np.where(msft.Close.shift(-1) > msft.Close, 1 , 0)\n",
        "msft.tail()\n",
        "\n",
        "\n"
      ],
      "execution_count": 6,
      "outputs": [
        {
          "output_type": "execute_result",
          "data": {
            "text/html": [
              "<div>\n",
              "<style scoped>\n",
              "    .dataframe tbody tr th:only-of-type {\n",
              "        vertical-align: middle;\n",
              "    }\n",
              "\n",
              "    .dataframe tbody tr th {\n",
              "        vertical-align: top;\n",
              "    }\n",
              "\n",
              "    .dataframe thead th {\n",
              "        text-align: right;\n",
              "    }\n",
              "</style>\n",
              "<table border=\"1\" class=\"dataframe\">\n",
              "  <thead>\n",
              "    <tr style=\"text-align: right;\">\n",
              "      <th></th>\n",
              "      <th>High</th>\n",
              "      <th>Low</th>\n",
              "      <th>Open</th>\n",
              "      <th>Close</th>\n",
              "      <th>Volume</th>\n",
              "      <th>Adj Close</th>\n",
              "      <th>RSI</th>\n",
              "      <th>Dif1</th>\n",
              "      <th>Dif2</th>\n",
              "      <th>Dif3</th>\n",
              "      <th>Dif4</th>\n",
              "      <th>Trend</th>\n",
              "    </tr>\n",
              "    <tr>\n",
              "      <th>Date</th>\n",
              "      <th></th>\n",
              "      <th></th>\n",
              "      <th></th>\n",
              "      <th></th>\n",
              "      <th></th>\n",
              "      <th></th>\n",
              "      <th></th>\n",
              "      <th></th>\n",
              "      <th></th>\n",
              "      <th></th>\n",
              "      <th></th>\n",
              "      <th></th>\n",
              "    </tr>\n",
              "  </thead>\n",
              "  <tbody>\n",
              "    <tr>\n",
              "      <th>2020-05-20</th>\n",
              "      <td>185.850006</td>\n",
              "      <td>183.940002</td>\n",
              "      <td>184.809998</td>\n",
              "      <td>185.660004</td>\n",
              "      <td>31261300.0</td>\n",
              "      <td>185.660004</td>\n",
              "      <td>60.477487</td>\n",
              "      <td>2.029999</td>\n",
              "      <td>0.750000</td>\n",
              "      <td>2.500000</td>\n",
              "      <td>5.130005</td>\n",
              "      <td>0</td>\n",
              "    </tr>\n",
              "    <tr>\n",
              "      <th>2020-05-21</th>\n",
              "      <td>186.669998</td>\n",
              "      <td>183.289993</td>\n",
              "      <td>185.399994</td>\n",
              "      <td>183.429993</td>\n",
              "      <td>29119500.0</td>\n",
              "      <td>183.429993</td>\n",
              "      <td>57.172533</td>\n",
              "      <td>-2.230011</td>\n",
              "      <td>-0.200012</td>\n",
              "      <td>-1.480011</td>\n",
              "      <td>0.269989</td>\n",
              "      <td>1</td>\n",
              "    </tr>\n",
              "    <tr>\n",
              "      <th>2020-05-22</th>\n",
              "      <td>184.460007</td>\n",
              "      <td>182.539993</td>\n",
              "      <td>183.190002</td>\n",
              "      <td>183.509995</td>\n",
              "      <td>20826900.0</td>\n",
              "      <td>183.509995</td>\n",
              "      <td>57.262764</td>\n",
              "      <td>0.080002</td>\n",
              "      <td>-2.150009</td>\n",
              "      <td>-0.120010</td>\n",
              "      <td>-1.400009</td>\n",
              "      <td>0</td>\n",
              "    </tr>\n",
              "    <tr>\n",
              "      <th>2020-05-26</th>\n",
              "      <td>186.500000</td>\n",
              "      <td>181.100006</td>\n",
              "      <td>186.339996</td>\n",
              "      <td>181.570007</td>\n",
              "      <td>36073600.0</td>\n",
              "      <td>181.570007</td>\n",
              "      <td>54.276497</td>\n",
              "      <td>-1.939987</td>\n",
              "      <td>-1.859985</td>\n",
              "      <td>-4.089996</td>\n",
              "      <td>-2.059998</td>\n",
              "      <td>1</td>\n",
              "    </tr>\n",
              "    <tr>\n",
              "      <th>2020-05-27</th>\n",
              "      <td>181.990005</td>\n",
              "      <td>176.600006</td>\n",
              "      <td>180.199997</td>\n",
              "      <td>181.809998</td>\n",
              "      <td>39517100.0</td>\n",
              "      <td>181.809998</td>\n",
              "      <td>54.591974</td>\n",
              "      <td>0.239990</td>\n",
              "      <td>-1.699997</td>\n",
              "      <td>-1.619995</td>\n",
              "      <td>-3.850006</td>\n",
              "      <td>0</td>\n",
              "    </tr>\n",
              "  </tbody>\n",
              "</table>\n",
              "</div>"
            ],
            "text/plain": [
              "                  High         Low        Open  ...      Dif3      Dif4  Trend\n",
              "Date                                            ...                           \n",
              "2020-05-20  185.850006  183.940002  184.809998  ...  2.500000  5.130005      0\n",
              "2020-05-21  186.669998  183.289993  185.399994  ... -1.480011  0.269989      1\n",
              "2020-05-22  184.460007  182.539993  183.190002  ... -0.120010 -1.400009      0\n",
              "2020-05-26  186.500000  181.100006  186.339996  ... -4.089996 -2.059998      1\n",
              "2020-05-27  181.990005  176.600006  180.199997  ... -1.619995 -3.850006      0\n",
              "\n",
              "[5 rows x 12 columns]"
            ]
          },
          "metadata": {
            "tags": []
          },
          "execution_count": 6
        }
      ]
    },
    {
      "cell_type": "code",
      "metadata": {
        "id": "IP0XHtAEjxJS",
        "colab_type": "code",
        "colab": {
          "base_uri": "https://localhost:8080/",
          "height": 136
        },
        "outputId": "84e241fa-576d-4252-e4f2-e3609ffabe01"
      },
      "source": [
        "#create variable to store the target and predictor information.\n",
        "#Drop Null values since this classifier does not accept them.\n",
        "\n",
        "msft.dropna(inplace=True)\n",
        "predictors = ['RSI','Dif1','Dif2','Dif3','Dif4']\n",
        "independant = msft[predictors]\n",
        "dependant = msft.Trend\n",
        "\n",
        "dependant.tail()"
      ],
      "execution_count": 7,
      "outputs": [
        {
          "output_type": "execute_result",
          "data": {
            "text/plain": [
              "Date\n",
              "2020-05-20    0\n",
              "2020-05-21    1\n",
              "2020-05-22    0\n",
              "2020-05-26    1\n",
              "2020-05-27    0\n",
              "Name: Trend, dtype: int64"
            ]
          },
          "metadata": {
            "tags": []
          },
          "execution_count": 7
        }
      ]
    },
    {
      "cell_type": "code",
      "metadata": {
        "id": "gi-jDmbvllfW",
        "colab_type": "code",
        "colab": {
          "base_uri": "https://localhost:8080/",
          "height": 51
        },
        "outputId": "82264ca3-7b8b-4852-d5e0-bd37cdfb844f"
      },
      "source": [
        "#Splitting the data into train and test sets. 80% of data will be used to train and 20% will be used to test. Randome state paramater set to a fixed value to ensure data is split evenly for every iteration. \n",
        "#Stratified sampling is chosen over random sampling due to the need to equally distribute features between the train and test, specifically making sure that the trend values (1,0) are distributed in equal proportions between both training and testing. \n",
        "\n",
        "independant_train, independant_test, dependant_train, dependant_test = train_test_split(independant,dependant,test_size = 0.2, random_state = 40, stratify = dependant)\n",
        "print(independant_train.shape, dependant_train.shape)\n",
        "print(independant_test.shape, dependant_train.shape)"
      ],
      "execution_count": 8,
      "outputs": [
        {
          "output_type": "stream",
          "text": [
            "(2002, 5) (2002,)\n",
            "(501, 5) (2002,)\n"
          ],
          "name": "stdout"
        }
      ]
    },
    {
      "cell_type": "code",
      "metadata": {
        "id": "ODS8wZczpLpw",
        "colab_type": "code",
        "colab": {}
      },
      "source": [
        "#Building the classification model. The gini index is the criterion to be used because it measures the impurity of the data at a given point. \n",
        "#This gini function measures the quality of the split. Supported criteria are “gini” for the Gini impurity and “entropy” for the information gain.\n",
        "\n",
        "treeclf = DecisionTreeClassifier(criterion='gini', max_depth = 10, min_samples_leaf = 15)\n",
        "treeclf\n",
        "treefit = treeclf.fit(independant_train,dependant_train)\n"
      ],
      "execution_count": 9,
      "outputs": []
    },
    {
      "cell_type": "code",
      "metadata": {
        "id": "_isb_ip0rK0x",
        "colab_type": "code",
        "colab": {
          "base_uri": "https://localhost:8080/",
          "height": 1000
        },
        "outputId": "96fd1c79-59f6-44d4-86d1-676943e7da4b"
      },
      "source": [
        "#Visualize the data\n",
        "\n",
        "treeviz = tree.export_graphviz(treefit, out_file=None, filled = True, feature_names=predictors)\n",
        "graphviz.Source(treeviz)"
      ],
      "execution_count": 10,
      "outputs": [
        {
          "output_type": "execute_result",
          "data": {
            "text/plain": [
              "<graphviz.files.Source at 0x7f186c847ef0>"
            ],
            "image/svg+xml": "<?xml version=\"1.0\" encoding=\"UTF-8\" standalone=\"no\"?>\n<!DOCTYPE svg PUBLIC \"-//W3C//DTD SVG 1.1//EN\"\n \"http://www.w3.org/Graphics/SVG/1.1/DTD/svg11.dtd\">\n<!-- Generated by graphviz version 2.40.1 (20161225.0304)\n -->\n<!-- Title: Tree Pages: 1 -->\n<svg width=\"1729pt\" height=\"1101pt\"\n viewBox=\"0.00 0.00 1728.50 1101.00\" xmlns=\"http://www.w3.org/2000/svg\" xmlns:xlink=\"http://www.w3.org/1999/xlink\">\n<g id=\"graph0\" class=\"graph\" transform=\"scale(1 1) rotate(0) translate(4 1097)\">\n<title>Tree</title>\n<polygon fill=\"#ffffff\" stroke=\"transparent\" points=\"-4,4 -4,-1097 1724.5,-1097 1724.5,4 -4,4\"/>\n<!-- 0 -->\n<g id=\"node1\" class=\"node\">\n<title>0</title>\n<polygon fill=\"#f1f8fd\" stroke=\"#000000\" points=\"1295.5,-1093 1163.5,-1093 1163.5,-1025 1295.5,-1025 1295.5,-1093\"/>\n<text text-anchor=\"middle\" x=\"1229.5\" y=\"-1077.8\" font-family=\"Times,serif\" font-size=\"14.00\" fill=\"#000000\">Dif2 &lt;= &#45;3.455</text>\n<text text-anchor=\"middle\" x=\"1229.5\" y=\"-1062.8\" font-family=\"Times,serif\" font-size=\"14.00\" fill=\"#000000\">gini = 0.499</text>\n<text text-anchor=\"middle\" x=\"1229.5\" y=\"-1047.8\" font-family=\"Times,serif\" font-size=\"14.00\" fill=\"#000000\">samples = 2002</text>\n<text text-anchor=\"middle\" x=\"1229.5\" y=\"-1032.8\" font-family=\"Times,serif\" font-size=\"14.00\" fill=\"#000000\">value = [963, 1039]</text>\n</g>\n<!-- 1 -->\n<g id=\"node2\" class=\"node\">\n<title>1</title>\n<polygon fill=\"#70b8ec\" stroke=\"#000000\" points=\"1215.5,-989 1105.5,-989 1105.5,-921 1215.5,-921 1215.5,-989\"/>\n<text text-anchor=\"middle\" x=\"1160.5\" y=\"-973.8\" font-family=\"Times,serif\" font-size=\"14.00\" fill=\"#000000\">Dif4 &lt;= &#45;4.235</text>\n<text text-anchor=\"middle\" x=\"1160.5\" y=\"-958.8\" font-family=\"Times,serif\" font-size=\"14.00\" fill=\"#000000\">gini = 0.34</text>\n<text text-anchor=\"middle\" x=\"1160.5\" y=\"-943.8\" font-family=\"Times,serif\" font-size=\"14.00\" fill=\"#000000\">samples = 46</text>\n<text text-anchor=\"middle\" x=\"1160.5\" y=\"-928.8\" font-family=\"Times,serif\" font-size=\"14.00\" fill=\"#000000\">value = [10, 36]</text>\n</g>\n<!-- 0&#45;&gt;1 -->\n<g id=\"edge1\" class=\"edge\">\n<title>0&#45;&gt;1</title>\n<path fill=\"none\" stroke=\"#000000\" d=\"M1206.9068,-1024.9465C1201.1286,-1016.2373 1194.8425,-1006.7626 1188.8166,-997.6801\"/>\n<polygon fill=\"#000000\" stroke=\"#000000\" points=\"1191.589,-995.5278 1183.1439,-989.13 1185.756,-999.3978 1191.589,-995.5278\"/>\n<text text-anchor=\"middle\" x=\"1178.1866\" y=\"-1009.9336\" font-family=\"Times,serif\" font-size=\"14.00\" fill=\"#000000\">True</text>\n</g>\n<!-- 4 -->\n<g id=\"node5\" class=\"node\">\n<title>4</title>\n<polygon fill=\"#f5fafe\" stroke=\"#000000\" points=\"1365.5,-989 1233.5,-989 1233.5,-921 1365.5,-921 1365.5,-989\"/>\n<text text-anchor=\"middle\" x=\"1299.5\" y=\"-973.8\" font-family=\"Times,serif\" font-size=\"14.00\" fill=\"#000000\">Dif4 &lt;= 4.235</text>\n<text text-anchor=\"middle\" x=\"1299.5\" y=\"-958.8\" font-family=\"Times,serif\" font-size=\"14.00\" fill=\"#000000\">gini = 0.5</text>\n<text text-anchor=\"middle\" x=\"1299.5\" y=\"-943.8\" font-family=\"Times,serif\" font-size=\"14.00\" fill=\"#000000\">samples = 1956</text>\n<text text-anchor=\"middle\" x=\"1299.5\" y=\"-928.8\" font-family=\"Times,serif\" font-size=\"14.00\" fill=\"#000000\">value = [953, 1003]</text>\n</g>\n<!-- 0&#45;&gt;4 -->\n<g id=\"edge4\" class=\"edge\">\n<title>0&#45;&gt;4</title>\n<path fill=\"none\" stroke=\"#000000\" d=\"M1252.4206,-1024.9465C1258.2826,-1016.2373 1264.6598,-1006.7626 1270.773,-997.6801\"/>\n<polygon fill=\"#000000\" stroke=\"#000000\" points=\"1273.8476,-999.3802 1276.5279,-989.13 1268.0405,-995.4716 1273.8476,-999.3802\"/>\n<text text-anchor=\"middle\" x=\"1281.3223\" y=\"-1009.966\" font-family=\"Times,serif\" font-size=\"14.00\" fill=\"#000000\">False</text>\n</g>\n<!-- 2 -->\n<g id=\"node3\" class=\"node\">\n<title>2</title>\n<polygon fill=\"#97cbf1\" stroke=\"#000000\" points=\"1093.5,-877.5 991.5,-877.5 991.5,-824.5 1093.5,-824.5 1093.5,-877.5\"/>\n<text text-anchor=\"middle\" x=\"1042.5\" y=\"-862.3\" font-family=\"Times,serif\" font-size=\"14.00\" fill=\"#000000\">gini = 0.436</text>\n<text text-anchor=\"middle\" x=\"1042.5\" y=\"-847.3\" font-family=\"Times,serif\" font-size=\"14.00\" fill=\"#000000\">samples = 28</text>\n<text text-anchor=\"middle\" x=\"1042.5\" y=\"-832.3\" font-family=\"Times,serif\" font-size=\"14.00\" fill=\"#000000\">value = [9, 19]</text>\n</g>\n<!-- 1&#45;&gt;2 -->\n<g id=\"edge2\" class=\"edge\">\n<title>1&#45;&gt;2</title>\n<path fill=\"none\" stroke=\"#000000\" d=\"M1121.8624,-920.9465C1108.4899,-909.1606 1093.5266,-895.9726 1080.2281,-884.2519\"/>\n<polygon fill=\"#000000\" stroke=\"#000000\" points=\"1082.4315,-881.5285 1072.6151,-877.5422 1077.803,-886.7799 1082.4315,-881.5285\"/>\n</g>\n<!-- 3 -->\n<g id=\"node4\" class=\"node\">\n<title>3</title>\n<polygon fill=\"#45a3e7\" stroke=\"#000000\" points=\"1213.5,-877.5 1111.5,-877.5 1111.5,-824.5 1213.5,-824.5 1213.5,-877.5\"/>\n<text text-anchor=\"middle\" x=\"1162.5\" y=\"-862.3\" font-family=\"Times,serif\" font-size=\"14.00\" fill=\"#000000\">gini = 0.105</text>\n<text text-anchor=\"middle\" x=\"1162.5\" y=\"-847.3\" font-family=\"Times,serif\" font-size=\"14.00\" fill=\"#000000\">samples = 18</text>\n<text text-anchor=\"middle\" x=\"1162.5\" y=\"-832.3\" font-family=\"Times,serif\" font-size=\"14.00\" fill=\"#000000\">value = [1, 17]</text>\n</g>\n<!-- 1&#45;&gt;3 -->\n<g id=\"edge3\" class=\"edge\">\n<title>1&#45;&gt;3</title>\n<path fill=\"none\" stroke=\"#000000\" d=\"M1161.1549,-920.9465C1161.3603,-910.2621 1161.588,-898.4254 1161.7966,-887.5742\"/>\n<polygon fill=\"#000000\" stroke=\"#000000\" points=\"1165.2966,-887.6076 1161.9896,-877.5422 1158.2979,-887.473 1165.2966,-887.6076\"/>\n</g>\n<!-- 5 -->\n<g id=\"node6\" class=\"node\">\n<title>5</title>\n<polygon fill=\"#f1f8fd\" stroke=\"#000000\" points=\"1360,-885 1235,-885 1235,-817 1360,-817 1360,-885\"/>\n<text text-anchor=\"middle\" x=\"1297.5\" y=\"-869.8\" font-family=\"Times,serif\" font-size=\"14.00\" fill=\"#000000\">Dif2 &lt;= 1.98</text>\n<text text-anchor=\"middle\" x=\"1297.5\" y=\"-854.8\" font-family=\"Times,serif\" font-size=\"14.00\" fill=\"#000000\">gini = 0.499</text>\n<text text-anchor=\"middle\" x=\"1297.5\" y=\"-839.8\" font-family=\"Times,serif\" font-size=\"14.00\" fill=\"#000000\">samples = 1885</text>\n<text text-anchor=\"middle\" x=\"1297.5\" y=\"-824.8\" font-family=\"Times,serif\" font-size=\"14.00\" fill=\"#000000\">value = [907, 978]</text>\n</g>\n<!-- 4&#45;&gt;5 -->\n<g id=\"edge5\" class=\"edge\">\n<title>4&#45;&gt;5</title>\n<path fill=\"none\" stroke=\"#000000\" d=\"M1298.8451,-920.9465C1298.688,-912.776 1298.5179,-903.9318 1298.3533,-895.3697\"/>\n<polygon fill=\"#000000\" stroke=\"#000000\" points=\"1301.8481,-895.0608 1298.1563,-885.13 1294.8494,-895.1955 1301.8481,-895.0608\"/>\n</g>\n<!-- 60 -->\n<g id=\"node61\" class=\"node\">\n<title>60</title>\n<polygon fill=\"#f3c5a5\" stroke=\"#000000\" points=\"1488.5,-885 1378.5,-885 1378.5,-817 1488.5,-817 1488.5,-885\"/>\n<text text-anchor=\"middle\" x=\"1433.5\" y=\"-869.8\" font-family=\"Times,serif\" font-size=\"14.00\" fill=\"#000000\">RSI &lt;= 61.074</text>\n<text text-anchor=\"middle\" x=\"1433.5\" y=\"-854.8\" font-family=\"Times,serif\" font-size=\"14.00\" fill=\"#000000\">gini = 0.456</text>\n<text text-anchor=\"middle\" x=\"1433.5\" y=\"-839.8\" font-family=\"Times,serif\" font-size=\"14.00\" fill=\"#000000\">samples = 71</text>\n<text text-anchor=\"middle\" x=\"1433.5\" y=\"-824.8\" font-family=\"Times,serif\" font-size=\"14.00\" fill=\"#000000\">value = [46, 25]</text>\n</g>\n<!-- 4&#45;&gt;60 -->\n<g id=\"edge60\" class=\"edge\">\n<title>4&#45;&gt;60</title>\n<path fill=\"none\" stroke=\"#000000\" d=\"M1343.3766,-920.9465C1355.5235,-911.519 1368.8262,-901.1946 1381.3927,-891.4415\"/>\n<polygon fill=\"#000000\" stroke=\"#000000\" points=\"1383.7709,-894.0262 1389.5248,-885.13 1379.479,-888.4963 1383.7709,-894.0262\"/>\n</g>\n<!-- 6 -->\n<g id=\"node7\" class=\"node\">\n<title>6</title>\n<polygon fill=\"#f5fafe\" stroke=\"#000000\" points=\"1034,-781 909,-781 909,-713 1034,-713 1034,-781\"/>\n<text text-anchor=\"middle\" x=\"971.5\" y=\"-765.8\" font-family=\"Times,serif\" font-size=\"14.00\" fill=\"#000000\">Dif1 &lt;= &#45;0.555</text>\n<text text-anchor=\"middle\" x=\"971.5\" y=\"-750.8\" font-family=\"Times,serif\" font-size=\"14.00\" fill=\"#000000\">gini = 0.5</text>\n<text text-anchor=\"middle\" x=\"971.5\" y=\"-735.8\" font-family=\"Times,serif\" font-size=\"14.00\" fill=\"#000000\">samples = 1800</text>\n<text text-anchor=\"middle\" x=\"971.5\" y=\"-720.8\" font-family=\"Times,serif\" font-size=\"14.00\" fill=\"#000000\">value = [876, 924]</text>\n</g>\n<!-- 5&#45;&gt;6 -->\n<g id=\"edge6\" class=\"edge\">\n<title>5&#45;&gt;6</title>\n<path fill=\"none\" stroke=\"#000000\" d=\"M1234.7724,-821.7185C1230.6466,-820.055 1226.5306,-818.4658 1222.5,-817 1163.5102,-795.5474 1094.7318,-776.7862 1044.1041,-764.1007\"/>\n<polygon fill=\"#000000\" stroke=\"#000000\" points=\"1044.7778,-760.6618 1034.2288,-761.6457 1043.0889,-767.455 1044.7778,-760.6618\"/>\n</g>\n<!-- 53 -->\n<g id=\"node54\" class=\"node\">\n<title>53</title>\n<polygon fill=\"#abd5f4\" stroke=\"#000000\" points=\"1355.5,-781 1245.5,-781 1245.5,-713 1355.5,-713 1355.5,-781\"/>\n<text text-anchor=\"middle\" x=\"1300.5\" y=\"-765.8\" font-family=\"Times,serif\" font-size=\"14.00\" fill=\"#000000\">Dif4 &lt;= 2.88</text>\n<text text-anchor=\"middle\" x=\"1300.5\" y=\"-750.8\" font-family=\"Times,serif\" font-size=\"14.00\" fill=\"#000000\">gini = 0.463</text>\n<text text-anchor=\"middle\" x=\"1300.5\" y=\"-735.8\" font-family=\"Times,serif\" font-size=\"14.00\" fill=\"#000000\">samples = 85</text>\n<text text-anchor=\"middle\" x=\"1300.5\" y=\"-720.8\" font-family=\"Times,serif\" font-size=\"14.00\" fill=\"#000000\">value = [31, 54]</text>\n</g>\n<!-- 5&#45;&gt;53 -->\n<g id=\"edge53\" class=\"edge\">\n<title>5&#45;&gt;53</title>\n<path fill=\"none\" stroke=\"#000000\" d=\"M1298.4823,-816.9465C1298.718,-808.776 1298.9731,-799.9318 1299.2201,-791.3697\"/>\n<polygon fill=\"#000000\" stroke=\"#000000\" points=\"1302.7256,-791.2268 1299.5155,-781.13 1295.7285,-791.0249 1302.7256,-791.2268\"/>\n</g>\n<!-- 7 -->\n<g id=\"node8\" class=\"node\">\n<title>7</title>\n<polygon fill=\"#cbe5f8\" stroke=\"#000000\" points=\"728,-677 603,-677 603,-609 728,-609 728,-677\"/>\n<text text-anchor=\"middle\" x=\"665.5\" y=\"-661.8\" font-family=\"Times,serif\" font-size=\"14.00\" fill=\"#000000\">Dif1 &lt;= &#45;2.07</text>\n<text text-anchor=\"middle\" x=\"665.5\" y=\"-646.8\" font-family=\"Times,serif\" font-size=\"14.00\" fill=\"#000000\">gini = 0.489</text>\n<text text-anchor=\"middle\" x=\"665.5\" y=\"-631.8\" font-family=\"Times,serif\" font-size=\"14.00\" fill=\"#000000\">samples = 238</text>\n<text text-anchor=\"middle\" x=\"665.5\" y=\"-616.8\" font-family=\"Times,serif\" font-size=\"14.00\" fill=\"#000000\">value = [101, 137]</text>\n</g>\n<!-- 6&#45;&gt;7 -->\n<g id=\"edge7\" class=\"edge\">\n<title>6&#45;&gt;7</title>\n<path fill=\"none\" stroke=\"#000000\" d=\"M908.8379,-725.7031C859.1266,-708.8077 789.5925,-685.1752 737.5779,-667.4971\"/>\n<polygon fill=\"#000000\" stroke=\"#000000\" points=\"738.6727,-664.1726 728.0783,-664.2684 736.4201,-670.8003 738.6727,-664.1726\"/>\n</g>\n<!-- 26 -->\n<g id=\"node27\" class=\"node\">\n<title>26</title>\n<polygon fill=\"#fcfeff\" stroke=\"#000000\" points=\"1034,-677 909,-677 909,-609 1034,-609 1034,-677\"/>\n<text text-anchor=\"middle\" x=\"971.5\" y=\"-661.8\" font-family=\"Times,serif\" font-size=\"14.00\" fill=\"#000000\">Dif1 &lt;= &#45;0.38</text>\n<text text-anchor=\"middle\" x=\"971.5\" y=\"-646.8\" font-family=\"Times,serif\" font-size=\"14.00\" fill=\"#000000\">gini = 0.5</text>\n<text text-anchor=\"middle\" x=\"971.5\" y=\"-631.8\" font-family=\"Times,serif\" font-size=\"14.00\" fill=\"#000000\">samples = 1562</text>\n<text text-anchor=\"middle\" x=\"971.5\" y=\"-616.8\" font-family=\"Times,serif\" font-size=\"14.00\" fill=\"#000000\">value = [775, 787]</text>\n</g>\n<!-- 6&#45;&gt;26 -->\n<g id=\"edge26\" class=\"edge\">\n<title>6&#45;&gt;26</title>\n<path fill=\"none\" stroke=\"#000000\" d=\"M971.5,-712.9465C971.5,-704.776 971.5,-695.9318 971.5,-687.3697\"/>\n<polygon fill=\"#000000\" stroke=\"#000000\" points=\"975.0001,-687.13 971.5,-677.13 968.0001,-687.13 975.0001,-687.13\"/>\n</g>\n<!-- 8 -->\n<g id=\"node9\" class=\"node\">\n<title>8</title>\n<polygon fill=\"#f1bc96\" stroke=\"#000000\" points=\"588.5,-565.5 486.5,-565.5 486.5,-512.5 588.5,-512.5 588.5,-565.5\"/>\n<text text-anchor=\"middle\" x=\"537.5\" y=\"-550.3\" font-family=\"Times,serif\" font-size=\"14.00\" fill=\"#000000\">gini = 0.435</text>\n<text text-anchor=\"middle\" x=\"537.5\" y=\"-535.3\" font-family=\"Times,serif\" font-size=\"14.00\" fill=\"#000000\">samples = 25</text>\n<text text-anchor=\"middle\" x=\"537.5\" y=\"-520.3\" font-family=\"Times,serif\" font-size=\"14.00\" fill=\"#000000\">value = [17, 8]</text>\n</g>\n<!-- 7&#45;&gt;8 -->\n<g id=\"edge8\" class=\"edge\">\n<title>7&#45;&gt;8</title>\n<path fill=\"none\" stroke=\"#000000\" d=\"M623.588,-608.9465C608.9467,-597.0504 592.5474,-583.726 578.0215,-571.9237\"/>\n<polygon fill=\"#000000\" stroke=\"#000000\" points=\"580.1355,-569.1317 570.1673,-565.5422 575.7214,-574.5645 580.1355,-569.1317\"/>\n</g>\n<!-- 9 -->\n<g id=\"node10\" class=\"node\">\n<title>9</title>\n<polygon fill=\"#baddf6\" stroke=\"#000000\" points=\"724,-573 607,-573 607,-505 724,-505 724,-573\"/>\n<text text-anchor=\"middle\" x=\"665.5\" y=\"-557.8\" font-family=\"Times,serif\" font-size=\"14.00\" fill=\"#000000\">Dif3 &lt;= 0.83</text>\n<text text-anchor=\"middle\" x=\"665.5\" y=\"-542.8\" font-family=\"Times,serif\" font-size=\"14.00\" fill=\"#000000\">gini = 0.478</text>\n<text text-anchor=\"middle\" x=\"665.5\" y=\"-527.8\" font-family=\"Times,serif\" font-size=\"14.00\" fill=\"#000000\">samples = 213</text>\n<text text-anchor=\"middle\" x=\"665.5\" y=\"-512.8\" font-family=\"Times,serif\" font-size=\"14.00\" fill=\"#000000\">value = [84, 129]</text>\n</g>\n<!-- 7&#45;&gt;9 -->\n<g id=\"edge9\" class=\"edge\">\n<title>7&#45;&gt;9</title>\n<path fill=\"none\" stroke=\"#000000\" d=\"M665.5,-608.9465C665.5,-600.776 665.5,-591.9318 665.5,-583.3697\"/>\n<polygon fill=\"#000000\" stroke=\"#000000\" points=\"669.0001,-583.13 665.5,-573.13 662.0001,-583.13 669.0001,-583.13\"/>\n</g>\n<!-- 10 -->\n<g id=\"node11\" class=\"node\">\n<title>10</title>\n<polygon fill=\"#acd6f4\" stroke=\"#000000\" points=\"596,-469 479,-469 479,-401 596,-401 596,-469\"/>\n<text text-anchor=\"middle\" x=\"537.5\" y=\"-453.8\" font-family=\"Times,serif\" font-size=\"14.00\" fill=\"#000000\">Dif3 &lt;= 0.18</text>\n<text text-anchor=\"middle\" x=\"537.5\" y=\"-438.8\" font-family=\"Times,serif\" font-size=\"14.00\" fill=\"#000000\">gini = 0.465</text>\n<text text-anchor=\"middle\" x=\"537.5\" y=\"-423.8\" font-family=\"Times,serif\" font-size=\"14.00\" fill=\"#000000\">samples = 193</text>\n<text text-anchor=\"middle\" x=\"537.5\" y=\"-408.8\" font-family=\"Times,serif\" font-size=\"14.00\" fill=\"#000000\">value = [71, 122]</text>\n</g>\n<!-- 9&#45;&gt;10 -->\n<g id=\"edge10\" class=\"edge\">\n<title>9&#45;&gt;10</title>\n<path fill=\"none\" stroke=\"#000000\" d=\"M623.588,-504.9465C611.985,-495.519 599.2779,-485.1946 587.2741,-475.4415\"/>\n<polygon fill=\"#000000\" stroke=\"#000000\" points=\"589.4744,-472.7196 579.5061,-469.13 585.0602,-478.1524 589.4744,-472.7196\"/>\n</g>\n<!-- 25 -->\n<g id=\"node26\" class=\"node\">\n<title>25</title>\n<polygon fill=\"#f3c5a4\" stroke=\"#000000\" points=\"716.5,-461.5 614.5,-461.5 614.5,-408.5 716.5,-408.5 716.5,-461.5\"/>\n<text text-anchor=\"middle\" x=\"665.5\" y=\"-446.3\" font-family=\"Times,serif\" font-size=\"14.00\" fill=\"#000000\">gini = 0.455</text>\n<text text-anchor=\"middle\" x=\"665.5\" y=\"-431.3\" font-family=\"Times,serif\" font-size=\"14.00\" fill=\"#000000\">samples = 20</text>\n<text text-anchor=\"middle\" x=\"665.5\" y=\"-416.3\" font-family=\"Times,serif\" font-size=\"14.00\" fill=\"#000000\">value = [13, 7]</text>\n</g>\n<!-- 9&#45;&gt;25 -->\n<g id=\"edge25\" class=\"edge\">\n<title>9&#45;&gt;25</title>\n<path fill=\"none\" stroke=\"#000000\" d=\"M665.5,-504.9465C665.5,-494.2621 665.5,-482.4254 665.5,-471.5742\"/>\n<polygon fill=\"#000000\" stroke=\"#000000\" points=\"669.0001,-471.5421 665.5,-461.5422 662.0001,-471.5422 669.0001,-471.5421\"/>\n</g>\n<!-- 11 -->\n<g id=\"node12\" class=\"node\">\n<title>11</title>\n<polygon fill=\"#b9dcf6\" stroke=\"#000000\" points=\"470,-365 353,-365 353,-297 470,-297 470,-365\"/>\n<text text-anchor=\"middle\" x=\"411.5\" y=\"-349.8\" font-family=\"Times,serif\" font-size=\"14.00\" fill=\"#000000\">Dif3 &lt;= &#45;0.45</text>\n<text text-anchor=\"middle\" x=\"411.5\" y=\"-334.8\" font-family=\"Times,serif\" font-size=\"14.00\" fill=\"#000000\">gini = 0.477</text>\n<text text-anchor=\"middle\" x=\"411.5\" y=\"-319.8\" font-family=\"Times,serif\" font-size=\"14.00\" fill=\"#000000\">samples = 173</text>\n<text text-anchor=\"middle\" x=\"411.5\" y=\"-304.8\" font-family=\"Times,serif\" font-size=\"14.00\" fill=\"#000000\">value = [68, 105]</text>\n</g>\n<!-- 10&#45;&gt;11 -->\n<g id=\"edge11\" class=\"edge\">\n<title>10&#45;&gt;11</title>\n<path fill=\"none\" stroke=\"#000000\" d=\"M496.2429,-400.9465C484.9299,-391.6088 472.5508,-381.3911 460.8342,-371.7203\"/>\n<polygon fill=\"#000000\" stroke=\"#000000\" points=\"462.79,-368.7964 452.8498,-365.13 458.3341,-374.195 462.79,-368.7964\"/>\n</g>\n<!-- 24 -->\n<g id=\"node25\" class=\"node\">\n<title>24</title>\n<polygon fill=\"#5caeea\" stroke=\"#000000\" points=\"590.5,-357.5 488.5,-357.5 488.5,-304.5 590.5,-304.5 590.5,-357.5\"/>\n<text text-anchor=\"middle\" x=\"539.5\" y=\"-342.3\" font-family=\"Times,serif\" font-size=\"14.00\" fill=\"#000000\">gini = 0.255</text>\n<text text-anchor=\"middle\" x=\"539.5\" y=\"-327.3\" font-family=\"Times,serif\" font-size=\"14.00\" fill=\"#000000\">samples = 20</text>\n<text text-anchor=\"middle\" x=\"539.5\" y=\"-312.3\" font-family=\"Times,serif\" font-size=\"14.00\" fill=\"#000000\">value = [3, 17]</text>\n</g>\n<!-- 10&#45;&gt;24 -->\n<g id=\"edge24\" class=\"edge\">\n<title>10&#45;&gt;24</title>\n<path fill=\"none\" stroke=\"#000000\" d=\"M538.1549,-400.9465C538.3603,-390.2621 538.588,-378.4254 538.7966,-367.5742\"/>\n<polygon fill=\"#000000\" stroke=\"#000000\" points=\"542.2966,-367.6076 538.9896,-357.5422 535.2979,-367.473 542.2966,-367.6076\"/>\n</g>\n<!-- 12 -->\n<g id=\"node13\" class=\"node\">\n<title>12</title>\n<polygon fill=\"#a2d1f3\" stroke=\"#000000\" points=\"343.5,-261 233.5,-261 233.5,-193 343.5,-193 343.5,-261\"/>\n<text text-anchor=\"middle\" x=\"288.5\" y=\"-245.8\" font-family=\"Times,serif\" font-size=\"14.00\" fill=\"#000000\">Dif1 &lt;= &#45;1.185</text>\n<text text-anchor=\"middle\" x=\"288.5\" y=\"-230.8\" font-family=\"Times,serif\" font-size=\"14.00\" fill=\"#000000\">gini = 0.453</text>\n<text text-anchor=\"middle\" x=\"288.5\" y=\"-215.8\" font-family=\"Times,serif\" font-size=\"14.00\" fill=\"#000000\">samples = 127</text>\n<text text-anchor=\"middle\" x=\"288.5\" y=\"-200.8\" font-family=\"Times,serif\" font-size=\"14.00\" fill=\"#000000\">value = [44, 83]</text>\n</g>\n<!-- 11&#45;&gt;12 -->\n<g id=\"edge12\" class=\"edge\">\n<title>11&#45;&gt;12</title>\n<path fill=\"none\" stroke=\"#000000\" d=\"M371.2252,-296.9465C360.1816,-287.6088 348.0972,-277.3911 336.6596,-267.7203\"/>\n<polygon fill=\"#000000\" stroke=\"#000000\" points=\"338.7614,-264.914 328.8653,-261.13 334.2417,-270.2594 338.7614,-264.914\"/>\n</g>\n<!-- 19 -->\n<g id=\"node20\" class=\"node\">\n<title>19</title>\n<polygon fill=\"#fdf5ef\" stroke=\"#000000\" points=\"471.5,-261 361.5,-261 361.5,-193 471.5,-193 471.5,-261\"/>\n<text text-anchor=\"middle\" x=\"416.5\" y=\"-245.8\" font-family=\"Times,serif\" font-size=\"14.00\" fill=\"#000000\">Dif2 &lt;= &#45;0.685</text>\n<text text-anchor=\"middle\" x=\"416.5\" y=\"-230.8\" font-family=\"Times,serif\" font-size=\"14.00\" fill=\"#000000\">gini = 0.499</text>\n<text text-anchor=\"middle\" x=\"416.5\" y=\"-215.8\" font-family=\"Times,serif\" font-size=\"14.00\" fill=\"#000000\">samples = 46</text>\n<text text-anchor=\"middle\" x=\"416.5\" y=\"-200.8\" font-family=\"Times,serif\" font-size=\"14.00\" fill=\"#000000\">value = [24, 22]</text>\n</g>\n<!-- 11&#45;&gt;19 -->\n<g id=\"edge19\" class=\"edge\">\n<title>11&#45;&gt;19</title>\n<path fill=\"none\" stroke=\"#000000\" d=\"M413.1372,-296.9465C413.53,-288.776 413.9552,-279.9318 414.3668,-271.3697\"/>\n<polygon fill=\"#000000\" stroke=\"#000000\" points=\"417.8748,-271.2866 414.8591,-261.13 410.8829,-270.9504 417.8748,-271.2866\"/>\n</g>\n<!-- 13 -->\n<g id=\"node14\" class=\"node\">\n<title>13</title>\n<polygon fill=\"#72b9ed\" stroke=\"#000000\" points=\"216,-157 111,-157 111,-89 216,-89 216,-157\"/>\n<text text-anchor=\"middle\" x=\"163.5\" y=\"-141.8\" font-family=\"Times,serif\" font-size=\"14.00\" fill=\"#000000\">Dif1 &lt;= &#45;1.645</text>\n<text text-anchor=\"middle\" x=\"163.5\" y=\"-126.8\" font-family=\"Times,serif\" font-size=\"14.00\" fill=\"#000000\">gini = 0.349</text>\n<text text-anchor=\"middle\" x=\"163.5\" y=\"-111.8\" font-family=\"Times,serif\" font-size=\"14.00\" fill=\"#000000\">samples = 40</text>\n<text text-anchor=\"middle\" x=\"163.5\" y=\"-96.8\" font-family=\"Times,serif\" font-size=\"14.00\" fill=\"#000000\">value = [9, 31]</text>\n</g>\n<!-- 12&#45;&gt;13 -->\n<g id=\"edge13\" class=\"edge\">\n<title>12&#45;&gt;13</title>\n<path fill=\"none\" stroke=\"#000000\" d=\"M247.5703,-192.9465C236.3472,-183.6088 224.0663,-173.3911 212.4427,-163.7203\"/>\n<polygon fill=\"#000000\" stroke=\"#000000\" points=\"214.4474,-160.8353 204.5216,-157.13 209.9704,-166.2164 214.4474,-160.8353\"/>\n</g>\n<!-- 16 -->\n<g id=\"node17\" class=\"node\">\n<title>16</title>\n<polygon fill=\"#bedff6\" stroke=\"#000000\" points=\"344.5,-157 234.5,-157 234.5,-89 344.5,-89 344.5,-157\"/>\n<text text-anchor=\"middle\" x=\"289.5\" y=\"-141.8\" font-family=\"Times,serif\" font-size=\"14.00\" fill=\"#000000\">RSI &lt;= 53.889</text>\n<text text-anchor=\"middle\" x=\"289.5\" y=\"-126.8\" font-family=\"Times,serif\" font-size=\"14.00\" fill=\"#000000\">gini = 0.481</text>\n<text text-anchor=\"middle\" x=\"289.5\" y=\"-111.8\" font-family=\"Times,serif\" font-size=\"14.00\" fill=\"#000000\">samples = 87</text>\n<text text-anchor=\"middle\" x=\"289.5\" y=\"-96.8\" font-family=\"Times,serif\" font-size=\"14.00\" fill=\"#000000\">value = [35, 52]</text>\n</g>\n<!-- 12&#45;&gt;16 -->\n<g id=\"edge16\" class=\"edge\">\n<title>12&#45;&gt;16</title>\n<path fill=\"none\" stroke=\"#000000\" d=\"M288.8274,-192.9465C288.906,-184.776 288.991,-175.9318 289.0734,-167.3697\"/>\n<polygon fill=\"#000000\" stroke=\"#000000\" points=\"292.5754,-167.1632 289.1718,-157.13 285.5757,-167.0958 292.5754,-167.1632\"/>\n</g>\n<!-- 14 -->\n<g id=\"node15\" class=\"node\">\n<title>14</title>\n<polygon fill=\"#bddef6\" stroke=\"#000000\" points=\"95,-53 0,-53 0,0 95,0 95,-53\"/>\n<text text-anchor=\"middle\" x=\"47.5\" y=\"-37.8\" font-family=\"Times,serif\" font-size=\"14.00\" fill=\"#000000\">gini = 0.48</text>\n<text text-anchor=\"middle\" x=\"47.5\" y=\"-22.8\" font-family=\"Times,serif\" font-size=\"14.00\" fill=\"#000000\">samples = 15</text>\n<text text-anchor=\"middle\" x=\"47.5\" y=\"-7.8\" font-family=\"Times,serif\" font-size=\"14.00\" fill=\"#000000\">value = [6, 9]</text>\n</g>\n<!-- 13&#45;&gt;14 -->\n<g id=\"edge14\" class=\"edge\">\n<title>13&#45;&gt;14</title>\n<path fill=\"none\" stroke=\"#000000\" d=\"M122.6027,-88.9777C111.1551,-79.4545 98.7313,-69.1191 87.3455,-59.6473\"/>\n<polygon fill=\"#000000\" stroke=\"#000000\" points=\"89.5797,-56.9532 79.6536,-53.2485 85.1029,-62.3345 89.5797,-56.9532\"/>\n</g>\n<!-- 15 -->\n<g id=\"node16\" class=\"node\">\n<title>15</title>\n<polygon fill=\"#54aae9\" stroke=\"#000000\" points=\"215.5,-53 113.5,-53 113.5,0 215.5,0 215.5,-53\"/>\n<text text-anchor=\"middle\" x=\"164.5\" y=\"-37.8\" font-family=\"Times,serif\" font-size=\"14.00\" fill=\"#000000\">gini = 0.211</text>\n<text text-anchor=\"middle\" x=\"164.5\" y=\"-22.8\" font-family=\"Times,serif\" font-size=\"14.00\" fill=\"#000000\">samples = 25</text>\n<text text-anchor=\"middle\" x=\"164.5\" y=\"-7.8\" font-family=\"Times,serif\" font-size=\"14.00\" fill=\"#000000\">value = [3, 22]</text>\n</g>\n<!-- 13&#45;&gt;15 -->\n<g id=\"edge15\" class=\"edge\">\n<title>13&#45;&gt;15</title>\n<path fill=\"none\" stroke=\"#000000\" d=\"M163.8526,-88.9777C163.938,-80.7364 164.0297,-71.887 164.1164,-63.5153\"/>\n<polygon fill=\"#000000\" stroke=\"#000000\" points=\"167.6189,-63.2842 164.2228,-53.2485 160.6193,-63.2116 167.6189,-63.2842\"/>\n</g>\n<!-- 17 -->\n<g id=\"node18\" class=\"node\">\n<title>17</title>\n<polygon fill=\"#edf6fd\" stroke=\"#000000\" points=\"344.5,-53 234.5,-53 234.5,0 344.5,0 344.5,-53\"/>\n<text text-anchor=\"middle\" x=\"289.5\" y=\"-37.8\" font-family=\"Times,serif\" font-size=\"14.00\" fill=\"#000000\">gini = 0.499</text>\n<text text-anchor=\"middle\" x=\"289.5\" y=\"-22.8\" font-family=\"Times,serif\" font-size=\"14.00\" fill=\"#000000\">samples = 63</text>\n<text text-anchor=\"middle\" x=\"289.5\" y=\"-7.8\" font-family=\"Times,serif\" font-size=\"14.00\" fill=\"#000000\">value = [30, 33]</text>\n</g>\n<!-- 16&#45;&gt;17 -->\n<g id=\"edge17\" class=\"edge\">\n<title>16&#45;&gt;17</title>\n<path fill=\"none\" stroke=\"#000000\" d=\"M289.5,-88.9777C289.5,-80.7364 289.5,-71.887 289.5,-63.5153\"/>\n<polygon fill=\"#000000\" stroke=\"#000000\" points=\"293.0001,-63.2484 289.5,-53.2485 286.0001,-63.2485 293.0001,-63.2484\"/>\n</g>\n<!-- 18 -->\n<g id=\"node19\" class=\"node\">\n<title>18</title>\n<polygon fill=\"#6db7ec\" stroke=\"#000000\" points=\"464.5,-53 362.5,-53 362.5,0 464.5,0 464.5,-53\"/>\n<text text-anchor=\"middle\" x=\"413.5\" y=\"-37.8\" font-family=\"Times,serif\" font-size=\"14.00\" fill=\"#000000\">gini = 0.33</text>\n<text text-anchor=\"middle\" x=\"413.5\" y=\"-22.8\" font-family=\"Times,serif\" font-size=\"14.00\" fill=\"#000000\">samples = 24</text>\n<text text-anchor=\"middle\" x=\"413.5\" y=\"-7.8\" font-family=\"Times,serif\" font-size=\"14.00\" fill=\"#000000\">value = [5, 19]</text>\n</g>\n<!-- 16&#45;&gt;18 -->\n<g id=\"edge18\" class=\"edge\">\n<title>16&#45;&gt;18</title>\n<path fill=\"none\" stroke=\"#000000\" d=\"M333.2178,-88.9777C345.4549,-79.4545 358.7355,-69.1191 370.9066,-59.6473\"/>\n<polygon fill=\"#000000\" stroke=\"#000000\" points=\"373.3866,-62.1523 379.1289,-53.2485 369.0875,-56.628 373.3866,-62.1523\"/>\n</g>\n<!-- 20 -->\n<g id=\"node21\" class=\"node\">\n<title>20</title>\n<polygon fill=\"#eeaf81\" stroke=\"#000000\" points=\"466,-149.5 365,-149.5 365,-96.5 466,-96.5 466,-149.5\"/>\n<text text-anchor=\"middle\" x=\"415.5\" y=\"-134.3\" font-family=\"Times,serif\" font-size=\"14.00\" fill=\"#000000\">gini = 0.391</text>\n<text text-anchor=\"middle\" x=\"415.5\" y=\"-119.3\" font-family=\"Times,serif\" font-size=\"14.00\" fill=\"#000000\">samples = 15</text>\n<text text-anchor=\"middle\" x=\"415.5\" y=\"-104.3\" font-family=\"Times,serif\" font-size=\"14.00\" fill=\"#000000\">value = [11, 4]</text>\n</g>\n<!-- 19&#45;&gt;20 -->\n<g id=\"edge20\" class=\"edge\">\n<title>19&#45;&gt;20</title>\n<path fill=\"none\" stroke=\"#000000\" d=\"M416.1726,-192.9465C416.0698,-182.2621 415.956,-170.4254 415.8517,-159.5742\"/>\n<polygon fill=\"#000000\" stroke=\"#000000\" points=\"419.3513,-159.508 415.7552,-149.5422 412.3516,-159.5754 419.3513,-159.508\"/>\n</g>\n<!-- 21 -->\n<g id=\"node22\" class=\"node\">\n<title>21</title>\n<polygon fill=\"#c8e4f8\" stroke=\"#000000\" points=\"594.5,-157 484.5,-157 484.5,-89 594.5,-89 594.5,-157\"/>\n<text text-anchor=\"middle\" x=\"539.5\" y=\"-141.8\" font-family=\"Times,serif\" font-size=\"14.00\" fill=\"#000000\">Dif4 &lt;= &#45;0.185</text>\n<text text-anchor=\"middle\" x=\"539.5\" y=\"-126.8\" font-family=\"Times,serif\" font-size=\"14.00\" fill=\"#000000\">gini = 0.487</text>\n<text text-anchor=\"middle\" x=\"539.5\" y=\"-111.8\" font-family=\"Times,serif\" font-size=\"14.00\" fill=\"#000000\">samples = 31</text>\n<text text-anchor=\"middle\" x=\"539.5\" y=\"-96.8\" font-family=\"Times,serif\" font-size=\"14.00\" fill=\"#000000\">value = [13, 18]</text>\n</g>\n<!-- 19&#45;&gt;21 -->\n<g id=\"edge21\" class=\"edge\">\n<title>19&#45;&gt;21</title>\n<path fill=\"none\" stroke=\"#000000\" d=\"M456.7748,-192.9465C467.8184,-183.6088 479.9028,-173.3911 491.3404,-163.7203\"/>\n<polygon fill=\"#000000\" stroke=\"#000000\" points=\"493.7583,-166.2594 499.1347,-157.13 489.2386,-160.914 493.7583,-166.2594\"/>\n</g>\n<!-- 22 -->\n<g id=\"node23\" class=\"node\">\n<title>22</title>\n<polygon fill=\"#7bbeee\" stroke=\"#000000\" points=\"587.5,-53 485.5,-53 485.5,0 587.5,0 587.5,-53\"/>\n<text text-anchor=\"middle\" x=\"536.5\" y=\"-37.8\" font-family=\"Times,serif\" font-size=\"14.00\" fill=\"#000000\">gini = 0.375</text>\n<text text-anchor=\"middle\" x=\"536.5\" y=\"-22.8\" font-family=\"Times,serif\" font-size=\"14.00\" fill=\"#000000\">samples = 16</text>\n<text text-anchor=\"middle\" x=\"536.5\" y=\"-7.8\" font-family=\"Times,serif\" font-size=\"14.00\" fill=\"#000000\">value = [4, 12]</text>\n</g>\n<!-- 21&#45;&gt;22 -->\n<g id=\"edge22\" class=\"edge\">\n<title>21&#45;&gt;22</title>\n<path fill=\"none\" stroke=\"#000000\" d=\"M538.4423,-88.9777C538.1861,-80.7364 537.911,-71.887 537.6507,-63.5153\"/>\n<polygon fill=\"#000000\" stroke=\"#000000\" points=\"541.1407,-63.1349 537.3316,-53.2485 534.1441,-63.3524 541.1407,-63.1349\"/>\n</g>\n<!-- 23 -->\n<g id=\"node24\" class=\"node\">\n<title>23</title>\n<polygon fill=\"#f6d5bd\" stroke=\"#000000\" points=\"701,-53 606,-53 606,0 701,0 701,-53\"/>\n<text text-anchor=\"middle\" x=\"653.5\" y=\"-37.8\" font-family=\"Times,serif\" font-size=\"14.00\" fill=\"#000000\">gini = 0.48</text>\n<text text-anchor=\"middle\" x=\"653.5\" y=\"-22.8\" font-family=\"Times,serif\" font-size=\"14.00\" fill=\"#000000\">samples = 15</text>\n<text text-anchor=\"middle\" x=\"653.5\" y=\"-7.8\" font-family=\"Times,serif\" font-size=\"14.00\" fill=\"#000000\">value = [9, 6]</text>\n</g>\n<!-- 21&#45;&gt;23 -->\n<g id=\"edge23\" class=\"edge\">\n<title>21&#45;&gt;23</title>\n<path fill=\"none\" stroke=\"#000000\" d=\"M579.6921,-88.9777C590.8342,-79.546 602.9173,-69.3178 614.0185,-59.9208\"/>\n<polygon fill=\"#000000\" stroke=\"#000000\" points=\"616.5295,-62.3809 621.9008,-53.2485 612.0068,-57.038 616.5295,-62.3809\"/>\n</g>\n<!-- 27 -->\n<g id=\"node28\" class=\"node\">\n<title>27</title>\n<polygon fill=\"#f6d3ba\" stroke=\"#000000\" points=\"958.5,-573 848.5,-573 848.5,-505 958.5,-505 958.5,-573\"/>\n<text text-anchor=\"middle\" x=\"903.5\" y=\"-557.8\" font-family=\"Times,serif\" font-size=\"14.00\" fill=\"#000000\">Dif3 &lt;= &#45;0.91</text>\n<text text-anchor=\"middle\" x=\"903.5\" y=\"-542.8\" font-family=\"Times,serif\" font-size=\"14.00\" fill=\"#000000\">gini = 0.478</text>\n<text text-anchor=\"middle\" x=\"903.5\" y=\"-527.8\" font-family=\"Times,serif\" font-size=\"14.00\" fill=\"#000000\">samples = 124</text>\n<text text-anchor=\"middle\" x=\"903.5\" y=\"-512.8\" font-family=\"Times,serif\" font-size=\"14.00\" fill=\"#000000\">value = [75, 49]</text>\n</g>\n<!-- 26&#45;&gt;27 -->\n<g id=\"edge27\" class=\"edge\">\n<title>26&#45;&gt;27</title>\n<path fill=\"none\" stroke=\"#000000\" d=\"M949.2343,-608.9465C943.5398,-600.2373 937.3448,-590.7626 931.4062,-581.6801\"/>\n<polygon fill=\"#000000\" stroke=\"#000000\" points=\"934.2177,-579.5843 925.8158,-573.13 928.3589,-583.4151 934.2177,-579.5843\"/>\n</g>\n<!-- 38 -->\n<g id=\"node39\" class=\"node\">\n<title>38</title>\n<polygon fill=\"#f5fafe\" stroke=\"#000000\" points=\"1102,-573 977,-573 977,-505 1102,-505 1102,-573\"/>\n<text text-anchor=\"middle\" x=\"1039.5\" y=\"-557.8\" font-family=\"Times,serif\" font-size=\"14.00\" fill=\"#000000\">Dif1 &lt;= &#45;0.345</text>\n<text text-anchor=\"middle\" x=\"1039.5\" y=\"-542.8\" font-family=\"Times,serif\" font-size=\"14.00\" fill=\"#000000\">gini = 0.5</text>\n<text text-anchor=\"middle\" x=\"1039.5\" y=\"-527.8\" font-family=\"Times,serif\" font-size=\"14.00\" fill=\"#000000\">samples = 1438</text>\n<text text-anchor=\"middle\" x=\"1039.5\" y=\"-512.8\" font-family=\"Times,serif\" font-size=\"14.00\" fill=\"#000000\">value = [700, 738]</text>\n</g>\n<!-- 26&#45;&gt;38 -->\n<g id=\"edge38\" class=\"edge\">\n<title>26&#45;&gt;38</title>\n<path fill=\"none\" stroke=\"#000000\" d=\"M993.7657,-608.9465C999.4602,-600.2373 1005.6552,-590.7626 1011.5938,-581.6801\"/>\n<polygon fill=\"#000000\" stroke=\"#000000\" points=\"1014.6411,-583.4151 1017.1842,-573.13 1008.7823,-579.5843 1014.6411,-583.4151\"/>\n</g>\n<!-- 28 -->\n<g id=\"node29\" class=\"node\">\n<title>28</title>\n<polygon fill=\"#88c4ef\" stroke=\"#000000\" points=\"836.5,-461.5 734.5,-461.5 734.5,-408.5 836.5,-408.5 836.5,-461.5\"/>\n<text text-anchor=\"middle\" x=\"785.5\" y=\"-446.3\" font-family=\"Times,serif\" font-size=\"14.00\" fill=\"#000000\">gini = 0.408</text>\n<text text-anchor=\"middle\" x=\"785.5\" y=\"-431.3\" font-family=\"Times,serif\" font-size=\"14.00\" fill=\"#000000\">samples = 21</text>\n<text text-anchor=\"middle\" x=\"785.5\" y=\"-416.3\" font-family=\"Times,serif\" font-size=\"14.00\" fill=\"#000000\">value = [6, 15]</text>\n</g>\n<!-- 27&#45;&gt;28 -->\n<g id=\"edge28\" class=\"edge\">\n<title>27&#45;&gt;28</title>\n<path fill=\"none\" stroke=\"#000000\" d=\"M864.8624,-504.9465C851.4899,-493.1606 836.5266,-479.9726 823.2281,-468.2519\"/>\n<polygon fill=\"#000000\" stroke=\"#000000\" points=\"825.4315,-465.5285 815.6151,-461.5422 820.803,-470.7799 825.4315,-465.5285\"/>\n</g>\n<!-- 29 -->\n<g id=\"node30\" class=\"node\">\n<title>29</title>\n<polygon fill=\"#f2bf9b\" stroke=\"#000000\" points=\"964.5,-469 854.5,-469 854.5,-401 964.5,-401 964.5,-469\"/>\n<text text-anchor=\"middle\" x=\"909.5\" y=\"-453.8\" font-family=\"Times,serif\" font-size=\"14.00\" fill=\"#000000\">Dif4 &lt;= &#45;0.815</text>\n<text text-anchor=\"middle\" x=\"909.5\" y=\"-438.8\" font-family=\"Times,serif\" font-size=\"14.00\" fill=\"#000000\">gini = 0.442</text>\n<text text-anchor=\"middle\" x=\"909.5\" y=\"-423.8\" font-family=\"Times,serif\" font-size=\"14.00\" fill=\"#000000\">samples = 103</text>\n<text text-anchor=\"middle\" x=\"909.5\" y=\"-408.8\" font-family=\"Times,serif\" font-size=\"14.00\" fill=\"#000000\">value = [69, 34]</text>\n</g>\n<!-- 27&#45;&gt;29 -->\n<g id=\"edge29\" class=\"edge\">\n<title>27&#45;&gt;29</title>\n<path fill=\"none\" stroke=\"#000000\" d=\"M905.4646,-504.9465C905.936,-496.776 906.4462,-487.9318 906.9402,-479.3697\"/>\n<polygon fill=\"#000000\" stroke=\"#000000\" points=\"910.4491,-479.315 907.531,-469.13 903.4607,-478.9118 910.4491,-479.315\"/>\n</g>\n<!-- 30 -->\n<g id=\"node31\" class=\"node\">\n<title>30</title>\n<polygon fill=\"#e78946\" stroke=\"#000000\" points=\"837.5,-357.5 735.5,-357.5 735.5,-304.5 837.5,-304.5 837.5,-357.5\"/>\n<text text-anchor=\"middle\" x=\"786.5\" y=\"-342.3\" font-family=\"Times,serif\" font-size=\"14.00\" fill=\"#000000\">gini = 0.117</text>\n<text text-anchor=\"middle\" x=\"786.5\" y=\"-327.3\" font-family=\"Times,serif\" font-size=\"14.00\" fill=\"#000000\">samples = 16</text>\n<text text-anchor=\"middle\" x=\"786.5\" y=\"-312.3\" font-family=\"Times,serif\" font-size=\"14.00\" fill=\"#000000\">value = [15, 1]</text>\n</g>\n<!-- 29&#45;&gt;30 -->\n<g id=\"edge30\" class=\"edge\">\n<title>29&#45;&gt;30</title>\n<path fill=\"none\" stroke=\"#000000\" d=\"M869.2252,-400.9465C855.2861,-389.1606 839.6888,-375.9726 825.8268,-364.2519\"/>\n<polygon fill=\"#000000\" stroke=\"#000000\" points=\"827.7873,-361.3262 817.8912,-357.5422 823.2676,-366.6715 827.7873,-361.3262\"/>\n</g>\n<!-- 31 -->\n<g id=\"node32\" class=\"node\">\n<title>31</title>\n<polygon fill=\"#f5ceb2\" stroke=\"#000000\" points=\"965.5,-365 855.5,-365 855.5,-297 965.5,-297 965.5,-365\"/>\n<text text-anchor=\"middle\" x=\"910.5\" y=\"-349.8\" font-family=\"Times,serif\" font-size=\"14.00\" fill=\"#000000\">Dif1 &lt;= &#45;0.41</text>\n<text text-anchor=\"middle\" x=\"910.5\" y=\"-334.8\" font-family=\"Times,serif\" font-size=\"14.00\" fill=\"#000000\">gini = 0.471</text>\n<text text-anchor=\"middle\" x=\"910.5\" y=\"-319.8\" font-family=\"Times,serif\" font-size=\"14.00\" fill=\"#000000\">samples = 87</text>\n<text text-anchor=\"middle\" x=\"910.5\" y=\"-304.8\" font-family=\"Times,serif\" font-size=\"14.00\" fill=\"#000000\">value = [54, 33]</text>\n</g>\n<!-- 29&#45;&gt;31 -->\n<g id=\"edge31\" class=\"edge\">\n<title>29&#45;&gt;31</title>\n<path fill=\"none\" stroke=\"#000000\" d=\"M909.8274,-400.9465C909.906,-392.776 909.991,-383.9318 910.0734,-375.3697\"/>\n<polygon fill=\"#000000\" stroke=\"#000000\" points=\"913.5754,-375.1632 910.1718,-365.13 906.5757,-375.0958 913.5754,-375.1632\"/>\n</g>\n<!-- 32 -->\n<g id=\"node33\" class=\"node\">\n<title>32</title>\n<polygon fill=\"#fbebe0\" stroke=\"#000000\" points=\"842.5,-261 732.5,-261 732.5,-193 842.5,-193 842.5,-261\"/>\n<text text-anchor=\"middle\" x=\"787.5\" y=\"-245.8\" font-family=\"Times,serif\" font-size=\"14.00\" fill=\"#000000\">Dif2 &lt;= &#45;0.375</text>\n<text text-anchor=\"middle\" x=\"787.5\" y=\"-230.8\" font-family=\"Times,serif\" font-size=\"14.00\" fill=\"#000000\">gini = 0.496</text>\n<text text-anchor=\"middle\" x=\"787.5\" y=\"-215.8\" font-family=\"Times,serif\" font-size=\"14.00\" fill=\"#000000\">samples = 59</text>\n<text text-anchor=\"middle\" x=\"787.5\" y=\"-200.8\" font-family=\"Times,serif\" font-size=\"14.00\" fill=\"#000000\">value = [32, 27]</text>\n</g>\n<!-- 31&#45;&gt;32 -->\n<g id=\"edge32\" class=\"edge\">\n<title>31&#45;&gt;32</title>\n<path fill=\"none\" stroke=\"#000000\" d=\"M870.2252,-296.9465C859.1816,-287.6088 847.0972,-277.3911 835.6596,-267.7203\"/>\n<polygon fill=\"#000000\" stroke=\"#000000\" points=\"837.7614,-264.914 827.8653,-261.13 833.2417,-270.2594 837.7614,-264.914\"/>\n</g>\n<!-- 37 -->\n<g id=\"node38\" class=\"node\">\n<title>37</title>\n<polygon fill=\"#eca36f\" stroke=\"#000000\" points=\"962.5,-253.5 860.5,-253.5 860.5,-200.5 962.5,-200.5 962.5,-253.5\"/>\n<text text-anchor=\"middle\" x=\"911.5\" y=\"-238.3\" font-family=\"Times,serif\" font-size=\"14.00\" fill=\"#000000\">gini = 0.337</text>\n<text text-anchor=\"middle\" x=\"911.5\" y=\"-223.3\" font-family=\"Times,serif\" font-size=\"14.00\" fill=\"#000000\">samples = 28</text>\n<text text-anchor=\"middle\" x=\"911.5\" y=\"-208.3\" font-family=\"Times,serif\" font-size=\"14.00\" fill=\"#000000\">value = [22, 6]</text>\n</g>\n<!-- 31&#45;&gt;37 -->\n<g id=\"edge37\" class=\"edge\">\n<title>31&#45;&gt;37</title>\n<path fill=\"none\" stroke=\"#000000\" d=\"M910.8274,-296.9465C910.9302,-286.2621 911.044,-274.4254 911.1483,-263.5742\"/>\n<polygon fill=\"#000000\" stroke=\"#000000\" points=\"914.6484,-263.5754 911.2448,-253.5422 907.6487,-263.508 914.6484,-263.5754\"/>\n</g>\n<!-- 33 -->\n<g id=\"node34\" class=\"node\">\n<title>33</title>\n<polygon fill=\"#f1ba93\" stroke=\"#000000\" points=\"837.5,-157 727.5,-157 727.5,-89 837.5,-89 837.5,-157\"/>\n<text text-anchor=\"middle\" x=\"782.5\" y=\"-141.8\" font-family=\"Times,serif\" font-size=\"14.00\" fill=\"#000000\">Dif1 &lt;= &#45;0.485</text>\n<text text-anchor=\"middle\" x=\"782.5\" y=\"-126.8\" font-family=\"Times,serif\" font-size=\"14.00\" fill=\"#000000\">gini = 0.43</text>\n<text text-anchor=\"middle\" x=\"782.5\" y=\"-111.8\" font-family=\"Times,serif\" font-size=\"14.00\" fill=\"#000000\">samples = 32</text>\n<text text-anchor=\"middle\" x=\"782.5\" y=\"-96.8\" font-family=\"Times,serif\" font-size=\"14.00\" fill=\"#000000\">value = [22, 10]</text>\n</g>\n<!-- 32&#45;&gt;33 -->\n<g id=\"edge33\" class=\"edge\">\n<title>32&#45;&gt;33</title>\n<path fill=\"none\" stroke=\"#000000\" d=\"M785.8628,-192.9465C785.47,-184.776 785.0448,-175.9318 784.6332,-167.3697\"/>\n<polygon fill=\"#000000\" stroke=\"#000000\" points=\"788.1171,-166.9504 784.1409,-157.13 781.1252,-167.2866 788.1171,-166.9504\"/>\n</g>\n<!-- 36 -->\n<g id=\"node37\" class=\"node\">\n<title>36</title>\n<polygon fill=\"#add7f4\" stroke=\"#000000\" points=\"965.5,-149.5 855.5,-149.5 855.5,-96.5 965.5,-96.5 965.5,-149.5\"/>\n<text text-anchor=\"middle\" x=\"910.5\" y=\"-134.3\" font-family=\"Times,serif\" font-size=\"14.00\" fill=\"#000000\">gini = 0.466</text>\n<text text-anchor=\"middle\" x=\"910.5\" y=\"-119.3\" font-family=\"Times,serif\" font-size=\"14.00\" fill=\"#000000\">samples = 27</text>\n<text text-anchor=\"middle\" x=\"910.5\" y=\"-104.3\" font-family=\"Times,serif\" font-size=\"14.00\" fill=\"#000000\">value = [10, 17]</text>\n</g>\n<!-- 32&#45;&gt;36 -->\n<g id=\"edge36\" class=\"edge\">\n<title>32&#45;&gt;36</title>\n<path fill=\"none\" stroke=\"#000000\" d=\"M827.7748,-192.9465C841.7139,-181.1606 857.3112,-167.9726 871.1732,-156.2519\"/>\n<polygon fill=\"#000000\" stroke=\"#000000\" points=\"873.7324,-158.6715 879.1088,-149.5422 869.2127,-153.3262 873.7324,-158.6715\"/>\n</g>\n<!-- 34 -->\n<g id=\"node35\" class=\"node\">\n<title>34</title>\n<polygon fill=\"#eda876\" stroke=\"#000000\" points=\"831.5,-53 729.5,-53 729.5,0 831.5,0 831.5,-53\"/>\n<text text-anchor=\"middle\" x=\"780.5\" y=\"-37.8\" font-family=\"Times,serif\" font-size=\"14.00\" fill=\"#000000\">gini = 0.36</text>\n<text text-anchor=\"middle\" x=\"780.5\" y=\"-22.8\" font-family=\"Times,serif\" font-size=\"14.00\" fill=\"#000000\">samples = 17</text>\n<text text-anchor=\"middle\" x=\"780.5\" y=\"-7.8\" font-family=\"Times,serif\" font-size=\"14.00\" fill=\"#000000\">value = [13, 4]</text>\n</g>\n<!-- 33&#45;&gt;34 -->\n<g id=\"edge34\" class=\"edge\">\n<title>33&#45;&gt;34</title>\n<path fill=\"none\" stroke=\"#000000\" d=\"M781.7949,-88.9777C781.6241,-80.7364 781.4407,-71.887 781.2672,-63.5153\"/>\n<polygon fill=\"#000000\" stroke=\"#000000\" points=\"784.7609,-63.1738 781.0544,-53.2485 777.7624,-63.3189 784.7609,-63.1738\"/>\n</g>\n<!-- 35 -->\n<g id=\"node36\" class=\"node\">\n<title>35</title>\n<polygon fill=\"#f6d5bd\" stroke=\"#000000\" points=\"945,-53 850,-53 850,0 945,0 945,-53\"/>\n<text text-anchor=\"middle\" x=\"897.5\" y=\"-37.8\" font-family=\"Times,serif\" font-size=\"14.00\" fill=\"#000000\">gini = 0.48</text>\n<text text-anchor=\"middle\" x=\"897.5\" y=\"-22.8\" font-family=\"Times,serif\" font-size=\"14.00\" fill=\"#000000\">samples = 15</text>\n<text text-anchor=\"middle\" x=\"897.5\" y=\"-7.8\" font-family=\"Times,serif\" font-size=\"14.00\" fill=\"#000000\">value = [9, 6]</text>\n</g>\n<!-- 33&#45;&gt;35 -->\n<g id=\"edge35\" class=\"edge\">\n<title>33&#45;&gt;35</title>\n<path fill=\"none\" stroke=\"#000000\" d=\"M823.0447,-88.9777C834.2845,-79.546 846.4736,-69.3178 857.6721,-59.9208\"/>\n<polygon fill=\"#000000\" stroke=\"#000000\" points=\"860.213,-62.3576 865.6236,-53.2485 855.7134,-56.9954 860.213,-62.3576\"/>\n</g>\n<!-- 39 -->\n<g id=\"node40\" class=\"node\">\n<title>39</title>\n<polygon fill=\"#82c1ef\" stroke=\"#000000\" points=\"1084.5,-461.5 982.5,-461.5 982.5,-408.5 1084.5,-408.5 1084.5,-461.5\"/>\n<text text-anchor=\"middle\" x=\"1033.5\" y=\"-446.3\" font-family=\"Times,serif\" font-size=\"14.00\" fill=\"#000000\">gini = 0.393</text>\n<text text-anchor=\"middle\" x=\"1033.5\" y=\"-431.3\" font-family=\"Times,serif\" font-size=\"14.00\" fill=\"#000000\">samples = 26</text>\n<text text-anchor=\"middle\" x=\"1033.5\" y=\"-416.3\" font-family=\"Times,serif\" font-size=\"14.00\" fill=\"#000000\">value = [7, 19]</text>\n</g>\n<!-- 38&#45;&gt;39 -->\n<g id=\"edge39\" class=\"edge\">\n<title>38&#45;&gt;39</title>\n<path fill=\"none\" stroke=\"#000000\" d=\"M1037.5354,-504.9465C1036.919,-494.2621 1036.2361,-482.4254 1035.6101,-471.5742\"/>\n<polygon fill=\"#000000\" stroke=\"#000000\" points=\"1039.1015,-471.3239 1035.0313,-461.5422 1032.1131,-471.7272 1039.1015,-471.3239\"/>\n</g>\n<!-- 40 -->\n<g id=\"node41\" class=\"node\">\n<title>40</title>\n<polygon fill=\"#f8fbfe\" stroke=\"#000000\" points=\"1228,-469 1103,-469 1103,-401 1228,-401 1228,-469\"/>\n<text text-anchor=\"middle\" x=\"1165.5\" y=\"-453.8\" font-family=\"Times,serif\" font-size=\"14.00\" fill=\"#000000\">Dif1 &lt;= &#45;0.3</text>\n<text text-anchor=\"middle\" x=\"1165.5\" y=\"-438.8\" font-family=\"Times,serif\" font-size=\"14.00\" fill=\"#000000\">gini = 0.5</text>\n<text text-anchor=\"middle\" x=\"1165.5\" y=\"-423.8\" font-family=\"Times,serif\" font-size=\"14.00\" fill=\"#000000\">samples = 1412</text>\n<text text-anchor=\"middle\" x=\"1165.5\" y=\"-408.8\" font-family=\"Times,serif\" font-size=\"14.00\" fill=\"#000000\">value = [693, 719]</text>\n</g>\n<!-- 38&#45;&gt;40 -->\n<g id=\"edge40\" class=\"edge\">\n<title>38&#45;&gt;40</title>\n<path fill=\"none\" stroke=\"#000000\" d=\"M1080.7571,-504.9465C1092.0701,-495.6088 1104.4492,-485.3911 1116.1658,-475.7203\"/>\n<polygon fill=\"#000000\" stroke=\"#000000\" points=\"1118.6659,-478.195 1124.1502,-469.13 1114.21,-472.7964 1118.6659,-478.195\"/>\n</g>\n<!-- 41 -->\n<g id=\"node42\" class=\"node\">\n<title>41</title>\n<polygon fill=\"#f2be99\" stroke=\"#000000\" points=\"1210.5,-365 1100.5,-365 1100.5,-297 1210.5,-297 1210.5,-365\"/>\n<text text-anchor=\"middle\" x=\"1155.5\" y=\"-349.8\" font-family=\"Times,serif\" font-size=\"14.00\" fill=\"#000000\">RSI &lt;= 51.615</text>\n<text text-anchor=\"middle\" x=\"1155.5\" y=\"-334.8\" font-family=\"Times,serif\" font-size=\"14.00\" fill=\"#000000\">gini = 0.439</text>\n<text text-anchor=\"middle\" x=\"1155.5\" y=\"-319.8\" font-family=\"Times,serif\" font-size=\"14.00\" fill=\"#000000\">samples = 43</text>\n<text text-anchor=\"middle\" x=\"1155.5\" y=\"-304.8\" font-family=\"Times,serif\" font-size=\"14.00\" fill=\"#000000\">value = [29, 14]</text>\n</g>\n<!-- 40&#45;&gt;41 -->\n<g id=\"edge41\" class=\"edge\">\n<title>40&#45;&gt;41</title>\n<path fill=\"none\" stroke=\"#000000\" d=\"M1162.2256,-400.9465C1161.4314,-392.6863 1160.5709,-383.7374 1159.7392,-375.0875\"/>\n<polygon fill=\"#000000\" stroke=\"#000000\" points=\"1163.2229,-374.7491 1158.7817,-365.13 1156.255,-375.4191 1163.2229,-374.7491\"/>\n</g>\n<!-- 44 -->\n<g id=\"node45\" class=\"node\">\n<title>44</title>\n<polygon fill=\"#f3f9fd\" stroke=\"#000000\" points=\"1354,-365 1229,-365 1229,-297 1354,-297 1354,-365\"/>\n<text text-anchor=\"middle\" x=\"1291.5\" y=\"-349.8\" font-family=\"Times,serif\" font-size=\"14.00\" fill=\"#000000\">RSI &lt;= 34.137</text>\n<text text-anchor=\"middle\" x=\"1291.5\" y=\"-334.8\" font-family=\"Times,serif\" font-size=\"14.00\" fill=\"#000000\">gini = 0.5</text>\n<text text-anchor=\"middle\" x=\"1291.5\" y=\"-319.8\" font-family=\"Times,serif\" font-size=\"14.00\" fill=\"#000000\">samples = 1369</text>\n<text text-anchor=\"middle\" x=\"1291.5\" y=\"-304.8\" font-family=\"Times,serif\" font-size=\"14.00\" fill=\"#000000\">value = [664, 705]</text>\n</g>\n<!-- 40&#45;&gt;44 -->\n<g id=\"edge44\" class=\"edge\">\n<title>40&#45;&gt;44</title>\n<path fill=\"none\" stroke=\"#000000\" d=\"M1206.7571,-400.9465C1218.0701,-391.6088 1230.4492,-381.3911 1242.1658,-371.7203\"/>\n<polygon fill=\"#000000\" stroke=\"#000000\" points=\"1244.6659,-374.195 1250.1502,-365.13 1240.21,-368.7964 1244.6659,-374.195\"/>\n</g>\n<!-- 42 -->\n<g id=\"node43\" class=\"node\">\n<title>42</title>\n<polygon fill=\"#f8ddca\" stroke=\"#000000\" points=\"1095,-253.5 986,-253.5 986,-200.5 1095,-200.5 1095,-253.5\"/>\n<text text-anchor=\"middle\" x=\"1040.5\" y=\"-238.3\" font-family=\"Times,serif\" font-size=\"14.00\" fill=\"#000000\">gini = 0.488</text>\n<text text-anchor=\"middle\" x=\"1040.5\" y=\"-223.3\" font-family=\"Times,serif\" font-size=\"14.00\" fill=\"#000000\">samples = 26</text>\n<text text-anchor=\"middle\" x=\"1040.5\" y=\"-208.3\" font-family=\"Times,serif\" font-size=\"14.00\" fill=\"#000000\">value = [15, 11]</text>\n</g>\n<!-- 41&#45;&gt;42 -->\n<g id=\"edge42\" class=\"edge\">\n<title>41&#45;&gt;42</title>\n<path fill=\"none\" stroke=\"#000000\" d=\"M1117.8447,-296.9465C1104.8122,-285.1606 1090.2294,-271.9726 1077.2689,-260.2519\"/>\n<polygon fill=\"#000000\" stroke=\"#000000\" points=\"1079.614,-257.6537 1069.8495,-253.5422 1074.9188,-262.8456 1079.614,-257.6537\"/>\n</g>\n<!-- 43 -->\n<g id=\"node44\" class=\"node\">\n<title>43</title>\n<polygon fill=\"#eb9c63\" stroke=\"#000000\" points=\"1215.5,-253.5 1113.5,-253.5 1113.5,-200.5 1215.5,-200.5 1215.5,-253.5\"/>\n<text text-anchor=\"middle\" x=\"1164.5\" y=\"-238.3\" font-family=\"Times,serif\" font-size=\"14.00\" fill=\"#000000\">gini = 0.291</text>\n<text text-anchor=\"middle\" x=\"1164.5\" y=\"-223.3\" font-family=\"Times,serif\" font-size=\"14.00\" fill=\"#000000\">samples = 17</text>\n<text text-anchor=\"middle\" x=\"1164.5\" y=\"-208.3\" font-family=\"Times,serif\" font-size=\"14.00\" fill=\"#000000\">value = [14, 3]</text>\n</g>\n<!-- 41&#45;&gt;43 -->\n<g id=\"edge43\" class=\"edge\">\n<title>41&#45;&gt;43</title>\n<path fill=\"none\" stroke=\"#000000\" d=\"M1158.4469,-296.9465C1159.3716,-286.2621 1160.3959,-274.4254 1161.3349,-263.5742\"/>\n<polygon fill=\"#000000\" stroke=\"#000000\" points=\"1164.8278,-263.8067 1162.2031,-253.5422 1157.8539,-263.2031 1164.8278,-263.8067\"/>\n</g>\n<!-- 45 -->\n<g id=\"node46\" class=\"node\">\n<title>45</title>\n<polygon fill=\"#91c9f1\" stroke=\"#000000\" points=\"1345.5,-261 1235.5,-261 1235.5,-193 1345.5,-193 1345.5,-261\"/>\n<text text-anchor=\"middle\" x=\"1290.5\" y=\"-245.8\" font-family=\"Times,serif\" font-size=\"14.00\" fill=\"#000000\">Dif4 &lt;= &#45;0.63</text>\n<text text-anchor=\"middle\" x=\"1290.5\" y=\"-230.8\" font-family=\"Times,serif\" font-size=\"14.00\" fill=\"#000000\">gini = 0.426</text>\n<text text-anchor=\"middle\" x=\"1290.5\" y=\"-215.8\" font-family=\"Times,serif\" font-size=\"14.00\" fill=\"#000000\">samples = 39</text>\n<text text-anchor=\"middle\" x=\"1290.5\" y=\"-200.8\" font-family=\"Times,serif\" font-size=\"14.00\" fill=\"#000000\">value = [12, 27]</text>\n</g>\n<!-- 44&#45;&gt;45 -->\n<g id=\"edge45\" class=\"edge\">\n<title>44&#45;&gt;45</title>\n<path fill=\"none\" stroke=\"#000000\" d=\"M1291.1726,-296.9465C1291.094,-288.776 1291.009,-279.9318 1290.9266,-271.3697\"/>\n<polygon fill=\"#000000\" stroke=\"#000000\" points=\"1294.4243,-271.0958 1290.8282,-261.13 1287.4246,-271.1632 1294.4243,-271.0958\"/>\n</g>\n<!-- 48 -->\n<g id=\"node49\" class=\"node\">\n<title>48</title>\n<polygon fill=\"#f7fbfe\" stroke=\"#000000\" points=\"1489,-261 1364,-261 1364,-193 1489,-193 1489,-261\"/>\n<text text-anchor=\"middle\" x=\"1426.5\" y=\"-245.8\" font-family=\"Times,serif\" font-size=\"14.00\" fill=\"#000000\">RSI &lt;= 36.157</text>\n<text text-anchor=\"middle\" x=\"1426.5\" y=\"-230.8\" font-family=\"Times,serif\" font-size=\"14.00\" fill=\"#000000\">gini = 0.5</text>\n<text text-anchor=\"middle\" x=\"1426.5\" y=\"-215.8\" font-family=\"Times,serif\" font-size=\"14.00\" fill=\"#000000\">samples = 1330</text>\n<text text-anchor=\"middle\" x=\"1426.5\" y=\"-200.8\" font-family=\"Times,serif\" font-size=\"14.00\" fill=\"#000000\">value = [652, 678]</text>\n</g>\n<!-- 44&#45;&gt;48 -->\n<g id=\"edge48\" class=\"edge\">\n<title>44&#45;&gt;48</title>\n<path fill=\"none\" stroke=\"#000000\" d=\"M1335.704,-296.9465C1347.9416,-287.519 1361.3436,-277.1946 1374.0038,-267.4415\"/>\n<polygon fill=\"#000000\" stroke=\"#000000\" points=\"1376.4107,-270.0055 1382.1966,-261.13 1372.1388,-264.4601 1376.4107,-270.0055\"/>\n</g>\n<!-- 46 -->\n<g id=\"node47\" class=\"node\">\n<title>46</title>\n<polygon fill=\"#70b8ec\" stroke=\"#000000\" points=\"1229.5,-149.5 1127.5,-149.5 1127.5,-96.5 1229.5,-96.5 1229.5,-149.5\"/>\n<text text-anchor=\"middle\" x=\"1178.5\" y=\"-134.3\" font-family=\"Times,serif\" font-size=\"14.00\" fill=\"#000000\">gini = 0.34</text>\n<text text-anchor=\"middle\" x=\"1178.5\" y=\"-119.3\" font-family=\"Times,serif\" font-size=\"14.00\" fill=\"#000000\">samples = 23</text>\n<text text-anchor=\"middle\" x=\"1178.5\" y=\"-104.3\" font-family=\"Times,serif\" font-size=\"14.00\" fill=\"#000000\">value = [5, 18]</text>\n</g>\n<!-- 45&#45;&gt;46 -->\n<g id=\"edge46\" class=\"edge\">\n<title>45&#45;&gt;46</title>\n<path fill=\"none\" stroke=\"#000000\" d=\"M1253.827,-192.9465C1241.2531,-181.2707 1227.1974,-168.219 1214.6641,-156.5809\"/>\n<polygon fill=\"#000000\" stroke=\"#000000\" points=\"1216.7934,-153.7819 1207.0839,-149.5422 1212.0302,-158.9115 1216.7934,-153.7819\"/>\n</g>\n<!-- 47 -->\n<g id=\"node48\" class=\"node\">\n<title>47</title>\n<polygon fill=\"#d3e9f9\" stroke=\"#000000\" points=\"1343,-149.5 1248,-149.5 1248,-96.5 1343,-96.5 1343,-149.5\"/>\n<text text-anchor=\"middle\" x=\"1295.5\" y=\"-134.3\" font-family=\"Times,serif\" font-size=\"14.00\" fill=\"#000000\">gini = 0.492</text>\n<text text-anchor=\"middle\" x=\"1295.5\" y=\"-119.3\" font-family=\"Times,serif\" font-size=\"14.00\" fill=\"#000000\">samples = 16</text>\n<text text-anchor=\"middle\" x=\"1295.5\" y=\"-104.3\" font-family=\"Times,serif\" font-size=\"14.00\" fill=\"#000000\">value = [7, 9]</text>\n</g>\n<!-- 45&#45;&gt;47 -->\n<g id=\"edge47\" class=\"edge\">\n<title>45&#45;&gt;47</title>\n<path fill=\"none\" stroke=\"#000000\" d=\"M1292.1372,-192.9465C1292.6509,-182.2621 1293.2199,-170.4254 1293.7416,-159.5742\"/>\n<polygon fill=\"#000000\" stroke=\"#000000\" points=\"1297.2396,-159.6987 1294.2239,-149.5422 1290.2477,-159.3625 1297.2396,-159.6987\"/>\n</g>\n<!-- 49 -->\n<g id=\"node50\" class=\"node\">\n<title>49</title>\n<polygon fill=\"#e99457\" stroke=\"#000000\" points=\"1472.5,-149.5 1370.5,-149.5 1370.5,-96.5 1472.5,-96.5 1472.5,-149.5\"/>\n<text text-anchor=\"middle\" x=\"1421.5\" y=\"-134.3\" font-family=\"Times,serif\" font-size=\"14.00\" fill=\"#000000\">gini = 0.231</text>\n<text text-anchor=\"middle\" x=\"1421.5\" y=\"-119.3\" font-family=\"Times,serif\" font-size=\"14.00\" fill=\"#000000\">samples = 15</text>\n<text text-anchor=\"middle\" x=\"1421.5\" y=\"-104.3\" font-family=\"Times,serif\" font-size=\"14.00\" fill=\"#000000\">value = [13, 2]</text>\n</g>\n<!-- 48&#45;&gt;49 -->\n<g id=\"edge49\" class=\"edge\">\n<title>48&#45;&gt;49</title>\n<path fill=\"none\" stroke=\"#000000\" d=\"M1424.8628,-192.9465C1424.3491,-182.2621 1423.7801,-170.4254 1423.2584,-159.5742\"/>\n<polygon fill=\"#000000\" stroke=\"#000000\" points=\"1426.7523,-159.3625 1422.7761,-149.5422 1419.7604,-159.6987 1426.7523,-159.3625\"/>\n</g>\n<!-- 50 -->\n<g id=\"node51\" class=\"node\">\n<title>50</title>\n<polygon fill=\"#f4fafe\" stroke=\"#000000\" points=\"1616,-157 1491,-157 1491,-89 1616,-89 1616,-157\"/>\n<text text-anchor=\"middle\" x=\"1553.5\" y=\"-141.8\" font-family=\"Times,serif\" font-size=\"14.00\" fill=\"#000000\">Dif2 &lt;= 1.69</text>\n<text text-anchor=\"middle\" x=\"1553.5\" y=\"-126.8\" font-family=\"Times,serif\" font-size=\"14.00\" fill=\"#000000\">gini = 0.5</text>\n<text text-anchor=\"middle\" x=\"1553.5\" y=\"-111.8\" font-family=\"Times,serif\" font-size=\"14.00\" fill=\"#000000\">samples = 1315</text>\n<text text-anchor=\"middle\" x=\"1553.5\" y=\"-96.8\" font-family=\"Times,serif\" font-size=\"14.00\" fill=\"#000000\">value = [639, 676]</text>\n</g>\n<!-- 48&#45;&gt;50 -->\n<g id=\"edge50\" class=\"edge\">\n<title>48&#45;&gt;50</title>\n<path fill=\"none\" stroke=\"#000000\" d=\"M1468.0845,-192.9465C1479.4873,-183.6088 1491.9647,-173.3911 1503.7743,-163.7203\"/>\n<polygon fill=\"#000000\" stroke=\"#000000\" points=\"1506.3026,-166.1736 1511.822,-157.13 1501.8676,-160.7578 1506.3026,-166.1736\"/>\n</g>\n<!-- 51 -->\n<g id=\"node52\" class=\"node\">\n<title>51</title>\n<polygon fill=\"#f1f8fd\" stroke=\"#000000\" points=\"1548,-53 1423,-53 1423,0 1548,0 1548,-53\"/>\n<text text-anchor=\"middle\" x=\"1485.5\" y=\"-37.8\" font-family=\"Times,serif\" font-size=\"14.00\" fill=\"#000000\">gini = 0.499</text>\n<text text-anchor=\"middle\" x=\"1485.5\" y=\"-22.8\" font-family=\"Times,serif\" font-size=\"14.00\" fill=\"#000000\">samples = 1283</text>\n<text text-anchor=\"middle\" x=\"1485.5\" y=\"-7.8\" font-family=\"Times,serif\" font-size=\"14.00\" fill=\"#000000\">value = [618, 665]</text>\n</g>\n<!-- 50&#45;&gt;51 -->\n<g id=\"edge51\" class=\"edge\">\n<title>50&#45;&gt;51</title>\n<path fill=\"none\" stroke=\"#000000\" d=\"M1529.5257,-88.9777C1523.2667,-80.0954 1516.5099,-70.5067 1510.2133,-61.5711\"/>\n<polygon fill=\"#000000\" stroke=\"#000000\" points=\"1512.9699,-59.4068 1504.3487,-53.2485 1507.2479,-63.4389 1512.9699,-59.4068\"/>\n</g>\n<!-- 52 -->\n<g id=\"node53\" class=\"node\">\n<title>52</title>\n<polygon fill=\"#f3c3a1\" stroke=\"#000000\" points=\"1675,-53 1566,-53 1566,0 1675,0 1675,-53\"/>\n<text text-anchor=\"middle\" x=\"1620.5\" y=\"-37.8\" font-family=\"Times,serif\" font-size=\"14.00\" fill=\"#000000\">gini = 0.451</text>\n<text text-anchor=\"middle\" x=\"1620.5\" y=\"-22.8\" font-family=\"Times,serif\" font-size=\"14.00\" fill=\"#000000\">samples = 32</text>\n<text text-anchor=\"middle\" x=\"1620.5\" y=\"-7.8\" font-family=\"Times,serif\" font-size=\"14.00\" fill=\"#000000\">value = [21, 11]</text>\n</g>\n<!-- 50&#45;&gt;52 -->\n<g id=\"edge52\" class=\"edge\">\n<title>50&#45;&gt;52</title>\n<path fill=\"none\" stroke=\"#000000\" d=\"M1577.1217,-88.9777C1583.2887,-80.0954 1589.9461,-70.5067 1596.1501,-61.5711\"/>\n<polygon fill=\"#000000\" stroke=\"#000000\" points=\"1599.1003,-63.4589 1601.9285,-53.2485 1593.3503,-59.4666 1599.1003,-63.4589\"/>\n</g>\n<!-- 54 -->\n<g id=\"node55\" class=\"node\">\n<title>54</title>\n<polygon fill=\"#cee6f8\" stroke=\"#000000\" points=\"1355.5,-677 1245.5,-677 1245.5,-609 1355.5,-609 1355.5,-677\"/>\n<text text-anchor=\"middle\" x=\"1300.5\" y=\"-661.8\" font-family=\"Times,serif\" font-size=\"14.00\" fill=\"#000000\">Dif3 &lt;= 2.615</text>\n<text text-anchor=\"middle\" x=\"1300.5\" y=\"-646.8\" font-family=\"Times,serif\" font-size=\"14.00\" fill=\"#000000\">gini = 0.49</text>\n<text text-anchor=\"middle\" x=\"1300.5\" y=\"-631.8\" font-family=\"Times,serif\" font-size=\"14.00\" fill=\"#000000\">samples = 63</text>\n<text text-anchor=\"middle\" x=\"1300.5\" y=\"-616.8\" font-family=\"Times,serif\" font-size=\"14.00\" fill=\"#000000\">value = [27, 36]</text>\n</g>\n<!-- 53&#45;&gt;54 -->\n<g id=\"edge54\" class=\"edge\">\n<title>53&#45;&gt;54</title>\n<path fill=\"none\" stroke=\"#000000\" d=\"M1300.5,-712.9465C1300.5,-704.776 1300.5,-695.9318 1300.5,-687.3697\"/>\n<polygon fill=\"#000000\" stroke=\"#000000\" points=\"1304.0001,-687.13 1300.5,-677.13 1297.0001,-687.13 1304.0001,-687.13\"/>\n</g>\n<!-- 59 -->\n<g id=\"node60\" class=\"node\">\n<title>59</title>\n<polygon fill=\"#65b3eb\" stroke=\"#000000\" points=\"1475.5,-669.5 1373.5,-669.5 1373.5,-616.5 1475.5,-616.5 1475.5,-669.5\"/>\n<text text-anchor=\"middle\" x=\"1424.5\" y=\"-654.3\" font-family=\"Times,serif\" font-size=\"14.00\" fill=\"#000000\">gini = 0.298</text>\n<text text-anchor=\"middle\" x=\"1424.5\" y=\"-639.3\" font-family=\"Times,serif\" font-size=\"14.00\" fill=\"#000000\">samples = 22</text>\n<text text-anchor=\"middle\" x=\"1424.5\" y=\"-624.3\" font-family=\"Times,serif\" font-size=\"14.00\" fill=\"#000000\">value = [4, 18]</text>\n</g>\n<!-- 53&#45;&gt;59 -->\n<g id=\"edge59\" class=\"edge\">\n<title>53&#45;&gt;59</title>\n<path fill=\"none\" stroke=\"#000000\" d=\"M1341.1022,-712.9465C1355.1547,-701.1606 1370.8788,-687.9726 1384.8535,-676.2519\"/>\n<polygon fill=\"#000000\" stroke=\"#000000\" points=\"1387.4408,-678.65 1392.8536,-669.5422 1382.9425,-673.2866 1387.4408,-678.65\"/>\n</g>\n<!-- 55 -->\n<g id=\"node56\" class=\"node\">\n<title>55</title>\n<polygon fill=\"#9fd0f2\" stroke=\"#000000\" points=\"1355.5,-573 1245.5,-573 1245.5,-505 1355.5,-505 1355.5,-573\"/>\n<text text-anchor=\"middle\" x=\"1300.5\" y=\"-557.8\" font-family=\"Times,serif\" font-size=\"14.00\" fill=\"#000000\">RSI &lt;= 53.76</text>\n<text text-anchor=\"middle\" x=\"1300.5\" y=\"-542.8\" font-family=\"Times,serif\" font-size=\"14.00\" fill=\"#000000\">gini = 0.449</text>\n<text text-anchor=\"middle\" x=\"1300.5\" y=\"-527.8\" font-family=\"Times,serif\" font-size=\"14.00\" fill=\"#000000\">samples = 44</text>\n<text text-anchor=\"middle\" x=\"1300.5\" y=\"-512.8\" font-family=\"Times,serif\" font-size=\"14.00\" fill=\"#000000\">value = [15, 29]</text>\n</g>\n<!-- 54&#45;&gt;55 -->\n<g id=\"edge55\" class=\"edge\">\n<title>54&#45;&gt;55</title>\n<path fill=\"none\" stroke=\"#000000\" d=\"M1300.5,-608.9465C1300.5,-600.776 1300.5,-591.9318 1300.5,-583.3697\"/>\n<polygon fill=\"#000000\" stroke=\"#000000\" points=\"1304.0001,-583.13 1300.5,-573.13 1297.0001,-583.13 1304.0001,-583.13\"/>\n</g>\n<!-- 58 -->\n<g id=\"node59\" class=\"node\">\n<title>58</title>\n<polygon fill=\"#f4caac\" stroke=\"#000000\" points=\"1475.5,-565.5 1373.5,-565.5 1373.5,-512.5 1475.5,-512.5 1475.5,-565.5\"/>\n<text text-anchor=\"middle\" x=\"1424.5\" y=\"-550.3\" font-family=\"Times,serif\" font-size=\"14.00\" fill=\"#000000\">gini = 0.465</text>\n<text text-anchor=\"middle\" x=\"1424.5\" y=\"-535.3\" font-family=\"Times,serif\" font-size=\"14.00\" fill=\"#000000\">samples = 19</text>\n<text text-anchor=\"middle\" x=\"1424.5\" y=\"-520.3\" font-family=\"Times,serif\" font-size=\"14.00\" fill=\"#000000\">value = [12, 7]</text>\n</g>\n<!-- 54&#45;&gt;58 -->\n<g id=\"edge58\" class=\"edge\">\n<title>54&#45;&gt;58</title>\n<path fill=\"none\" stroke=\"#000000\" d=\"M1341.1022,-608.9465C1355.1547,-597.1606 1370.8788,-583.9726 1384.8535,-572.2519\"/>\n<polygon fill=\"#000000\" stroke=\"#000000\" points=\"1387.4408,-574.65 1392.8536,-565.5422 1382.9425,-569.2866 1387.4408,-574.65\"/>\n</g>\n<!-- 56 -->\n<g id=\"node57\" class=\"node\">\n<title>56</title>\n<polygon fill=\"#edf6fd\" stroke=\"#000000\" points=\"1355,-461.5 1246,-461.5 1246,-408.5 1355,-408.5 1355,-461.5\"/>\n<text text-anchor=\"middle\" x=\"1300.5\" y=\"-446.3\" font-family=\"Times,serif\" font-size=\"14.00\" fill=\"#000000\">gini = 0.499</text>\n<text text-anchor=\"middle\" x=\"1300.5\" y=\"-431.3\" font-family=\"Times,serif\" font-size=\"14.00\" fill=\"#000000\">samples = 21</text>\n<text text-anchor=\"middle\" x=\"1300.5\" y=\"-416.3\" font-family=\"Times,serif\" font-size=\"14.00\" fill=\"#000000\">value = [10, 11]</text>\n</g>\n<!-- 55&#45;&gt;56 -->\n<g id=\"edge56\" class=\"edge\">\n<title>55&#45;&gt;56</title>\n<path fill=\"none\" stroke=\"#000000\" d=\"M1300.5,-504.9465C1300.5,-494.2621 1300.5,-482.4254 1300.5,-471.5742\"/>\n<polygon fill=\"#000000\" stroke=\"#000000\" points=\"1304.0001,-471.5421 1300.5,-461.5422 1297.0001,-471.5422 1304.0001,-471.5421\"/>\n</g>\n<!-- 57 -->\n<g id=\"node58\" class=\"node\">\n<title>57</title>\n<polygon fill=\"#70b8ec\" stroke=\"#000000\" points=\"1475.5,-461.5 1373.5,-461.5 1373.5,-408.5 1475.5,-408.5 1475.5,-461.5\"/>\n<text text-anchor=\"middle\" x=\"1424.5\" y=\"-446.3\" font-family=\"Times,serif\" font-size=\"14.00\" fill=\"#000000\">gini = 0.34</text>\n<text text-anchor=\"middle\" x=\"1424.5\" y=\"-431.3\" font-family=\"Times,serif\" font-size=\"14.00\" fill=\"#000000\">samples = 23</text>\n<text text-anchor=\"middle\" x=\"1424.5\" y=\"-416.3\" font-family=\"Times,serif\" font-size=\"14.00\" fill=\"#000000\">value = [5, 18]</text>\n</g>\n<!-- 55&#45;&gt;57 -->\n<g id=\"edge57\" class=\"edge\">\n<title>55&#45;&gt;57</title>\n<path fill=\"none\" stroke=\"#000000\" d=\"M1341.1022,-504.9465C1355.1547,-493.1606 1370.8788,-479.9726 1384.8535,-468.2519\"/>\n<polygon fill=\"#000000\" stroke=\"#000000\" points=\"1387.4408,-470.65 1392.8536,-461.5422 1382.9425,-465.2866 1387.4408,-470.65\"/>\n</g>\n<!-- 61 -->\n<g id=\"node62\" class=\"node\">\n<title>61</title>\n<polygon fill=\"#eb9c64\" stroke=\"#000000\" points=\"1481.5,-773.5 1379.5,-773.5 1379.5,-720.5 1481.5,-720.5 1481.5,-773.5\"/>\n<text text-anchor=\"middle\" x=\"1430.5\" y=\"-758.3\" font-family=\"Times,serif\" font-size=\"14.00\" fill=\"#000000\">gini = 0.293</text>\n<text text-anchor=\"middle\" x=\"1430.5\" y=\"-743.3\" font-family=\"Times,serif\" font-size=\"14.00\" fill=\"#000000\">samples = 28</text>\n<text text-anchor=\"middle\" x=\"1430.5\" y=\"-728.3\" font-family=\"Times,serif\" font-size=\"14.00\" fill=\"#000000\">value = [23, 5]</text>\n</g>\n<!-- 60&#45;&gt;61 -->\n<g id=\"edge61\" class=\"edge\">\n<title>60&#45;&gt;61</title>\n<path fill=\"none\" stroke=\"#000000\" d=\"M1432.5177,-816.9465C1432.2095,-806.2621 1431.868,-794.4254 1431.555,-783.5742\"/>\n<polygon fill=\"#000000\" stroke=\"#000000\" points=\"1435.0526,-783.4371 1431.2656,-773.5422 1428.0555,-783.639 1435.0526,-783.4371\"/>\n</g>\n<!-- 62 -->\n<g id=\"node63\" class=\"node\">\n<title>62</title>\n<polygon fill=\"#fcefe5\" stroke=\"#000000\" points=\"1609.5,-781 1499.5,-781 1499.5,-713 1609.5,-713 1609.5,-781\"/>\n<text text-anchor=\"middle\" x=\"1554.5\" y=\"-765.8\" font-family=\"Times,serif\" font-size=\"14.00\" fill=\"#000000\">Dif3 &lt;= 4.66</text>\n<text text-anchor=\"middle\" x=\"1554.5\" y=\"-750.8\" font-family=\"Times,serif\" font-size=\"14.00\" fill=\"#000000\">gini = 0.498</text>\n<text text-anchor=\"middle\" x=\"1554.5\" y=\"-735.8\" font-family=\"Times,serif\" font-size=\"14.00\" fill=\"#000000\">samples = 43</text>\n<text text-anchor=\"middle\" x=\"1554.5\" y=\"-720.8\" font-family=\"Times,serif\" font-size=\"14.00\" fill=\"#000000\">value = [23, 20]</text>\n</g>\n<!-- 60&#45;&gt;62 -->\n<g id=\"edge62\" class=\"edge\">\n<title>60&#45;&gt;62</title>\n<path fill=\"none\" stroke=\"#000000\" d=\"M1473.1199,-816.9465C1483.984,-807.6088 1495.8718,-797.3911 1507.1235,-787.7203\"/>\n<polygon fill=\"#000000\" stroke=\"#000000\" points=\"1509.4887,-790.3026 1514.7911,-781.13 1504.9259,-784.994 1509.4887,-790.3026\"/>\n</g>\n<!-- 63 -->\n<g id=\"node64\" class=\"node\">\n<title>63</title>\n<polygon fill=\"#f1bc95\" stroke=\"#000000\" points=\"1600.5,-669.5 1498.5,-669.5 1498.5,-616.5 1600.5,-616.5 1600.5,-669.5\"/>\n<text text-anchor=\"middle\" x=\"1549.5\" y=\"-654.3\" font-family=\"Times,serif\" font-size=\"14.00\" fill=\"#000000\">gini = 0.434</text>\n<text text-anchor=\"middle\" x=\"1549.5\" y=\"-639.3\" font-family=\"Times,serif\" font-size=\"14.00\" fill=\"#000000\">samples = 22</text>\n<text text-anchor=\"middle\" x=\"1549.5\" y=\"-624.3\" font-family=\"Times,serif\" font-size=\"14.00\" fill=\"#000000\">value = [15, 7]</text>\n</g>\n<!-- 62&#45;&gt;63 -->\n<g id=\"edge63\" class=\"edge\">\n<title>62&#45;&gt;63</title>\n<path fill=\"none\" stroke=\"#000000\" d=\"M1552.8628,-712.9465C1552.3491,-702.2621 1551.7801,-690.4254 1551.2584,-679.5742\"/>\n<polygon fill=\"#000000\" stroke=\"#000000\" points=\"1554.7523,-679.3625 1550.7761,-669.5422 1547.7604,-679.6987 1554.7523,-679.3625\"/>\n</g>\n<!-- 64 -->\n<g id=\"node65\" class=\"node\">\n<title>64</title>\n<polygon fill=\"#b3d9f5\" stroke=\"#000000\" points=\"1720.5,-669.5 1618.5,-669.5 1618.5,-616.5 1720.5,-616.5 1720.5,-669.5\"/>\n<text text-anchor=\"middle\" x=\"1669.5\" y=\"-654.3\" font-family=\"Times,serif\" font-size=\"14.00\" fill=\"#000000\">gini = 0.472</text>\n<text text-anchor=\"middle\" x=\"1669.5\" y=\"-639.3\" font-family=\"Times,serif\" font-size=\"14.00\" fill=\"#000000\">samples = 21</text>\n<text text-anchor=\"middle\" x=\"1669.5\" y=\"-624.3\" font-family=\"Times,serif\" font-size=\"14.00\" fill=\"#000000\">value = [8, 13]</text>\n</g>\n<!-- 62&#45;&gt;64 -->\n<g id=\"edge64\" class=\"edge\">\n<title>62&#45;&gt;64</title>\n<path fill=\"none\" stroke=\"#000000\" d=\"M1592.1553,-712.9465C1605.1878,-701.1606 1619.7706,-687.9726 1632.7311,-676.2519\"/>\n<polygon fill=\"#000000\" stroke=\"#000000\" points=\"1635.0812,-678.8456 1640.1505,-669.5422 1630.386,-673.6537 1635.0812,-678.8456\"/>\n</g>\n</g>\n</svg>\n"
          },
          "metadata": {
            "tags": []
          },
          "execution_count": 10
        }
      ]
    },
    {
      "cell_type": "code",
      "metadata": {
        "id": "TeYguSgFsmgv",
        "colab_type": "code",
        "colab": {
          "base_uri": "https://localhost:8080/",
          "height": 357
        },
        "outputId": "ef9708be-74fa-4df9-9a15-525d0e4cc0b6"
      },
      "source": [
        "#Predictions are done on the test dataset and the classification report is used to evaluate the model.\n",
        "#Precision and recall indicate predicion quality, f1 score provides harmonic mean of precision and recall.\n",
        "\n",
        "predictiontest = treefit.predict(independant_test)\n",
        "predictiontrain = treefit.predict(independant_train)\n",
        "evaluatetest = classification_report(dependant_test,predictiontest)\n",
        "evaluatetrain = classification_report(dependant_train,predictiontrain)\n",
        "print('The evaluation metrics for the prediction test set are ')\n",
        "print(evaluatetest)\n",
        "print('The evaluation metrics for the prediction train set are  ')\n",
        "print(evaluatetrain)\n"
      ],
      "execution_count": 11,
      "outputs": [
        {
          "output_type": "stream",
          "text": [
            "The evaluation metrics for the prediction test set are \n",
            "              precision    recall  f1-score   support\n",
            "\n",
            "           0       0.44      0.16      0.23       241\n",
            "           1       0.51      0.82      0.63       260\n",
            "\n",
            "    accuracy                           0.50       501\n",
            "   macro avg       0.48      0.49      0.43       501\n",
            "weighted avg       0.48      0.50      0.44       501\n",
            "\n",
            "The evaluation metrics for the prediction train set are  \n",
            "              precision    recall  f1-score   support\n",
            "\n",
            "           0       0.72      0.23      0.35       963\n",
            "           1       0.56      0.92      0.70      1039\n",
            "\n",
            "    accuracy                           0.59      2002\n",
            "   macro avg       0.64      0.57      0.52      2002\n",
            "weighted avg       0.64      0.59      0.53      2002\n",
            "\n"
          ],
          "name": "stdout"
        }
      ]
    },
    {
      "cell_type": "code",
      "metadata": {
        "id": "xTRkXu300gvV",
        "colab_type": "code",
        "colab": {
          "base_uri": "https://localhost:8080/",
          "height": 51
        },
        "outputId": "0ad750ce-638a-47ce-e145-73bb7f8580e2"
      },
      "source": [
        "#Trying to improve the model\n",
        "\n",
        "scores = cross_val_score(treefit, independant_train,dependant_train,cv=200, scoring='f1_macro')\n",
        "scores.mean()\n",
        "print('The training f1 score is', f1_score(predictiontrain,dependant_train))\n",
        "print('The testing f1 score is', f1_score(predictiontest,dependant_test))"
      ],
      "execution_count": 12,
      "outputs": [
        {
          "output_type": "stream",
          "text": [
            "The training f1 score is 0.6964481874771147\n",
            "The testing f1 score is 0.6281481481481482\n"
          ],
          "name": "stdout"
        }
      ]
    },
    {
      "cell_type": "code",
      "metadata": {
        "id": "ZnPC_D4a1erX",
        "colab_type": "code",
        "colab": {
          "base_uri": "https://localhost:8080/",
          "height": 119
        },
        "outputId": "46500cb0-bbf1-4a16-b099-c10e8d78d476"
      },
      "source": [
        "#Hyperparameter tuning\n",
        "\n",
        "paramaters = {'max_depth' : [1,2,3,4,5], 'min_samples_leaf': [1,2,3,4,5],'min_samples_split' : [2,3,4,5], 'criterion' : ['gini','entropy']}\n",
        "scorer = make_scorer(f1_score)\n",
        "grid_obj = GridSearchCV(treefit,paramaters,scoring=scorer)\n",
        "grid_fit = grid_obj.fit(independant_train,dependant_train)\n",
        "bestclassifier = grid_fit.best_estimator_\n",
        "bestclassifier"
      ],
      "execution_count": 13,
      "outputs": [
        {
          "output_type": "execute_result",
          "data": {
            "text/plain": [
              "DecisionTreeClassifier(ccp_alpha=0.0, class_weight=None, criterion='gini',\n",
              "                       max_depth=1, max_features=None, max_leaf_nodes=None,\n",
              "                       min_impurity_decrease=0.0, min_impurity_split=None,\n",
              "                       min_samples_leaf=1, min_samples_split=2,\n",
              "                       min_weight_fraction_leaf=0.0, presort='deprecated',\n",
              "                       random_state=None, splitter='best')"
            ]
          },
          "metadata": {
            "tags": []
          },
          "execution_count": 13
        }
      ]
    },
    {
      "cell_type": "code",
      "metadata": {
        "id": "c-l1EN8Q3-2Z",
        "colab_type": "code",
        "colab": {
          "base_uri": "https://localhost:8080/",
          "height": 518
        },
        "outputId": "9b3754eb-8cac-42fe-d774-f3d72b95f2ee"
      },
      "source": [
        "treeclf2 = DecisionTreeClassifier(criterion='gini', max_depth = 3, min_samples_leaf = 5, min_samples_split=10)\n",
        "treefit2 = treeclf2.fit(independant_train,dependant_train)\n",
        "treeviz2 = tree.export_graphviz(treefit2, out_file=None, filled = True, feature_names=predictors)\n",
        "graphviz.Source(treeviz2)\n",
        "\n"
      ],
      "execution_count": 14,
      "outputs": [
        {
          "output_type": "execute_result",
          "data": {
            "text/plain": [
              "<graphviz.files.Source at 0x7f186c6e3d30>"
            ],
            "image/svg+xml": "<?xml version=\"1.0\" encoding=\"UTF-8\" standalone=\"no\"?>\n<!DOCTYPE svg PUBLIC \"-//W3C//DTD SVG 1.1//EN\"\n \"http://www.w3.org/Graphics/SVG/1.1/DTD/svg11.dtd\">\n<!-- Generated by graphviz version 2.40.1 (20161225.0304)\n -->\n<!-- Title: Tree Pages: 1 -->\n<svg width=\"744pt\" height=\"373pt\"\n viewBox=\"0.00 0.00 743.50 373.00\" xmlns=\"http://www.w3.org/2000/svg\" xmlns:xlink=\"http://www.w3.org/1999/xlink\">\n<g id=\"graph0\" class=\"graph\" transform=\"scale(1 1) rotate(0) translate(4 369)\">\n<title>Tree</title>\n<polygon fill=\"#ffffff\" stroke=\"transparent\" points=\"-4,4 -4,-369 739.5,-369 739.5,4 -4,4\"/>\n<!-- 0 -->\n<g id=\"node1\" class=\"node\">\n<title>0</title>\n<polygon fill=\"#f1f8fd\" stroke=\"#000000\" points=\"416.5,-365 284.5,-365 284.5,-297 416.5,-297 416.5,-365\"/>\n<text text-anchor=\"middle\" x=\"350.5\" y=\"-349.8\" font-family=\"Times,serif\" font-size=\"14.00\" fill=\"#000000\">Dif2 &lt;= &#45;3.455</text>\n<text text-anchor=\"middle\" x=\"350.5\" y=\"-334.8\" font-family=\"Times,serif\" font-size=\"14.00\" fill=\"#000000\">gini = 0.499</text>\n<text text-anchor=\"middle\" x=\"350.5\" y=\"-319.8\" font-family=\"Times,serif\" font-size=\"14.00\" fill=\"#000000\">samples = 2002</text>\n<text text-anchor=\"middle\" x=\"350.5\" y=\"-304.8\" font-family=\"Times,serif\" font-size=\"14.00\" fill=\"#000000\">value = [963, 1039]</text>\n</g>\n<!-- 1 -->\n<g id=\"node2\" class=\"node\">\n<title>1</title>\n<polygon fill=\"#70b8ec\" stroke=\"#000000\" points=\"336.5,-261 226.5,-261 226.5,-193 336.5,-193 336.5,-261\"/>\n<text text-anchor=\"middle\" x=\"281.5\" y=\"-245.8\" font-family=\"Times,serif\" font-size=\"14.00\" fill=\"#000000\">Dif3 &lt;= &#45;0.395</text>\n<text text-anchor=\"middle\" x=\"281.5\" y=\"-230.8\" font-family=\"Times,serif\" font-size=\"14.00\" fill=\"#000000\">gini = 0.34</text>\n<text text-anchor=\"middle\" x=\"281.5\" y=\"-215.8\" font-family=\"Times,serif\" font-size=\"14.00\" fill=\"#000000\">samples = 46</text>\n<text text-anchor=\"middle\" x=\"281.5\" y=\"-200.8\" font-family=\"Times,serif\" font-size=\"14.00\" fill=\"#000000\">value = [10, 36]</text>\n</g>\n<!-- 0&#45;&gt;1 -->\n<g id=\"edge1\" class=\"edge\">\n<title>0&#45;&gt;1</title>\n<path fill=\"none\" stroke=\"#000000\" d=\"M327.9068,-296.9465C322.1286,-288.2373 315.8425,-278.7626 309.8166,-269.6801\"/>\n<polygon fill=\"#000000\" stroke=\"#000000\" points=\"312.589,-267.5278 304.1439,-261.13 306.756,-271.3978 312.589,-267.5278\"/>\n<text text-anchor=\"middle\" x=\"299.1866\" y=\"-281.9336\" font-family=\"Times,serif\" font-size=\"14.00\" fill=\"#000000\">True</text>\n</g>\n<!-- 6 -->\n<g id=\"node7\" class=\"node\">\n<title>6</title>\n<polygon fill=\"#f5fafe\" stroke=\"#000000\" points=\"486.5,-261 354.5,-261 354.5,-193 486.5,-193 486.5,-261\"/>\n<text text-anchor=\"middle\" x=\"420.5\" y=\"-245.8\" font-family=\"Times,serif\" font-size=\"14.00\" fill=\"#000000\">Dif4 &lt;= 4.235</text>\n<text text-anchor=\"middle\" x=\"420.5\" y=\"-230.8\" font-family=\"Times,serif\" font-size=\"14.00\" fill=\"#000000\">gini = 0.5</text>\n<text text-anchor=\"middle\" x=\"420.5\" y=\"-215.8\" font-family=\"Times,serif\" font-size=\"14.00\" fill=\"#000000\">samples = 1956</text>\n<text text-anchor=\"middle\" x=\"420.5\" y=\"-200.8\" font-family=\"Times,serif\" font-size=\"14.00\" fill=\"#000000\">value = [953, 1003]</text>\n</g>\n<!-- 0&#45;&gt;6 -->\n<g id=\"edge6\" class=\"edge\">\n<title>0&#45;&gt;6</title>\n<path fill=\"none\" stroke=\"#000000\" d=\"M373.4206,-296.9465C379.2826,-288.2373 385.6598,-278.7626 391.773,-269.6801\"/>\n<polygon fill=\"#000000\" stroke=\"#000000\" points=\"394.8476,-271.3802 397.5279,-261.13 389.0405,-267.4716 394.8476,-271.3802\"/>\n<text text-anchor=\"middle\" x=\"402.3223\" y=\"-281.966\" font-family=\"Times,serif\" font-size=\"14.00\" fill=\"#000000\">False</text>\n</g>\n<!-- 2 -->\n<g id=\"node3\" class=\"node\">\n<title>2</title>\n<polygon fill=\"#5caeea\" stroke=\"#000000\" points=\"217,-157 112,-157 112,-89 217,-89 217,-157\"/>\n<text text-anchor=\"middle\" x=\"164.5\" y=\"-141.8\" font-family=\"Times,serif\" font-size=\"14.00\" fill=\"#000000\">Dif1 &lt;= &#45;4.695</text>\n<text text-anchor=\"middle\" x=\"164.5\" y=\"-126.8\" font-family=\"Times,serif\" font-size=\"14.00\" fill=\"#000000\">gini = 0.255</text>\n<text text-anchor=\"middle\" x=\"164.5\" y=\"-111.8\" font-family=\"Times,serif\" font-size=\"14.00\" fill=\"#000000\">samples = 40</text>\n<text text-anchor=\"middle\" x=\"164.5\" y=\"-96.8\" font-family=\"Times,serif\" font-size=\"14.00\" fill=\"#000000\">value = [6, 34]</text>\n</g>\n<!-- 1&#45;&gt;2 -->\n<g id=\"edge2\" class=\"edge\">\n<title>1&#45;&gt;2</title>\n<path fill=\"none\" stroke=\"#000000\" d=\"M243.1898,-192.9465C232.7859,-183.6986 221.411,-173.5876 210.6243,-163.9994\"/>\n<polygon fill=\"#000000\" stroke=\"#000000\" points=\"212.6956,-161.1577 202.8962,-157.13 208.0451,-166.3896 212.6956,-161.1577\"/>\n</g>\n<!-- 5 -->\n<g id=\"node6\" class=\"node\">\n<title>5</title>\n<polygon fill=\"#f2c09c\" stroke=\"#000000\" points=\"330,-149.5 235,-149.5 235,-96.5 330,-96.5 330,-149.5\"/>\n<text text-anchor=\"middle\" x=\"282.5\" y=\"-134.3\" font-family=\"Times,serif\" font-size=\"14.00\" fill=\"#000000\">gini = 0.444</text>\n<text text-anchor=\"middle\" x=\"282.5\" y=\"-119.3\" font-family=\"Times,serif\" font-size=\"14.00\" fill=\"#000000\">samples = 6</text>\n<text text-anchor=\"middle\" x=\"282.5\" y=\"-104.3\" font-family=\"Times,serif\" font-size=\"14.00\" fill=\"#000000\">value = [4, 2]</text>\n</g>\n<!-- 1&#45;&gt;5 -->\n<g id=\"edge5\" class=\"edge\">\n<title>1&#45;&gt;5</title>\n<path fill=\"none\" stroke=\"#000000\" d=\"M281.8274,-192.9465C281.9302,-182.2621 282.044,-170.4254 282.1483,-159.5742\"/>\n<polygon fill=\"#000000\" stroke=\"#000000\" points=\"285.6484,-159.5754 282.2448,-149.5422 278.6487,-159.508 285.6484,-159.5754\"/>\n</g>\n<!-- 3 -->\n<g id=\"node4\" class=\"node\">\n<title>3</title>\n<polygon fill=\"#bddef6\" stroke=\"#000000\" points=\"95,-53 0,-53 0,0 95,0 95,-53\"/>\n<text text-anchor=\"middle\" x=\"47.5\" y=\"-37.8\" font-family=\"Times,serif\" font-size=\"14.00\" fill=\"#000000\">gini = 0.48</text>\n<text text-anchor=\"middle\" x=\"47.5\" y=\"-22.8\" font-family=\"Times,serif\" font-size=\"14.00\" fill=\"#000000\">samples = 10</text>\n<text text-anchor=\"middle\" x=\"47.5\" y=\"-7.8\" font-family=\"Times,serif\" font-size=\"14.00\" fill=\"#000000\">value = [4, 6]</text>\n</g>\n<!-- 2&#45;&gt;3 -->\n<g id=\"edge3\" class=\"edge\">\n<title>2&#45;&gt;3</title>\n<path fill=\"none\" stroke=\"#000000\" d=\"M123.2502,-88.9777C111.7039,-79.4545 99.1729,-69.1191 87.689,-59.6473\"/>\n<polygon fill=\"#000000\" stroke=\"#000000\" points=\"89.8724,-56.9113 79.9308,-53.2485 85.4184,-62.3115 89.8724,-56.9113\"/>\n</g>\n<!-- 4 -->\n<g id=\"node5\" class=\"node\">\n<title>4</title>\n<polygon fill=\"#47a4e7\" stroke=\"#000000\" points=\"215.5,-53 113.5,-53 113.5,0 215.5,0 215.5,-53\"/>\n<text text-anchor=\"middle\" x=\"164.5\" y=\"-37.8\" font-family=\"Times,serif\" font-size=\"14.00\" fill=\"#000000\">gini = 0.124</text>\n<text text-anchor=\"middle\" x=\"164.5\" y=\"-22.8\" font-family=\"Times,serif\" font-size=\"14.00\" fill=\"#000000\">samples = 30</text>\n<text text-anchor=\"middle\" x=\"164.5\" y=\"-7.8\" font-family=\"Times,serif\" font-size=\"14.00\" fill=\"#000000\">value = [2, 28]</text>\n</g>\n<!-- 2&#45;&gt;4 -->\n<g id=\"edge4\" class=\"edge\">\n<title>2&#45;&gt;4</title>\n<path fill=\"none\" stroke=\"#000000\" d=\"M164.5,-88.9777C164.5,-80.7364 164.5,-71.887 164.5,-63.5153\"/>\n<polygon fill=\"#000000\" stroke=\"#000000\" points=\"168.0001,-63.2484 164.5,-53.2485 161.0001,-63.2485 168.0001,-63.2484\"/>\n</g>\n<!-- 7 -->\n<g id=\"node8\" class=\"node\">\n<title>7</title>\n<polygon fill=\"#f1f8fd\" stroke=\"#000000\" points=\"483,-157 358,-157 358,-89 483,-89 483,-157\"/>\n<text text-anchor=\"middle\" x=\"420.5\" y=\"-141.8\" font-family=\"Times,serif\" font-size=\"14.00\" fill=\"#000000\">Dif2 &lt;= 1.98</text>\n<text text-anchor=\"middle\" x=\"420.5\" y=\"-126.8\" font-family=\"Times,serif\" font-size=\"14.00\" fill=\"#000000\">gini = 0.499</text>\n<text text-anchor=\"middle\" x=\"420.5\" y=\"-111.8\" font-family=\"Times,serif\" font-size=\"14.00\" fill=\"#000000\">samples = 1885</text>\n<text text-anchor=\"middle\" x=\"420.5\" y=\"-96.8\" font-family=\"Times,serif\" font-size=\"14.00\" fill=\"#000000\">value = [907, 978]</text>\n</g>\n<!-- 6&#45;&gt;7 -->\n<g id=\"edge7\" class=\"edge\">\n<title>6&#45;&gt;7</title>\n<path fill=\"none\" stroke=\"#000000\" d=\"M420.5,-192.9465C420.5,-184.776 420.5,-175.9318 420.5,-167.3697\"/>\n<polygon fill=\"#000000\" stroke=\"#000000\" points=\"424.0001,-167.13 420.5,-157.13 417.0001,-167.13 424.0001,-167.13\"/>\n</g>\n<!-- 10 -->\n<g id=\"node11\" class=\"node\">\n<title>10</title>\n<polygon fill=\"#f3c5a5\" stroke=\"#000000\" points=\"611.5,-157 501.5,-157 501.5,-89 611.5,-89 611.5,-157\"/>\n<text text-anchor=\"middle\" x=\"556.5\" y=\"-141.8\" font-family=\"Times,serif\" font-size=\"14.00\" fill=\"#000000\">RSI &lt;= 61.074</text>\n<text text-anchor=\"middle\" x=\"556.5\" y=\"-126.8\" font-family=\"Times,serif\" font-size=\"14.00\" fill=\"#000000\">gini = 0.456</text>\n<text text-anchor=\"middle\" x=\"556.5\" y=\"-111.8\" font-family=\"Times,serif\" font-size=\"14.00\" fill=\"#000000\">samples = 71</text>\n<text text-anchor=\"middle\" x=\"556.5\" y=\"-96.8\" font-family=\"Times,serif\" font-size=\"14.00\" fill=\"#000000\">value = [46, 25]</text>\n</g>\n<!-- 6&#45;&gt;10 -->\n<g id=\"edge10\" class=\"edge\">\n<title>6&#45;&gt;10</title>\n<path fill=\"none\" stroke=\"#000000\" d=\"M465.0315,-192.9465C477.3597,-183.519 490.8609,-173.1946 503.615,-163.4415\"/>\n<polygon fill=\"#000000\" stroke=\"#000000\" points=\"506.051,-165.9848 511.8685,-157.13 501.7988,-160.4243 506.051,-165.9848\"/>\n</g>\n<!-- 8 -->\n<g id=\"node9\" class=\"node\">\n<title>8</title>\n<polygon fill=\"#f5fafe\" stroke=\"#000000\" points=\"359,-53 234,-53 234,0 359,0 359,-53\"/>\n<text text-anchor=\"middle\" x=\"296.5\" y=\"-37.8\" font-family=\"Times,serif\" font-size=\"14.00\" fill=\"#000000\">gini = 0.5</text>\n<text text-anchor=\"middle\" x=\"296.5\" y=\"-22.8\" font-family=\"Times,serif\" font-size=\"14.00\" fill=\"#000000\">samples = 1800</text>\n<text text-anchor=\"middle\" x=\"296.5\" y=\"-7.8\" font-family=\"Times,serif\" font-size=\"14.00\" fill=\"#000000\">value = [876, 924]</text>\n</g>\n<!-- 7&#45;&gt;8 -->\n<g id=\"edge8\" class=\"edge\">\n<title>7&#45;&gt;8</title>\n<path fill=\"none\" stroke=\"#000000\" d=\"M376.7822,-88.9777C364.5451,-79.4545 351.2645,-69.1191 339.0934,-59.6473\"/>\n<polygon fill=\"#000000\" stroke=\"#000000\" points=\"340.9125,-56.628 330.8711,-53.2485 336.6134,-62.1523 340.9125,-56.628\"/>\n</g>\n<!-- 9 -->\n<g id=\"node10\" class=\"node\">\n<title>9</title>\n<polygon fill=\"#abd5f4\" stroke=\"#000000\" points=\"487.5,-53 377.5,-53 377.5,0 487.5,0 487.5,-53\"/>\n<text text-anchor=\"middle\" x=\"432.5\" y=\"-37.8\" font-family=\"Times,serif\" font-size=\"14.00\" fill=\"#000000\">gini = 0.463</text>\n<text text-anchor=\"middle\" x=\"432.5\" y=\"-22.8\" font-family=\"Times,serif\" font-size=\"14.00\" fill=\"#000000\">samples = 85</text>\n<text text-anchor=\"middle\" x=\"432.5\" y=\"-7.8\" font-family=\"Times,serif\" font-size=\"14.00\" fill=\"#000000\">value = [31, 54]</text>\n</g>\n<!-- 7&#45;&gt;9 -->\n<g id=\"edge9\" class=\"edge\">\n<title>7&#45;&gt;9</title>\n<path fill=\"none\" stroke=\"#000000\" d=\"M424.7308,-88.9777C425.767,-80.6449 426.8805,-71.6903 427.9317,-63.2364\"/>\n<polygon fill=\"#000000\" stroke=\"#000000\" points=\"431.4129,-63.604 429.1738,-53.2485 424.4664,-62.7401 431.4129,-63.604\"/>\n</g>\n<!-- 11 -->\n<g id=\"node12\" class=\"node\">\n<title>11</title>\n<polygon fill=\"#eb9c64\" stroke=\"#000000\" points=\"607.5,-53 505.5,-53 505.5,0 607.5,0 607.5,-53\"/>\n<text text-anchor=\"middle\" x=\"556.5\" y=\"-37.8\" font-family=\"Times,serif\" font-size=\"14.00\" fill=\"#000000\">gini = 0.293</text>\n<text text-anchor=\"middle\" x=\"556.5\" y=\"-22.8\" font-family=\"Times,serif\" font-size=\"14.00\" fill=\"#000000\">samples = 28</text>\n<text text-anchor=\"middle\" x=\"556.5\" y=\"-7.8\" font-family=\"Times,serif\" font-size=\"14.00\" fill=\"#000000\">value = [23, 5]</text>\n</g>\n<!-- 10&#45;&gt;11 -->\n<g id=\"edge11\" class=\"edge\">\n<title>10&#45;&gt;11</title>\n<path fill=\"none\" stroke=\"#000000\" d=\"M556.5,-88.9777C556.5,-80.7364 556.5,-71.887 556.5,-63.5153\"/>\n<polygon fill=\"#000000\" stroke=\"#000000\" points=\"560.0001,-63.2484 556.5,-53.2485 553.0001,-63.2485 560.0001,-63.2484\"/>\n</g>\n<!-- 12 -->\n<g id=\"node13\" class=\"node\">\n<title>12</title>\n<polygon fill=\"#fcefe5\" stroke=\"#000000\" points=\"735.5,-53 625.5,-53 625.5,0 735.5,0 735.5,-53\"/>\n<text text-anchor=\"middle\" x=\"680.5\" y=\"-37.8\" font-family=\"Times,serif\" font-size=\"14.00\" fill=\"#000000\">gini = 0.498</text>\n<text text-anchor=\"middle\" x=\"680.5\" y=\"-22.8\" font-family=\"Times,serif\" font-size=\"14.00\" fill=\"#000000\">samples = 43</text>\n<text text-anchor=\"middle\" x=\"680.5\" y=\"-7.8\" font-family=\"Times,serif\" font-size=\"14.00\" fill=\"#000000\">value = [23, 20]</text>\n</g>\n<!-- 10&#45;&gt;12 -->\n<g id=\"edge12\" class=\"edge\">\n<title>10&#45;&gt;12</title>\n<path fill=\"none\" stroke=\"#000000\" d=\"M600.2178,-88.9777C612.4549,-79.4545 625.7355,-69.1191 637.9066,-59.6473\"/>\n<polygon fill=\"#000000\" stroke=\"#000000\" points=\"640.3866,-62.1523 646.1289,-53.2485 636.0875,-56.628 640.3866,-62.1523\"/>\n</g>\n</g>\n</svg>\n"
          },
          "metadata": {
            "tags": []
          },
          "execution_count": 14
        }
      ]
    },
    {
      "cell_type": "code",
      "metadata": {
        "id": "Ix1t8tbw52Uh",
        "colab_type": "code",
        "colab": {
          "base_uri": "https://localhost:8080/",
          "height": 34
        },
        "outputId": "033a49c4-5ab3-40c6-d8f2-a902b22f455c"
      },
      "source": [
        "scoresnew = cross_val_score(bestclassifier,independant_train,dependant_train,cv=10, scoring='f1_macro')\n",
        "scoresnew.mean()"
      ],
      "execution_count": 15,
      "outputs": [
        {
          "output_type": "execute_result",
          "data": {
            "text/plain": [
              "0.3416638048619357"
            ]
          },
          "metadata": {
            "tags": []
          },
          "execution_count": 15
        }
      ]
    }
  ]
}
