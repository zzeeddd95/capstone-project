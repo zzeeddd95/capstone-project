{
  "nbformat": 4,
  "nbformat_minor": 0,
  "metadata": {
    "colab": {
      "name": "Copy of LSTMApple.ipynb",
      "provenance": [],
      "collapsed_sections": [],
      "toc_visible": true,
      "authorship_tag": "ABX9TyO0QrnhLRqU2iR2BG97ckbB",
      "include_colab_link": true
    },
    "kernelspec": {
      "name": "python3",
      "display_name": "Python 3"
    }
  },
  "cells": [
    {
      "cell_type": "markdown",
      "metadata": {
        "id": "view-in-github",
        "colab_type": "text"
      },
      "source": [
        "<a href=\"https://colab.research.google.com/github/zzeeddd95/capstone-project/blob/master/LSTMApple.ipynb\" target=\"_parent\"><img src=\"https://colab.research.google.com/assets/colab-badge.svg\" alt=\"Open In Colab\"/></a>"
      ]
    },
    {
      "cell_type": "markdown",
      "metadata": {
        "id": "xj9q4R0CF43i",
        "colab_type": "text"
      },
      "source": [
        "**This is a recurrent neural network, specifically an LSTM network designed to predict Apple stock prices one day in advance. **\n"
      ]
    },
    {
      "cell_type": "code",
      "metadata": {
        "id": "Ubkachyk2XwL",
        "colab_type": "code",
        "colab": {
          "base_uri": "https://localhost:8080/",
          "height": 68
        },
        "outputId": "51bf2f32-4a64-4f59-816e-21d542dca98f"
      },
      "source": [
        "#import libraries\n",
        "\n",
        "import math\n",
        "import pandas_datareader as web\n",
        "import numpy as np\n",
        "import pandas as pd\n",
        "from sklearn.preprocessing import MinMaxScaler\n",
        "from keras.models import Sequential\n",
        "from keras.preprocessing.sequence import TimeseriesGenerator\n",
        "from keras.layers import Dropout\n",
        "from keras.layers import Dense, LSTM\n",
        "import matplotlib.pyplot as plt\n",
        "plt.style.use('fivethirtyeight')"
      ],
      "execution_count": null,
      "outputs": [
        {
          "output_type": "stream",
          "text": [
            "/usr/local/lib/python3.6/dist-packages/pandas_datareader/compat/__init__.py:7: FutureWarning: pandas.util.testing is deprecated. Use the functions in the public API at pandas.testing instead.\n",
            "  from pandas.util.testing import assert_frame_equal\n",
            "Using TensorFlow backend.\n"
          ],
          "name": "stderr"
        }
      ]
    },
    {
      "cell_type": "code",
      "metadata": {
        "id": "5i8m-wPf5R3k",
        "colab_type": "code",
        "colab": {
          "base_uri": "https://localhost:8080/",
          "height": 450
        },
        "outputId": "82c5c06c-07b4-404d-f171-ee04496e2b1f"
      },
      "source": [
        "#Get Apple stock\n",
        "applestock = web.DataReader('AAPL', data_source='yahoo', start='2010-05-27', end='2020-05-27')\n",
        "applestock"
      ],
      "execution_count": null,
      "outputs": [
        {
          "output_type": "execute_result",
          "data": {
            "text/html": [
              "<div>\n",
              "<style scoped>\n",
              "    .dataframe tbody tr th:only-of-type {\n",
              "        vertical-align: middle;\n",
              "    }\n",
              "\n",
              "    .dataframe tbody tr th {\n",
              "        vertical-align: top;\n",
              "    }\n",
              "\n",
              "    .dataframe thead th {\n",
              "        text-align: right;\n",
              "    }\n",
              "</style>\n",
              "<table border=\"1\" class=\"dataframe\">\n",
              "  <thead>\n",
              "    <tr style=\"text-align: right;\">\n",
              "      <th></th>\n",
              "      <th>High</th>\n",
              "      <th>Low</th>\n",
              "      <th>Open</th>\n",
              "      <th>Close</th>\n",
              "      <th>Volume</th>\n",
              "      <th>Adj Close</th>\n",
              "    </tr>\n",
              "    <tr>\n",
              "      <th>Date</th>\n",
              "      <th></th>\n",
              "      <th></th>\n",
              "      <th></th>\n",
              "      <th></th>\n",
              "      <th></th>\n",
              "      <th></th>\n",
              "    </tr>\n",
              "  </thead>\n",
              "  <tbody>\n",
              "    <tr>\n",
              "      <th>2010-05-27</th>\n",
              "      <td>36.270000</td>\n",
              "      <td>35.587143</td>\n",
              "      <td>35.799999</td>\n",
              "      <td>36.192856</td>\n",
              "      <td>166570600.0</td>\n",
              "      <td>31.332062</td>\n",
              "    </tr>\n",
              "    <tr>\n",
              "      <th>2010-05-28</th>\n",
              "      <td>37.057144</td>\n",
              "      <td>36.192856</td>\n",
              "      <td>37.055714</td>\n",
              "      <td>36.697144</td>\n",
              "      <td>203903700.0</td>\n",
              "      <td>31.768623</td>\n",
              "    </tr>\n",
              "    <tr>\n",
              "      <th>2010-06-01</th>\n",
              "      <td>37.991428</td>\n",
              "      <td>36.994286</td>\n",
              "      <td>37.098572</td>\n",
              "      <td>37.261429</td>\n",
              "      <td>219118200.0</td>\n",
              "      <td>32.257130</td>\n",
              "    </tr>\n",
              "    <tr>\n",
              "      <th>2010-06-02</th>\n",
              "      <td>37.828571</td>\n",
              "      <td>37.189999</td>\n",
              "      <td>37.791428</td>\n",
              "      <td>37.707142</td>\n",
              "      <td>172137000.0</td>\n",
              "      <td>32.642975</td>\n",
              "    </tr>\n",
              "    <tr>\n",
              "      <th>2010-06-03</th>\n",
              "      <td>37.935715</td>\n",
              "      <td>37.201427</td>\n",
              "      <td>37.882858</td>\n",
              "      <td>37.588570</td>\n",
              "      <td>162526700.0</td>\n",
              "      <td>32.540325</td>\n",
              "    </tr>\n",
              "    <tr>\n",
              "      <th>...</th>\n",
              "      <td>...</td>\n",
              "      <td>...</td>\n",
              "      <td>...</td>\n",
              "      <td>...</td>\n",
              "      <td>...</td>\n",
              "      <td>...</td>\n",
              "    </tr>\n",
              "    <tr>\n",
              "      <th>2020-05-20</th>\n",
              "      <td>319.519989</td>\n",
              "      <td>316.519989</td>\n",
              "      <td>316.679993</td>\n",
              "      <td>319.230011</td>\n",
              "      <td>27876200.0</td>\n",
              "      <td>319.230011</td>\n",
              "    </tr>\n",
              "    <tr>\n",
              "      <th>2020-05-21</th>\n",
              "      <td>320.890015</td>\n",
              "      <td>315.869995</td>\n",
              "      <td>318.660004</td>\n",
              "      <td>316.850006</td>\n",
              "      <td>25672200.0</td>\n",
              "      <td>316.850006</td>\n",
              "    </tr>\n",
              "    <tr>\n",
              "      <th>2020-05-22</th>\n",
              "      <td>319.230011</td>\n",
              "      <td>315.350006</td>\n",
              "      <td>315.769989</td>\n",
              "      <td>318.890015</td>\n",
              "      <td>20450800.0</td>\n",
              "      <td>318.890015</td>\n",
              "    </tr>\n",
              "    <tr>\n",
              "      <th>2020-05-26</th>\n",
              "      <td>324.239990</td>\n",
              "      <td>316.500000</td>\n",
              "      <td>323.500000</td>\n",
              "      <td>316.730011</td>\n",
              "      <td>31380500.0</td>\n",
              "      <td>316.730011</td>\n",
              "    </tr>\n",
              "    <tr>\n",
              "      <th>2020-05-27</th>\n",
              "      <td>318.709991</td>\n",
              "      <td>313.089996</td>\n",
              "      <td>316.140015</td>\n",
              "      <td>318.109985</td>\n",
              "      <td>28236300.0</td>\n",
              "      <td>318.109985</td>\n",
              "    </tr>\n",
              "  </tbody>\n",
              "</table>\n",
              "<p>2517 rows × 6 columns</p>\n",
              "</div>"
            ],
            "text/plain": [
              "                  High         Low  ...       Volume   Adj Close\n",
              "Date                                ...                         \n",
              "2010-05-27   36.270000   35.587143  ...  166570600.0   31.332062\n",
              "2010-05-28   37.057144   36.192856  ...  203903700.0   31.768623\n",
              "2010-06-01   37.991428   36.994286  ...  219118200.0   32.257130\n",
              "2010-06-02   37.828571   37.189999  ...  172137000.0   32.642975\n",
              "2010-06-03   37.935715   37.201427  ...  162526700.0   32.540325\n",
              "...                ...         ...  ...          ...         ...\n",
              "2020-05-20  319.519989  316.519989  ...   27876200.0  319.230011\n",
              "2020-05-21  320.890015  315.869995  ...   25672200.0  316.850006\n",
              "2020-05-22  319.230011  315.350006  ...   20450800.0  318.890015\n",
              "2020-05-26  324.239990  316.500000  ...   31380500.0  316.730011\n",
              "2020-05-27  318.709991  313.089996  ...   28236300.0  318.109985\n",
              "\n",
              "[2517 rows x 6 columns]"
            ]
          },
          "metadata": {
            "tags": []
          },
          "execution_count": 2
        }
      ]
    },
    {
      "cell_type": "code",
      "metadata": {
        "id": "9-zyeLUT5lTS",
        "colab_type": "code",
        "colab": {
          "base_uri": "https://localhost:8080/",
          "height": 34
        },
        "outputId": "c748154e-2331-45ee-d094-69a7a4a21fde"
      },
      "source": [
        "#Get dataset information\n",
        "applestock.shape"
      ],
      "execution_count": null,
      "outputs": [
        {
          "output_type": "execute_result",
          "data": {
            "text/plain": [
              "(2517, 6)"
            ]
          },
          "metadata": {
            "tags": []
          },
          "execution_count": 4
        }
      ]
    },
    {
      "cell_type": "code",
      "metadata": {
        "id": "0aqQoPRz5xkB",
        "colab_type": "code",
        "colab": {
          "base_uri": "https://localhost:8080/",
          "height": 518
        },
        "outputId": "eead6615-c00e-4bf0-f209-525ea4b920a9"
      },
      "source": [
        "#visualize closing apple price\n",
        "plt.figure(figsize=(16,8))\n",
        "plt.title('Apple Close Price History')\n",
        "plt.plot(applestock['Close'])\n",
        "plt.xlabel('Date', fontsize=18)\n",
        "plt.ylabel('Close Price USD', fontsize=18)\n",
        "plt.show()"
      ],
      "execution_count": null,
      "outputs": [
        {
          "output_type": "display_data",
          "data": {
            "image/png": "[encoded data removed]",
            "text/plain": [
              "<Figure size 1152x576 with 1 Axes>"
            ]
          },
          "metadata": {
            "tags": [],
            "needs_background": "light"
          }
        }
      ]
    },
    {
      "cell_type": "markdown",
      "metadata": {
        "id": "de0YalsYGPL-",
        "colab_type": "text"
      },
      "source": [
        "**In this next line of code, we will extract the apple closing price from the stock dataframe, convert it to a numpy array and create a training dataframe consisiting of 80% of closing stock prices.**"
      ]
    },
    {
      "cell_type": "code",
      "metadata": {
        "id": "Y3YHk0MZ6upG",
        "colab_type": "code",
        "colab": {
          "base_uri": "https://localhost:8080/",
          "height": 34
        },
        "outputId": "ccb019ce-c6c9-4360-ce38-3262d7c000e6"
      },
      "source": [
        "#extract closing price and position into new datafram\n",
        "appleclose = applestock.filter(['Close'])\n",
        "#convert dataframe to numpy array\n",
        "appledata = appleclose.values\n",
        "#obtain row number to train model\n",
        "training_apple_data = math.ceil(len(appledata)*.8)\n",
        "training_apple_data"
      ],
      "execution_count": null,
      "outputs": [
        {
          "output_type": "execute_result",
          "data": {
            "text/plain": [
              "2014"
            ]
          },
          "metadata": {
            "tags": []
          },
          "execution_count": 6
        }
      ]
    },
    {
      "cell_type": "markdown",
      "metadata": {
        "id": "PPqmL5fgGTWL",
        "colab_type": "text"
      },
      "source": [
        "**Normalizing the data is key to ensuring that the neural network works properly, and so a scale of 0,1 is set, and the following code will enable the normalization of the closing price data. this data will then be inserted into is own variable. **"
      ]
    },
    {
      "cell_type": "code",
      "metadata": {
        "id": "iHvL2jSO7jv2",
        "colab_type": "code",
        "colab": {
          "base_uri": "https://localhost:8080/",
          "height": 136
        },
        "outputId": "33873f31-1e6b-4998-bbb7-510653a1f083"
      },
      "source": [
        "#scaling data\n",
        "scaler = MinMaxScaler(feature_range=(0,1))\n",
        "scaled_apple_data = scaler.fit_transform(appledata)\n",
        "scaled_apple_data"
      ],
      "execution_count": null,
      "outputs": [
        {
          "output_type": "execute_result",
          "data": {
            "text/plain": [
              "array([[0.00654483],\n",
              "       [0.0082664 ],\n",
              "       [0.01019278],\n",
              "       ...,\n",
              "       [0.9716309 ],\n",
              "       [0.96425697],\n",
              "       [0.968968  ]])"
            ]
          },
          "metadata": {
            "tags": []
          },
          "execution_count": 7
        }
      ]
    },
    {
      "cell_type": "markdown",
      "metadata": {
        "id": "xCl7dQ9KGY5Y",
        "colab_type": "text"
      },
      "source": [
        "**In the following lines of code, we will be creating the scaled training data to feed into the neural network from the previous 80% variable that was created. the training data will be from row 0 until the final row, and will include all columns. A loop is created in which the x train set will contain data from positions 0-359 on the first pass, and the y train set will contain data from position 360. the value in position 360 is the value that we require our model to predict. the if loop allows for positions to be filled into the x and y variables with respect to iterations. **"
      ]
    },
    {
      "cell_type": "code",
      "metadata": {
        "id": "Ie25ot3q8Bvc",
        "colab_type": "code",
        "colab": {
          "base_uri": "https://localhost:8080/",
          "height": 1000
        },
        "outputId": "0d01a851-f730-4504-fce3-3b7cb9389258"
      },
      "source": [
        "\n",
        "#create the scaled training dataset\n",
        "\n",
        "train_apple_data = scaled_apple_data[0:training_apple_data,:]\n",
        "#split the data omtp x_train and y_train datasets\n",
        "\n",
        "x_train_apple = []\n",
        "y_train_apple = []\n",
        "\n",
        "for i in range(360,len(train_apple_data)):\n",
        "  x_train_apple.append(train_apple_data[i-360:i,0])\n",
        "  y_train_apple.append(train_apple_data[i,0])\n",
        "  if i<= 360:\n",
        "    print(x_train_apple)\n",
        "    print(y_train_apple)\n",
        "    print()"
      ],
      "execution_count": null,
      "outputs": [
        {
          "output_type": "stream",
          "text": [
            "[array([0.00654483, 0.0082664 , 0.01019278, 0.01171438, 0.01130959,\n",
            "       0.00781772, 0.0053695 , 0.00458432, 0.00159476, 0.00515979,\n",
            "       0.00662287, 0.00699839, 0.00963681, 0.01332377, 0.01557691,\n",
            "       0.01664984, 0.01474784, 0.01654255, 0.01513799, 0.01417723,\n",
            "       0.01305554, 0.01383585, 0.00792013, 0.00565724, 0.00416977,\n",
            "       0.00341872, 0.00424292, 0.00913937, 0.0088565 , 0.00960267,\n",
            "       0.00846635, 0.00578891, 0.00624247, 0.00561822, 0.0048623 ,\n",
            "       0.00275547, 0.00583281, 0.00697888, 0.00931006, 0.00975873,\n",
            "       0.00943686, 0.01177779, 0.01025618, 0.00886625, 0.00844684,\n",
            "       0.01069023, 0.01072925, 0.01124133, 0.01061708, 0.0098319 ,\n",
            "       0.01064146, 0.00950026, 0.00500373, 0.00578404, 0.00447214,\n",
            "       0.00376011, 0.00587183, 0.00640829, 0.00485255, 0.0047355 ,\n",
            "       0.00286275, 0.        , 0.00144357, 0.00017069, 0.0008242 ,\n",
            "       0.00125337, 0.00154599, 0.00507201, 0.00596936, 0.00918814,\n",
            "       0.00871996, 0.01121207, 0.01128521, 0.01145103, 0.01322136,\n",
            "       0.0137188 , 0.01477222, 0.01786907, 0.01728383, 0.02111711,\n",
            "       0.02138046, 0.02332148, 0.02389208, 0.02555023, 0.02498451,\n",
            "       0.02288743, 0.02313615, 0.0213707 , 0.02077085, 0.01887859,\n",
            "       0.02390183, 0.02402376, 0.02403839, 0.02640369, 0.02703283,\n",
            "       0.02858369, 0.029364  , 0.03042229, 0.03648431, 0.03807419,\n",
            "       0.03392392, 0.03443112, 0.03393856, 0.03293879, 0.03360692,\n",
            "       0.03322164, 0.03311436, 0.03185123, 0.02977366, 0.03133427,\n",
            "       0.03386053, 0.03553819, 0.03820588, 0.03764991, 0.03837657,\n",
            "       0.03713782, 0.03808883, 0.03741581, 0.03321189, 0.03272908,\n",
            "       0.03007115, 0.02953956, 0.03340697, 0.0325779 , 0.03581129,\n",
            "       0.03355328, 0.03651357, 0.03661111, 0.0375231 , 0.0347335 ,\n",
            "       0.03729389, 0.03814735, 0.03780109, 0.03912273, 0.03817661,\n",
            "       0.03954215, 0.03893253, 0.03932269, 0.03986403, 0.03919101,\n",
            "       0.03922514, 0.03965919, 0.03934708, 0.04012738, 0.04109789,\n",
            "       0.04156607, 0.04080528, 0.04133199, 0.04171727, 0.04162948,\n",
            "       0.04083454, 0.04029808, 0.0437168 , 0.04455564, 0.04587729,\n",
            "       0.0457456 , 0.04691119, 0.04999829, 0.04960326, 0.05095905,\n",
            "       0.05157354, 0.05293907, 0.04912045, 0.04823772, 0.04523353,\n",
            "       0.04232688, 0.04755982, 0.04948621, 0.05068106, 0.05036893,\n",
            "       0.04690144, 0.04847181, 0.05125654, 0.05091028, 0.05048111,\n",
            "       0.05197345, 0.05459723, 0.05621638, 0.05765995, 0.0558945 ,\n",
            "       0.05702107, 0.05815739, 0.05850854, 0.06008378, 0.05772823,\n",
            "       0.05395349, 0.04812554, 0.05008119, 0.050208  , 0.05278302,\n",
            "       0.05524587, 0.05334386, 0.05471428, 0.05834272, 0.0585573 ,\n",
            "       0.0562944 , 0.05648948, 0.05488497, 0.05205635, 0.05465088,\n",
            "       0.05541656, 0.05145161, 0.04393139, 0.0461894 , 0.04425326,\n",
            "       0.04846205, 0.04938868, 0.04840841, 0.05122728, 0.05443142,\n",
            "       0.05389496, 0.05414855, 0.05301224, 0.05295371, 0.05102733,\n",
            "       0.0493838 , 0.0482621 , 0.04784756, 0.04786707, 0.04639424,\n",
            "       0.04431666, 0.04509697, 0.04691606, 0.04510673, 0.04268777,\n",
            "       0.04482874, 0.04775977, 0.04997878, 0.05402175, 0.05514833,\n",
            "       0.05388521, 0.05375352, 0.05209537, 0.05374377, 0.05186615,\n",
            "       0.05280253, 0.05347067, 0.05209537, 0.05205148, 0.05250991,\n",
            "       0.05341214, 0.05232946, 0.05200758, 0.04904729, 0.04553589,\n",
            "       0.04692095, 0.04874004, 0.04906192, 0.04647227, 0.04607236,\n",
            "       0.04499456, 0.04723307, 0.04636498, 0.04754031, 0.05262207,\n",
            "       0.05149063, 0.05177836, 0.05048111, 0.04784756, 0.0449214 ,\n",
            "       0.04501894, 0.04465317, 0.04192697, 0.04226835, 0.04511648,\n",
            "       0.0423415 , 0.04156607, 0.03917637, 0.03676718, 0.04163435,\n",
            "       0.04032246, 0.04452638, 0.04214643, 0.0449214 , 0.04649178,\n",
            "       0.04589679, 0.04669173, 0.05039332, 0.05340239, 0.0545387 ,\n",
            "       0.05719176, 0.05841587, 0.05563115, 0.05550922, 0.05759167,\n",
            "       0.05746975, 0.06095675, 0.06528747, 0.06677492, 0.07167624,\n",
            "       0.07186645, 0.07479748, 0.07733348, 0.07972806, 0.07445122,\n",
            "       0.07407569, 0.07342218, 0.07648002, 0.07265651, 0.07444146,\n",
            "       0.06702853, 0.06519968, 0.05524587, 0.06538988, 0.06035689,\n",
            "       0.0652387 , 0.0668432 , 0.0699742 , 0.06854526, 0.06852575,\n",
            "       0.06150785, 0.05662116, 0.05682111, 0.06518993, 0.06644818,\n",
            "       0.06524845, 0.0700571 , 0.07317346, 0.07318321, 0.07066672,\n",
            "       0.06881349, 0.06540939, 0.06818437, 0.07022779, 0.07033022,\n",
            "       0.06708217, 0.0682819 , 0.0705643 , 0.0728467 , 0.07463166,\n",
            "       0.07830887, 0.0837369 , 0.08462449, 0.08398562, 0.07895263,\n",
            "       0.0801621 , 0.07961101, 0.07770413, 0.07660682, 0.07346608,\n",
            "       0.06895492, 0.06567762, 0.06465347, 0.0674577 , 0.06702853,\n",
            "       0.06333669, 0.07260774, 0.07820645, 0.07913307, 0.08217627,\n",
            "       0.08879427, 0.08781401, 0.08891132, 0.077392  , 0.07577775,\n",
            "       0.07458778, 0.08087902, 0.07697747, 0.07835764, 0.08035231])]\n",
            "[0.08047909925707868]\n",
            "\n"
          ],
          "name": "stdout"
        }
      ]
    },
    {
      "cell_type": "markdown",
      "metadata": {
        "id": "GQJFtYjeGfjI",
        "colab_type": "text"
      },
      "source": [
        "**The following two cells of code will allow for increased pre processing of the above created variables to allow for training of the model. it is important to reshape the x train data set becase the lstm networks expects the input to be three dimensional (# of samples, # of timesteps, #of features), however the train data set in its current form is two dimensional. **"
      ]
    },
    {
      "cell_type": "code",
      "metadata": {
        "id": "uS7DnvE9-ZJ9",
        "colab_type": "code",
        "colab": {}
      },
      "source": [
        "#convert the x_train_apple and y_train_apple to numpy array in order to allow the training of lstm model\n",
        "x_train_apple,y_train_apple=np.array(x_train_apple), np.array(y_train_apple)"
      ],
      "execution_count": null,
      "outputs": []
    },
    {
      "cell_type": "code",
      "metadata": {
        "id": "1S84Ci36-sMd",
        "colab_type": "code",
        "colab": {
          "base_uri": "https://localhost:8080/",
          "height": 34
        },
        "outputId": "1e798d38-145e-4703-9dc9-522d1174bc9c"
      },
      "source": [
        "#Reshape the data in order to obtain three dimensional data to feed into LSTM\n",
        "x_train_apple=np.reshape(x_train_apple,(x_train_apple.shape[0],x_train_apple.shape[1],1))\n",
        "x_train_apple.shape"
      ],
      "execution_count": null,
      "outputs": [
        {
          "output_type": "execute_result",
          "data": {
            "text/plain": [
              "(1654, 360, 1)"
            ]
          },
          "metadata": {
            "tags": []
          },
          "execution_count": 10
        }
      ]
    },
    {
      "cell_type": "markdown",
      "metadata": {
        "id": "kf_KSi6xGj5J",
        "colab_type": "text"
      },
      "source": [
        "**The following cell includes the LSTM model build, and here is where the neural network hyperparamaters can be tuned to achieve the specific output required. The error for the model is tested using the RMSE. This particular model contains 2 LSTM layers with 200 neurons each, 2 dense layers (allowing for output of predictions from the neuron layers), a model compiler and a model fitter. **"
      ]
    },
    {
      "cell_type": "code",
      "metadata": {
        "id": "bU79mp45_sD0",
        "colab_type": "code",
        "colab": {
          "base_uri": "https://localhost:8080/",
          "height": 272
        },
        "outputId": "ef007790-ef50-492a-ae29-81bf597459b5"
      },
      "source": [
        "#Build the LSTM model for apple\n",
        "model = Sequential()\n",
        "model.add(LSTM(200,return_sequences=True, input_shape=(x_train_apple.shape[1],1)))\n",
        "model.add(LSTM(200, return_sequences=False))\n",
        "model.add(Dense(100))\n",
        "model.add(Dense(1))\n",
        "#compile the apple model\n",
        "model.compile(optimizer='adam',loss='mean_squared_error')\n",
        "#train the model\n",
        "model.fit(x_train_apple,y_train_apple, batch_size=2,epochs=7)"
      ],
      "execution_count": null,
      "outputs": [
        {
          "output_type": "stream",
          "text": [
            "Epoch 1/7\n",
            "1654/1654 [==============================] - 682s 412ms/step - loss: 4.8790e-04\n",
            "Epoch 2/7\n",
            "1654/1654 [==============================] - 678s 410ms/step - loss: 1.9812e-04\n",
            "Epoch 3/7\n",
            "1654/1654 [==============================] - 675s 408ms/step - loss: 1.7136e-04\n",
            "Epoch 4/7\n",
            "1654/1654 [==============================] - 682s 412ms/step - loss: 1.4195e-04\n",
            "Epoch 5/7\n",
            "1654/1654 [==============================] - 681s 412ms/step - loss: 9.8803e-05\n",
            "Epoch 6/7\n",
            "1654/1654 [==============================] - 695s 420ms/step - loss: 1.0456e-04\n",
            "Epoch 7/7\n",
            "1654/1654 [==============================] - 694s 420ms/step - loss: 1.2594e-04\n"
          ],
          "name": "stdout"
        },
        {
          "output_type": "execute_result",
          "data": {
            "text/plain": [
              "<keras.callbacks.callbacks.History at 0x7f1017f01080>"
            ]
          },
          "metadata": {
            "tags": []
          },
          "execution_count": 11
        }
      ]
    },
    {
      "cell_type": "code",
      "metadata": {
        "id": "lMJ2CfzrBGV6",
        "colab_type": "code",
        "colab": {}
      },
      "source": [
        "#create the testing data set by creating a new array containg scaled values from index 1924 - 2517\n",
        "test_apple_data = scaled_apple_data[training_apple_data - 360: , :]\n",
        "#create the datasets x_apple_test and y_apple_test\n",
        "x_apple_test = []\n",
        "y_apple_test = appledata[training_apple_data:, :]\n",
        "for i in range(360,len(test_apple_data)):\n",
        "  x_apple_test.append(test_apple_data[i-360:i, 0])"
      ],
      "execution_count": null,
      "outputs": []
    },
    {
      "cell_type": "code",
      "metadata": {
        "id": "sxyiUWJeCX0q",
        "colab_type": "code",
        "colab": {}
      },
      "source": [
        "#convert data into numpy array\n",
        "x_apple_test=np.array(x_apple_test)"
      ],
      "execution_count": null,
      "outputs": []
    },
    {
      "cell_type": "code",
      "metadata": {
        "id": "cy_asIi0CgDK",
        "colab_type": "code",
        "colab": {}
      },
      "source": [
        "#Reshape test data\n",
        "x_apple_test = np.reshape(x_apple_test,(x_apple_test.shape[0],x_apple_test.shape[1],1))"
      ],
      "execution_count": null,
      "outputs": []
    },
    {
      "cell_type": "code",
      "metadata": {
        "id": "lr5rFDSaCzYH",
        "colab_type": "code",
        "colab": {}
      },
      "source": [
        "#obtain model predicted price values, we want prediction to obtain same values as y_apple_test dataset\n",
        "applepredictions = model.predict(x_apple_test)\n",
        "applepredictions=scaler.inverse_transform(applepredictions)"
      ],
      "execution_count": null,
      "outputs": []
    },
    {
      "cell_type": "code",
      "metadata": {
        "id": "2v7dgEtQDUXD",
        "colab_type": "code",
        "colab": {
          "base_uri": "https://localhost:8080/",
          "height": 34
        },
        "outputId": "478a393a-ba93-46e1-dc3b-70328f3dd59b"
      },
      "source": [
        "#Evaluate the model by getting the RMSE\n",
        "rmse = np.sqrt( np.mean( applepredictions-y_apple_test)**2)\n",
        "rmse"
      ],
      "execution_count": null,
      "outputs": [
        {
          "output_type": "execute_result",
          "data": {
            "text/plain": [
              "4.039742896381477"
            ]
          },
          "metadata": {
            "tags": []
          },
          "execution_count": 16
        }
      ]
    },
    {
      "cell_type": "code",
      "metadata": {
        "id": "btUiaWzCEmWk",
        "colab_type": "code",
        "colab": {
          "base_uri": "https://localhost:8080/",
          "height": 34
        },
        "outputId": "2c609827-395d-4030-e50a-8789de1bd4c7"
      },
      "source": [
        "#evaluate the network\n",
        "\n",
        "loss = model.evaluate(x_train_apple,y_train_apple,verbose=0)\n",
        "print(loss)"
      ],
      "execution_count": null,
      "outputs": [
        {
          "output_type": "stream",
          "text": [
            "4.207115311247658e-05\n"
          ],
          "name": "stdout"
        }
      ]
    },
    {
      "cell_type": "code",
      "metadata": {
        "id": "wjR6i874FLrm",
        "colab_type": "code",
        "colab": {
          "base_uri": "https://localhost:8080/",
          "height": 435
        },
        "outputId": "6d92d6c6-92ba-4923-8f35-00a913776cfd"
      },
      "source": [
        "#Plot data\n",
        "train = appleclose[:training_apple_data]\n",
        "valid = appleclose[training_apple_data:]\n",
        "valid['Predictions'] = applepredictions\n",
        "#visualize the data\n",
        "plt.figure(figsize=(16,8))\n",
        "plt.title('Model')\n",
        "plt.xlabel('Date', fontsize = 18)\n",
        "plt.ylabel('Close Price USD', fontsize = 18)\n",
        "plt.plot(train['Close'])\n",
        "plt.plot(valid[['Close', 'Predictions']])\n",
        "plt.legend(['Train data set', 'validation data set','Prediction data set'],loc ='lower right' )\n",
        "plt.show()"
      ],
      "execution_count": null,
      "outputs": [
        {
          "output_type": "stream",
          "text": [
            "/usr/local/lib/python3.6/dist-packages/ipykernel_launcher.py:4: SettingWithCopyWarning: \n",
            "A value is trying to be set on a copy of a slice from a DataFrame.\n",
            "Try using .loc[row_indexer,col_indexer] = value instead\n",
            "\n",
            "See the caveats in the documentation: https://pandas.pydata.org/pandas-docs/stable/user_guide/indexing.html#returning-a-view-versus-a-copy\n",
            "  after removing the cwd from sys.path.\n"
          ],
          "name": "stderr"
        },
        {
          "output_type": "display_data",
          "data": {
            "image/png": "[encoded data removed]",
            "text/plain": [
              "<Figure size 1152x576 with 1 Axes>"
            ]
          },
          "metadata": {
            "tags": [],
            "needs_background": "light"
          }
        }
      ]
    },
    {
      "cell_type": "code",
      "metadata": {
        "id": "HPqM79RuKIvT",
        "colab_type": "code",
        "colab": {
          "base_uri": "https://localhost:8080/",
          "height": 450
        },
        "outputId": "cf032756-7695-41e1-cb35-33d395ef14e9"
      },
      "source": [
        "#show the validation price and predicted price\n",
        "valid"
      ],
      "execution_count": null,
      "outputs": [
        {
          "output_type": "execute_result",
          "data": {
            "text/html": [
              "<div>\n",
              "<style scoped>\n",
              "    .dataframe tbody tr th:only-of-type {\n",
              "        vertical-align: middle;\n",
              "    }\n",
              "\n",
              "    .dataframe tbody tr th {\n",
              "        vertical-align: top;\n",
              "    }\n",
              "\n",
              "    .dataframe thead th {\n",
              "        text-align: right;\n",
              "    }\n",
              "</style>\n",
              "<table border=\"1\" class=\"dataframe\">\n",
              "  <thead>\n",
              "    <tr style=\"text-align: right;\">\n",
              "      <th></th>\n",
              "      <th>Close</th>\n",
              "      <th>Predictions</th>\n",
              "    </tr>\n",
              "    <tr>\n",
              "      <th>Date</th>\n",
              "      <th></th>\n",
              "      <th></th>\n",
              "    </tr>\n",
              "  </thead>\n",
              "  <tbody>\n",
              "    <tr>\n",
              "      <th>2018-05-29</th>\n",
              "      <td>187.899994</td>\n",
              "      <td>191.499786</td>\n",
              "    </tr>\n",
              "    <tr>\n",
              "      <th>2018-05-30</th>\n",
              "      <td>187.500000</td>\n",
              "      <td>190.701401</td>\n",
              "    </tr>\n",
              "    <tr>\n",
              "      <th>2018-05-31</th>\n",
              "      <td>186.869995</td>\n",
              "      <td>190.354080</td>\n",
              "    </tr>\n",
              "    <tr>\n",
              "      <th>2018-06-01</th>\n",
              "      <td>190.240005</td>\n",
              "      <td>189.685028</td>\n",
              "    </tr>\n",
              "    <tr>\n",
              "      <th>2018-06-04</th>\n",
              "      <td>191.830002</td>\n",
              "      <td>193.472900</td>\n",
              "    </tr>\n",
              "    <tr>\n",
              "      <th>...</th>\n",
              "      <td>...</td>\n",
              "      <td>...</td>\n",
              "    </tr>\n",
              "    <tr>\n",
              "      <th>2020-05-20</th>\n",
              "      <td>319.230011</td>\n",
              "      <td>320.371521</td>\n",
              "    </tr>\n",
              "    <tr>\n",
              "      <th>2020-05-21</th>\n",
              "      <td>316.850006</td>\n",
              "      <td>328.019592</td>\n",
              "    </tr>\n",
              "    <tr>\n",
              "      <th>2020-05-22</th>\n",
              "      <td>318.890015</td>\n",
              "      <td>324.237305</td>\n",
              "    </tr>\n",
              "    <tr>\n",
              "      <th>2020-05-26</th>\n",
              "      <td>316.730011</td>\n",
              "      <td>327.217499</td>\n",
              "    </tr>\n",
              "    <tr>\n",
              "      <th>2020-05-27</th>\n",
              "      <td>318.109985</td>\n",
              "      <td>324.251831</td>\n",
              "    </tr>\n",
              "  </tbody>\n",
              "</table>\n",
              "<p>503 rows × 2 columns</p>\n",
              "</div>"
            ],
            "text/plain": [
              "                 Close  Predictions\n",
              "Date                               \n",
              "2018-05-29  187.899994   191.499786\n",
              "2018-05-30  187.500000   190.701401\n",
              "2018-05-31  186.869995   190.354080\n",
              "2018-06-01  190.240005   189.685028\n",
              "2018-06-04  191.830002   193.472900\n",
              "...                ...          ...\n",
              "2020-05-20  319.230011   320.371521\n",
              "2020-05-21  316.850006   328.019592\n",
              "2020-05-22  318.890015   324.237305\n",
              "2020-05-26  316.730011   327.217499\n",
              "2020-05-27  318.109985   324.251831\n",
              "\n",
              "[503 rows x 2 columns]"
            ]
          },
          "metadata": {
            "tags": []
          },
          "execution_count": 18
        }
      ]
    },
    {
      "cell_type": "code",
      "metadata": {
        "id": "mzApKUv1Kgvl",
        "colab_type": "code",
        "colab": {
          "base_uri": "https://localhost:8080/",
          "height": 34
        },
        "outputId": "e6160e26-5098-426b-bcb1-1a14a0f59ff8"
      },
      "source": [
        "#Predict future price\n",
        "apple_quote = web.DataReader('AAPL', data_source='yahoo', start='2010-05-27', end='2020-07-01')\n",
        "#Create new dataframe\n",
        "new_df = apple_quote.filter(['Close'])\n",
        "#Extract last 90 days closing price and convert df to array\n",
        "last_360_days = new_df[-360:].values\n",
        "#scalre the data to be valued between 0 and 1\n",
        "last_360_days_scaled = scaler.transform(last_360_days)\n",
        "#create an empty list\n",
        "X_test = []\n",
        "#Append past 360 days to empty list\n",
        "X_test.append(last_360_days_scaled)\n",
        "#Convert the X_test dataset to a numpy array\n",
        "X_test = np.array(X_test)\n",
        "#Reshape data\n",
        "X_test = np.reshape(X_test,(X_test.shape[0],X_test.shape[1],1))\n",
        "#Get the predicted scaled price\n",
        "pred_price = model.predict(X_test)\n",
        "#Undo the scaling\n",
        "pred_price = scaler.inverse_transform(pred_price)\n",
        "print(pred_price)"
      ],
      "execution_count": null,
      "outputs": [
        {
          "output_type": "stream",
          "text": [
            "[[374.0173]]\n"
          ],
          "name": "stdout"
        }
      ]
    },
    {
      "cell_type": "code",
      "metadata": {
        "id": "qRSg-_yqMttB",
        "colab_type": "code",
        "colab": {
          "base_uri": "https://localhost:8080/",
          "height": 238
        },
        "outputId": "0b998a00-8b5b-4a6b-8b3c-65809ba50d31"
      },
      "source": [
        "apple_quote2 = web.DataReader('AAPL', data_source='yahoo', start='2010-05-27', end='2020-07-02')\n",
        "print(apple_quote2['Close'])\n"
      ],
      "execution_count": null,
      "outputs": [
        {
          "output_type": "stream",
          "text": [
            "Date\n",
            "2010-05-27     36.192856\n",
            "2010-05-28     36.697144\n",
            "2010-06-01     37.261429\n",
            "2010-06-02     37.707142\n",
            "2010-06-03     37.588570\n",
            "                 ...    \n",
            "2020-06-26    353.630005\n",
            "2020-06-29    361.779999\n",
            "2020-06-30    364.799988\n",
            "2020-07-01    364.109985\n",
            "2020-07-02    364.109985\n",
            "Name: Close, Length: 2543, dtype: float64\n"
          ],
          "name": "stdout"
        }
      ]
    }
  ]
}
