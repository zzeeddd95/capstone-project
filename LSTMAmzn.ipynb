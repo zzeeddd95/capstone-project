{
  "nbformat": 4,
  "nbformat_minor": 0,
  "metadata": {
    "colab": {
      "name": "Copy of LSTMAmzn.ipynb",
      "provenance": [],
      "collapsed_sections": [],
      "toc_visible": true,
      "authorship_tag": "ABX9TyPhDDa0jdbTQjVF8CHZeaBR",
      "include_colab_link": true
    },
    "kernelspec": {
      "name": "python3",
      "display_name": "Python 3"
    }
  },
  "cells": [
    {
      "cell_type": "markdown",
      "metadata": {
        "id": "view-in-github",
        "colab_type": "text"
      },
      "source": [
        "<a href=\"https://colab.research.google.com/github/zzeeddd95/capstone-project/blob/master/LSTMAmzn.ipynb\" target=\"_parent\"><img src=\"https://colab.research.google.com/assets/colab-badge.svg\" alt=\"Open In Colab\"/></a>"
      ]
    },
    {
      "cell_type": "code",
      "metadata": {
        "id": "Ubkachyk2XwL",
        "colab_type": "code",
        "colab": {}
      },
      "source": [
        "#import libraries\n",
        "\n",
        "import math\n",
        "import pandas_datareader as web\n",
        "import numpy as np\n",
        "import pandas as pd\n",
        "from sklearn.preprocessing import MinMaxScaler\n",
        "from keras.models import Sequential\n",
        "from keras.preprocessing.sequence import TimeseriesGenerator\n",
        "from keras.layers import Dropout\n",
        "from keras.layers import Dense, LSTM\n",
        "import matplotlib.pyplot as plt\n",
        "plt.style.use('fivethirtyeight')"
      ],
      "execution_count": 11,
      "outputs": []
    },
    {
      "cell_type": "code",
      "metadata": {
        "id": "5i8m-wPf5R3k",
        "colab_type": "code",
        "colab": {
          "base_uri": "https://localhost:8080/",
          "height": 450
        },
        "outputId": "ba51df95-b3e4-47d3-ba66-e3824d9ff43f"
      },
      "source": [
        "#Get Amazon stock\n",
        "amznstock = web.DataReader('AMZN', data_source='yahoo', start='2010-05-27', end='2020-05-27')\n",
        "amznstock"
      ],
      "execution_count": null,
      "outputs": [
        {
          "output_type": "execute_result",
          "data": {
            "text/html": [
              "<div>\n",
              "<style scoped>\n",
              "    .dataframe tbody tr th:only-of-type {\n",
              "        vertical-align: middle;\n",
              "    }\n",
              "\n",
              "    .dataframe tbody tr th {\n",
              "        vertical-align: top;\n",
              "    }\n",
              "\n",
              "    .dataframe thead th {\n",
              "        text-align: right;\n",
              "    }\n",
              "</style>\n",
              "<table border=\"1\" class=\"dataframe\">\n",
              "  <thead>\n",
              "    <tr style=\"text-align: right;\">\n",
              "      <th></th>\n",
              "      <th>High</th>\n",
              "      <th>Low</th>\n",
              "      <th>Open</th>\n",
              "      <th>Close</th>\n",
              "      <th>Volume</th>\n",
              "      <th>Adj Close</th>\n",
              "    </tr>\n",
              "    <tr>\n",
              "      <th>Date</th>\n",
              "      <th></th>\n",
              "      <th></th>\n",
              "      <th></th>\n",
              "      <th></th>\n",
              "      <th></th>\n",
              "      <th></th>\n",
              "    </tr>\n",
              "  </thead>\n",
              "  <tbody>\n",
              "    <tr>\n",
              "      <th>2010-05-27</th>\n",
              "      <td>126.849998</td>\n",
              "      <td>120.599998</td>\n",
              "      <td>124.980003</td>\n",
              "      <td>126.699997</td>\n",
              "      <td>4747700</td>\n",
              "      <td>126.699997</td>\n",
              "    </tr>\n",
              "    <tr>\n",
              "      <th>2010-05-28</th>\n",
              "      <td>127.599998</td>\n",
              "      <td>124.010002</td>\n",
              "      <td>126.070000</td>\n",
              "      <td>125.459999</td>\n",
              "      <td>3954800</td>\n",
              "      <td>125.459999</td>\n",
              "    </tr>\n",
              "    <tr>\n",
              "      <th>2010-06-01</th>\n",
              "      <td>126.570000</td>\n",
              "      <td>123.019997</td>\n",
              "      <td>124.970001</td>\n",
              "      <td>123.239998</td>\n",
              "      <td>3659500</td>\n",
              "      <td>123.239998</td>\n",
              "    </tr>\n",
              "    <tr>\n",
              "      <th>2010-06-02</th>\n",
              "      <td>126.430000</td>\n",
              "      <td>121.650002</td>\n",
              "      <td>124.019997</td>\n",
              "      <td>126.309998</td>\n",
              "      <td>4764700</td>\n",
              "      <td>126.309998</td>\n",
              "    </tr>\n",
              "    <tr>\n",
              "      <th>2010-06-03</th>\n",
              "      <td>129.149994</td>\n",
              "      <td>124.849998</td>\n",
              "      <td>126.250000</td>\n",
              "      <td>128.759995</td>\n",
              "      <td>5276900</td>\n",
              "      <td>128.759995</td>\n",
              "    </tr>\n",
              "    <tr>\n",
              "      <th>...</th>\n",
              "      <td>...</td>\n",
              "      <td>...</td>\n",
              "      <td>...</td>\n",
              "      <td>...</td>\n",
              "      <td>...</td>\n",
              "      <td>...</td>\n",
              "    </tr>\n",
              "    <tr>\n",
              "      <th>2020-05-20</th>\n",
              "      <td>2500.010010</td>\n",
              "      <td>2467.270020</td>\n",
              "      <td>2477.870117</td>\n",
              "      <td>2497.939941</td>\n",
              "      <td>3998100</td>\n",
              "      <td>2497.939941</td>\n",
              "    </tr>\n",
              "    <tr>\n",
              "      <th>2020-05-21</th>\n",
              "      <td>2525.449951</td>\n",
              "      <td>2442.540039</td>\n",
              "      <td>2500.000000</td>\n",
              "      <td>2446.739990</td>\n",
              "      <td>5114400</td>\n",
              "      <td>2446.739990</td>\n",
              "    </tr>\n",
              "    <tr>\n",
              "      <th>2020-05-22</th>\n",
              "      <td>2469.850098</td>\n",
              "      <td>2430.129883</td>\n",
              "      <td>2455.010010</td>\n",
              "      <td>2436.879883</td>\n",
              "      <td>2867100</td>\n",
              "      <td>2436.879883</td>\n",
              "    </tr>\n",
              "    <tr>\n",
              "      <th>2020-05-26</th>\n",
              "      <td>2462.000000</td>\n",
              "      <td>2414.060059</td>\n",
              "      <td>2458.000000</td>\n",
              "      <td>2421.860107</td>\n",
              "      <td>3568200</td>\n",
              "      <td>2421.860107</td>\n",
              "    </tr>\n",
              "    <tr>\n",
              "      <th>2020-05-27</th>\n",
              "      <td>2413.580078</td>\n",
              "      <td>2330.000000</td>\n",
              "      <td>2404.989990</td>\n",
              "      <td>2410.389893</td>\n",
              "      <td>5056900</td>\n",
              "      <td>2410.389893</td>\n",
              "    </tr>\n",
              "  </tbody>\n",
              "</table>\n",
              "<p>2517 rows × 6 columns</p>\n",
              "</div>"
            ],
            "text/plain": [
              "                   High          Low  ...   Volume    Adj Close\n",
              "Date                                  ...                      \n",
              "2010-05-27   126.849998   120.599998  ...  4747700   126.699997\n",
              "2010-05-28   127.599998   124.010002  ...  3954800   125.459999\n",
              "2010-06-01   126.570000   123.019997  ...  3659500   123.239998\n",
              "2010-06-02   126.430000   121.650002  ...  4764700   126.309998\n",
              "2010-06-03   129.149994   124.849998  ...  5276900   128.759995\n",
              "...                 ...          ...  ...      ...          ...\n",
              "2020-05-20  2500.010010  2467.270020  ...  3998100  2497.939941\n",
              "2020-05-21  2525.449951  2442.540039  ...  5114400  2446.739990\n",
              "2020-05-22  2469.850098  2430.129883  ...  2867100  2436.879883\n",
              "2020-05-26  2462.000000  2414.060059  ...  3568200  2421.860107\n",
              "2020-05-27  2413.580078  2330.000000  ...  5056900  2410.389893\n",
              "\n",
              "[2517 rows x 6 columns]"
            ]
          },
          "metadata": {
            "tags": []
          },
          "execution_count": 2
        }
      ]
    },
    {
      "cell_type": "code",
      "metadata": {
        "id": "9-zyeLUT5lTS",
        "colab_type": "code",
        "colab": {
          "base_uri": "https://localhost:8080/",
          "height": 34
        },
        "outputId": "d82e0a27-313b-4a12-e922-a08b5db86109"
      },
      "source": [
        "#Get dataset information\n",
        "amznstock.shape"
      ],
      "execution_count": null,
      "outputs": [
        {
          "output_type": "execute_result",
          "data": {
            "text/plain": [
              "(2517, 6)"
            ]
          },
          "metadata": {
            "tags": []
          },
          "execution_count": 3
        }
      ]
    },
    {
      "cell_type": "code",
      "metadata": {
        "id": "0aqQoPRz5xkB",
        "colab_type": "code",
        "colab": {
          "base_uri": "https://localhost:8080/",
          "height": 518
        },
        "outputId": "8bdd6bcb-7087-48ce-d1fe-ce2d607fde88"
      },
      "source": [
        "#visualize closing amzn price\n",
        "plt.figure(figsize=(16,8))\n",
        "plt.title('Amazon Close Price History')\n",
        "plt.plot(amznstock['Close'])\n",
        "plt.xlabel('Date', fontsize=18)\n",
        "plt.ylabel('Close Price USD', fontsize=18)\n",
        "plt.show()"
      ],
      "execution_count": null,
      "outputs": [
        {
          "output_type": "display_data",
          "data": {
            "image/png": "[encoded data removed]",
            "text/plain": [
              "<Figure size 1152x576 with 1 Axes>"
            ]
          },
          "metadata": {
            "tags": [],
            "needs_background": "light"
          }
        }
      ]
    },
    {
      "cell_type": "code",
      "metadata": {
        "id": "Y3YHk0MZ6upG",
        "colab_type": "code",
        "colab": {
          "base_uri": "https://localhost:8080/",
          "height": 34
        },
        "outputId": "5d8364ba-7076-4f83-94e7-b851e6031030"
      },
      "source": [
        "#extract closing price and position into new datafram\n",
        "amznclose = amznstock.filter(['Close'])\n",
        "#convert dataframe to numpy array\n",
        "amzndata = amznclose.values\n",
        "#obtain row number to train model\n",
        "training_amzn_data = math.ceil(len(amzndata)*.8)\n",
        "training_amzn_data"
      ],
      "execution_count": null,
      "outputs": [
        {
          "output_type": "execute_result",
          "data": {
            "text/plain": [
              "2014"
            ]
          },
          "metadata": {
            "tags": []
          },
          "execution_count": 5
        }
      ]
    },
    {
      "cell_type": "code",
      "metadata": {
        "id": "iHvL2jSO7jv2",
        "colab_type": "code",
        "colab": {
          "base_uri": "https://localhost:8080/",
          "height": 136
        },
        "outputId": "55ae3fe6-6381-496c-a32e-9ddd4a822352"
      },
      "source": [
        "#scaling data\n",
        "scaler = MinMaxScaler(feature_range=(0,1))\n",
        "scaled_amzn_data = scaler.fit_transform(amzndata)\n",
        "scaled_amzn_data"
      ],
      "execution_count": null,
      "outputs": [
        {
          "output_type": "execute_result",
          "data": {
            "text/plain": [
              "array([[0.00757116],\n",
              "       [0.00705219],\n",
              "       [0.00612305],\n",
              "       ...,\n",
              "       [0.97444469],\n",
              "       [0.96815851],\n",
              "       [0.96335791]])"
            ]
          },
          "metadata": {
            "tags": []
          },
          "execution_count": 6
        }
      ]
    },
    {
      "cell_type": "code",
      "metadata": {
        "id": "Ie25ot3q8Bvc",
        "colab_type": "code",
        "colab": {
          "base_uri": "https://localhost:8080/",
          "height": 1000
        },
        "outputId": "e64c051f-5389-4d2e-a6a9-2afd96f6c5a9"
      },
      "source": [
        "#create the training dataset\n",
        "#create the scaled training dataset\n",
        "\n",
        "train_amzn_data = scaled_amzn_data[0:training_amzn_data,:]\n",
        "#split the data omtp x_train and y_train datasets\n",
        "\n",
        "x_train_amzn = []\n",
        "y_train_amzn = []\n",
        "\n",
        "for i in range(360,len(train_amzn_data)):\n",
        "  x_train_amzn.append(train_amzn_data[i-360:i,0])\n",
        "  y_train_amzn.append(train_amzn_data[i,0])\n",
        "  if i<= 360:\n",
        "    print(x_train_amzn)\n",
        "    print(y_train_amzn)\n",
        "    print()"
      ],
      "execution_count": null,
      "outputs": [
        {
          "output_type": "stream",
          "text": [
            "[array([0.00757116, 0.00705219, 0.00612305, 0.00740793, 0.00843332,\n",
            "       0.00592635, 0.00560827, 0.00428153, 0.00389231, 0.0061105 ,\n",
            "       0.00603516, 0.00636999, 0.00762975, 0.00765487, 0.00723215,\n",
            "       0.00720704, 0.00583427, 0.00573382, 0.00537389, 0.00406809,\n",
            "       0.00518555, 0.00384627, 0.        , 0.00027204, 0.00098354,\n",
            "       0.00022182, 0.00060686, 0.0020173 , 0.00318499, 0.00362026,\n",
            "       0.00456195, 0.00629465, 0.00614817, 0.00562919, 0.00413505,\n",
            "       0.00474192, 0.00480888, 0.00369141, 0.00479632, 0.00429409,\n",
            "       0.00409738, 0.00356585, 0.00356585, 0.00345285, 0.00388393,\n",
            "       0.00479632, 0.00577986, 0.00793946, 0.0080441 , 0.00824918,\n",
            "       0.00846262, 0.0089523 , 0.00723215, 0.00751257, 0.00672992,\n",
            "       0.00730749, 0.00847518, 0.00880581, 0.00793528, 0.0080148 ,\n",
            "       0.00752931, 0.00666296, 0.00763394, 0.00680107, 0.00754605,\n",
            "       0.00635325, 0.00678851, 0.00999444, 0.01113283, 0.01263115,\n",
            "       0.01197407, 0.01277764, 0.01329662, 0.01415878, 0.01525951,\n",
            "       0.01554411, 0.01541855, 0.0165402 , 0.01661973, 0.01786693,\n",
            "       0.01762837, 0.01808875, 0.01851565, 0.02181365, 0.02124445,\n",
            "       0.02138256, 0.02108541, 0.02027765, 0.01887559, 0.01957871,\n",
            "       0.02187224, 0.01958289, 0.01994702, 0.01964568, 0.01859099,\n",
            "       0.0200349 , 0.01948663, 0.0196373 , 0.02345009, 0.02299808,\n",
            "       0.02095148, 0.02095148, 0.0235882 , 0.02532928, 0.02527487,\n",
            "       0.02567247, 0.02465126, 0.02437085, 0.02369702, 0.02258792,\n",
            "       0.02343753, 0.02505305, 0.02524557, 0.02601566, 0.02652627,\n",
            "       0.0258064 , 0.02708709, 0.02584825, 0.02388535, 0.02104774,\n",
            "       0.02057899, 0.02081755, 0.02325338, 0.02352543, 0.02585662,\n",
            "       0.02494005, 0.02872772, 0.02870679, 0.02966522, 0.02795344,\n",
            "       0.02843475, 0.02842638, 0.02807063, 0.02906254, 0.02852683,\n",
            "       0.02832593, 0.02772326, 0.02804552, 0.02747214, 0.02734239,\n",
            "       0.0280246 , 0.02905835, 0.02886583, 0.03125562, 0.03186667,\n",
            "       0.03187086, 0.03096265, 0.03077432, 0.03033486, 0.0312891 ,\n",
            "       0.03102962, 0.02987867, 0.03164486, 0.03197549, 0.03298414,\n",
            "       0.03233124, 0.03217639, 0.03183737, 0.03169508, 0.03158626,\n",
            "       0.03219313, 0.03354078, 0.0345871 , 0.03275395, 0.03069899,\n",
            "       0.02879887, 0.02856031, 0.02849753, 0.02794926, 0.03174111,\n",
            "       0.02617052, 0.02554273, 0.02657649, 0.0271708 , 0.02724613,\n",
            "       0.02817526, 0.02838452, 0.03115936, 0.03209687, 0.03247773,\n",
            "       0.03375005, 0.03423972, 0.03365797, 0.03264932, 0.03312644,\n",
            "       0.0325991 , 0.03005445, 0.02848916, 0.02893698, 0.02872354,\n",
            "       0.02707035, 0.02545902, 0.02653882, 0.02686108, 0.02639234,\n",
            "       0.02530835, 0.02439178, 0.0252958 , 0.02407788, 0.02488564,\n",
            "       0.02432481, 0.02363424, 0.0234752 , 0.02191409, 0.02226984,\n",
            "       0.02339987, 0.0225963 , 0.02373469, 0.02615378, 0.02610355,\n",
            "       0.02542136, 0.02762699, 0.02963592, 0.02993308, 0.02993308,\n",
            "       0.03110914, 0.03209268, 0.0310338 , 0.03193364, 0.03184994,\n",
            "       0.03156952, 0.03007956, 0.03083709, 0.03064039, 0.02988285,\n",
            "       0.02918391, 0.02938481, 0.03149837, 0.0323438 , 0.03214709,\n",
            "       0.03084128, 0.03683878, 0.03618588, 0.03649559, 0.03874727,\n",
            "       0.0376005 , 0.03823666, 0.03703967, 0.03724475, 0.03858404,\n",
            "       0.03989822, 0.04008237, 0.04078968, 0.03932065, 0.03511444,\n",
            "       0.03607706, 0.0370313 , 0.03774699, 0.0376842 , 0.03666718,\n",
            "       0.03543253, 0.03500981, 0.03615658, 0.03579246, 0.03686389,\n",
            "       0.03506841, 0.03559157, 0.03336082, 0.03226009, 0.03303855,\n",
            "       0.03324782, 0.03393001, 0.03261165, 0.0325112 , 0.0340472 ,\n",
            "       0.03238146, 0.03140629, 0.03254469, 0.0331097 , 0.03583431,\n",
            "       0.03474614, 0.03580502, 0.03513119, 0.03877238, 0.03923276,\n",
            "       0.03999866, 0.04012841, 0.04222104, 0.04376959, 0.04418812,\n",
            "       0.04525537, 0.0458999 , 0.04350174, 0.04294928, 0.04389934,\n",
            "       0.04259353, 0.04363566, 0.04307484, 0.04580782, 0.04475732,\n",
            "       0.04377797, 0.04516329, 0.04389515, 0.04418393, 0.04767446,\n",
            "       0.04825202, 0.04767446, 0.04717222, 0.04314599, 0.04241775,\n",
            "       0.03886864, 0.03937924, 0.03561249, 0.04037952, 0.03579246,\n",
            "       0.03756283, 0.03921183, 0.03948387, 0.03727823, 0.03654581,\n",
            "       0.03093336, 0.02943084, 0.02884909, 0.03554972, 0.03562505,\n",
            "       0.03491355, 0.03794369, 0.0409822 , 0.04281954, 0.04462339,\n",
            "       0.04349755, 0.04243449, 0.04502099, 0.04657791, 0.045473  ,\n",
            "       0.04301624, 0.04518003, 0.04642306, 0.04769538, 0.04945738,\n",
            "       0.05469734, 0.05569762, 0.05216525, 0.05158768, 0.04797161,\n",
            "       0.04813065, 0.05074226, 0.04838177, 0.05068367, 0.04764097,\n",
            "       0.04504191, 0.04326317, 0.04348081, 0.0464105 , 0.04725174,\n",
            "       0.04860359, 0.0513575 , 0.05309857, 0.05365521, 0.05337898,\n",
            "       0.05779863, 0.05596548, 0.0566142 , 0.05144538, 0.05231592,\n",
            "       0.0528056 , 0.05399003, 0.04961223, 0.03757957, 0.04108683])]\n",
            "[0.04549811428624014]\n",
            "\n"
          ],
          "name": "stdout"
        }
      ]
    },
    {
      "cell_type": "code",
      "metadata": {
        "id": "uS7DnvE9-ZJ9",
        "colab_type": "code",
        "colab": {}
      },
      "source": [
        "#convert the x_train_amzn and y_train_amzn to numpy array in order to allow the training of lstm model\n",
        "x_train_amzn,y_train_amzn=np.array(x_train_amzn), np.array(y_train_amzn)"
      ],
      "execution_count": null,
      "outputs": []
    },
    {
      "cell_type": "code",
      "metadata": {
        "id": "1S84Ci36-sMd",
        "colab_type": "code",
        "colab": {
          "base_uri": "https://localhost:8080/",
          "height": 34
        },
        "outputId": "80755117-04eb-4829-9eb6-73efcfdb3663"
      },
      "source": [
        "#Reshape the data in order to obtain three dimensional data to feed into LSTM\n",
        "x_train_amzn=np.reshape(x_train_amzn,(x_train_amzn.shape[0],x_train_amzn.shape[1],1))\n",
        "x_train_amzn.shape"
      ],
      "execution_count": null,
      "outputs": [
        {
          "output_type": "execute_result",
          "data": {
            "text/plain": [
              "(1654, 360, 1)"
            ]
          },
          "metadata": {
            "tags": []
          },
          "execution_count": 9
        }
      ]
    },
    {
      "cell_type": "code",
      "metadata": {
        "id": "bU79mp45_sD0",
        "colab_type": "code",
        "colab": {
          "base_uri": "https://localhost:8080/",
          "height": 272
        },
        "outputId": "bb740e70-5494-4d97-9b4d-2f78b2629106"
      },
      "source": [
        "#Build the LSTM model for amzn\n",
        "model = Sequential()\n",
        "model.add(LSTM(200,return_sequences=True, input_shape=(x_train_amzn.shape[1],1)))\n",
        "model.add(LSTM(200, return_sequences=False))\n",
        "model.add(Dense(100))\n",
        "model.add(Dense(1))\n",
        "#compile the amzn model\n",
        "model.compile(optimizer='adam',loss='mean_squared_error',metrics=['mae'])\n",
        "#train the model\n",
        "model.fit(x_train_amzn,y_train_amzn, batch_size=2,epochs=7)"
      ],
      "execution_count": 10,
      "outputs": [
        {
          "output_type": "stream",
          "text": [
            "Epoch 1/7\n",
            "1654/1654 [==============================] - 739s 447ms/step - loss: 5.8594e-04 - mae: 0.0161\n",
            "Epoch 2/7\n",
            "1654/1654 [==============================] - 744s 450ms/step - loss: 2.9143e-04 - mae: 0.0116\n",
            "Epoch 3/7\n",
            "1654/1654 [==============================] - 731s 442ms/step - loss: 1.4807e-04 - mae: 0.0086\n",
            "Epoch 4/7\n",
            "1654/1654 [==============================] - 735s 444ms/step - loss: 1.4370e-04 - mae: 0.0086\n",
            "Epoch 5/7\n",
            "1654/1654 [==============================] - 745s 450ms/step - loss: 1.3268e-04 - mae: 0.0083\n",
            "Epoch 6/7\n",
            "1654/1654 [==============================] - 756s 457ms/step - loss: 1.3705e-04 - mae: 0.0082\n",
            "Epoch 7/7\n",
            "1654/1654 [==============================] - 739s 447ms/step - loss: 1.2461e-04 - mae: 0.0074\n"
          ],
          "name": "stdout"
        },
        {
          "output_type": "execute_result",
          "data": {
            "text/plain": [
              "<keras.callbacks.callbacks.History at 0x7f6f671a2c18>"
            ]
          },
          "metadata": {
            "tags": []
          },
          "execution_count": 10
        }
      ]
    },
    {
      "cell_type": "code",
      "metadata": {
        "id": "lMJ2CfzrBGV6",
        "colab_type": "code",
        "colab": {}
      },
      "source": [
        "#create the testing data set by creating a new array containg scaled values from index 1924 - 2517\n",
        "test_amzn_data = scaled_amzn_data[training_amzn_data - 360: , :]\n",
        "#create the datasets x_amzn_test and y_amzn_test\n",
        "x_amzn_test = []\n",
        "y_amzn_test = amzndata[training_amzn_data:, :]\n",
        "for i in range(360,len(test_amzn_data)):\n",
        "  x_amzn_test.append(test_amzn_data[i-360:i, 0])"
      ],
      "execution_count": 12,
      "outputs": []
    },
    {
      "cell_type": "code",
      "metadata": {
        "id": "sxyiUWJeCX0q",
        "colab_type": "code",
        "colab": {}
      },
      "source": [
        "#convert data into numpy array\n",
        "x_amzn_test=np.array(x_amzn_test)"
      ],
      "execution_count": 13,
      "outputs": []
    },
    {
      "cell_type": "code",
      "metadata": {
        "id": "cy_asIi0CgDK",
        "colab_type": "code",
        "colab": {}
      },
      "source": [
        "#Reshape test data\n",
        "x_amzn_test = np.reshape(x_amzn_test,(x_amzn_test.shape[0],x_amzn_test.shape[1],1))"
      ],
      "execution_count": 14,
      "outputs": []
    },
    {
      "cell_type": "code",
      "metadata": {
        "id": "lr5rFDSaCzYH",
        "colab_type": "code",
        "colab": {}
      },
      "source": [
        "#obtain model predicted price values, we want prediction to obtain same values as y_amzn_test dataset\n",
        "amznpredictions = model.predict(x_amzn_test)\n",
        "amznpredictions=scaler.inverse_transform(amznpredictions)"
      ],
      "execution_count": 15,
      "outputs": []
    },
    {
      "cell_type": "code",
      "metadata": {
        "id": "2v7dgEtQDUXD",
        "colab_type": "code",
        "colab": {
          "base_uri": "https://localhost:8080/",
          "height": 34
        },
        "outputId": "87687732-372b-4657-c59e-b24b8b3e32f4"
      },
      "source": [
        "#Evaluate the model by getting the RMSE\n",
        "rmse = np.sqrt( np.mean( amznpredictions-y_amzn_test)**2)\n",
        "rmse"
      ],
      "execution_count": 16,
      "outputs": [
        {
          "output_type": "execute_result",
          "data": {
            "text/plain": [
              "17.95118764949366"
            ]
          },
          "metadata": {
            "tags": []
          },
          "execution_count": 16
        }
      ]
    },
    {
      "cell_type": "code",
      "metadata": {
        "id": "wjR6i874FLrm",
        "colab_type": "code",
        "colab": {
          "base_uri": "https://localhost:8080/",
          "height": 660
        },
        "outputId": "b21ad992-fba0-4c6f-b738-b05380b97fb9"
      },
      "source": [
        "#Plot data\n",
        "train = amznclose[:training_amzn_data]\n",
        "valid = amznclose[training_amzn_data:]\n",
        "valid['Predictions'] = amznpredictions\n",
        "#visualize the data\n",
        "plt.figure(figsize=(16,8))\n",
        "plt.title('Model')\n",
        "plt.xlabel('Date', fontsize = 18)\n",
        "plt.ylabel('Close Price USD', fontsize = 18)\n",
        "plt.plot(train['Close'])\n",
        "plt.plot(valid[['Close', 'Predictions']])\n",
        "plt.legend(['Train data set', 'validation data set','Prediction data set'],loc ='lower right' )\n",
        "plt.show()"
      ],
      "execution_count": 17,
      "outputs": [
        {
          "output_type": "stream",
          "text": [
            "/usr/local/lib/python3.6/dist-packages/ipykernel_launcher.py:4: SettingWithCopyWarning: \n",
            "A value is trying to be set on a copy of a slice from a DataFrame.\n",
            "Try using .loc[row_indexer,col_indexer] = value instead\n",
            "\n",
            "See the caveats in the documentation: https://pandas.pydata.org/pandas-docs/stable/user_guide/indexing.html#returning-a-view-versus-a-copy\n",
            "  after removing the cwd from sys.path.\n"
          ],
          "name": "stderr"
        },
        {
          "output_type": "display_data",
          "data": {
            "image/png": "[encoded data removed]",
            "text/plain": [
              "<Figure size 1152x576 with 1 Axes>"
            ]
          },
          "metadata": {
            "tags": []
          }
        }
      ]
    },
    {
      "cell_type": "code",
      "metadata": {
        "id": "HPqM79RuKIvT",
        "colab_type": "code",
        "colab": {
          "base_uri": "https://localhost:8080/",
          "height": 450
        },
        "outputId": "8eb7572d-1f4c-44e7-9c67-503085aaaaea"
      },
      "source": [
        "#show the validation price and predicted price\n",
        "valid"
      ],
      "execution_count": 18,
      "outputs": [
        {
          "output_type": "execute_result",
          "data": {
            "text/html": [
              "<div>\n",
              "<style scoped>\n",
              "    .dataframe tbody tr th:only-of-type {\n",
              "        vertical-align: middle;\n",
              "    }\n",
              "\n",
              "    .dataframe tbody tr th {\n",
              "        vertical-align: top;\n",
              "    }\n",
              "\n",
              "    .dataframe thead th {\n",
              "        text-align: right;\n",
              "    }\n",
              "</style>\n",
              "<table border=\"1\" class=\"dataframe\">\n",
              "  <thead>\n",
              "    <tr style=\"text-align: right;\">\n",
              "      <th></th>\n",
              "      <th>Close</th>\n",
              "      <th>Predictions</th>\n",
              "    </tr>\n",
              "    <tr>\n",
              "      <th>Date</th>\n",
              "      <th></th>\n",
              "      <th></th>\n",
              "    </tr>\n",
              "  </thead>\n",
              "  <tbody>\n",
              "    <tr>\n",
              "      <th>2018-05-29</th>\n",
              "      <td>1612.869995</td>\n",
              "      <td>1596.377319</td>\n",
              "    </tr>\n",
              "    <tr>\n",
              "      <th>2018-05-30</th>\n",
              "      <td>1624.890015</td>\n",
              "      <td>1598.096191</td>\n",
              "    </tr>\n",
              "    <tr>\n",
              "      <th>2018-05-31</th>\n",
              "      <td>1629.619995</td>\n",
              "      <td>1610.294312</td>\n",
              "    </tr>\n",
              "    <tr>\n",
              "      <th>2018-06-01</th>\n",
              "      <td>1641.540039</td>\n",
              "      <td>1613.783813</td>\n",
              "    </tr>\n",
              "    <tr>\n",
              "      <th>2018-06-04</th>\n",
              "      <td>1665.270020</td>\n",
              "      <td>1625.711426</td>\n",
              "    </tr>\n",
              "    <tr>\n",
              "      <th>...</th>\n",
              "      <td>...</td>\n",
              "      <td>...</td>\n",
              "    </tr>\n",
              "    <tr>\n",
              "      <th>2020-05-20</th>\n",
              "      <td>2497.939941</td>\n",
              "      <td>2415.848389</td>\n",
              "    </tr>\n",
              "    <tr>\n",
              "      <th>2020-05-21</th>\n",
              "      <td>2446.739990</td>\n",
              "      <td>2463.082275</td>\n",
              "    </tr>\n",
              "    <tr>\n",
              "      <th>2020-05-22</th>\n",
              "      <td>2436.879883</td>\n",
              "      <td>2400.801025</td>\n",
              "    </tr>\n",
              "    <tr>\n",
              "      <th>2020-05-26</th>\n",
              "      <td>2421.860107</td>\n",
              "      <td>2400.922852</td>\n",
              "    </tr>\n",
              "    <tr>\n",
              "      <th>2020-05-27</th>\n",
              "      <td>2410.389893</td>\n",
              "      <td>2388.094238</td>\n",
              "    </tr>\n",
              "  </tbody>\n",
              "</table>\n",
              "<p>503 rows × 2 columns</p>\n",
              "</div>"
            ],
            "text/plain": [
              "                  Close  Predictions\n",
              "Date                                \n",
              "2018-05-29  1612.869995  1596.377319\n",
              "2018-05-30  1624.890015  1598.096191\n",
              "2018-05-31  1629.619995  1610.294312\n",
              "2018-06-01  1641.540039  1613.783813\n",
              "2018-06-04  1665.270020  1625.711426\n",
              "...                 ...          ...\n",
              "2020-05-20  2497.939941  2415.848389\n",
              "2020-05-21  2446.739990  2463.082275\n",
              "2020-05-22  2436.879883  2400.801025\n",
              "2020-05-26  2421.860107  2400.922852\n",
              "2020-05-27  2410.389893  2388.094238\n",
              "\n",
              "[503 rows x 2 columns]"
            ]
          },
          "metadata": {
            "tags": []
          },
          "execution_count": 18
        }
      ]
    },
    {
      "cell_type": "code",
      "metadata": {
        "id": "mzApKUv1Kgvl",
        "colab_type": "code",
        "colab": {
          "base_uri": "https://localhost:8080/",
          "height": 34
        },
        "outputId": "0adc2c1f-39fa-4a2b-c781-30c7b9a38779"
      },
      "source": [
        "#Predict future price\n",
        "amzn_quote = web.DataReader('AMZN', data_source='yahoo', start='2015-05-27', end='2020-07-01')\n",
        "#Create new dataframe\n",
        "new_df = amzn_quote.filter(['Close'])\n",
        "#Extract last 360 days closing price and convert df to array\n",
        "last_360_days = new_df[-360:].values\n",
        "#scalre the data to be valued between 0 and 1\n",
        "last_360_days_scaled = scaler.transform(last_360_days)\n",
        "#create an empty list\n",
        "X_test = []\n",
        "#Append past 360 days to empty list\n",
        "X_test.append(last_360_days_scaled)\n",
        "#Convert the X_test dataset to a numpy array\n",
        "X_test = np.array(X_test)\n",
        "#Reshape data\n",
        "X_test = np.reshape(X_test,(X_test.shape[0],X_test.shape[1],1))\n",
        "#Get the predicted scaled price\n",
        "pred_price = model.predict(X_test)\n",
        "#Undo the scaling\n",
        "pred_price = scaler.inverse_transform(pred_price)\n",
        "print(pred_price)"
      ],
      "execution_count": 19,
      "outputs": [
        {
          "output_type": "stream",
          "text": [
            "[[2837.9597]]\n"
          ],
          "name": "stdout"
        }
      ]
    },
    {
      "cell_type": "code",
      "metadata": {
        "id": "qRSg-_yqMttB",
        "colab_type": "code",
        "colab": {
          "base_uri": "https://localhost:8080/",
          "height": 238
        },
        "outputId": "96c00617-fb92-4711-cf65-c59ee525bb51"
      },
      "source": [
        "amzn_quote2 = web.DataReader('AMZN', data_source='yahoo', start='2015-05-27', end='2020-07-02')\n",
        "print(amzn_quote2['Close'])\n"
      ],
      "execution_count": 20,
      "outputs": [
        {
          "output_type": "stream",
          "text": [
            "Date\n",
            "2015-05-27     431.420013\n",
            "2015-05-28     426.570007\n",
            "2015-05-29     429.230011\n",
            "2015-06-01     430.920013\n",
            "2015-06-02     430.989990\n",
            "                 ...     \n",
            "2020-06-26    2692.870117\n",
            "2020-06-29    2680.379883\n",
            "2020-06-30    2758.820068\n",
            "2020-07-01    2878.699951\n",
            "2020-07-02    2890.300049\n",
            "Name: Close, Length: 1286, dtype: float64\n"
          ],
          "name": "stdout"
        }
      ]
    }
  ]
}