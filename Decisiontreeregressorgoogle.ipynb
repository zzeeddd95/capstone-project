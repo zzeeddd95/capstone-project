{
  "nbformat": 4,
  "nbformat_minor": 0,
  "metadata": {
    "colab": {
      "name": " Decisiontreeregressorgoogle.ipynb",
      "provenance": [],
      "authorship_tag": "ABX9TyPY8PJHzureGBsCdvs7qbXZ",
      "include_colab_link": true
    },
    "kernelspec": {
      "name": "python3",
      "display_name": "Python 3"
    }
  },
  "cells": [
    {
      "cell_type": "markdown",
      "metadata": {
        "id": "view-in-github",
        "colab_type": "text"
      },
      "source": [
        "<a href=\"https://colab.research.google.com/github/zzeeddd95/capstone-project/blob/master/Decisiontreeregressorgoogle.ipynb\" target=\"_parent\"><img src=\"https://colab.research.google.com/assets/colab-badge.svg\" alt=\"Open In Colab\"/></a>"
      ]
    },
    {
      "cell_type": "code",
      "metadata": {
        "id": "mWvvy_uIt1em",
        "colab_type": "code",
        "colab": {}
      },
      "source": [
        "import pandas as pd\n",
        "import numpy as np\n",
        "from sklearn.linear_model import LinearRegression\n",
        "from sklearn.svm import SVR\n",
        "from sklearn.model_selection import train_test_split\n",
        "from sklearn.tree import DecisionTreeRegressor\n",
        "import pandas_datareader as web\n",
        "import matplotlib.pyplot as plt\n",
        "plt.style.use('bmh')\n"
      ],
      "execution_count": 37,
      "outputs": []
    },
    {
      "cell_type": "code",
      "metadata": {
        "id": "uMb5PSKbfR-W",
        "colab_type": "code",
        "colab": {
          "resources": {
            "http://localhost:8080/nbextensions/google.colab/files.js": {
              "data": "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",
              "ok": true,
              "headers": [
                [
                  "content-type",
                  "application/javascript"
                ]
              ],
              "status": 200,
              "status_text": ""
            }
          },
          "base_uri": "https://localhost:8080/",
          "height": 72
        },
        "outputId": "a0d6146b-f547-45a5-ba72-4a73f0994208"
      },
      "source": [
        "from google.colab import files\n",
        "apple = files.upload()"
      ],
      "execution_count": 18,
      "outputs": [
        {
          "output_type": "display_data",
          "data": {
            "text/html": [
              "\n",
              "     <input type=\"file\" id=\"files-4067ac21-ff6a-41f6-ae03-391d3bd103fe\" name=\"files[]\" multiple disabled\n",
              "        style=\"border:none\" />\n",
              "     <output id=\"result-4067ac21-ff6a-41f6-ae03-391d3bd103fe\">\n",
              "      Upload widget is only available when the cell has been executed in the\n",
              "      current browser session. Please rerun this cell to enable.\n",
              "      </output>\n",
              "      <script src=\"/nbextensions/google.colab/files.js\"></script> "
            ],
            "text/plain": [
              "<IPython.core.display.HTML object>"
            ]
          },
          "metadata": {
            "tags": []
          }
        },
        {
          "output_type": "stream",
          "text": [
            "Saving GOOG.csv to GOOG (1).csv\n"
          ],
          "name": "stdout"
        }
      ]
    },
    {
      "cell_type": "code",
      "metadata": {
        "id": "nlDlYaHXfiiM",
        "colab_type": "code",
        "colab": {
          "base_uri": "https://localhost:8080/",
          "height": 235
        },
        "outputId": "09356a52-27ca-4cf0-9614-6b078e529f2d"
      },
      "source": [
        "goog = pd.read_csv('GOOG.csv')\n",
        "goog.head(6)"
      ],
      "execution_count": 38,
      "outputs": [
        {
          "output_type": "execute_result",
          "data": {
            "text/html": [
              "<div>\n",
              "<style scoped>\n",
              "    .dataframe tbody tr th:only-of-type {\n",
              "        vertical-align: middle;\n",
              "    }\n",
              "\n",
              "    .dataframe tbody tr th {\n",
              "        vertical-align: top;\n",
              "    }\n",
              "\n",
              "    .dataframe thead th {\n",
              "        text-align: right;\n",
              "    }\n",
              "</style>\n",
              "<table border=\"1\" class=\"dataframe\">\n",
              "  <thead>\n",
              "    <tr style=\"text-align: right;\">\n",
              "      <th></th>\n",
              "      <th>Date</th>\n",
              "      <th>Open</th>\n",
              "      <th>High</th>\n",
              "      <th>Low</th>\n",
              "      <th>Close</th>\n",
              "      <th>Adj Close</th>\n",
              "      <th>Volume</th>\n",
              "    </tr>\n",
              "  </thead>\n",
              "  <tbody>\n",
              "    <tr>\n",
              "      <th>0</th>\n",
              "      <td>2010-05-26</td>\n",
              "      <td>240.134918</td>\n",
              "      <td>243.965561</td>\n",
              "      <td>236.613113</td>\n",
              "      <td>236.847244</td>\n",
              "      <td>236.847244</td>\n",
              "      <td>6977200</td>\n",
              "    </tr>\n",
              "    <tr>\n",
              "      <th>1</th>\n",
              "      <td>2010-05-27</td>\n",
              "      <td>241.569534</td>\n",
              "      <td>245.235794</td>\n",
              "      <td>239.626816</td>\n",
              "      <td>244.314255</td>\n",
              "      <td>244.314255</td>\n",
              "      <td>5639200</td>\n",
              "    </tr>\n",
              "    <tr>\n",
              "      <th>2</th>\n",
              "      <td>2010-05-28</td>\n",
              "      <td>245.449997</td>\n",
              "      <td>245.803665</td>\n",
              "      <td>240.598175</td>\n",
              "      <td>241.908264</td>\n",
              "      <td>241.908264</td>\n",
              "      <td>5811200</td>\n",
              "    </tr>\n",
              "    <tr>\n",
              "      <th>3</th>\n",
              "      <td>2010-06-01</td>\n",
              "      <td>239.317978</td>\n",
              "      <td>244.613129</td>\n",
              "      <td>239.163559</td>\n",
              "      <td>240.284363</td>\n",
              "      <td>240.284363</td>\n",
              "      <td>5353500</td>\n",
              "    </tr>\n",
              "    <tr>\n",
              "      <th>4</th>\n",
              "      <td>2010-06-02</td>\n",
              "      <td>242.431305</td>\n",
              "      <td>246.012878</td>\n",
              "      <td>239.831055</td>\n",
              "      <td>245.763824</td>\n",
              "      <td>245.763824</td>\n",
              "      <td>5100500</td>\n",
              "    </tr>\n",
              "    <tr>\n",
              "      <th>5</th>\n",
              "      <td>2010-06-03</td>\n",
              "      <td>246.630569</td>\n",
              "      <td>253.051498</td>\n",
              "      <td>246.426331</td>\n",
              "      <td>251.855988</td>\n",
              "      <td>251.855988</td>\n",
              "      <td>7328700</td>\n",
              "    </tr>\n",
              "  </tbody>\n",
              "</table>\n",
              "</div>"
            ],
            "text/plain": [
              "         Date        Open        High  ...       Close   Adj Close   Volume\n",
              "0  2010-05-26  240.134918  243.965561  ...  236.847244  236.847244  6977200\n",
              "1  2010-05-27  241.569534  245.235794  ...  244.314255  244.314255  5639200\n",
              "2  2010-05-28  245.449997  245.803665  ...  241.908264  241.908264  5811200\n",
              "3  2010-06-01  239.317978  244.613129  ...  240.284363  240.284363  5353500\n",
              "4  2010-06-02  242.431305  246.012878  ...  245.763824  245.763824  5100500\n",
              "5  2010-06-03  246.630569  253.051498  ...  251.855988  251.855988  7328700\n",
              "\n",
              "[6 rows x 7 columns]"
            ]
          },
          "metadata": {
            "tags": []
          },
          "execution_count": 38
        }
      ]
    },
    {
      "cell_type": "code",
      "metadata": {
        "id": "TWWZAuQTiFlv",
        "colab_type": "code",
        "colab": {
          "base_uri": "https://localhost:8080/",
          "height": 34
        },
        "outputId": "1a528811-230c-41e5-b2ec-2428ec16d56e"
      },
      "source": [
        "goog.shape"
      ],
      "execution_count": 39,
      "outputs": [
        {
          "output_type": "execute_result",
          "data": {
            "text/plain": [
              "(2516, 7)"
            ]
          },
          "metadata": {
            "tags": []
          },
          "execution_count": 39
        }
      ]
    },
    {
      "cell_type": "code",
      "metadata": {
        "id": "zWULIKynvcAU",
        "colab_type": "code",
        "colab": {
          "base_uri": "https://localhost:8080/",
          "height": 419
        },
        "outputId": "3a906565-fb8f-49af-e4c1-a7b54a4af52f"
      },
      "source": [
        "#Filter out data to only obtain close price (independant variable)\n",
        "goog = goog[['Close']]\n",
        "goog"
      ],
      "execution_count": 40,
      "outputs": [
        {
          "output_type": "execute_result",
          "data": {
            "text/html": [
              "<div>\n",
              "<style scoped>\n",
              "    .dataframe tbody tr th:only-of-type {\n",
              "        vertical-align: middle;\n",
              "    }\n",
              "\n",
              "    .dataframe tbody tr th {\n",
              "        vertical-align: top;\n",
              "    }\n",
              "\n",
              "    .dataframe thead th {\n",
              "        text-align: right;\n",
              "    }\n",
              "</style>\n",
              "<table border=\"1\" class=\"dataframe\">\n",
              "  <thead>\n",
              "    <tr style=\"text-align: right;\">\n",
              "      <th></th>\n",
              "      <th>Close</th>\n",
              "    </tr>\n",
              "  </thead>\n",
              "  <tbody>\n",
              "    <tr>\n",
              "      <th>0</th>\n",
              "      <td>236.847244</td>\n",
              "    </tr>\n",
              "    <tr>\n",
              "      <th>1</th>\n",
              "      <td>244.314255</td>\n",
              "    </tr>\n",
              "    <tr>\n",
              "      <th>2</th>\n",
              "      <td>241.908264</td>\n",
              "    </tr>\n",
              "    <tr>\n",
              "      <th>3</th>\n",
              "      <td>240.284363</td>\n",
              "    </tr>\n",
              "    <tr>\n",
              "      <th>4</th>\n",
              "      <td>245.763824</td>\n",
              "    </tr>\n",
              "    <tr>\n",
              "      <th>...</th>\n",
              "      <td>...</td>\n",
              "    </tr>\n",
              "    <tr>\n",
              "      <th>2511</th>\n",
              "      <td>1383.939941</td>\n",
              "    </tr>\n",
              "    <tr>\n",
              "      <th>2512</th>\n",
              "      <td>1373.484985</td>\n",
              "    </tr>\n",
              "    <tr>\n",
              "      <th>2513</th>\n",
              "      <td>1406.719971</td>\n",
              "    </tr>\n",
              "    <tr>\n",
              "      <th>2514</th>\n",
              "      <td>1402.800049</td>\n",
              "    </tr>\n",
              "    <tr>\n",
              "      <th>2515</th>\n",
              "      <td>1410.420044</td>\n",
              "    </tr>\n",
              "  </tbody>\n",
              "</table>\n",
              "<p>2516 rows × 1 columns</p>\n",
              "</div>"
            ],
            "text/plain": [
              "            Close\n",
              "0      236.847244\n",
              "1      244.314255\n",
              "2      241.908264\n",
              "3      240.284363\n",
              "4      245.763824\n",
              "...           ...\n",
              "2511  1383.939941\n",
              "2512  1373.484985\n",
              "2513  1406.719971\n",
              "2514  1402.800049\n",
              "2515  1410.420044\n",
              "\n",
              "[2516 rows x 1 columns]"
            ]
          },
          "metadata": {
            "tags": []
          },
          "execution_count": 40
        }
      ]
    },
    {
      "cell_type": "code",
      "metadata": {
        "id": "cGyJ0Zyevrvs",
        "colab_type": "code",
        "colab": {}
      },
      "source": [
        "#Create a variable to allow for predicting 'n days' into the future\n",
        "future_out =365"
      ],
      "execution_count": 72,
      "outputs": []
    },
    {
      "cell_type": "code",
      "metadata": {
        "id": "bc-gVy_YwNXk",
        "colab_type": "code",
        "colab": {
          "base_uri": "https://localhost:8080/",
          "height": 204
        },
        "outputId": "3ed884bc-65f9-463d-9086-95406c4408cb"
      },
      "source": [
        "#Create the dependant variable which will be shifted 'n' units up\n",
        "goog['Prediction'] = goog[['Close']].shift(-future_out)\n",
        "goog.tail()"
      ],
      "execution_count": 73,
      "outputs": [
        {
          "output_type": "execute_result",
          "data": {
            "text/html": [
              "<div>\n",
              "<style scoped>\n",
              "    .dataframe tbody tr th:only-of-type {\n",
              "        vertical-align: middle;\n",
              "    }\n",
              "\n",
              "    .dataframe tbody tr th {\n",
              "        vertical-align: top;\n",
              "    }\n",
              "\n",
              "    .dataframe thead th {\n",
              "        text-align: right;\n",
              "    }\n",
              "</style>\n",
              "<table border=\"1\" class=\"dataframe\">\n",
              "  <thead>\n",
              "    <tr style=\"text-align: right;\">\n",
              "      <th></th>\n",
              "      <th>Close</th>\n",
              "      <th>Prediction</th>\n",
              "    </tr>\n",
              "  </thead>\n",
              "  <tbody>\n",
              "    <tr>\n",
              "      <th>2511</th>\n",
              "      <td>1383.939941</td>\n",
              "      <td>NaN</td>\n",
              "    </tr>\n",
              "    <tr>\n",
              "      <th>2512</th>\n",
              "      <td>1373.484985</td>\n",
              "      <td>NaN</td>\n",
              "    </tr>\n",
              "    <tr>\n",
              "      <th>2513</th>\n",
              "      <td>1406.719971</td>\n",
              "      <td>NaN</td>\n",
              "    </tr>\n",
              "    <tr>\n",
              "      <th>2514</th>\n",
              "      <td>1402.800049</td>\n",
              "      <td>NaN</td>\n",
              "    </tr>\n",
              "    <tr>\n",
              "      <th>2515</th>\n",
              "      <td>1410.420044</td>\n",
              "      <td>NaN</td>\n",
              "    </tr>\n",
              "  </tbody>\n",
              "</table>\n",
              "</div>"
            ],
            "text/plain": [
              "            Close  Prediction\n",
              "2511  1383.939941         NaN\n",
              "2512  1373.484985         NaN\n",
              "2513  1406.719971         NaN\n",
              "2514  1402.800049         NaN\n",
              "2515  1410.420044         NaN"
            ]
          },
          "metadata": {
            "tags": []
          },
          "execution_count": 73
        }
      ]
    },
    {
      "cell_type": "code",
      "metadata": {
        "id": "1ez0kfQ1xdgK",
        "colab_type": "code",
        "colab": {
          "base_uri": "https://localhost:8080/",
          "height": 136
        },
        "outputId": "362ae23f-9443-4e55-f421-1880a78f50a2"
      },
      "source": [
        "#create independant data set by converting the dataframe to a numpy array\n",
        "googdfx = np.array(goog.drop(['Prediction'],1))\n",
        "#Renove the last 'n' rows\n",
        "googdfx = googdfx[:-future_out] #therefore for every column, all of the rows will be displayed - future out\n",
        "googdfx"
      ],
      "execution_count": 74,
      "outputs": [
        {
          "output_type": "execute_result",
          "data": {
            "text/plain": [
              "array([[ 236.847244],\n",
              "       [ 244.314255],\n",
              "       [ 241.908264],\n",
              "       ...,\n",
              "       [1068.72998 ],\n",
              "       [1036.579956],\n",
              "       [1039.550049]])"
            ]
          },
          "metadata": {
            "tags": []
          },
          "execution_count": 74
        }
      ]
    },
    {
      "cell_type": "code",
      "metadata": {
        "id": "TDrtpLJhB1hr",
        "colab_type": "code",
        "colab": {
          "base_uri": "https://localhost:8080/",
          "height": 51
        },
        "outputId": "79d1c38f-bf02-4887-ead7-312cde38b5b9"
      },
      "source": [
        "#creat dependant dataset (prediction), all values including any Nan's\n",
        "googdfy = np.array(goog['Prediction'])\n",
        "#Filter this data by obtaining all values except the last 'n' rows\n",
        "googdfy = googdfy[:-future_out]\n",
        "print(googdfy)"
      ],
      "execution_count": 75,
      "outputs": [
        {
          "output_type": "stream",
          "text": [
            "[ 297.634399  296.95694   303.029175 ... 1406.719971 1402.800049\n",
            " 1410.420044]\n"
          ],
          "name": "stdout"
        }
      ]
    },
    {
      "cell_type": "code",
      "metadata": {
        "id": "2T0ecWdKC3I5",
        "colab_type": "code",
        "colab": {}
      },
      "source": [
        "#split data into 80% training and 20%testing\n",
        "googdfx_train , googdfx_test, googdfy_train, googdfy_test = train_test_split(googdfx, googdfy, test_size = 0.2)"
      ],
      "execution_count": 76,
      "outputs": []
    },
    {
      "cell_type": "code",
      "metadata": {
        "id": "uIwF8U8fcmgA",
        "colab_type": "code",
        "colab": {}
      },
      "source": [
        "#Create and train the decision tree regressor model\n",
        "tree = DecisionTreeRegressor().fit(googdfx_train,googdfy_train)"
      ],
      "execution_count": 77,
      "outputs": []
    },
    {
      "cell_type": "code",
      "metadata": {
        "id": "QKBZftipdkA-",
        "colab_type": "code",
        "colab": {
          "base_uri": "https://localhost:8080/",
          "height": 34
        },
        "outputId": "34590cc7-8090-413f-d69d-55e4efec3bac"
      },
      "source": [
        "#test model accuracy via score which returns the coefficient of determination (R^2) of prediction\n",
        "treeconfidence = tree.score(googdfx_test, googdfy_test)\n",
        "print(\"Decision tree regressor confidence\", treeconfidence)"
      ],
      "execution_count": 78,
      "outputs": [
        {
          "output_type": "stream",
          "text": [
            "Decision tree regressor confidence 0.9232398131976668\n"
          ],
          "name": "stdout"
        }
      ]
    },
    {
      "cell_type": "code",
      "metadata": {
        "id": "Inwr1PMwFyEp",
        "colab_type": "code",
        "colab": {
          "base_uri": "https://localhost:8080/",
          "height": 1000
        },
        "outputId": "3877b1f7-3b87-41fe-d88a-8b492d3a7b7a"
      },
      "source": [
        "#set goog_forecast = to the last 365 rows of original dataset from close price column\n",
        "goog_forecast = np.array(goog.drop(['Prediction'],1))[-future_out:]\n",
        "print(goog_forecast)\n"
      ],
      "execution_count": 79,
      "outputs": [
        {
          "output_type": "stream",
          "text": [
            "[[1051.75    ]\n",
            " [1063.680054]\n",
            " [1061.900024]\n",
            " [1042.099976]\n",
            " [1016.530029]\n",
            " [1028.709961]\n",
            " [1023.01001 ]\n",
            " [1009.409973]\n",
            " [ 979.539978]\n",
            " [ 976.219971]\n",
            " [1039.459961]\n",
            " [1043.880005]\n",
            " [1037.079956]\n",
            " [1035.609985]\n",
            " [1045.849976]\n",
            " [1016.059998]\n",
            " [1070.709961]\n",
            " [1068.390015]\n",
            " [1076.280029]\n",
            " [1074.660034]\n",
            " [1070.329956]\n",
            " [1057.189941]\n",
            " [1044.689941]\n",
            " [1077.150024]\n",
            " [1080.969971]\n",
            " [1089.900024]\n",
            " [1098.26001 ]\n",
            " [1070.52002 ]\n",
            " [1075.569946]\n",
            " [1073.900024]\n",
            " [1090.98999 ]\n",
            " [1070.079956]\n",
            " [1060.619995]\n",
            " [1089.060059]\n",
            " [1116.369995]\n",
            " [1110.75    ]\n",
            " [1132.800049]\n",
            " [1145.98999 ]\n",
            " [1115.22998 ]\n",
            " [1098.709961]\n",
            " [1095.060059]\n",
            " [1095.01001 ]\n",
            " [1121.369995]\n",
            " [1120.160034]\n",
            " [1121.670044]\n",
            " [1113.650024]\n",
            " [1118.560059]\n",
            " [1113.800049]\n",
            " [1096.969971]\n",
            " [1110.369995]\n",
            " [1109.400024]\n",
            " [1115.130005]\n",
            " [1116.050049]\n",
            " [1119.920044]\n",
            " [1140.98999 ]\n",
            " [1147.800049]\n",
            " [1162.030029]\n",
            " [1157.859985]\n",
            " [1143.300049]\n",
            " [1142.319946]\n",
            " [1175.76001 ]\n",
            " [1193.199951]\n",
            " [1193.319946]\n",
            " [1185.550049]\n",
            " [1184.459961]\n",
            " [1184.26001 ]\n",
            " [1198.849976]\n",
            " [1223.969971]\n",
            " [1231.540039]\n",
            " [1205.5     ]\n",
            " [1193.      ]\n",
            " [1184.619995]\n",
            " [1173.02002 ]\n",
            " [1168.48999 ]\n",
            " [1173.310059]\n",
            " [1194.430054]\n",
            " [1200.48999 ]\n",
            " [1205.920044]\n",
            " [1215.      ]\n",
            " [1207.150024]\n",
            " [1203.839966]\n",
            " [1197.25    ]\n",
            " [1202.160034]\n",
            " [1204.619995]\n",
            " [1217.869995]\n",
            " [1221.099976]\n",
            " [1227.130005]\n",
            " [1236.339966]\n",
            " [1236.369995]\n",
            " [1248.839966]\n",
            " [1264.550049]\n",
            " [1256.      ]\n",
            " [1263.449951]\n",
            " [1272.180054]\n",
            " [1287.579956]\n",
            " [1188.47998 ]\n",
            " [1168.079956]\n",
            " [1162.609985]\n",
            " [1185.400024]\n",
            " [1189.390015]\n",
            " [1174.099976]\n",
            " [1166.27002 ]\n",
            " [1162.380005]\n",
            " [1164.27002 ]\n",
            " [1132.030029]\n",
            " [1120.439941]\n",
            " [1164.209961]\n",
            " [1178.97998 ]\n",
            " [1162.300049]\n",
            " [1138.849976]\n",
            " [1149.630005]\n",
            " [1151.420044]\n",
            " [1140.77002 ]\n",
            " [1133.469971]\n",
            " [1134.150024]\n",
            " [1116.459961]\n",
            " [1117.949951]\n",
            " [1103.630005]\n",
            " [1036.22998 ]\n",
            " [1053.050049]\n",
            " [1042.219971]\n",
            " [1044.339966]\n",
            " [1066.040039]\n",
            " [1080.380005]\n",
            " [1078.719971]\n",
            " [1077.030029]\n",
            " [1088.77002 ]\n",
            " [1085.349976]\n",
            " [1092.5     ]\n",
            " [1103.599976]\n",
            " [1102.329956]\n",
            " [1111.420044]\n",
            " [1121.880005]\n",
            " [1115.52002 ]\n",
            " [1086.349976]\n",
            " [1079.800049]\n",
            " [1076.01001 ]\n",
            " [1080.910034]\n",
            " [1097.949951]\n",
            " [1111.25    ]\n",
            " [1121.579956]\n",
            " [1131.589966]\n",
            " [1116.349976]\n",
            " [1124.829956]\n",
            " [1140.47998 ]\n",
            " [1144.209961]\n",
            " [1144.900024]\n",
            " [1150.339966]\n",
            " [1153.579956]\n",
            " [1146.349976]\n",
            " [1146.329956]\n",
            " [1130.099976]\n",
            " [1138.069946]\n",
            " [1146.209961]\n",
            " [1137.810059]\n",
            " [1132.119995]\n",
            " [1250.410034]\n",
            " [1239.410034]\n",
            " [1225.140015]\n",
            " [1216.680054]\n",
            " [1209.01001 ]\n",
            " [1193.98999 ]\n",
            " [1152.319946]\n",
            " [1169.949951]\n",
            " [1173.98999 ]\n",
            " [1204.800049]\n",
            " [1188.01001 ]\n",
            " [1174.709961]\n",
            " [1197.27002 ]\n",
            " [1164.290039]\n",
            " [1167.26001 ]\n",
            " [1177.599976]\n",
            " [1198.449951]\n",
            " [1182.689941]\n",
            " [1191.25    ]\n",
            " [1189.530029]\n",
            " [1151.290039]\n",
            " [1168.890015]\n",
            " [1167.839966]\n",
            " [1171.02002 ]\n",
            " [1192.849976]\n",
            " [1188.099976]\n",
            " [1168.390015]\n",
            " [1181.410034]\n",
            " [1211.380005]\n",
            " [1204.930054]\n",
            " [1204.410034]\n",
            " [1206.      ]\n",
            " [1220.170044]\n",
            " [1234.25    ]\n",
            " [1239.560059]\n",
            " [1231.300049]\n",
            " [1229.150024]\n",
            " [1232.410034]\n",
            " [1238.709961]\n",
            " [1229.930054]\n",
            " [1234.030029]\n",
            " [1218.76001 ]\n",
            " [1246.52002 ]\n",
            " [1241.390015]\n",
            " [1225.089966]\n",
            " [1219.      ]\n",
            " [1205.099976]\n",
            " [1176.630005]\n",
            " [1187.829956]\n",
            " [1209.      ]\n",
            " [1207.680054]\n",
            " [1189.130005]\n",
            " [1202.310059]\n",
            " [1208.670044]\n",
            " [1215.449951]\n",
            " [1217.140015]\n",
            " [1243.01001 ]\n",
            " [1243.640015]\n",
            " [1253.069946]\n",
            " [1245.48999 ]\n",
            " [1246.150024]\n",
            " [1242.800049]\n",
            " [1259.130005]\n",
            " [1260.98999 ]\n",
            " [1265.130005]\n",
            " [1290.      ]\n",
            " [1262.619995]\n",
            " [1261.290039]\n",
            " [1260.109985]\n",
            " [1273.73999 ]\n",
            " [1291.369995]\n",
            " [1292.030029]\n",
            " [1291.800049]\n",
            " [1308.859985]\n",
            " [1311.369995]\n",
            " [1299.189941]\n",
            " [1298.800049]\n",
            " [1298.      ]\n",
            " [1311.459961]\n",
            " [1334.869995]\n",
            " [1320.699951]\n",
            " [1315.459961]\n",
            " [1303.050049]\n",
            " [1301.349976]\n",
            " [1295.339966]\n",
            " [1306.689941]\n",
            " [1313.550049]\n",
            " [1312.98999 ]\n",
            " [1304.959961]\n",
            " [1289.920044]\n",
            " [1295.280029]\n",
            " [1320.540039]\n",
            " [1328.130005]\n",
            " [1340.619995]\n",
            " [1343.560059]\n",
            " [1344.660034]\n",
            " [1345.02002 ]\n",
            " [1350.27002 ]\n",
            " [1347.829956]\n",
            " [1361.170044]\n",
            " [1355.119995]\n",
            " [1352.619995]\n",
            " [1356.040039]\n",
            " [1349.589966]\n",
            " [1348.839966]\n",
            " [1343.560059]\n",
            " [1360.400024]\n",
            " [1351.890015]\n",
            " [1336.140015]\n",
            " [1337.02002 ]\n",
            " [1367.369995]\n",
            " [1360.660034]\n",
            " [1394.209961]\n",
            " [1393.339966]\n",
            " [1404.319946]\n",
            " [1419.829956]\n",
            " [1429.72998 ]\n",
            " [1439.22998 ]\n",
            " [1430.880005]\n",
            " [1439.199951]\n",
            " [1451.699951]\n",
            " [1480.390015]\n",
            " [1484.400024]\n",
            " [1485.949951]\n",
            " [1486.650024]\n",
            " [1466.709961]\n",
            " [1433.900024]\n",
            " [1452.560059]\n",
            " [1458.630005]\n",
            " [1455.839966]\n",
            " [1434.22998 ]\n",
            " [1485.939941]\n",
            " [1447.069946]\n",
            " [1448.22998 ]\n",
            " [1476.22998 ]\n",
            " [1479.22998 ]\n",
            " [1508.680054]\n",
            " [1508.790039]\n",
            " [1518.27002 ]\n",
            " [1514.660034]\n",
            " [1520.73999 ]\n",
            " [1519.670044]\n",
            " [1526.689941]\n",
            " [1518.150024]\n",
            " [1485.109985]\n",
            " [1421.589966]\n",
            " [1388.449951]\n",
            " [1393.180054]\n",
            " [1318.089966]\n",
            " [1339.329956]\n",
            " [1389.109985]\n",
            " [1341.390015]\n",
            " [1386.52002 ]\n",
            " [1319.040039]\n",
            " [1298.410034]\n",
            " [1215.560059]\n",
            " [1280.390015]\n",
            " [1215.410034]\n",
            " [1114.910034]\n",
            " [1219.72998 ]\n",
            " [1084.329956]\n",
            " [1119.800049]\n",
            " [1096.800049]\n",
            " [1115.290039]\n",
            " [1072.319946]\n",
            " [1056.619995]\n",
            " [1134.459961]\n",
            " [1102.48999 ]\n",
            " [1161.75    ]\n",
            " [1110.709961]\n",
            " [1146.819946]\n",
            " [1162.810059]\n",
            " [1105.619995]\n",
            " [1120.839966]\n",
            " [1097.880005]\n",
            " [1186.920044]\n",
            " [1186.51001 ]\n",
            " [1210.280029]\n",
            " [1211.449951]\n",
            " [1217.560059]\n",
            " [1269.22998 ]\n",
            " [1262.469971]\n",
            " [1263.469971]\n",
            " [1283.25    ]\n",
            " [1266.609985]\n",
            " [1216.339966]\n",
            " [1263.209961]\n",
            " [1276.310059]\n",
            " [1279.310059]\n",
            " [1275.880005]\n",
            " [1233.670044]\n",
            " [1341.47998 ]\n",
            " [1348.660034]\n",
            " [1320.609985]\n",
            " [1326.800049]\n",
            " [1351.109985]\n",
            " [1347.300049]\n",
            " [1372.560059]\n",
            " [1388.369995]\n",
            " [1403.26001 ]\n",
            " [1375.73999 ]\n",
            " [1349.329956]\n",
            " [1356.130005]\n",
            " [1373.189941]\n",
            " [1383.939941]\n",
            " [1373.484985]\n",
            " [1406.719971]\n",
            " [1402.800049]\n",
            " [1410.420044]]\n"
          ],
          "name": "stdout"
        }
      ]
    },
    {
      "cell_type": "code",
      "metadata": {
        "id": "Vs0_jkQddNIc",
        "colab_type": "code",
        "colab": {
          "base_uri": "https://localhost:8080/",
          "height": 1000
        },
        "outputId": "9471da29-8a1b-4e9a-b7aa-11f2855c128f"
      },
      "source": [
        "#Print decision tree predicted values for upcoming 'n' days\n",
        "treeprediction = tree.predict(goog_forecast)\n",
        "print(treeprediction)"
      ],
      "execution_count": 80,
      "outputs": [
        {
          "output_type": "stream",
          "text": [
            "[1239.410034  1066.040039  1326.800049  1141.1099855 1221.099976\n",
            " 1246.52002   1164.209961  1162.300049  1205.5       1093.390015\n",
            " 1410.420044  1375.73999   1133.469971  1162.380005  1085.349976\n",
            " 1238.709961  1042.219971  1406.719971  1263.469971  1176.630005\n",
            " 1283.25      1078.719971  1375.73999   1053.050049  1102.48999\n",
            " 1168.390015  1259.130005  1042.219971  1263.469971  1176.630005\n",
            " 1167.26001   1283.25      1308.859985  1356.130005  1105.619995\n",
            " 1152.319946  1097.949951  1204.800049  1345.02002   1259.130005\n",
            " 1209.01001   1209.01001   1162.810059  1298.800049  1080.910034\n",
            " 1146.329956  1340.619995  1345.02002   1242.800049  1110.709961\n",
            " 1198.449951  1345.02002   1105.619995  1298.800049  1355.119995\n",
            " 1056.619995  1393.180054  1295.280029  1204.800049  1204.800049\n",
            " 1144.209961  1219.72998   1219.72998   1367.369995  1280.390015\n",
            " 1280.390015  1351.890015  1480.390015  1508.790039  1360.660034\n",
            " 1219.72998   1280.390015  1215.560059  1115.290039  1215.560059\n",
            " 1084.329956  1119.800049  1360.660034  1458.630005  1448.22998\n",
            " 1096.800049  1336.140015  1447.069946  1360.660034  1520.73999\n",
            " 1479.22998   1439.199951  1466.709961  1466.709961  1486.650024\n",
            " 1393.339966  1518.27002   1393.339966  1404.319946  1404.319946\n",
            " 1343.560059  1304.959961  1393.180054  1367.369995  1343.560059\n",
            " 1215.560059  1298.410034  1393.180054  1124.829956  1097.949951\n",
            " 1315.459961  1124.829956  1215.410034  1393.180054  1134.459961\n",
            " 1167.839966  1306.689941  1355.119995  1295.339966  1295.339966\n",
            " 1105.619995  1188.01001   1186.51001   1262.469971  1204.930054\n",
            " 1141.1099855 1375.73999   1275.880005  1138.069946  1262.619995\n",
            " 1053.050049  1356.130005  1299.189941  1146.819946  1186.51001\n",
            " 1111.420044  1152.319946  1080.910034  1345.02002   1102.329956\n",
            " 1260.109985  1263.469971  1102.48999   1188.099976  1152.319946\n",
            " 1080.910034  1097.949951  1105.619995  1328.130005  1355.119995\n",
            " 1204.800049  1204.800049  1167.839966  1349.589966  1204.800049\n",
            " 1204.800049  1111.25      1151.290039  1204.800049  1121.579956\n",
            " 1097.949951  1518.27002   1514.660034  1480.390015  1439.22998\n",
            " 1485.939941  1219.72998   1313.550049  1153.579956  1215.560059\n",
            " 1360.660034  1343.560059  1318.089966  1336.140015  1124.829956\n",
            " 1146.349976  1388.449951  1351.890015  1348.839966  1219.72998\n",
            " 1343.560059  1306.689941  1115.290039  1146.349976  1386.52002\n",
            " 1219.72998   1343.560059  1115.290039  1215.410034  1458.630005\n",
            " 1360.660034  1360.660034  1455.839966  1430.880005  1433.900024\n",
            " 1514.660034  1508.790039  1508.790039  1508.790039  1419.829956\n",
            " 1508.790039  1433.900024  1520.73999   1486.650024  1508.680054\n",
            " 1480.390015  1429.72998   1360.660034  1388.449951  1337.02002\n",
            " 1485.939941  1485.939941  1343.560059  1096.800049  1485.939941\n",
            " 1458.630005  1439.22998   1484.400024  1484.400024  1518.27002\n",
            " 1484.400024  1486.650024  1484.400024  1393.339966  1393.339966\n",
            " 1393.339966  1404.319946  1393.339966  1393.339966  1393.339966\n",
            " 1404.319946  1404.319946  1404.319946  1404.319946  1404.319946\n",
            " 1404.319946  1404.319946  1404.319946  1404.319946  1404.319946\n",
            " 1404.319946  1404.319946  1404.319946  1404.319946  1404.319946\n",
            " 1404.319946  1404.319946  1404.319946  1404.319946  1404.319946\n",
            " 1404.319946  1404.319946  1404.319946  1404.319946  1404.319946\n",
            " 1404.319946  1404.319946  1404.319946  1404.319946  1404.319946\n",
            " 1404.319946  1404.319946  1404.319946  1404.319946  1404.319946\n",
            " 1404.319946  1404.319946  1404.319946  1404.319946  1404.319946\n",
            " 1404.319946  1404.319946  1404.319946  1404.319946  1404.319946\n",
            " 1404.319946  1404.319946  1404.319946  1404.319946  1404.319946\n",
            " 1404.319946  1404.319946  1404.319946  1404.319946  1404.319946\n",
            " 1404.319946  1404.319946  1404.319946  1404.319946  1404.319946\n",
            " 1404.319946  1404.319946  1404.319946  1404.319946  1404.319946\n",
            " 1404.319946  1404.319946  1404.319946  1404.319946  1404.319946\n",
            " 1404.319946  1404.319946  1404.319946  1404.319946  1404.319946\n",
            " 1404.319946  1404.319946  1404.319946  1404.319946  1404.319946\n",
            " 1404.319946  1404.319946  1404.319946  1404.319946  1404.319946\n",
            " 1404.319946  1458.630005  1404.319946  1458.630005  1345.02002\n",
            " 1429.72998   1299.189941  1298.800049  1242.800049  1345.02002\n",
            " 1219.        1078.719971  1295.339966  1193.98999   1393.180054\n",
            " 1110.709961  1056.619995  1393.180054  1079.800049  1315.459961\n",
            " 1188.099976  1337.02002   1526.689941  1485.939941  1458.630005\n",
            " 1439.22998   1404.319946  1393.339966  1393.339966  1404.319946\n",
            " 1404.319946  1439.22998   1393.339966  1404.319946  1404.319946\n",
            " 1404.319946  1433.900024  1404.319946  1404.319946  1404.319946\n",
            " 1404.319946  1404.319946  1404.319946  1404.319946  1404.319946\n",
            " 1404.319946  1404.319946  1404.319946  1404.319946  1404.319946\n",
            " 1404.319946  1404.319946  1404.319946  1404.319946  1404.319946 ]\n"
          ],
          "name": "stdout"
        }
      ]
    },
    {
      "cell_type": "code",
      "metadata": {
        "id": "69npDY2GnJr1",
        "colab_type": "code",
        "colab": {
          "base_uri": "https://localhost:8080/",
          "height": 615
        },
        "outputId": "e5befb34-69de-425f-afdf-e45a37f0b360"
      },
      "source": [
        "prediction = treeprediction\n",
        "valid = goog[googdfx.shape[0]:]\n",
        "valid['Prediction'] = prediction\n",
        "plt.figure(figsize = (16,8))\n",
        "plt.title ('Decision tree regressor Model')\n",
        "plt.xlabel('Date')\n",
        "plt.ylabel('Close Price in USD')\n",
        "plt.plot(goog['Close'])\n",
        "plt.plot(valid[['Close','Prediction']])\n",
        "plt.legend(['Original','Validation','Prediction'])\n",
        "plt.show()"
      ],
      "execution_count": 81,
      "outputs": [
        {
          "output_type": "stream",
          "text": [
            "/usr/local/lib/python3.6/dist-packages/ipykernel_launcher.py:3: SettingWithCopyWarning: \n",
            "A value is trying to be set on a copy of a slice from a DataFrame.\n",
            "Try using .loc[row_indexer,col_indexer] = value instead\n",
            "\n",
            "See the caveats in the documentation: https://pandas.pydata.org/pandas-docs/stable/user_guide/indexing.html#returning-a-view-versus-a-copy\n",
            "  This is separate from the ipykernel package so we can avoid doing imports until\n"
          ],
          "name": "stderr"
        },
        {
          "output_type": "display_data",
          "data": {
            "image/png": "[encoded data removed]",
            "text/plain": [
              "<Figure size 1152x576 with 1 Axes>"
            ]
          },
          "metadata": {
            "tags": [],
            "needs_background": "light"
          }
        }
      ]
    }
  ]
}