{
  "nbformat": 4,
  "nbformat_minor": 0,
  "metadata": {
    "colab": {
      "name": "Copy of LSTMgoog.ipynb",
      "provenance": [],
      "collapsed_sections": [],
      "toc_visible": true,
      "authorship_tag": "ABX9TyO6Js2BWx9ANzV37d7YYosZ",
      "include_colab_link": true
    },
    "kernelspec": {
      "name": "python3",
      "display_name": "Python 3"
    }
  },
  "cells": [
    {
      "cell_type": "markdown",
      "metadata": {
        "id": "view-in-github",
        "colab_type": "text"
      },
      "source": [
        "<a href=\"https://colab.research.google.com/github/zzeeddd95/capstone-project/blob/master/LSTMgoog.ipynb\" target=\"_parent\"><img src=\"https://colab.research.google.com/assets/colab-badge.svg\" alt=\"Open In Colab\"/></a>"
      ]
    },
    {
      "cell_type": "markdown",
      "metadata": {
        "id": "8_DkkG9LIU9y",
        "colab_type": "text"
      },
      "source": [
        "**This is a recurrent neural network, specifically an LSTM network designed to predict google stock prices one day in advance. **"
      ]
    },
    {
      "cell_type": "code",
      "metadata": {
        "id": "Ubkachyk2XwL",
        "colab_type": "code",
        "colab": {
          "base_uri": "https://localhost:8080/",
          "height": 68
        },
        "outputId": "707cb472-f63d-4cd2-b78f-04eada8ba017"
      },
      "source": [
        "#import libraries\n",
        "\n",
        "import math\n",
        "import pandas_datareader as web\n",
        "import numpy as np\n",
        "import pandas as pd\n",
        "from sklearn.preprocessing import MinMaxScaler\n",
        "from keras.models import Sequential\n",
        "from keras.preprocessing.sequence import TimeseriesGenerator\n",
        "from keras.layers import Dropout\n",
        "from keras.layers import Dense, LSTM\n",
        "import matplotlib.pyplot as plt\n",
        "plt.style.use('fivethirtyeight')"
      ],
      "execution_count": null,
      "outputs": [
        {
          "output_type": "stream",
          "text": [
            "/usr/local/lib/python3.6/dist-packages/pandas_datareader/compat/__init__.py:7: FutureWarning: pandas.util.testing is deprecated. Use the functions in the public API at pandas.testing instead.\n",
            "  from pandas.util.testing import assert_frame_equal\n",
            "Using TensorFlow backend.\n"
          ],
          "name": "stderr"
        }
      ]
    },
    {
      "cell_type": "code",
      "metadata": {
        "id": "5i8m-wPf5R3k",
        "colab_type": "code",
        "colab": {
          "base_uri": "https://localhost:8080/",
          "height": 450
        },
        "outputId": "dbf15951-a1fb-4fb8-f392-558d030e2428"
      },
      "source": [
        "#Get goog stock\n",
        "googstock = web.DataReader('GOOG', data_source='yahoo', start='2010-05-27', end='2020-05-27')\n",
        "googstock"
      ],
      "execution_count": null,
      "outputs": [
        {
          "output_type": "execute_result",
          "data": {
            "text/html": [
              "<div>\n",
              "<style scoped>\n",
              "    .dataframe tbody tr th:only-of-type {\n",
              "        vertical-align: middle;\n",
              "    }\n",
              "\n",
              "    .dataframe tbody tr th {\n",
              "        vertical-align: top;\n",
              "    }\n",
              "\n",
              "    .dataframe thead th {\n",
              "        text-align: right;\n",
              "    }\n",
              "</style>\n",
              "<table border=\"1\" class=\"dataframe\">\n",
              "  <thead>\n",
              "    <tr style=\"text-align: right;\">\n",
              "      <th></th>\n",
              "      <th>High</th>\n",
              "      <th>Low</th>\n",
              "      <th>Open</th>\n",
              "      <th>Close</th>\n",
              "      <th>Volume</th>\n",
              "      <th>Adj Close</th>\n",
              "    </tr>\n",
              "    <tr>\n",
              "      <th>Date</th>\n",
              "      <th></th>\n",
              "      <th></th>\n",
              "      <th></th>\n",
              "      <th></th>\n",
              "      <th></th>\n",
              "      <th></th>\n",
              "    </tr>\n",
              "  </thead>\n",
              "  <tbody>\n",
              "    <tr>\n",
              "      <th>2010-05-27</th>\n",
              "      <td>245.235794</td>\n",
              "      <td>239.626816</td>\n",
              "      <td>241.569534</td>\n",
              "      <td>244.314255</td>\n",
              "      <td>5639200.0</td>\n",
              "      <td>244.314255</td>\n",
              "    </tr>\n",
              "    <tr>\n",
              "      <th>2010-05-28</th>\n",
              "      <td>245.803665</td>\n",
              "      <td>240.598175</td>\n",
              "      <td>245.449997</td>\n",
              "      <td>241.908264</td>\n",
              "      <td>5811200.0</td>\n",
              "      <td>241.908264</td>\n",
              "    </tr>\n",
              "    <tr>\n",
              "      <th>2010-06-01</th>\n",
              "      <td>244.613129</td>\n",
              "      <td>239.163559</td>\n",
              "      <td>239.317978</td>\n",
              "      <td>240.284363</td>\n",
              "      <td>5353500.0</td>\n",
              "      <td>240.284363</td>\n",
              "    </tr>\n",
              "    <tr>\n",
              "      <th>2010-06-02</th>\n",
              "      <td>246.012878</td>\n",
              "      <td>239.831055</td>\n",
              "      <td>242.431305</td>\n",
              "      <td>245.763824</td>\n",
              "      <td>5100500.0</td>\n",
              "      <td>245.763824</td>\n",
              "    </tr>\n",
              "    <tr>\n",
              "      <th>2010-06-03</th>\n",
              "      <td>253.051498</td>\n",
              "      <td>246.426331</td>\n",
              "      <td>246.630569</td>\n",
              "      <td>251.855988</td>\n",
              "      <td>7328700.0</td>\n",
              "      <td>251.855988</td>\n",
              "    </tr>\n",
              "    <tr>\n",
              "      <th>...</th>\n",
              "      <td>...</td>\n",
              "      <td>...</td>\n",
              "      <td>...</td>\n",
              "      <td>...</td>\n",
              "      <td>...</td>\n",
              "      <td>...</td>\n",
              "    </tr>\n",
              "    <tr>\n",
              "      <th>2020-05-20</th>\n",
              "      <td>1410.420044</td>\n",
              "      <td>1387.250000</td>\n",
              "      <td>1389.579956</td>\n",
              "      <td>1406.719971</td>\n",
              "      <td>1655400.0</td>\n",
              "      <td>1406.719971</td>\n",
              "    </tr>\n",
              "    <tr>\n",
              "      <th>2020-05-21</th>\n",
              "      <td>1415.489990</td>\n",
              "      <td>1393.449951</td>\n",
              "      <td>1408.000000</td>\n",
              "      <td>1402.800049</td>\n",
              "      <td>1385000.0</td>\n",
              "      <td>1402.800049</td>\n",
              "    </tr>\n",
              "    <tr>\n",
              "      <th>2020-05-22</th>\n",
              "      <td>1412.760010</td>\n",
              "      <td>1391.829956</td>\n",
              "      <td>1396.709961</td>\n",
              "      <td>1410.420044</td>\n",
              "      <td>1309400.0</td>\n",
              "      <td>1410.420044</td>\n",
              "    </tr>\n",
              "    <tr>\n",
              "      <th>2020-05-26</th>\n",
              "      <td>1441.000000</td>\n",
              "      <td>1412.130005</td>\n",
              "      <td>1437.270020</td>\n",
              "      <td>1417.020020</td>\n",
              "      <td>2060600.0</td>\n",
              "      <td>1417.020020</td>\n",
              "    </tr>\n",
              "    <tr>\n",
              "      <th>2020-05-27</th>\n",
              "      <td>1421.739990</td>\n",
              "      <td>1391.290039</td>\n",
              "      <td>1417.250000</td>\n",
              "      <td>1417.839966</td>\n",
              "      <td>1685800.0</td>\n",
              "      <td>1417.839966</td>\n",
              "    </tr>\n",
              "  </tbody>\n",
              "</table>\n",
              "<p>2517 rows × 6 columns</p>\n",
              "</div>"
            ],
            "text/plain": [
              "                   High          Low  ...     Volume    Adj Close\n",
              "Date                                  ...                        \n",
              "2010-05-27   245.235794   239.626816  ...  5639200.0   244.314255\n",
              "2010-05-28   245.803665   240.598175  ...  5811200.0   241.908264\n",
              "2010-06-01   244.613129   239.163559  ...  5353500.0   240.284363\n",
              "2010-06-02   246.012878   239.831055  ...  5100500.0   245.763824\n",
              "2010-06-03   253.051498   246.426331  ...  7328700.0   251.855988\n",
              "...                 ...          ...  ...        ...          ...\n",
              "2020-05-20  1410.420044  1387.250000  ...  1655400.0  1406.719971\n",
              "2020-05-21  1415.489990  1393.449951  ...  1385000.0  1402.800049\n",
              "2020-05-22  1412.760010  1391.829956  ...  1309400.0  1410.420044\n",
              "2020-05-26  1441.000000  1412.130005  ...  2060600.0  1417.020020\n",
              "2020-05-27  1421.739990  1391.290039  ...  1685800.0  1417.839966\n",
              "\n",
              "[2517 rows x 6 columns]"
            ]
          },
          "metadata": {
            "tags": []
          },
          "execution_count": 2
        }
      ]
    },
    {
      "cell_type": "code",
      "metadata": {
        "id": "9-zyeLUT5lTS",
        "colab_type": "code",
        "colab": {
          "base_uri": "https://localhost:8080/",
          "height": 34
        },
        "outputId": "09acd1df-3bed-47bd-a9eb-e3fa548ecbec"
      },
      "source": [
        "#Get dataset information\n",
        "googstock.shape"
      ],
      "execution_count": null,
      "outputs": [
        {
          "output_type": "execute_result",
          "data": {
            "text/plain": [
              "(2517, 6)"
            ]
          },
          "metadata": {
            "tags": []
          },
          "execution_count": 3
        }
      ]
    },
    {
      "cell_type": "code",
      "metadata": {
        "id": "0aqQoPRz5xkB",
        "colab_type": "code",
        "colab": {
          "base_uri": "https://localhost:8080/",
          "height": 518
        },
        "outputId": "cd49c92d-f1e0-4083-80e5-2453d0f9f8c2"
      },
      "source": [
        "#visualize closing goog price\n",
        "plt.figure(figsize=(16,8))\n",
        "plt.title('Google Close Price History')\n",
        "plt.plot(googstock['Close'])\n",
        "plt.xlabel('Date', fontsize=18)\n",
        "plt.ylabel('Close Price USD', fontsize=18)\n",
        "plt.show()"
      ],
      "execution_count": null,
      "outputs": [
        {
          "output_type": "display_data",
          "data": {
            "image/png": "[encoded data removed]",
            "text/plain": [
              "<Figure size 1152x576 with 1 Axes>"
            ]
          },
          "metadata": {
            "tags": [],
            "needs_background": "light"
          }
        }
      ]
    },
    {
      "cell_type": "markdown",
      "metadata": {
        "id": "_W7_88tHIZ_-",
        "colab_type": "text"
      },
      "source": [
        "**In this next line of code, we will extract the google closing price from the stock dataframe, convert it to a numpy array and create a training dataframe consisiting of 80% of closing stock prices.**"
      ]
    },
    {
      "cell_type": "code",
      "metadata": {
        "id": "Y3YHk0MZ6upG",
        "colab_type": "code",
        "colab": {
          "base_uri": "https://localhost:8080/",
          "height": 34
        },
        "outputId": "f61563e1-5f57-4946-8a12-bf823cf1b094"
      },
      "source": [
        "#extract closing price and position into new datafram\n",
        "googclose =googstock.filter(['Close'])\n",
        "#convert dataframe to numpy array\n",
        "googdata = googclose.values\n",
        "#obtain row number to train model\n",
        "training_goog_data = math.ceil(len(googdata)*.8)\n",
        "training_goog_data"
      ],
      "execution_count": null,
      "outputs": [
        {
          "output_type": "execute_result",
          "data": {
            "text/plain": [
              "2014"
            ]
          },
          "metadata": {
            "tags": []
          },
          "execution_count": 5
        }
      ]
    },
    {
      "cell_type": "markdown",
      "metadata": {
        "id": "MrQpTRwmIfxN",
        "colab_type": "text"
      },
      "source": [
        "**Normalizing the data is key to ensuring that the neural network works properly, and so a scale of 0,1 is set, and the following code will enable the normalization of the closing price data. this data will then be inserted into is own variable. **"
      ]
    },
    {
      "cell_type": "code",
      "metadata": {
        "id": "iHvL2jSO7jv2",
        "colab_type": "code",
        "colab": {
          "base_uri": "https://localhost:8080/",
          "height": 136
        },
        "outputId": "609319f3-988e-410d-997c-45a8f1201b9d"
      },
      "source": [
        "#scaling data\n",
        "scaler = MinMaxScaler(feature_range=(0,1))\n",
        "scaled_goog_data = scaler.fit_transform(googdata)\n",
        "scaled_goog_data"
      ],
      "execution_count": null,
      "outputs": [
        {
          "output_type": "execute_result",
          "data": {
            "text/plain": [
              "array([[0.0206904 ],\n",
              "       [0.01885302],\n",
              "       [0.0176129 ],\n",
              "       ...,\n",
              "       [0.91120837],\n",
              "       [0.91624856],\n",
              "       [0.91687473]])"
            ]
          },
          "metadata": {
            "tags": []
          },
          "execution_count": 6
        }
      ]
    },
    {
      "cell_type": "markdown",
      "metadata": {
        "id": "_v7zq0dLIj-v",
        "colab_type": "text"
      },
      "source": [
        "**In the following lines of code, we will be creating the scaled training data to feed into the neural network from the previous 80% variable that was created. the training data will be from row 0 until the final row, and will include all columns. A loop is created in which the x train set will contain data from positions 0-364 on the first pass, and the y train set will contain data from position 365. the value in position 365 is the value that we require our model to predict. the if loop allows for positions to be filled into the x and y variables with respect to iterations. **"
      ]
    },
    {
      "cell_type": "code",
      "metadata": {
        "id": "Ie25ot3q8Bvc",
        "colab_type": "code",
        "colab": {
          "base_uri": "https://localhost:8080/",
          "height": 1000
        },
        "outputId": "3a8cca66-2e79-4129-ae3e-96d644705738"
      },
      "source": [
        "#create the scaled training dataset\n",
        "\n",
        "train_goog_data = scaled_goog_data[0:training_goog_data,:]\n",
        "#split the data omtp x_train and y_train datasets\n",
        "\n",
        "x_train_goog = []\n",
        "y_train_goog = []\n",
        "\n",
        "for i in range(365,len(train_goog_data)):\n",
        "  x_train_goog.append(train_goog_data[i-365:i,0])\n",
        "  y_train_goog.append(train_goog_data[i,0])\n",
        "  if i<= 365:\n",
        "    print(x_train_goog)\n",
        "    print(y_train_goog)\n",
        "    print()"
      ],
      "execution_count": null,
      "outputs": [
        {
          "output_type": "stream",
          "text": [
            "[array([0.0206904 , 0.01885302, 0.0176129 , 0.02179739, 0.02644979,\n",
            "       0.02383258, 0.01881118, 0.01852968, 0.01443648, 0.01937799,\n",
            "       0.0199448 , 0.01792483, 0.02355487, 0.02480261, 0.02434993,\n",
            "       0.0243309 , 0.01996762, 0.01908889, 0.01749117, 0.01484733,\n",
            "       0.01392674, 0.0136985 , 0.00691962, 0.00337802, 0.001301  ,\n",
            "       0.00018259, 0.        , 0.00537516, 0.00779456, 0.01195242,\n",
            "       0.01512503, 0.02021108, 0.02102516, 0.02204465, 0.00895481,\n",
            "       0.01145409, 0.01731618, 0.01576031, 0.0185411 , 0.02053823,\n",
            "       0.0201236 , 0.02151589, 0.01836611, 0.01860957, 0.01855631,\n",
            "       0.02067137, 0.02045074, 0.02672367, 0.02740081, 0.02440318,\n",
            "       0.02635468, 0.02573081, 0.02117732, 0.02128003, 0.01912692,\n",
            "       0.01883781, 0.02071322, 0.0175292 , 0.01213501, 0.00987159,\n",
            "       0.01065142, 0.00582785, 0.00705657, 0.00567188, 0.00865808,\n",
            "       0.00632238, 0.00530669, 0.0092287 , 0.01031287, 0.01302137,\n",
            "       0.01077696, 0.01312788, 0.01525817, 0.01524295, 0.01757486,\n",
            "       0.01687491, 0.0169548 , 0.01711457, 0.02057248, 0.02746928,\n",
            "       0.02943979, 0.03040602, 0.0294474 , 0.03470084, 0.03588771,\n",
            "       0.03465519, 0.034853  , 0.03413024, 0.03406556, 0.03282162,\n",
            "       0.03886249, 0.03738652, 0.03573555, 0.03814732, 0.03909455,\n",
            "       0.04006458, 0.04079117, 0.03988961, 0.06291191, 0.06909735,\n",
            "       0.06533893, 0.06539598, 0.06692141, 0.06712684, 0.06863705,\n",
            "       0.06943591, 0.06862565, 0.06942831, 0.0675719 , 0.06806644,\n",
            "       0.06829469, 0.07003695, 0.07159284, 0.07190096, 0.07254386,\n",
            "       0.07180205, 0.07106406, 0.06889954, 0.06361187, 0.06063706,\n",
            "       0.05616727, 0.05610259, 0.06105171, 0.05887199, 0.05902032,\n",
            "       0.05589718, 0.06044687, 0.05855625, 0.05555483, 0.04551203,\n",
            "       0.04879876, 0.05164042, 0.0520893 , 0.05412828, 0.05746826,\n",
            "       0.05876166, 0.05912685, 0.05939694, 0.06031372, 0.06042405,\n",
            "       0.05867037, 0.05920674, 0.05886057, 0.0604811 , 0.06352818,\n",
            "       0.06444876, 0.06396944, 0.06326569, 0.06194948, 0.06274074,\n",
            "       0.06192666, 0.06006645, 0.06401509, 0.06316678, 0.06581063,\n",
            "       0.06749584, 0.06861423, 0.06776592, 0.06845065, 0.06877781,\n",
            "       0.06870934, 0.0715586 , 0.0774359 , 0.07443828, 0.07254386,\n",
            "       0.06686056, 0.06657525, 0.06993425, 0.06863705, 0.06874738,\n",
            "       0.06273692, 0.06249727, 0.06656003, 0.06692523, 0.06622145,\n",
            "       0.06653719, 0.06779636, 0.06935222, 0.06863705, 0.06861423,\n",
            "       0.07168033, 0.07306881, 0.07154718, 0.0715738 , 0.07196943,\n",
            "       0.073803  , 0.06624429, 0.06666654, 0.06571552, 0.06617962,\n",
            "       0.0674578 , 0.06264943, 0.06266085, 0.06599702, 0.06259617,\n",
            "       0.05918773, 0.05943497, 0.05922956, 0.05486627, 0.0535006 ,\n",
            "       0.05094427, 0.05078069, 0.04604081, 0.04766134, 0.04754722,\n",
            "       0.05342074, 0.05373265, 0.05557384, 0.05737318, 0.05465326,\n",
            "       0.05298707, 0.05541026, 0.0554521 , 0.05732372, 0.05924098,\n",
            "       0.0576737 , 0.05060191, 0.05253819, 0.05475214, 0.05405219,\n",
            "       0.05375167, 0.05118012, 0.05333705, 0.05418534, 0.03599804,\n",
            "       0.03452964, 0.03250968, 0.0341074 , 0.03386775, 0.03384873,\n",
            "       0.0368045 , 0.03868372, 0.03876359, 0.04109549, 0.03898804,\n",
            "       0.03721152, 0.03793431, 0.03735609, 0.03774792, 0.03865328,\n",
            "       0.0405477 , 0.03780497, 0.03765281, 0.03556055, 0.03132661,\n",
            "       0.03590673, 0.03565946, 0.03620725, 0.0334607 , 0.03131521,\n",
            "       0.03126576, 0.03180213, 0.0312163 , 0.03227003, 0.03535894,\n",
            "       0.03405794, 0.03499374, 0.03309933, 0.0323309 , 0.03155866,\n",
            "       0.03161191, 0.03068373, 0.02793718, 0.02611883, 0.02750351,\n",
            "       0.0254417 , 0.02446025, 0.01862097, 0.0184536 , 0.02165664,\n",
            "       0.01937799, 0.01679502, 0.01476364, 0.01777647, 0.0219039 ,\n",
            "       0.0233951 , 0.0267465 , 0.03231948, 0.03665993, 0.03777073,\n",
            "       0.04204651, 0.03648876, 0.03469704, 0.03725718, 0.03887391,\n",
            "       0.0353285 , 0.06145496, 0.06043545, 0.06333036, 0.06059143,\n",
            "       0.06501937, 0.06929517, 0.06958047, 0.07092712, 0.06510688,\n",
            "       0.06652198, 0.06376403, 0.06493568, 0.05946921, 0.06280541,\n",
            "       0.05380875, 0.05438697, 0.04182588, 0.05224526, 0.0429633 ,\n",
            "       0.04795427, 0.04857813, 0.04609026, 0.03915542, 0.03693002,\n",
            "       0.02617589, 0.02086539, 0.02362335, 0.03147877, 0.03317919,\n",
            "       0.03194287, 0.03453726, 0.03918586, 0.03980212, 0.03990103,\n",
            "       0.03668277, 0.03376884, 0.03275695, 0.0372648 , 0.03761857,\n",
            "       0.03377264, 0.03577738, 0.03554916, 0.03651919, 0.04050967,\n",
            "       0.04207695, 0.04207315, 0.04205793, 0.03923151, 0.03217872,\n",
            "       0.03402371, 0.03645072, 0.03928476, 0.03529047, 0.03478073,\n",
            "       0.03004083, 0.02261527, 0.02504227, 0.02610742, 0.02991531,\n",
            "       0.03007127, 0.03845927, 0.04074552, 0.0427693 , 0.04675978,\n",
            "       0.05919532, 0.05566893, 0.05875024, 0.05501843, 0.05614825,\n",
            "       0.05874264, 0.06099846, 0.05595426, 0.05715252, 0.06185437,\n",
            "       0.06241358, 0.05956052, 0.05423861, 0.05658571, 0.06140931])]\n",
            "[0.06089195067259637]\n",
            "\n"
          ],
          "name": "stdout"
        }
      ]
    },
    {
      "cell_type": "markdown",
      "metadata": {
        "id": "oP_6dYgOItpO",
        "colab_type": "text"
      },
      "source": [
        "**The following two cells of code will allow for increased pre processing of the above created variables to allow for training of the model. it is important to reshape the x train data set becase the lstm networks expects the input to be three dimensional (# of samples, # of timesteps, #of features), however the train data set in its current form is two dimensional. **"
      ]
    },
    {
      "cell_type": "code",
      "metadata": {
        "id": "uS7DnvE9-ZJ9",
        "colab_type": "code",
        "colab": {}
      },
      "source": [
        "#convert the x_train_goog and y_train_goog to numpy array in order to allow the training of lstm model\n",
        "x_train_goog,y_train_goog=np.array(x_train_goog), np.array(y_train_goog)"
      ],
      "execution_count": null,
      "outputs": []
    },
    {
      "cell_type": "code",
      "metadata": {
        "id": "1S84Ci36-sMd",
        "colab_type": "code",
        "colab": {
          "base_uri": "https://localhost:8080/",
          "height": 34
        },
        "outputId": "54b41bbc-816a-4589-c3c0-d69d0a5ca7c8"
      },
      "source": [
        "#Reshape the data in order to obtain three dimensional data to feed into LSTM\n",
        "x_train_goog=np.reshape(x_train_goog,(x_train_goog.shape[0],x_train_goog.shape[1],1))\n",
        "x_train_goog.shape"
      ],
      "execution_count": null,
      "outputs": [
        {
          "output_type": "execute_result",
          "data": {
            "text/plain": [
              "(1649, 365, 1)"
            ]
          },
          "metadata": {
            "tags": []
          },
          "execution_count": 9
        }
      ]
    },
    {
      "cell_type": "markdown",
      "metadata": {
        "id": "cok121a-IvTo",
        "colab_type": "text"
      },
      "source": [
        "**The following cell includes the LSTM model build, and here is where the neural network hyperparamaters can be tuned to achieve the specific output required. The error for the model is tested using the RMSE. This particular model contains 2 LSTM layers with 200 neurons each, 2 dense layers (allowing for output of predictions from the neuron layers), a model compiler and a model fitter. **"
      ]
    },
    {
      "cell_type": "code",
      "metadata": {
        "id": "bU79mp45_sD0",
        "colab_type": "code",
        "colab": {
          "base_uri": "https://localhost:8080/",
          "height": 272
        },
        "outputId": "012bf20f-cd56-4155-d0a0-172373e3d906"
      },
      "source": [
        "#Build the LSTM model for goog\n",
        "model = Sequential()\n",
        "model.add(LSTM(200,return_sequences=True, input_shape=(x_train_goog.shape[1],1)))\n",
        "model.add(LSTM(200, return_sequences=False))\n",
        "model.add(Dense(100))\n",
        "model.add(Dense(1))\n",
        "#compile the goog model\n",
        "model.compile(optimizer='adam',loss='mean_squared_error')\n",
        "#train the model\n",
        "model.fit(x_train_goog,y_train_goog, batch_size=2,epochs=7)"
      ],
      "execution_count": 10,
      "outputs": [
        {
          "output_type": "stream",
          "text": [
            "Epoch 1/7\n",
            "1649/1649 [==============================] - 734s 445ms/step - loss: 9.1929e-04\n",
            "Epoch 2/7\n",
            "1649/1649 [==============================] - 734s 445ms/step - loss: 4.3522e-04\n",
            "Epoch 3/7\n",
            "1649/1649 [==============================] - 728s 442ms/step - loss: 2.3795e-04\n",
            "Epoch 4/7\n",
            "1649/1649 [==============================] - 725s 440ms/step - loss: 2.6042e-04\n",
            "Epoch 5/7\n",
            "1649/1649 [==============================] - 735s 446ms/step - loss: 1.8087e-04\n",
            "Epoch 6/7\n",
            "1649/1649 [==============================] - 731s 444ms/step - loss: 1.5773e-04\n",
            "Epoch 7/7\n",
            "1649/1649 [==============================] - 717s 435ms/step - loss: 1.7751e-04\n"
          ],
          "name": "stdout"
        },
        {
          "output_type": "execute_result",
          "data": {
            "text/plain": [
              "<keras.callbacks.callbacks.History at 0x7f4875e557b8>"
            ]
          },
          "metadata": {
            "tags": []
          },
          "execution_count": 10
        }
      ]
    },
    {
      "cell_type": "code",
      "metadata": {
        "id": "lMJ2CfzrBGV6",
        "colab_type": "code",
        "colab": {}
      },
      "source": [
        "#create the testing data set by creating a new array containg scaled values from index 1924 - 2517\n",
        "test_goog_data = scaled_goog_data[training_goog_data - 365: , :]\n",
        "#create the datasets x_goog_test and y_goog_test\n",
        "x_goog_test = []\n",
        "y_goog_test = googdata[training_goog_data:, :]\n",
        "for i in range(365,len(test_goog_data)):\n",
        "  x_goog_test.append(test_goog_data[i-365:i, 0])"
      ],
      "execution_count": 19,
      "outputs": []
    },
    {
      "cell_type": "code",
      "metadata": {
        "id": "sxyiUWJeCX0q",
        "colab_type": "code",
        "colab": {}
      },
      "source": [
        "#convert data into numpy array\n",
        "x_goog_test=np.array(x_goog_test)"
      ],
      "execution_count": 20,
      "outputs": []
    },
    {
      "cell_type": "code",
      "metadata": {
        "id": "cy_asIi0CgDK",
        "colab_type": "code",
        "colab": {}
      },
      "source": [
        "#Reshape test data\n",
        "x_goog_test = np.reshape(x_goog_test,(x_goog_test.shape[0],x_goog_test.shape[1],1))"
      ],
      "execution_count": 21,
      "outputs": []
    },
    {
      "cell_type": "code",
      "metadata": {
        "id": "lr5rFDSaCzYH",
        "colab_type": "code",
        "colab": {}
      },
      "source": [
        "#obtain model predicted price values, we want prediction to obtain same values as y_amzn_test dataset\n",
        "googpredictions = model.predict(x_goog_test)\n",
        "googpredictions=scaler.inverse_transform(googpredictions)"
      ],
      "execution_count": 22,
      "outputs": []
    },
    {
      "cell_type": "code",
      "metadata": {
        "id": "2v7dgEtQDUXD",
        "colab_type": "code",
        "colab": {
          "base_uri": "https://localhost:8080/",
          "height": 34
        },
        "outputId": "27b000b2-70f2-40ad-de78-5066cdf9b62c"
      },
      "source": [
        "#Evaluate the model by getting the RMSE\n",
        "rmse = np.sqrt( np.mean( googpredictions-y_goog_test)**2)\n",
        "rmse"
      ],
      "execution_count": 23,
      "outputs": [
        {
          "output_type": "execute_result",
          "data": {
            "text/plain": [
              "6.814657586706325"
            ]
          },
          "metadata": {
            "tags": []
          },
          "execution_count": 23
        }
      ]
    },
    {
      "cell_type": "code",
      "metadata": {
        "id": "wjR6i874FLrm",
        "colab_type": "code",
        "colab": {
          "base_uri": "https://localhost:8080/",
          "height": 434
        },
        "outputId": "f0c814fe-9616-4816-cd61-d09ddb9a81b9"
      },
      "source": [
        "#Plot data\n",
        "train = googclose[:training_goog_data]\n",
        "valid = googclose[training_goog_data:]\n",
        "valid['Predictions'] = googpredictions\n",
        "#visualize the data\n",
        "plt.figure(figsize=(16,8))\n",
        "plt.title('Model')\n",
        "plt.xlabel('Date', fontsize = 18)\n",
        "plt.ylabel('Close Price USD', fontsize = 18)\n",
        "plt.plot(train['Close'])\n",
        "plt.plot(valid[['Close', 'Predictions']])\n",
        "plt.legend(['Train data set', 'validation data set','Prediction data set'],loc ='lower right' )\n",
        "plt.show()"
      ],
      "execution_count": 24,
      "outputs": [
        {
          "output_type": "stream",
          "text": [
            "/usr/local/lib/python3.6/dist-packages/ipykernel_launcher.py:4: SettingWithCopyWarning: \n",
            "A value is trying to be set on a copy of a slice from a DataFrame.\n",
            "Try using .loc[row_indexer,col_indexer] = value instead\n",
            "\n",
            "See the caveats in the documentation: https://pandas.pydata.org/pandas-docs/stable/user_guide/indexing.html#returning-a-view-versus-a-copy\n",
            "  after removing the cwd from sys.path.\n"
          ],
          "name": "stderr"
        },
        {
          "output_type": "display_data",
          "data": {
            "image/png": "[encoded data removed]",
            "text/plain": [
              "<Figure size 1152x576 with 1 Axes>"
            ]
          },
          "metadata": {
            "tags": [],
            "needs_background": "light"
          }
        }
      ]
    },
    {
      "cell_type": "code",
      "metadata": {
        "id": "HPqM79RuKIvT",
        "colab_type": "code",
        "colab": {
          "base_uri": "https://localhost:8080/",
          "height": 450
        },
        "outputId": "9b4c92d1-6913-4fd7-dd58-c17eb6ebb30a"
      },
      "source": [
        "#show the validation price and predicted price\n",
        "valid"
      ],
      "execution_count": 25,
      "outputs": [
        {
          "output_type": "execute_result",
          "data": {
            "text/html": [
              "<div>\n",
              "<style scoped>\n",
              "    .dataframe tbody tr th:only-of-type {\n",
              "        vertical-align: middle;\n",
              "    }\n",
              "\n",
              "    .dataframe tbody tr th {\n",
              "        vertical-align: top;\n",
              "    }\n",
              "\n",
              "    .dataframe thead th {\n",
              "        text-align: right;\n",
              "    }\n",
              "</style>\n",
              "<table border=\"1\" class=\"dataframe\">\n",
              "  <thead>\n",
              "    <tr style=\"text-align: right;\">\n",
              "      <th></th>\n",
              "      <th>Close</th>\n",
              "      <th>Predictions</th>\n",
              "    </tr>\n",
              "    <tr>\n",
              "      <th>Date</th>\n",
              "      <th></th>\n",
              "      <th></th>\n",
              "    </tr>\n",
              "  </thead>\n",
              "  <tbody>\n",
              "    <tr>\n",
              "      <th>2018-05-29</th>\n",
              "      <td>1060.319946</td>\n",
              "      <td>1079.793701</td>\n",
              "    </tr>\n",
              "    <tr>\n",
              "      <th>2018-05-30</th>\n",
              "      <td>1067.800049</td>\n",
              "      <td>1062.587280</td>\n",
              "    </tr>\n",
              "    <tr>\n",
              "      <th>2018-05-31</th>\n",
              "      <td>1084.989990</td>\n",
              "      <td>1071.149658</td>\n",
              "    </tr>\n",
              "    <tr>\n",
              "      <th>2018-06-01</th>\n",
              "      <td>1119.500000</td>\n",
              "      <td>1090.891235</td>\n",
              "    </tr>\n",
              "    <tr>\n",
              "      <th>2018-06-04</th>\n",
              "      <td>1139.290039</td>\n",
              "      <td>1129.332642</td>\n",
              "    </tr>\n",
              "    <tr>\n",
              "      <th>...</th>\n",
              "      <td>...</td>\n",
              "      <td>...</td>\n",
              "    </tr>\n",
              "    <tr>\n",
              "      <th>2020-05-20</th>\n",
              "      <td>1406.719971</td>\n",
              "      <td>1385.223511</td>\n",
              "    </tr>\n",
              "    <tr>\n",
              "      <th>2020-05-21</th>\n",
              "      <td>1402.800049</td>\n",
              "      <td>1423.136475</td>\n",
              "    </tr>\n",
              "    <tr>\n",
              "      <th>2020-05-22</th>\n",
              "      <td>1410.420044</td>\n",
              "      <td>1416.810913</td>\n",
              "    </tr>\n",
              "    <tr>\n",
              "      <th>2020-05-26</th>\n",
              "      <td>1417.020020</td>\n",
              "      <td>1424.401855</td>\n",
              "    </tr>\n",
              "    <tr>\n",
              "      <th>2020-05-27</th>\n",
              "      <td>1417.839966</td>\n",
              "      <td>1430.401855</td>\n",
              "    </tr>\n",
              "  </tbody>\n",
              "</table>\n",
              "<p>503 rows × 2 columns</p>\n",
              "</div>"
            ],
            "text/plain": [
              "                  Close  Predictions\n",
              "Date                                \n",
              "2018-05-29  1060.319946  1079.793701\n",
              "2018-05-30  1067.800049  1062.587280\n",
              "2018-05-31  1084.989990  1071.149658\n",
              "2018-06-01  1119.500000  1090.891235\n",
              "2018-06-04  1139.290039  1129.332642\n",
              "...                 ...          ...\n",
              "2020-05-20  1406.719971  1385.223511\n",
              "2020-05-21  1402.800049  1423.136475\n",
              "2020-05-22  1410.420044  1416.810913\n",
              "2020-05-26  1417.020020  1424.401855\n",
              "2020-05-27  1417.839966  1430.401855\n",
              "\n",
              "[503 rows x 2 columns]"
            ]
          },
          "metadata": {
            "tags": []
          },
          "execution_count": 25
        }
      ]
    },
    {
      "cell_type": "code",
      "metadata": {
        "id": "mzApKUv1Kgvl",
        "colab_type": "code",
        "colab": {
          "base_uri": "https://localhost:8080/",
          "height": 34
        },
        "outputId": "1892ca01-1c20-4937-d3e4-4bfaff9aa56a"
      },
      "source": [
        "#Predict future price\n",
        "goog_quote = web.DataReader('GOOG', data_source='yahoo', start='2010-05-27', end='2020-06-25')\n",
        "#Create new dataframe\n",
        "new_df = goog_quote.filter(['Close'])\n",
        "#Extract last 365 days closing price and convert df to array\n",
        "last_365_days = new_df[-365:].values\n",
        "#scalre the data to be valued between 0 and 1\n",
        "last_365_days_scaled = scaler.transform(last_365_days)\n",
        "#create an empty list\n",
        "X_test = []\n",
        "#Append past 365 days to empty list\n",
        "X_test.append(last_365_days_scaled)\n",
        "#Convert the X_test dataset to a numpy array\n",
        "X_test = np.array(X_test)\n",
        "#Reshape data\n",
        "X_test = np.reshape(X_test,(X_test.shape[0],X_test.shape[1],1))\n",
        "#Get the predicted scaled price\n",
        "pred_price = model.predict(X_test)\n",
        "#Undo the scaling\n",
        "pred_price = scaler.inverse_transform(pred_price)\n",
        "print(pred_price)"
      ],
      "execution_count": 31,
      "outputs": [
        {
          "output_type": "stream",
          "text": [
            "[[1454.2]]\n"
          ],
          "name": "stdout"
        }
      ]
    },
    {
      "cell_type": "code",
      "metadata": {
        "id": "qRSg-_yqMttB",
        "colab_type": "code",
        "colab": {
          "base_uri": "https://localhost:8080/",
          "height": 238
        },
        "outputId": "30bbef66-171b-4e5c-819b-189bfd7fb0d3"
      },
      "source": [
        "goog_quote2 = web.DataReader('GOOG', data_source='yahoo', start='2010-05-27', end='2020-06-26')\n",
        "print(goog_quote2['Close'])\n"
      ],
      "execution_count": 32,
      "outputs": [
        {
          "output_type": "stream",
          "text": [
            "Date\n",
            "2010-05-27     244.314255\n",
            "2010-05-28     241.908264\n",
            "2010-06-01     240.284363\n",
            "2010-06-02     245.763824\n",
            "2010-06-03     251.855988\n",
            "                 ...     \n",
            "2020-06-22    1451.859985\n",
            "2020-06-23    1464.410034\n",
            "2020-06-24    1431.969971\n",
            "2020-06-25    1441.329956\n",
            "2020-06-26    1359.900024\n",
            "Name: Close, Length: 2539, dtype: float64\n"
          ],
          "name": "stdout"
        }
      ]
    }
  ]
}